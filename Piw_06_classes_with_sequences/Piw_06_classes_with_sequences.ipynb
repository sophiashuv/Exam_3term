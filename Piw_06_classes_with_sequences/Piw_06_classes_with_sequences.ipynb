{
 "metadata": {
  "language_info": {
   "codemirror_mode": {
    "name": "ipython",
    "version": 3
   },
   "file_extension": ".py",
   "mimetype": "text/x-python",
   "name": "python",
   "nbconvert_exporter": "python",
   "pygments_lexer": "ipython3",
   "version": "3.8.5-final"
  },
  "orig_nbformat": 2,
  "kernelspec": {
   "name": "python3",
   "display_name": "Python 3",
   "language": "python"
  }
 },
 "nbformat": 4,
 "nbformat_minor": 2,
 "cells": [
  {
   "cell_type": "code",
   "execution_count": 144,
   "metadata": {},
   "outputs": [],
   "source": [
    "import csv\n",
    "from datetime import datetime"
   ]
  },
  {
   "source": [
    "# Task\n",
    "Завдання 1.\n",
    "\n",
    "Розробити типи для облiку видачi пацiєнтам лiкiв в медзакладi вiдпо-\n",
    "вiдно до призначень лiкаря. Пацiєнт характеризується iменем i прiзвищем\n",
    "\n",
    "та реєстрацiйним номером. Призначення характеризується реєстрацiйним\n",
    "номером пацiєнта, датою, назвою лiкiв, дозою в мг i кiлькiстю прийомiв\n",
    "у день. Iнформацiя про пацiєнтiв подана окремим файлом. Призначення\n",
    "також подано кiлькома окремими файлами. Отримати:\n",
    "1. для кожного пацiєнта ( за iменем i прiзвищем) повний перелiк (без\n",
    "\n",
    "повторень) отриманих лiкiв iз вказанням сумарної кiлькостi кожного пре-\n",
    "парату в мг;\n",
    "\n",
    "2. для кожного дня розхiд виданих препаратiв у мг;\n",
    "3. для кожного препарату загальний розхiд за усi днi."
   ],
   "cell_type": "markdown",
   "metadata": {}
  },
  {
   "cell_type": "code",
   "execution_count": 145,
   "metadata": {},
   "outputs": [],
   "source": [
    "class Validation:\n",
    "    \"\"\"Class for Validation representation.\"\"\"\n",
    "\n",
    "    @staticmethod\n",
    "    def validateStr(func):\n",
    "        def validateStrWrapper(w, value):\n",
    "            if not(isinstance(value, str)):\n",
    "                raise TypeError('must be an str')\n",
    "            return func(w, value)\n",
    "        return validateStrWrapper\n",
    "\n",
    "    @staticmethod\n",
    "    def validateFloat(func):\n",
    "        def validateFloatWrapper(w, value):\n",
    "            if not(isinstance(value, float)) and not(isinstance(value, int)):\n",
    "                try:\n",
    "                    value = float(value)\n",
    "                except TypeError:\n",
    "                    raise TypeError('must be an float')\n",
    "            return func(w, value)\n",
    "        return validateFloatWrapper\n",
    "\n",
    "    @staticmethod\n",
    "    def validateInt(func):\n",
    "        def validateIntWrapper(w, value):\n",
    "            if not(isinstance(value, int)):\n",
    "                try:\n",
    "                    value = int(value)\n",
    "                except TypeError:\n",
    "                    raise TypeError('must be an int')\n",
    "            return func(w, value)\n",
    "        return validateIntWrapper\n",
    "\n",
    "    @staticmethod\n",
    "    def validateSize(func):\n",
    "        def validateSizeWrapper(w, value):\n",
    "            if not(isinstance(value, int)) and not(isinstance(value, float)):\n",
    "                try:\n",
    "                    value = float(value)\n",
    "                except TypeError:\n",
    "                    raise TypeError('must be an float')\n",
    "            if value < 0:\n",
    "                raise ValueError(\"mast be positive\")\n",
    "            return func(w, value)\n",
    "        return validateSizeWrapper\n",
    "\n",
    "    @staticmethod\n",
    "    def validateAmount(func):\n",
    "        def validateAmountWrapper(w, value):\n",
    "            if not(isinstance(value, int)):\n",
    "                try:\n",
    "                    value = int(value)\n",
    "                except TypeError:\n",
    "                    raise TypeError('must be an int')\n",
    "            if value < 0:\n",
    "                raise ValueError(\"mast be positive\")\n",
    "            return func(w, value)\n",
    "        return validateAmountWrapper\n",
    "\n",
    "    @staticmethod\n",
    "    def validateDate(func):\n",
    "        def validateDateWrapper(w, date):\n",
    "            datetime.strptime(date, '%Y-%m-%d')\n",
    "            return func(w, date)\n",
    "        return validateDateWrapper\n"
   ]
  },
  {
   "cell_type": "code",
   "execution_count": 146,
   "metadata": {},
   "outputs": [],
   "source": [
    "class Patient:\n",
    "    def __init__(self, p_name, p_last_name, p_number):\n",
    "        self.p_name = p_name\n",
    "        self.p_last_name = p_last_name\n",
    "        self.p_number = p_number\n",
    "\n",
    "    @property\n",
    "    def p_name(self):\n",
    "        return self._p_name\n",
    "\n",
    "    @p_name.setter\n",
    "    @Validation.validateStr\n",
    "    def p_name(self, val):\n",
    "        self._p_name = val\n",
    "\n",
    "    @property\n",
    "    def p_last_name(self):\n",
    "        return self._p_last_name\n",
    "\n",
    "    @p_last_name.setter\n",
    "    @Validation.validateStr\n",
    "    def p_last_name(self, val):\n",
    "        self._p_last_name = val\n",
    "    \n",
    "    @property\n",
    "    def p_number(self):\n",
    "        return self._p_number\n",
    "\n",
    "    @p_number.setter\n",
    "    @Validation.validateAmount\n",
    "    def p_number(self, val):\n",
    "        self._p_number = val\n",
    "\n",
    "    def full_name(self):\n",
    "        return f'{self.p_name} {self.p_last_name}'\n",
    "\n",
    "    def __str__(self):\n",
    "        return f'patient name = {self.p_name}, patient last name = {self.p_last_name}, patient number = {self.p_number}'\n",
    "\n",
    "    def __repr__(self):\n",
    "        return f'patient_name={self.p_name}, patient_last_name={self.p_last_name}, patient_number={self.p_number}'"
   ]
  },
  {
   "cell_type": "code",
   "execution_count": 147,
   "metadata": {},
   "outputs": [],
   "source": [
    "class Assignment:\n",
    "    def __init__(self, p_number, as_date, as_name, as_dose, as_count):\n",
    "        self.p_number = p_number\n",
    "        self.as_date = as_date\n",
    "        self.as_name = as_name\n",
    "        self.as_dose = as_dose\n",
    "        self.as_count = as_count\n",
    "\n",
    "    @property\n",
    "    def p_number(self):\n",
    "        return self._p_number\n",
    "\n",
    "    @p_number.setter\n",
    "    @Validation.validateAmount\n",
    "    def p_number(self, val):\n",
    "        self._p_number = val\n",
    "\n",
    "    @property\n",
    "    def as_date(self):\n",
    "        return self._as_date\n",
    "\n",
    "    @as_date.setter\n",
    "    @Validation.validateDate\n",
    "    def as_date(self, val):\n",
    "        self._as_date = val\n",
    "\n",
    "    @property\n",
    "    def as_name(self):\n",
    "        return self._as_name\n",
    "\n",
    "    @as_name.setter\n",
    "    @Validation.validateStr\n",
    "    def as_name(self, val):\n",
    "        self._as_name = val\n",
    "\n",
    "    @property\n",
    "    def as_dose(self):\n",
    "        return self._as_dose\n",
    "\n",
    "    @as_dose.setter\n",
    "    @Validation.validateSize\n",
    "    def as_dose(self, val):\n",
    "        self._as_dose = val\n",
    "\n",
    "    @property\n",
    "    def as_count(self):\n",
    "        return self._as_count\n",
    "\n",
    "    @as_count.setter\n",
    "    @Validation.validateAmount\n",
    "    def as_count(self, val):\n",
    "        self._as_count = val\n",
    "\n",
    "    def __str__(self):\n",
    "        return f'patient number = {self.p_number}, as_date = {self.as_date}, as_name = {self.as_name}, as dose = {self.as_dose}, as count = {self.as_count}'\n",
    "\n",
    "    def __repr__(self):\n",
    "        return f'patient_number={self.p_number}, as_date={self.as_date}, as_name={self.as_name}, as_dose = {self.as_dose}, as_count = {self.as_count}'"
   ]
  },
  {
   "cell_type": "code",
   "execution_count": 148,
   "metadata": {},
   "outputs": [],
   "source": [
    "def read_csv_file(file_name, t, objects):  \n",
    "    with open(file_name, 'r') as v:\n",
    "        r = csv.reader(v)\n",
    "        next(r)\n",
    "        for row in r:\n",
    "            try:\n",
    "                objects.append(t(*row))\n",
    "            except Exception as e:\n",
    "                print(f'{file_name}:\\nline - {len(objects)}: {e}')\n",
    "                continue\n",
    "  "
   ]
  },
  {
   "cell_type": "code",
   "execution_count": 149,
   "metadata": {},
   "outputs": [
    {
     "output_type": "execute_result",
     "data": {
      "text/plain": [
       "([patient_name=Alvera, patient_last_name=Hammes, patient_number=1,\n",
       "  patient_name=Barry, patient_last_name=Conner, patient_number=2,\n",
       "  patient_name=Brando, patient_last_name=Nolan, patient_number=3,\n",
       "  patient_name=Miss, patient_last_name=Lueilwitz, patient_number=4,\n",
       "  patient_name=Nakia, patient_last_name=Rodriguez, patient_number=5],\n",
       " [patient_number=1, as_date=2020-11-06, as_name=ibuprom, as_dose = 85.0, as_count = 4,\n",
       "  patient_number=2, as_date=2020-12-03, as_name=kopacul, as_dose = 15.0, as_count = 2,\n",
       "  patient_number=3, as_date=2020-06-06, as_name=magenta, as_dose = 86.0, as_count = 4,\n",
       "  patient_number=4, as_date=2020-06-23, as_name=Estates, as_dose = 73.0, as_count = 5,\n",
       "  patient_number=5, as_date=2020-11-21, as_name=input, as_dose = 31.0, as_count = 4,\n",
       "  patient_number=1, as_date=2020-10-20, as_name=ibuprom, as_dose = 31.0, as_count = 6,\n",
       "  patient_number=4, as_date=2020-11-11, as_name=Buckinghamshire, as_dose = 7.0, as_count = 3,\n",
       "  patient_number=2, as_date=2020-11-11, as_name=ibuprom, as_dose = 43.0, as_count = 3,\n",
       "  patient_number=4, as_date=2020-05-13, as_name=kopacul, as_dose = 54.0, as_count = 3,\n",
       "  patient_number=5, as_date=2020-11-15, as_name=magenta, as_dose = 75.0, as_count = 7,\n",
       "  patient_number=1, as_date=2020-05-07, as_name=Estates, as_dose = 51.0, as_count = 3,\n",
       "  patient_number=2, as_date=2020-11-01, as_name=input, as_dose = 56.0, as_count = 7,\n",
       "  patient_number=3, as_date=2020-12-20, as_name=Berkshire, as_dose = 83.0, as_count = 5,\n",
       "  patient_number=4, as_date=2020-11-08, as_name=Buckinghamshire, as_dose = 10.0, as_count = 5])"
      ]
     },
     "metadata": {},
     "execution_count": 149
    }
   ],
   "source": [
    "patients = []\n",
    "assigments = []\n",
    "\n",
    "read_csv_file(\"patients.csv\", Patient, patients)\n",
    "read_csv_file(\"assigment1.csv\", Assignment, assigments)\n",
    "read_csv_file(\"assigment2.csv\", Assignment, assigments)\n",
    "\n",
    "patients, assigments"
   ]
  },
  {
   "source": [
    "## Task 1\n",
    "для кожного пацiєнта ( за iменем i прiзвищем) повний перелiк (без повторень) отриманих лiкiв iз вказанням сумарної кiлькостi кожного препарату в мг"
   ],
   "cell_type": "markdown",
   "metadata": {}
  },
  {
   "cell_type": "code",
   "execution_count": 150,
   "metadata": {},
   "outputs": [],
   "source": [
    "def str_dict(d):\n",
    "    for k, v in d.items():\n",
    "        return f'\\n{k} - {v}'"
   ]
  },
  {
   "cell_type": "code",
   "execution_count": 151,
   "metadata": {},
   "outputs": [
    {
     "output_type": "stream",
     "name": "stdout",
     "text": [
      "Alvera Hammes: \nibuprom - 526.0\n\nBarry Conner: \nkopacul - 30.0\n\nBrando Nolan: \nmagenta - 344.0\n\nMiss Lueilwitz: \nEstates - 365.0\n\nNakia Rodriguez: \ninput - 124.0\n\n"
     ]
    }
   ],
   "source": [
    "for patient in patients:\n",
    "    d = {}\n",
    "    p_l = list(filter(lambda p: p.p_number == patient.p_number, assigments))\n",
    "    for i in p_l:\n",
    "        d.setdefault(i.as_name, 0)\n",
    "        d[i.as_name] += i.as_dose*i.as_count\n",
    "    print(f'{patient.full_name()}: {str_dict(d)}')\n",
    "    print()"
   ]
  },
  {
   "source": [
    "## Task 2\n",
    "для кожного дня розхiд виданих препаратiв у мг;"
   ],
   "cell_type": "markdown",
   "metadata": {}
  },
  {
   "cell_type": "code",
   "execution_count": 152,
   "metadata": {},
   "outputs": [
    {
     "output_type": "stream",
     "name": "stdout",
     "text": [
      "2020-06-06: \nmagenta - 344.0\n\n2020-11-21: \ninput - 124.0\n\n2020-11-11: \nBuckinghamshire - 21.0\n\n2020-11-01: \ninput - 392.0\n\n2020-12-20: \nBerkshire - 415.0\n\n2020-05-13: \nkopacul - 162.0\n\n2020-11-06: \nibuprom - 340.0\n\n2020-11-15: \nmagenta - 525.0\n\n2020-11-08: \nBuckinghamshire - 50.0\n\n2020-05-07: \nEstates - 153.0\n\n2020-12-03: \nkopacul - 30.0\n\n2020-10-20: \nibuprom - 186.0\n\n2020-06-23: \nEstates - 365.0\n\n"
     ]
    }
   ],
   "source": [
    "dates = list(set(map(lambda element: element.as_date, assigments)))\n",
    "for date in dates:\n",
    "    d = {}\n",
    "    for assigment in assigments:\n",
    "        if assigment.as_date == date:\n",
    "            d.setdefault(assigment.as_name, 0)\n",
    "            d[assigment.as_name] += assigment.as_dose * assigment.as_count\n",
    "    print(f'{date}: {str_dict(d)}')\n",
    "    print()"
   ]
  },
  {
   "source": [
    "## Task 3\n",
    "для кожного препарату загальний розхiд за усi днi."
   ],
   "cell_type": "markdown",
   "metadata": {}
  },
  {
   "cell_type": "code",
   "execution_count": 153,
   "metadata": {},
   "outputs": [
    {
     "output_type": "stream",
     "name": "stdout",
     "text": [
      "magenta - 869.0\nibuprom - 655.0\nEstates - 518.0\nBerkshire - 415.0\ninput - 516.0\nkopacul - 192.0\nBuckinghamshire - 71.0\n"
     ]
    }
   ],
   "source": [
    "preparats = list(set(map(lambda element: element.as_name, assigments)))\n",
    "for p in preparats:\n",
    "    l_p = list(filter(lambda x : x.as_name == p, assigments))\n",
    "    l_p_sum = sum(map(lambda x : x.as_dose*x.as_count, l_p))\n",
    "    print(f\"{p} - {l_p_sum}\")\n"
   ]
  }
 ]
}