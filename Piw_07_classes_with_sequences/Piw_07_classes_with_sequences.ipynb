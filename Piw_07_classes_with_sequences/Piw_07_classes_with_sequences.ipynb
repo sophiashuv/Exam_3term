{
 "metadata": {
  "language_info": {
   "codemirror_mode": {
    "name": "ipython",
    "version": 3
   },
   "file_extension": ".py",
   "mimetype": "text/x-python",
   "name": "python",
   "nbconvert_exporter": "python",
   "pygments_lexer": "ipython3",
   "version": "3.8.5-final"
  },
  "orig_nbformat": 2,
  "kernelspec": {
   "name": "python3",
   "display_name": "Python 3",
   "language": "python"
  }
 },
 "nbformat": 4,
 "nbformat_minor": 2,
 "cells": [
  {
   "source": [
    "# Завдання 1.\n",
    "\n",
    "Розробити типи для обслуговування читачiв у бiблiотечному абонемен- <br>\n",
    "тi. Читач характеризується iменем, прiзвищем та реєстрацiйним номером. <br>\n",
    "\n",
    "Книга характеризується облiковим номером, автором книги, назвою книги<br>\n",
    "i жанром. Замовлення характеризується датою, облiковим номером книги,<br>\n",
    "реєстрацiйним номером читача та ознакою виконання(так-нi). Iнформацiя<br>\n",
    "про читачiв та книги подана окремими файлами. Замовлення також подано<br>\n",
    "кiлькома окремими файлами.<br>\n",
    "Отримати:<br>\n",
    "1. для кожного читача ( за iменем i прiзвищем) повний перелiк авторiв<br>\n",
    "(без повторень) замовлених книг у форматi<br>\n",
    "< автор - кiлькiсть замовлених книг >;<br>\n",
    "2. рейтинг читачiв за загальною кiлькiстю замовлених книг у форматi<br>\n",
    "< прiзвище та iм’я читача - кiлькiсть замовлених книг >;<br>\n",
    "3. для кожної книги кiлькiсть замовлень у форматi<br>\n",
    "< автор - назва - кiлькiсть замовлень>;<br>\n",
    "4. для кожного дня кiлькiсть виконаних замовлень та вiдмов.<br>"
   ],
   "cell_type": "markdown",
   "metadata": {}
  },
  {
   "cell_type": "code",
   "execution_count": 155,
   "metadata": {},
   "outputs": [],
   "source": [
    "import csv\n",
    "from datetime import datetime\n",
    "import pandas as pd"
   ]
  },
  {
   "cell_type": "code",
   "execution_count": 156,
   "metadata": {},
   "outputs": [],
   "source": [
    "class Validation:\n",
    "    \"\"\"Class for Validation representation.\"\"\"\n",
    "\n",
    "    @staticmethod\n",
    "    def validateStr(func):\n",
    "        def validateStrWrapper(w, value):\n",
    "            if not(isinstance(value, str)):\n",
    "                raise TypeError('must be an str')\n",
    "            return func(w, value)\n",
    "        return validateStrWrapper\n",
    "\n",
    "    @staticmethod\n",
    "    def validateFloat(func):\n",
    "        def validateFloatWrapper(w, value):\n",
    "            if not(isinstance(value, float)) and not(isinstance(value, int)):\n",
    "                try:\n",
    "                    value = float(value)\n",
    "                except TypeError:\n",
    "                    raise TypeError('must be an float')\n",
    "            return func(w, value)\n",
    "        return validateFloatWrapper\n",
    "\n",
    "    @staticmethod\n",
    "    def validateInt(func):\n",
    "        def validateIntWrapper(w, value):\n",
    "            if not(isinstance(value, int)):\n",
    "                try:\n",
    "                    value = int(value)\n",
    "                except TypeError:\n",
    "                    raise TypeError('must be an int')\n",
    "            return func(w, value)\n",
    "        return validateIntWrapper\n",
    "\n",
    "    @staticmethod\n",
    "    def validateSize(func):\n",
    "        def validateSizeWrapper(w, value):\n",
    "            if not(isinstance(value, int)) and not(isinstance(value, float)):\n",
    "                try:\n",
    "                    value = float(value)\n",
    "                except TypeError:\n",
    "                    raise TypeError('must be an float')\n",
    "            if value < 0:\n",
    "                raise ValueError(\"mast be positive\")\n",
    "            return func(w, value)\n",
    "        return validateSizeWrapper\n",
    "\n",
    "    @staticmethod\n",
    "    def validateAmount(func):\n",
    "        def validateAmountWrapper(w, value):\n",
    "            if not(isinstance(value, int)):\n",
    "                try:\n",
    "                    value = int(value)\n",
    "                except TypeError:\n",
    "                    raise TypeError('must be an int')\n",
    "            if value < 0:\n",
    "                raise ValueError(\"mast be positive\")\n",
    "            return func(w, value)\n",
    "        return validateAmountWrapper\n",
    "\n",
    "    @staticmethod\n",
    "    def validateDate(func):\n",
    "        def validateDateWrapper(w, date):\n",
    "            datetime.strptime(date, '%Y-%m-%d')\n",
    "            return func(w, date)\n",
    "        return validateDateWrapper\n",
    "    \n",
    "    @staticmethod\n",
    "    def validateBool(func):\n",
    "        def validateBoolWrapper(w, value):\n",
    "            bools = ['yes', 'no', 'Yes', 'No', '0', '1', 0, 1, True, False, 'True', 'False']\n",
    "            if value not in bools:\n",
    "                raise ValueError(\"mast be boolean\")\n",
    "            return func(w, value)\n",
    "        return validateBoolWrapper"
   ]
  },
  {
   "cell_type": "code",
   "execution_count": 157,
   "metadata": {},
   "outputs": [],
   "source": [
    "class Reader:\n",
    "    def __init__(self, r_name, r_last_name, r_id):\n",
    "        self.r_name = r_name\n",
    "        self.r_last_name = r_last_name\n",
    "        self.r_id = r_id\n",
    "\n",
    "    @property\n",
    "    def r_name(self):\n",
    "        return self._r_name\n",
    "\n",
    "    @r_name.setter\n",
    "    @Validation.validateStr\n",
    "    def r_name(self, val):\n",
    "        self._r_name = val\n",
    "\n",
    "    @property\n",
    "    def r_last_name(self):\n",
    "        return self._r_last_name\n",
    "\n",
    "    @r_last_name.setter\n",
    "    @Validation.validateStr\n",
    "    def r_last_name(self, val):\n",
    "        self._r_last_name = val\n",
    "    \n",
    "    @property\n",
    "    def r_id(self):\n",
    "        return self._r_id\n",
    "\n",
    "    @r_id.setter\n",
    "    @Validation.validateAmount\n",
    "    def r_id(self, val):\n",
    "        self._r_id = val\n",
    "\n",
    "    def full_name(self):\n",
    "        return f'{self.r_name} {self.r_last_name}'\n",
    "\n",
    "    def __str__(self):\n",
    "        return f'reader name = {self.r_name}, reader last name = {self.r_last_name}, reader id = {self.r_id}'\n",
    "\n",
    "    def __repr__(self):\n",
    "        return f'reader_name={self.r_name}, reader_last_name={self.r_last_name}, reader_id={self.r_id}'"
   ]
  },
  {
   "cell_type": "code",
   "execution_count": 158,
   "metadata": {},
   "outputs": [],
   "source": [
    "class Book:\n",
    "    def __init__(self, b_reg_num, b_author, b_title, b_genre):\n",
    "        self.b_reg_num = b_reg_num\n",
    "        self.b_author = b_author\n",
    "        self.b_title = b_title\n",
    "        self.b_genre = b_genre\n",
    "\n",
    "    @property\n",
    "    def b_reg_num(self):\n",
    "        return self._b_reg_num\n",
    "\n",
    "    @b_reg_num.setter\n",
    "    @Validation.validateAmount\n",
    "    def b_reg_num(self, val):\n",
    "        self._b_reg_num = val\n",
    "\n",
    "    @property\n",
    "    def b_author(self):\n",
    "        return self._b_author\n",
    "\n",
    "    @b_author.setter\n",
    "    @Validation.validateStr\n",
    "    def b_author(self, val):\n",
    "        self._b_author = val\n",
    "\n",
    "    @property\n",
    "    def b_title(self):\n",
    "        return self._b_title\n",
    "\n",
    "    @b_title.setter\n",
    "    @Validation.validateStr\n",
    "    def b_title(self, val):\n",
    "        self._b_title = val\n",
    "\n",
    "    @property\n",
    "    def b_genre(self):\n",
    "        return self._b_genre\n",
    "\n",
    "    @b_genre.setter\n",
    "    @Validation.validateStr\n",
    "    def b_genre(self, val):\n",
    "        self._b_genre = val\n",
    "\n",
    "    def __str__(self):\n",
    "        return f'book reg num = {self.b_reg_num}, book author = {self.b_author}, book title = {self.b_title}, book genre = {self.b_genre}'\n",
    "\n",
    "    def __repr__(self):\n",
    "        return f'book_reg_num={self.b_reg_num}, book_author={self.b_author}, book_title={self.b_title}, book_genre={self.b_genre}'"
   ]
  },
  {
   "cell_type": "code",
   "execution_count": 159,
   "metadata": {},
   "outputs": [],
   "source": [
    "class Order:\n",
    "    def __init__(self, o_date, o_book_reg_num, o_reader_id, o_done):\n",
    "        self.o_date = o_date\n",
    "        self.o_book_reg_num = o_book_reg_num\n",
    "        self.o_reader_id = o_reader_id\n",
    "        self.o_done = o_done\n",
    "\n",
    "    @property\n",
    "    def o_date(self):\n",
    "        return self._o_date\n",
    "\n",
    "    @o_date.setter\n",
    "    @Validation.validateDate\n",
    "    def o_date(self, val):\n",
    "        self._o_date = val\n",
    "\n",
    "    @property\n",
    "    def o_book_reg_num(self):\n",
    "        return self._o_book_reg_num\n",
    "\n",
    "    @o_book_reg_num.setter\n",
    "    @Validation.validateAmount\n",
    "    def o_book_reg_num(self, val):\n",
    "        self._o_book_reg_num = val\n",
    "\n",
    "    @property\n",
    "    def o_reader_id(self):\n",
    "        return self._o_reader_id\n",
    "\n",
    "    @o_reader_id.setter\n",
    "    @Validation.validateAmount\n",
    "    def o_reader_id(self, val):\n",
    "        self._o_reader_id = val\n",
    "\n",
    "    @property\n",
    "    def o_done(self):\n",
    "        return self._o_done\n",
    "\n",
    "    @o_done.setter\n",
    "    @Validation.validateBool\n",
    "    def o_done(self, val):\n",
    "        self._o_done = val\n",
    "\n",
    "    def __str__(self):\n",
    "        return f'order date = {self.o_date}, order book reg num = {self.o_book_reg_num}, order reader id = {self.o_reader_id}, order done = {self.o_done}'\n",
    "\n",
    "    def __repr__(self):\n",
    "        return f'order_date={self.o_date}, order_book_reg_num={self.o_book_reg_num}, order_reader_id={self.o_reader_id}, order_done={self.o_done}'"
   ]
  },
  {
   "cell_type": "code",
   "execution_count": 160,
   "metadata": {},
   "outputs": [],
   "source": [
    "def read_csv_file(file_name, t, objects):  \n",
    "    with open(file_name, 'r') as v:\n",
    "        r = csv.reader(v)\n",
    "        next(r)\n",
    "        for row in r:\n",
    "            try:\n",
    "                objects.append(t(*row))\n",
    "            except Exception as e:\n",
    "                print(f'{file_name}:\\nline - {len(objects)}: {e}')\n",
    "                continue"
   ]
  },
  {
   "cell_type": "code",
   "execution_count": 161,
   "metadata": {},
   "outputs": [
    {
     "output_type": "execute_result",
     "data": {
      "text/plain": [
       "([reader_name=Kelli, reader_last_name=King, reader_id=77,\n",
       "  reader_name=Cristina, reader_last_name=Harber, reader_id=32,\n",
       "  reader_name=Brando, reader_last_name=Stroman, reader_id=6,\n",
       "  reader_name=Lavonne, reader_last_name=Hegmann, reader_id=11,\n",
       "  reader_name=Ernest, reader_last_name=Wisoky, reader_id=33,\n",
       "  reader_name=Herman, reader_last_name=Feil, reader_id=51,\n",
       "  reader_name=Kathlyn, reader_last_name=White, reader_id=75,\n",
       "  reader_name=Ervin, reader_last_name=Considine, reader_id=12,\n",
       "  reader_name=Forest, reader_last_name=Kuhlman, reader_id=22,\n",
       "  reader_name=Nils, reader_last_name=Jerde, reader_id=84],\n",
       " [book_reg_num=2194, book_author=Augustus_Ernser, book_title=Sausages, book_genre=Frozen,\n",
       "  book_reg_num=60788, book_author=Edwin_Roberts, book_title=interface, book_genre=Checking Account,\n",
       "  book_reg_num=17638, book_author=Jane_Feeney, book_title=systems, book_genre=benchmark,\n",
       "  book_reg_num=25970, book_author=Jammie_Sporer, book_title=Salad, book_genre=indigo,\n",
       "  book_reg_num=50027, book_author=Kaylin_Homenick, book_title=harness, book_genre=Sharable,\n",
       "  book_reg_num=91211, book_author=Augustus_Ernser, book_title=background, book_genre=connecting,\n",
       "  book_reg_num=1605, book_author=Iliana_Kertzmann, book_title=Bike, book_genre=Mount,\n",
       "  book_reg_num=40127, book_author=Nadia_Erdman, book_title=SCSI, book_genre=Iran],\n",
       " [order_date=2020-11-02, order_book_reg_num=2194, order_reader_id=77, order_done=0,\n",
       "  order_date=2020-11-05, order_book_reg_num=60788, order_reader_id=32, order_done=1,\n",
       "  order_date=2020-11-23, order_book_reg_num=17638, order_reader_id=6, order_done=1,\n",
       "  order_date=2020-12-03, order_book_reg_num=60788, order_reader_id=11, order_done=1,\n",
       "  order_date=2020-12-08, order_book_reg_num=25970, order_reader_id=33, order_done=1,\n",
       "  order_date=2020-12-10, order_book_reg_num=50027, order_reader_id=51, order_done=1,\n",
       "  order_date=2020-12-23, order_book_reg_num=50027, order_reader_id=75, order_done=0,\n",
       "  order_date=2020-12-24, order_book_reg_num=91211, order_reader_id=12, order_done=0,\n",
       "  order_date=2020-12-29, order_book_reg_num=1605, order_reader_id=22, order_done=0,\n",
       "  order_date=2020-10-10, order_book_reg_num=91211, order_reader_id=77, order_done=1,\n",
       "  order_date=2020-11-09, order_book_reg_num=40127, order_reader_id=77, order_done=1,\n",
       "  order_date=2020-11-09, order_book_reg_num=40127, order_reader_id=77, order_done=1,\n",
       "  order_date=2020-11-09, order_book_reg_num=40127, order_reader_id=77, order_done=1,\n",
       "  order_date=2020-11-23, order_book_reg_num=40127, order_reader_id=6, order_done=1,\n",
       "  order_date=2020-12-08, order_book_reg_num=40127, order_reader_id=33, order_done=0,\n",
       "  order_date=2020-12-10, order_book_reg_num=17638, order_reader_id=11, order_done=1,\n",
       "  order_date=2020-12-23, order_book_reg_num=60788, order_reader_id=12, order_done=1,\n",
       "  order_date=2020-12-18, order_book_reg_num=60788, order_reader_id=22, order_done=0,\n",
       "  order_date=2020-12-23, order_book_reg_num=2194, order_reader_id=84, order_done=1,\n",
       "  order_date=2020-12-25, order_book_reg_num=91211, order_reader_id=51, order_done=1,\n",
       "  order_date=2020-12-29, order_book_reg_num=1605, order_reader_id=22, order_done=0])"
      ]
     },
     "metadata": {},
     "execution_count": 161
    }
   ],
   "source": [
    "readers = []\n",
    "books = []\n",
    "orders = []\n",
    "\n",
    "read_csv_file(\"readers.csv\", Reader, readers)\n",
    "read_csv_file(\"books.csv\", Book, books)\n",
    "read_csv_file(\"order1.csv\", Order, orders)\n",
    "read_csv_file(\"order2.csv\", Order, orders)\n",
    "\n",
    "readers, books, orders"
   ]
  },
  {
   "source": [
    "# Task 1.\n",
    "для кожного читача ( за iменем i прiзвищем) повний перелiк авторiв\n",
    "(без повторень) замовлених книг у форматi\n",
    "< автор - кiлькiсть замовлених книг >;"
   ],
   "cell_type": "markdown",
   "metadata": {}
  },
  {
   "cell_type": "code",
   "execution_count": 162,
   "metadata": {},
   "outputs": [
    {
     "output_type": "stream",
     "name": "stdout",
     "text": [
      "\nKelli King: \n\t<Augustus_Ernser - 1>\n\t<Nadia_Erdman - 3>\n\nCristina Harber: \n\t<Edwin_Roberts - 1>\n\nBrando Stroman: \n\t<Jane_Feeney - 1>\n\t<Nadia_Erdman - 1>\n\nLavonne Hegmann: \n\t<Edwin_Roberts - 1>\n\t<Jane_Feeney - 1>\n\nErnest Wisoky: \n\t<Jammie_Sporer - 1>\n\nHerman Feil: \n\t<Kaylin_Homenick - 1>\n\t<Augustus_Ernser - 1>\n\nErvin Considine: \n\t<Edwin_Roberts - 1>\n\nNils Jerde: \n\t<Augustus_Ernser - 1>\n"
     ]
    }
   ],
   "source": [
    "rearers_dict = dict()\n",
    "for reader in readers:\n",
    "    rearers_dict.setdefault(reader.full_name(), dict())\n",
    "    o_b_s = list(filter(lambda o_b: o_b.o_reader_id == reader.r_id and o_b.o_done == \"1\", orders))\n",
    "    for o_b in o_b_s:\n",
    "        b = next(filter(lambda book: book.b_reg_num == o_b.o_book_reg_num, books)).b_author\n",
    "        rearers_dict[reader.full_name()].setdefault(b, 0)\n",
    "        rearers_dict[reader.full_name()][b] +=1\n",
    "\n",
    "for k, v in rearers_dict.items():\n",
    "    if v:\n",
    "        print(f'\\n{k}: ')\n",
    "        for kk, vv in v.items():\n",
    "            print(f'\\t<{kk} - {vv}>')"
   ]
  },
  {
   "source": [
    "# Task 2. \n",
    "рейтинг читачiв за загальною кiлькiстю замовлених книг у форматi\n",
    "< прiзвище та iм’я читача - кiлькiсть замовлених книг >;"
   ],
   "cell_type": "markdown",
   "metadata": {}
  },
  {
   "cell_type": "code",
   "execution_count": 163,
   "metadata": {},
   "outputs": [
    {
     "output_type": "stream",
     "name": "stdout",
     "text": [
      "\n\nKelli King : 4\n\n\nBrando Stroman : 2\nLavonne Hegmann : 2\nHerman Feil : 2\n\n\nCristina Harber : 1\nErnest Wisoky : 1\nErvin Considine : 1\nNils Jerde : 1\n\n\nKathlyn White : 0\nForest Kuhlman : 0\n"
     ]
    }
   ],
   "source": [
    "reiting = dict((k, sum(list(v.values()))) for k, v in rearers_dict.items())\n",
    "\n",
    "r_r_sorted = {k: v for k, v in sorted(reiting.items(), key=lambda item: item[1], reverse=True)}\n",
    "temp = next(iter(r_r_sorted))\n",
    "for k, v in r_r_sorted.items():\n",
    "    if v != temp:\n",
    "        print(\"\\n\")\n",
    "    print(k, ':',v)\n",
    "    temp = v\n",
    "    "
   ]
  },
  {
   "source": [
    "# Task 3\n",
    "для кожної книги кiлькiсть замовлень у форматi\n",
    "< автор - назва - кiлькiсть замовлень>;"
   ],
   "cell_type": "markdown",
   "metadata": {}
  },
  {
   "cell_type": "code",
   "execution_count": 164,
   "metadata": {},
   "outputs": [
    {
     "output_type": "stream",
     "name": "stdout",
     "text": [
      "Augustus_Ernser - Sausages - 1\nEdwin_Roberts - interface - 3\nJane_Feeney - systems - 2\nJammie_Sporer - Salad - 1\nKaylin_Homenick - harness - 1\nAugustus_Ernser - background - 2\nIliana_Kertzmann - Bike - 0\nNadia_Erdman - SCSI - 4\n"
     ]
    }
   ],
   "source": [
    "for book in books:\n",
    "    b_orders = list(filter(lambda b: book.b_reg_num == b.o_book_reg_num and b.o_done == '1', orders))\n",
    "    print(f'{book.b_author} - {book.b_title} - {len(b_orders)}')"
   ]
  },
  {
   "source": [
    "# Task 4.\n",
    "для кожного дня кiлькiсть виконаних замовлень та вiдмов.\n"
   ],
   "cell_type": "markdown",
   "metadata": {}
  },
  {
   "cell_type": "code",
   "execution_count": 165,
   "metadata": {},
   "outputs": [
    {
     "output_type": "stream",
     "name": "stdout",
     "text": [
      "\n2020-10-10\n   done : 1\n   denied : 0\n\n2020-11-02\n   done : 0\n   denied : 1\n\n2020-11-05\n   done : 1\n   denied : 0\n\n2020-11-09\n   done : 3\n   denied : 0\n\n2020-11-23\n   done : 2\n   denied : 0\n\n2020-12-03\n   done : 1\n   denied : 0\n\n2020-12-08\n   done : 1\n   denied : 1\n\n2020-12-10\n   done : 2\n   denied : 0\n\n2020-12-18\n   done : 0\n   denied : 1\n\n2020-12-23\n   done : 2\n   denied : 1\n\n2020-12-24\n   done : 0\n   denied : 1\n\n2020-12-25\n   done : 1\n   denied : 0\n\n2020-12-29\n   done : 0\n   denied : 2\n"
     ]
    }
   ],
   "source": [
    "d_d = {}\n",
    "for rd in orders:\n",
    "    d_d.setdefault(rd.o_date, {'done': 0, 'denied': 0})\n",
    "    if rd.o_done == \"1\":\n",
    "        d_d[rd.o_date]['done'] += 1\n",
    "    else:\n",
    "        d_d[rd.o_date]['denied'] += 1\n",
    "\n",
    "d_d_sorted = {k: v for k, v in sorted(d_d.items())}\n",
    "\n",
    "for k, v in d_d_sorted.items():\n",
    "    print(f'\\n{k}')\n",
    "    for kk, vv in v.items():\n",
    "        print('  ', kk, ':', vv)"
   ]
  },
  {
   "source": [
    "# Pandas:"
   ],
   "cell_type": "markdown",
   "metadata": {}
  },
  {
   "cell_type": "code",
   "execution_count": 166,
   "metadata": {},
   "outputs": [
    {
     "output_type": "display_data",
     "data": {
      "text/plain": "  reader_name reader_last_name  reader_id\n0       Kelli             King         77\n1    Cristina           Harber         32\n2      Brando          Stroman          6\n3     Lavonne          Hegmann         11\n4      Ernest           Wisoky         33\n5      Herman             Feil         51\n6     Kathlyn            White         75\n7       Ervin        Considine         12\n8      Forest          Kuhlman         22\n9        Nils            Jerde         84",
      "text/html": "<div>\n<style scoped>\n    .dataframe tbody tr th:only-of-type {\n        vertical-align: middle;\n    }\n\n    .dataframe tbody tr th {\n        vertical-align: top;\n    }\n\n    .dataframe thead th {\n        text-align: right;\n    }\n</style>\n<table border=\"1\" class=\"dataframe\">\n  <thead>\n    <tr style=\"text-align: right;\">\n      <th></th>\n      <th>reader_name</th>\n      <th>reader_last_name</th>\n      <th>reader_id</th>\n    </tr>\n  </thead>\n  <tbody>\n    <tr>\n      <th>0</th>\n      <td>Kelli</td>\n      <td>King</td>\n      <td>77</td>\n    </tr>\n    <tr>\n      <th>1</th>\n      <td>Cristina</td>\n      <td>Harber</td>\n      <td>32</td>\n    </tr>\n    <tr>\n      <th>2</th>\n      <td>Brando</td>\n      <td>Stroman</td>\n      <td>6</td>\n    </tr>\n    <tr>\n      <th>3</th>\n      <td>Lavonne</td>\n      <td>Hegmann</td>\n      <td>11</td>\n    </tr>\n    <tr>\n      <th>4</th>\n      <td>Ernest</td>\n      <td>Wisoky</td>\n      <td>33</td>\n    </tr>\n    <tr>\n      <th>5</th>\n      <td>Herman</td>\n      <td>Feil</td>\n      <td>51</td>\n    </tr>\n    <tr>\n      <th>6</th>\n      <td>Kathlyn</td>\n      <td>White</td>\n      <td>75</td>\n    </tr>\n    <tr>\n      <th>7</th>\n      <td>Ervin</td>\n      <td>Considine</td>\n      <td>12</td>\n    </tr>\n    <tr>\n      <th>8</th>\n      <td>Forest</td>\n      <td>Kuhlman</td>\n      <td>22</td>\n    </tr>\n    <tr>\n      <th>9</th>\n      <td>Nils</td>\n      <td>Jerde</td>\n      <td>84</td>\n    </tr>\n  </tbody>\n</table>\n</div>"
     },
     "metadata": {}
    },
    {
     "output_type": "display_data",
     "data": {
      "text/plain": "   book_reg_num       book_author  book_title        book_genre\n0          2194   Augustus_Ernser    Sausages            Frozen\n1         60788     Edwin_Roberts   interface  Checking Account\n2         17638       Jane_Feeney     systems         benchmark\n3         25970     Jammie_Sporer       Salad            indigo\n4         50027   Kaylin_Homenick     harness          Sharable\n5         91211   Augustus_Ernser  background        connecting\n6          1605  Iliana_Kertzmann        Bike             Mount\n7         40127      Nadia_Erdman        SCSI              Iran",
      "text/html": "<div>\n<style scoped>\n    .dataframe tbody tr th:only-of-type {\n        vertical-align: middle;\n    }\n\n    .dataframe tbody tr th {\n        vertical-align: top;\n    }\n\n    .dataframe thead th {\n        text-align: right;\n    }\n</style>\n<table border=\"1\" class=\"dataframe\">\n  <thead>\n    <tr style=\"text-align: right;\">\n      <th></th>\n      <th>book_reg_num</th>\n      <th>book_author</th>\n      <th>book_title</th>\n      <th>book_genre</th>\n    </tr>\n  </thead>\n  <tbody>\n    <tr>\n      <th>0</th>\n      <td>2194</td>\n      <td>Augustus_Ernser</td>\n      <td>Sausages</td>\n      <td>Frozen</td>\n    </tr>\n    <tr>\n      <th>1</th>\n      <td>60788</td>\n      <td>Edwin_Roberts</td>\n      <td>interface</td>\n      <td>Checking Account</td>\n    </tr>\n    <tr>\n      <th>2</th>\n      <td>17638</td>\n      <td>Jane_Feeney</td>\n      <td>systems</td>\n      <td>benchmark</td>\n    </tr>\n    <tr>\n      <th>3</th>\n      <td>25970</td>\n      <td>Jammie_Sporer</td>\n      <td>Salad</td>\n      <td>indigo</td>\n    </tr>\n    <tr>\n      <th>4</th>\n      <td>50027</td>\n      <td>Kaylin_Homenick</td>\n      <td>harness</td>\n      <td>Sharable</td>\n    </tr>\n    <tr>\n      <th>5</th>\n      <td>91211</td>\n      <td>Augustus_Ernser</td>\n      <td>background</td>\n      <td>connecting</td>\n    </tr>\n    <tr>\n      <th>6</th>\n      <td>1605</td>\n      <td>Iliana_Kertzmann</td>\n      <td>Bike</td>\n      <td>Mount</td>\n    </tr>\n    <tr>\n      <th>7</th>\n      <td>40127</td>\n      <td>Nadia_Erdman</td>\n      <td>SCSI</td>\n      <td>Iran</td>\n    </tr>\n  </tbody>\n</table>\n</div>"
     },
     "metadata": {}
    },
    {
     "output_type": "display_data",
     "data": {
      "text/plain": "    order_date  book_reg_num  reader_id  order_done\n0   2020-11-02          2194         77           0\n1   2020-11-05         60788         32           1\n2   2020-11-23         17638          6           1\n3   2020-12-03         60788         11           1\n4   2020-12-08         25970         33           1\n5   2020-12-10         50027         51           1\n6   2020-12-23         50027         75           0\n7   2020-12-24         91211         12           0\n8   2020-12-29          1605         22           0\n9   2020-10-10         91211         77           1\n10  2020-11-09         40127         77           1\n11  2020-11-09         40127         77           1\n12  2020-11-09         40127         77           1\n13  2020-11-23         40127          6           1\n14  2020-12-08         40127         33           0\n15  2020-12-10         17638         11           1\n16  2020-12-23         60788         12           1\n17  2020-12-18         60788         22           0\n18  2020-12-23          2194         84           1\n19  2020-12-25         91211         51           1\n20  2020-12-29          1605         22           0",
      "text/html": "<div>\n<style scoped>\n    .dataframe tbody tr th:only-of-type {\n        vertical-align: middle;\n    }\n\n    .dataframe tbody tr th {\n        vertical-align: top;\n    }\n\n    .dataframe thead th {\n        text-align: right;\n    }\n</style>\n<table border=\"1\" class=\"dataframe\">\n  <thead>\n    <tr style=\"text-align: right;\">\n      <th></th>\n      <th>order_date</th>\n      <th>book_reg_num</th>\n      <th>reader_id</th>\n      <th>order_done</th>\n    </tr>\n  </thead>\n  <tbody>\n    <tr>\n      <th>0</th>\n      <td>2020-11-02</td>\n      <td>2194</td>\n      <td>77</td>\n      <td>0</td>\n    </tr>\n    <tr>\n      <th>1</th>\n      <td>2020-11-05</td>\n      <td>60788</td>\n      <td>32</td>\n      <td>1</td>\n    </tr>\n    <tr>\n      <th>2</th>\n      <td>2020-11-23</td>\n      <td>17638</td>\n      <td>6</td>\n      <td>1</td>\n    </tr>\n    <tr>\n      <th>3</th>\n      <td>2020-12-03</td>\n      <td>60788</td>\n      <td>11</td>\n      <td>1</td>\n    </tr>\n    <tr>\n      <th>4</th>\n      <td>2020-12-08</td>\n      <td>25970</td>\n      <td>33</td>\n      <td>1</td>\n    </tr>\n    <tr>\n      <th>5</th>\n      <td>2020-12-10</td>\n      <td>50027</td>\n      <td>51</td>\n      <td>1</td>\n    </tr>\n    <tr>\n      <th>6</th>\n      <td>2020-12-23</td>\n      <td>50027</td>\n      <td>75</td>\n      <td>0</td>\n    </tr>\n    <tr>\n      <th>7</th>\n      <td>2020-12-24</td>\n      <td>91211</td>\n      <td>12</td>\n      <td>0</td>\n    </tr>\n    <tr>\n      <th>8</th>\n      <td>2020-12-29</td>\n      <td>1605</td>\n      <td>22</td>\n      <td>0</td>\n    </tr>\n    <tr>\n      <th>9</th>\n      <td>2020-10-10</td>\n      <td>91211</td>\n      <td>77</td>\n      <td>1</td>\n    </tr>\n    <tr>\n      <th>10</th>\n      <td>2020-11-09</td>\n      <td>40127</td>\n      <td>77</td>\n      <td>1</td>\n    </tr>\n    <tr>\n      <th>11</th>\n      <td>2020-11-09</td>\n      <td>40127</td>\n      <td>77</td>\n      <td>1</td>\n    </tr>\n    <tr>\n      <th>12</th>\n      <td>2020-11-09</td>\n      <td>40127</td>\n      <td>77</td>\n      <td>1</td>\n    </tr>\n    <tr>\n      <th>13</th>\n      <td>2020-11-23</td>\n      <td>40127</td>\n      <td>6</td>\n      <td>1</td>\n    </tr>\n    <tr>\n      <th>14</th>\n      <td>2020-12-08</td>\n      <td>40127</td>\n      <td>33</td>\n      <td>0</td>\n    </tr>\n    <tr>\n      <th>15</th>\n      <td>2020-12-10</td>\n      <td>17638</td>\n      <td>11</td>\n      <td>1</td>\n    </tr>\n    <tr>\n      <th>16</th>\n      <td>2020-12-23</td>\n      <td>60788</td>\n      <td>12</td>\n      <td>1</td>\n    </tr>\n    <tr>\n      <th>17</th>\n      <td>2020-12-18</td>\n      <td>60788</td>\n      <td>22</td>\n      <td>0</td>\n    </tr>\n    <tr>\n      <th>18</th>\n      <td>2020-12-23</td>\n      <td>2194</td>\n      <td>84</td>\n      <td>1</td>\n    </tr>\n    <tr>\n      <th>19</th>\n      <td>2020-12-25</td>\n      <td>91211</td>\n      <td>51</td>\n      <td>1</td>\n    </tr>\n    <tr>\n      <th>20</th>\n      <td>2020-12-29</td>\n      <td>1605</td>\n      <td>22</td>\n      <td>0</td>\n    </tr>\n  </tbody>\n</table>\n</div>"
     },
     "metadata": {}
    },
    {
     "output_type": "display_data",
     "data": {
      "text/plain": "   reader_name reader_last_name  reader_id  order_date  book_reg_num  \\\n0        Kelli             King         77  2020-11-02          2194   \n1        Kelli             King         77  2020-10-10         91211   \n2        Kelli             King         77  2020-11-09         40127   \n3        Kelli             King         77  2020-11-09         40127   \n4        Kelli             King         77  2020-11-09         40127   \n5     Cristina           Harber         32  2020-11-05         60788   \n6       Brando          Stroman          6  2020-11-23         17638   \n7       Brando          Stroman          6  2020-11-23         40127   \n8      Lavonne          Hegmann         11  2020-12-03         60788   \n9      Lavonne          Hegmann         11  2020-12-10         17638   \n10      Ernest           Wisoky         33  2020-12-08         25970   \n11      Ernest           Wisoky         33  2020-12-08         40127   \n12      Herman             Feil         51  2020-12-10         50027   \n13      Herman             Feil         51  2020-12-25         91211   \n14     Kathlyn            White         75  2020-12-23         50027   \n15       Ervin        Considine         12  2020-12-24         91211   \n16       Ervin        Considine         12  2020-12-23         60788   \n17      Forest          Kuhlman         22  2020-12-29          1605   \n18      Forest          Kuhlman         22  2020-12-18         60788   \n19      Forest          Kuhlman         22  2020-12-29          1605   \n20        Nils            Jerde         84  2020-12-23          2194   \n\n    order_done       book_author  book_title        book_genre  \n0            0   Augustus_Ernser    Sausages            Frozen  \n1            1   Augustus_Ernser  background        connecting  \n2            1      Nadia_Erdman        SCSI              Iran  \n3            1      Nadia_Erdman        SCSI              Iran  \n4            1      Nadia_Erdman        SCSI              Iran  \n5            1     Edwin_Roberts   interface  Checking Account  \n6            1       Jane_Feeney     systems         benchmark  \n7            1      Nadia_Erdman        SCSI              Iran  \n8            1     Edwin_Roberts   interface  Checking Account  \n9            1       Jane_Feeney     systems         benchmark  \n10           1     Jammie_Sporer       Salad            indigo  \n11           0      Nadia_Erdman        SCSI              Iran  \n12           1   Kaylin_Homenick     harness          Sharable  \n13           1   Augustus_Ernser  background        connecting  \n14           0   Kaylin_Homenick     harness          Sharable  \n15           0   Augustus_Ernser  background        connecting  \n16           1     Edwin_Roberts   interface  Checking Account  \n17           0  Iliana_Kertzmann        Bike             Mount  \n18           0     Edwin_Roberts   interface  Checking Account  \n19           0  Iliana_Kertzmann        Bike             Mount  \n20           1   Augustus_Ernser    Sausages            Frozen  ",
      "text/html": "<div>\n<style scoped>\n    .dataframe tbody tr th:only-of-type {\n        vertical-align: middle;\n    }\n\n    .dataframe tbody tr th {\n        vertical-align: top;\n    }\n\n    .dataframe thead th {\n        text-align: right;\n    }\n</style>\n<table border=\"1\" class=\"dataframe\">\n  <thead>\n    <tr style=\"text-align: right;\">\n      <th></th>\n      <th>reader_name</th>\n      <th>reader_last_name</th>\n      <th>reader_id</th>\n      <th>order_date</th>\n      <th>book_reg_num</th>\n      <th>order_done</th>\n      <th>book_author</th>\n      <th>book_title</th>\n      <th>book_genre</th>\n    </tr>\n  </thead>\n  <tbody>\n    <tr>\n      <th>0</th>\n      <td>Kelli</td>\n      <td>King</td>\n      <td>77</td>\n      <td>2020-11-02</td>\n      <td>2194</td>\n      <td>0</td>\n      <td>Augustus_Ernser</td>\n      <td>Sausages</td>\n      <td>Frozen</td>\n    </tr>\n    <tr>\n      <th>1</th>\n      <td>Kelli</td>\n      <td>King</td>\n      <td>77</td>\n      <td>2020-10-10</td>\n      <td>91211</td>\n      <td>1</td>\n      <td>Augustus_Ernser</td>\n      <td>background</td>\n      <td>connecting</td>\n    </tr>\n    <tr>\n      <th>2</th>\n      <td>Kelli</td>\n      <td>King</td>\n      <td>77</td>\n      <td>2020-11-09</td>\n      <td>40127</td>\n      <td>1</td>\n      <td>Nadia_Erdman</td>\n      <td>SCSI</td>\n      <td>Iran</td>\n    </tr>\n    <tr>\n      <th>3</th>\n      <td>Kelli</td>\n      <td>King</td>\n      <td>77</td>\n      <td>2020-11-09</td>\n      <td>40127</td>\n      <td>1</td>\n      <td>Nadia_Erdman</td>\n      <td>SCSI</td>\n      <td>Iran</td>\n    </tr>\n    <tr>\n      <th>4</th>\n      <td>Kelli</td>\n      <td>King</td>\n      <td>77</td>\n      <td>2020-11-09</td>\n      <td>40127</td>\n      <td>1</td>\n      <td>Nadia_Erdman</td>\n      <td>SCSI</td>\n      <td>Iran</td>\n    </tr>\n    <tr>\n      <th>5</th>\n      <td>Cristina</td>\n      <td>Harber</td>\n      <td>32</td>\n      <td>2020-11-05</td>\n      <td>60788</td>\n      <td>1</td>\n      <td>Edwin_Roberts</td>\n      <td>interface</td>\n      <td>Checking Account</td>\n    </tr>\n    <tr>\n      <th>6</th>\n      <td>Brando</td>\n      <td>Stroman</td>\n      <td>6</td>\n      <td>2020-11-23</td>\n      <td>17638</td>\n      <td>1</td>\n      <td>Jane_Feeney</td>\n      <td>systems</td>\n      <td>benchmark</td>\n    </tr>\n    <tr>\n      <th>7</th>\n      <td>Brando</td>\n      <td>Stroman</td>\n      <td>6</td>\n      <td>2020-11-23</td>\n      <td>40127</td>\n      <td>1</td>\n      <td>Nadia_Erdman</td>\n      <td>SCSI</td>\n      <td>Iran</td>\n    </tr>\n    <tr>\n      <th>8</th>\n      <td>Lavonne</td>\n      <td>Hegmann</td>\n      <td>11</td>\n      <td>2020-12-03</td>\n      <td>60788</td>\n      <td>1</td>\n      <td>Edwin_Roberts</td>\n      <td>interface</td>\n      <td>Checking Account</td>\n    </tr>\n    <tr>\n      <th>9</th>\n      <td>Lavonne</td>\n      <td>Hegmann</td>\n      <td>11</td>\n      <td>2020-12-10</td>\n      <td>17638</td>\n      <td>1</td>\n      <td>Jane_Feeney</td>\n      <td>systems</td>\n      <td>benchmark</td>\n    </tr>\n    <tr>\n      <th>10</th>\n      <td>Ernest</td>\n      <td>Wisoky</td>\n      <td>33</td>\n      <td>2020-12-08</td>\n      <td>25970</td>\n      <td>1</td>\n      <td>Jammie_Sporer</td>\n      <td>Salad</td>\n      <td>indigo</td>\n    </tr>\n    <tr>\n      <th>11</th>\n      <td>Ernest</td>\n      <td>Wisoky</td>\n      <td>33</td>\n      <td>2020-12-08</td>\n      <td>40127</td>\n      <td>0</td>\n      <td>Nadia_Erdman</td>\n      <td>SCSI</td>\n      <td>Iran</td>\n    </tr>\n    <tr>\n      <th>12</th>\n      <td>Herman</td>\n      <td>Feil</td>\n      <td>51</td>\n      <td>2020-12-10</td>\n      <td>50027</td>\n      <td>1</td>\n      <td>Kaylin_Homenick</td>\n      <td>harness</td>\n      <td>Sharable</td>\n    </tr>\n    <tr>\n      <th>13</th>\n      <td>Herman</td>\n      <td>Feil</td>\n      <td>51</td>\n      <td>2020-12-25</td>\n      <td>91211</td>\n      <td>1</td>\n      <td>Augustus_Ernser</td>\n      <td>background</td>\n      <td>connecting</td>\n    </tr>\n    <tr>\n      <th>14</th>\n      <td>Kathlyn</td>\n      <td>White</td>\n      <td>75</td>\n      <td>2020-12-23</td>\n      <td>50027</td>\n      <td>0</td>\n      <td>Kaylin_Homenick</td>\n      <td>harness</td>\n      <td>Sharable</td>\n    </tr>\n    <tr>\n      <th>15</th>\n      <td>Ervin</td>\n      <td>Considine</td>\n      <td>12</td>\n      <td>2020-12-24</td>\n      <td>91211</td>\n      <td>0</td>\n      <td>Augustus_Ernser</td>\n      <td>background</td>\n      <td>connecting</td>\n    </tr>\n    <tr>\n      <th>16</th>\n      <td>Ervin</td>\n      <td>Considine</td>\n      <td>12</td>\n      <td>2020-12-23</td>\n      <td>60788</td>\n      <td>1</td>\n      <td>Edwin_Roberts</td>\n      <td>interface</td>\n      <td>Checking Account</td>\n    </tr>\n    <tr>\n      <th>17</th>\n      <td>Forest</td>\n      <td>Kuhlman</td>\n      <td>22</td>\n      <td>2020-12-29</td>\n      <td>1605</td>\n      <td>0</td>\n      <td>Iliana_Kertzmann</td>\n      <td>Bike</td>\n      <td>Mount</td>\n    </tr>\n    <tr>\n      <th>18</th>\n      <td>Forest</td>\n      <td>Kuhlman</td>\n      <td>22</td>\n      <td>2020-12-18</td>\n      <td>60788</td>\n      <td>0</td>\n      <td>Edwin_Roberts</td>\n      <td>interface</td>\n      <td>Checking Account</td>\n    </tr>\n    <tr>\n      <th>19</th>\n      <td>Forest</td>\n      <td>Kuhlman</td>\n      <td>22</td>\n      <td>2020-12-29</td>\n      <td>1605</td>\n      <td>0</td>\n      <td>Iliana_Kertzmann</td>\n      <td>Bike</td>\n      <td>Mount</td>\n    </tr>\n    <tr>\n      <th>20</th>\n      <td>Nils</td>\n      <td>Jerde</td>\n      <td>84</td>\n      <td>2020-12-23</td>\n      <td>2194</td>\n      <td>1</td>\n      <td>Augustus_Ernser</td>\n      <td>Sausages</td>\n      <td>Frozen</td>\n    </tr>\n  </tbody>\n</table>\n</div>"
     },
     "metadata": {}
    }
   ],
   "source": [
    "readers = pd.read_csv(\"readers.csv\")\n",
    "books = pd.read_csv(\"books.csv\")\n",
    "orders = [pd.read_csv(\"order1.csv\"), pd.read_csv(\"order2.csv\")]\n",
    "orders = pd.concat(orders, ignore_index=True)\n",
    "\n",
    "display(readers)\n",
    "display(books)\n",
    "display(orders)\n",
    "\n",
    "big_df = pd.merge(orders, books, on='book_reg_num', how='left').fillna(0)\n",
    "big_df = pd.merge(readers, big_df, on='reader_id', how='right').fillna(0)\n",
    "\n",
    "display(big_df)"
   ]
  },
  {
   "source": [
    "# Task 1.\n",
    "для кожного читача ( за iменем i прiзвищем) повний перелiк авторiв\n",
    "(без повторень) замовлених книг у форматi\n",
    "< автор - кiлькiсть замовлених книг >;"
   ],
   "cell_type": "markdown",
   "metadata": {}
  },
  {
   "cell_type": "code",
   "execution_count": 167,
   "metadata": {},
   "outputs": [
    {
     "output_type": "display_data",
     "data": {
      "text/plain": "   reader_full_name      book_author  COUNTER\n0    Brando Stroman      Jane_Feeney        1\n1    Brando Stroman     Nadia_Erdman        1\n2   Cristina Harber    Edwin_Roberts        1\n3     Ernest Wisoky    Jammie_Sporer        1\n4   Ervin Considine    Edwin_Roberts        1\n5       Herman Feil  Augustus_Ernser        1\n6       Herman Feil  Kaylin_Homenick        1\n7        Kelli King  Augustus_Ernser        1\n8        Kelli King     Nadia_Erdman        3\n9   Lavonne Hegmann    Edwin_Roberts        1\n10  Lavonne Hegmann      Jane_Feeney        1\n11       Nils Jerde  Augustus_Ernser        1",
      "text/html": "<div>\n<style scoped>\n    .dataframe tbody tr th:only-of-type {\n        vertical-align: middle;\n    }\n\n    .dataframe tbody tr th {\n        vertical-align: top;\n    }\n\n    .dataframe thead th {\n        text-align: right;\n    }\n</style>\n<table border=\"1\" class=\"dataframe\">\n  <thead>\n    <tr style=\"text-align: right;\">\n      <th></th>\n      <th>reader_full_name</th>\n      <th>book_author</th>\n      <th>COUNTER</th>\n    </tr>\n  </thead>\n  <tbody>\n    <tr>\n      <th>0</th>\n      <td>Brando Stroman</td>\n      <td>Jane_Feeney</td>\n      <td>1</td>\n    </tr>\n    <tr>\n      <th>1</th>\n      <td>Brando Stroman</td>\n      <td>Nadia_Erdman</td>\n      <td>1</td>\n    </tr>\n    <tr>\n      <th>2</th>\n      <td>Cristina Harber</td>\n      <td>Edwin_Roberts</td>\n      <td>1</td>\n    </tr>\n    <tr>\n      <th>3</th>\n      <td>Ernest Wisoky</td>\n      <td>Jammie_Sporer</td>\n      <td>1</td>\n    </tr>\n    <tr>\n      <th>4</th>\n      <td>Ervin Considine</td>\n      <td>Edwin_Roberts</td>\n      <td>1</td>\n    </tr>\n    <tr>\n      <th>5</th>\n      <td>Herman Feil</td>\n      <td>Augustus_Ernser</td>\n      <td>1</td>\n    </tr>\n    <tr>\n      <th>6</th>\n      <td>Herman Feil</td>\n      <td>Kaylin_Homenick</td>\n      <td>1</td>\n    </tr>\n    <tr>\n      <th>7</th>\n      <td>Kelli King</td>\n      <td>Augustus_Ernser</td>\n      <td>1</td>\n    </tr>\n    <tr>\n      <th>8</th>\n      <td>Kelli King</td>\n      <td>Nadia_Erdman</td>\n      <td>3</td>\n    </tr>\n    <tr>\n      <th>9</th>\n      <td>Lavonne Hegmann</td>\n      <td>Edwin_Roberts</td>\n      <td>1</td>\n    </tr>\n    <tr>\n      <th>10</th>\n      <td>Lavonne Hegmann</td>\n      <td>Jane_Feeney</td>\n      <td>1</td>\n    </tr>\n    <tr>\n      <th>11</th>\n      <td>Nils Jerde</td>\n      <td>Augustus_Ernser</td>\n      <td>1</td>\n    </tr>\n  </tbody>\n</table>\n</div>"
     },
     "metadata": {}
    }
   ],
   "source": [
    "df1 = big_df.copy()\n",
    "df1[\"reader_full_name\"] = df1[\"reader_name\"] + \" \" + df1[\"reader_last_name\"]\n",
    "df1 = df1[df1[\"order_done\"] == 1]\n",
    "df1 = df1.drop([\"reader_name\", \"reader_last_name\",\t\"reader_id\",\t\"order_date\",\t\"book_reg_num\",\t\"order_done\", \"book_title\",\t\"book_genre\"], axis=1)\n",
    "df1['COUNTER'] =1       \n",
    "df1 = df1.groupby([\"reader_full_name\", \"book_author\"])['COUNTER'].sum().reset_index()\n",
    "display(df1)"
   ]
  },
  {
   "source": [
    "# Task 2. \n",
    "рейтинг читачiв за загальною кiлькiстю замовлених книг у форматi\n",
    "< прiзвище та iм’я читача - кiлькiсть замовлених книг >;"
   ],
   "cell_type": "markdown",
   "metadata": {}
  },
  {
   "cell_type": "code",
   "execution_count": 168,
   "metadata": {},
   "outputs": [
    {
     "output_type": "display_data",
     "data": {
      "text/plain": "  reader_full_name  COUNTER\n5       Kelli King        4\n0   Brando Stroman        2\n4      Herman Feil        2\n6  Lavonne Hegmann        2\n1  Cristina Harber        1\n2    Ernest Wisoky        1\n3  Ervin Considine        1\n7       Nils Jerde        1",
      "text/html": "<div>\n<style scoped>\n    .dataframe tbody tr th:only-of-type {\n        vertical-align: middle;\n    }\n\n    .dataframe tbody tr th {\n        vertical-align: top;\n    }\n\n    .dataframe thead th {\n        text-align: right;\n    }\n</style>\n<table border=\"1\" class=\"dataframe\">\n  <thead>\n    <tr style=\"text-align: right;\">\n      <th></th>\n      <th>reader_full_name</th>\n      <th>COUNTER</th>\n    </tr>\n  </thead>\n  <tbody>\n    <tr>\n      <th>5</th>\n      <td>Kelli King</td>\n      <td>4</td>\n    </tr>\n    <tr>\n      <th>0</th>\n      <td>Brando Stroman</td>\n      <td>2</td>\n    </tr>\n    <tr>\n      <th>4</th>\n      <td>Herman Feil</td>\n      <td>2</td>\n    </tr>\n    <tr>\n      <th>6</th>\n      <td>Lavonne Hegmann</td>\n      <td>2</td>\n    </tr>\n    <tr>\n      <th>1</th>\n      <td>Cristina Harber</td>\n      <td>1</td>\n    </tr>\n    <tr>\n      <th>2</th>\n      <td>Ernest Wisoky</td>\n      <td>1</td>\n    </tr>\n    <tr>\n      <th>3</th>\n      <td>Ervin Considine</td>\n      <td>1</td>\n    </tr>\n    <tr>\n      <th>7</th>\n      <td>Nils Jerde</td>\n      <td>1</td>\n    </tr>\n  </tbody>\n</table>\n</div>"
     },
     "metadata": {}
    }
   ],
   "source": [
    "df1 = df1.groupby([\"reader_full_name\"])['COUNTER'].sum().reset_index()\n",
    "df1 = df1.sort_values(by=['COUNTER'], ascending=False)\n",
    "display(df1)"
   ]
  },
  {
   "source": [
    "# Task 3\n",
    "для кожної книги кiлькiсть замовлень у форматi\n",
    "< автор - назва - кiлькiсть замовлень>;"
   ],
   "cell_type": "markdown",
   "metadata": {}
  },
  {
   "cell_type": "code",
   "execution_count": 169,
   "metadata": {},
   "outputs": [
    {
     "output_type": "display_data",
     "data": {
      "text/plain": "       book_author  book_title  COUNTER\n0  Augustus_Ernser    Sausages        1\n1  Augustus_Ernser  background        2\n2    Edwin_Roberts   interface        3\n3    Jammie_Sporer       Salad        1\n4      Jane_Feeney     systems        2\n5  Kaylin_Homenick     harness        1\n6     Nadia_Erdman        SCSI        4",
      "text/html": "<div>\n<style scoped>\n    .dataframe tbody tr th:only-of-type {\n        vertical-align: middle;\n    }\n\n    .dataframe tbody tr th {\n        vertical-align: top;\n    }\n\n    .dataframe thead th {\n        text-align: right;\n    }\n</style>\n<table border=\"1\" class=\"dataframe\">\n  <thead>\n    <tr style=\"text-align: right;\">\n      <th></th>\n      <th>book_author</th>\n      <th>book_title</th>\n      <th>COUNTER</th>\n    </tr>\n  </thead>\n  <tbody>\n    <tr>\n      <th>0</th>\n      <td>Augustus_Ernser</td>\n      <td>Sausages</td>\n      <td>1</td>\n    </tr>\n    <tr>\n      <th>1</th>\n      <td>Augustus_Ernser</td>\n      <td>background</td>\n      <td>2</td>\n    </tr>\n    <tr>\n      <th>2</th>\n      <td>Edwin_Roberts</td>\n      <td>interface</td>\n      <td>3</td>\n    </tr>\n    <tr>\n      <th>3</th>\n      <td>Jammie_Sporer</td>\n      <td>Salad</td>\n      <td>1</td>\n    </tr>\n    <tr>\n      <th>4</th>\n      <td>Jane_Feeney</td>\n      <td>systems</td>\n      <td>2</td>\n    </tr>\n    <tr>\n      <th>5</th>\n      <td>Kaylin_Homenick</td>\n      <td>harness</td>\n      <td>1</td>\n    </tr>\n    <tr>\n      <th>6</th>\n      <td>Nadia_Erdman</td>\n      <td>SCSI</td>\n      <td>4</td>\n    </tr>\n  </tbody>\n</table>\n</div>"
     },
     "metadata": {}
    }
   ],
   "source": [
    "df2 = big_df.copy()\n",
    "df2 = df2[df2[\"order_done\"] == 1]\n",
    "df2 = df2.drop([\"reader_name\", \"reader_last_name\",\t\"reader_id\",\t\"order_date\",\t\"book_reg_num\",\t\"order_done\", \"book_genre\"], axis=1)\n",
    "df2['COUNTER'] =1       \n",
    "df2 = df2.groupby([\"book_author\", \"book_title\"])['COUNTER'].sum().reset_index()\n",
    "display(df2)"
   ]
  },
  {
   "source": [
    "# Task 4.\n",
    "для кожного дня кiлькiсть виконаних замовлень та вiдмов."
   ],
   "cell_type": "markdown",
   "metadata": {}
  },
  {
   "cell_type": "code",
   "execution_count": 170,
   "metadata": {},
   "outputs": [
    {
     "output_type": "display_data",
     "data": {
      "text/plain": "    order_date  done  denied\n0   2020-10-10     1     0.0\n1   2020-11-02     0     1.0\n2   2020-11-05     1     0.0\n3   2020-11-09     3     0.0\n4   2020-11-23     2     0.0\n5   2020-12-03     1     0.0\n6   2020-12-08     1     1.0\n7   2020-12-10     2     0.0\n8   2020-12-18     0     1.0\n9   2020-12-23     2     1.0\n10  2020-12-24     0     1.0\n11  2020-12-25     1     0.0\n12  2020-12-29     0     2.0",
      "text/html": "<div>\n<style scoped>\n    .dataframe tbody tr th:only-of-type {\n        vertical-align: middle;\n    }\n\n    .dataframe tbody tr th {\n        vertical-align: top;\n    }\n\n    .dataframe thead th {\n        text-align: right;\n    }\n</style>\n<table border=\"1\" class=\"dataframe\">\n  <thead>\n    <tr style=\"text-align: right;\">\n      <th></th>\n      <th>order_date</th>\n      <th>done</th>\n      <th>denied</th>\n    </tr>\n  </thead>\n  <tbody>\n    <tr>\n      <th>0</th>\n      <td>2020-10-10</td>\n      <td>1</td>\n      <td>0.0</td>\n    </tr>\n    <tr>\n      <th>1</th>\n      <td>2020-11-02</td>\n      <td>0</td>\n      <td>1.0</td>\n    </tr>\n    <tr>\n      <th>2</th>\n      <td>2020-11-05</td>\n      <td>1</td>\n      <td>0.0</td>\n    </tr>\n    <tr>\n      <th>3</th>\n      <td>2020-11-09</td>\n      <td>3</td>\n      <td>0.0</td>\n    </tr>\n    <tr>\n      <th>4</th>\n      <td>2020-11-23</td>\n      <td>2</td>\n      <td>0.0</td>\n    </tr>\n    <tr>\n      <th>5</th>\n      <td>2020-12-03</td>\n      <td>1</td>\n      <td>0.0</td>\n    </tr>\n    <tr>\n      <th>6</th>\n      <td>2020-12-08</td>\n      <td>1</td>\n      <td>1.0</td>\n    </tr>\n    <tr>\n      <th>7</th>\n      <td>2020-12-10</td>\n      <td>2</td>\n      <td>0.0</td>\n    </tr>\n    <tr>\n      <th>8</th>\n      <td>2020-12-18</td>\n      <td>0</td>\n      <td>1.0</td>\n    </tr>\n    <tr>\n      <th>9</th>\n      <td>2020-12-23</td>\n      <td>2</td>\n      <td>1.0</td>\n    </tr>\n    <tr>\n      <th>10</th>\n      <td>2020-12-24</td>\n      <td>0</td>\n      <td>1.0</td>\n    </tr>\n    <tr>\n      <th>11</th>\n      <td>2020-12-25</td>\n      <td>1</td>\n      <td>0.0</td>\n    </tr>\n    <tr>\n      <th>12</th>\n      <td>2020-12-29</td>\n      <td>0</td>\n      <td>2.0</td>\n    </tr>\n  </tbody>\n</table>\n</div>"
     },
     "metadata": {}
    }
   ],
   "source": [
    "df3 = big_df.copy()\n",
    "df3['done'] = df3['order_done'] \n",
    "df3.loc[df3.order_done == 1, \"denied\"] = 0\n",
    "df3.loc[df3.order_done == 0, \"denied\"] = 1   \n",
    "df3 = df3.drop([\"reader_name\", \"reader_last_name\",\t\"reader_id\",\t\"book_reg_num\", \"book_genre\", \"book_author\", \"book_title\", \"order_done\"], axis=1)\n",
    "df3 = df3.groupby(\"order_date\").agg('sum').reset_index()\n",
    "display(df3)"
   ]
  }
 ]
}