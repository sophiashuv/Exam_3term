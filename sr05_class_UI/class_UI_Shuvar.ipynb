{
 "metadata": {
  "language_info": {
   "codemirror_mode": {
    "name": "ipython",
    "version": 3
   },
   "file_extension": ".py",
   "mimetype": "text/x-python",
   "name": "python",
   "nbconvert_exporter": "python",
   "pygments_lexer": "ipython3",
   "version": "3.8.5-final"
  },
  "orig_nbformat": 2,
  "kernelspec": {
   "name": "python3",
   "display_name": "Python 3",
   "language": "python"
  }
 },
 "nbformat": 4,
 "nbformat_minor": 2,
 "cells": [
  {
   "source": [
    "# Завдання 1.\n",
    "1. Розробити тип для банкiвських карток з атрибутами: прiзвище, номер i сума коштiв. Утворити перелiк банкiвських карток за допомогою списку i заповнити його об’єктами з csv-файла. Вивести вмiстиме перелiку, впорядковане за прiзвищами.\n",
    "2. Вивести номери карток iз сумою для власника, якого вибрати з випадаючого списку 3. Побудувати дiаграму загальної суми для кожного власника"
   ],
   "cell_type": "markdown",
   "metadata": {}
  },
  {
   "cell_type": "code",
   "execution_count": 129,
   "metadata": {},
   "outputs": [],
   "source": [
    "from datetime import datetime\n",
    "\n",
    "\n",
    "class Validation:\n",
    "    \"\"\"Class for Validation representation.\"\"\"\n",
    "\n",
    "    @staticmethod\n",
    "    def validateStr(func):\n",
    "        def validateStrWrapper(w, value):\n",
    "            if not(isinstance(value, str)):\n",
    "                raise TypeError('must be an str')\n",
    "            return func(w, value)\n",
    "        return validateStrWrapper\n",
    "\n",
    "    @staticmethod\n",
    "    def validateFloat(func):\n",
    "        def validateFloatWrapper(w, value):\n",
    "            if not(isinstance(value, float)) and not(isinstance(value, int)):\n",
    "                raise TypeError('must be an float')\n",
    "            return func(w, value)\n",
    "        return validateFloatWrapper\n",
    "\n",
    "    @staticmethod\n",
    "    def validateInt(func):\n",
    "        def validateIntWrapper(w, value):\n",
    "            if not(isinstance(value, int)):\n",
    "                raise TypeError('must be an int')\n",
    "            return func(w, value)\n",
    "        return validateIntWrapper\n",
    "\n",
    "    @staticmethod\n",
    "    def validateSize(func):\n",
    "        def validateSizeWrapper(w, value):\n",
    "            if not(isinstance(value, int)) and not(isinstance(value, float)):\n",
    "                raise TypeError('must be an int')\n",
    "            if value < 0:\n",
    "                raise ValueError(\"mast be positive\")\n",
    "            return func(w, value)\n",
    "        return validateSizeWrapper\n",
    "\n",
    "    @staticmethod\n",
    "    def validateAmount(func):\n",
    "        def validateAmountWrapper(w, value):\n",
    "            if not(isinstance(value, int)):\n",
    "                raise TypeError('must be an int')\n",
    "            if value < 0:\n",
    "                raise ValueError(\"mast be positive\")\n",
    "            return func(w, value)\n",
    "        return validateSizeWrapper\n",
    "\n",
    "    @staticmethod\n",
    "    def validateDate(func):\n",
    "        def validateDateWrapper(w, date):\n",
    "            datetime.strptime(date, '%Y-%m-%d')\n",
    "            return func(w, date)\n",
    "        return validateDateWrapper\n",
    "\n",
    "    \n",
    "    @staticmethod\n",
    "    def validateCard(func):\n",
    "        def validateCardWrapper(w, value):\n",
    "            if not value.isdigit():\n",
    "                raise ValueError(\"mast contain only digits\")\n",
    "            return func(w, value)\n",
    "        return validateCardWrapper\n",
    "\n",
    "    @staticmethod\n",
    "    def validateFileName(end=\".csv\"):\n",
    "        def validateFileNameDecorator(func):\n",
    "            def validateFileNameWrapper(L, filename):\n",
    "                if not filename.endswith(end):\n",
    "                    raise ValueError(\"Incorrect filename, should end with .\" + end + \".\")\n",
    "                return func(L, filename)\n",
    "            return validateFileNameWrapper\n",
    "        return validateFileNameDecorator"
   ]
  },
  {
   "cell_type": "code",
   "execution_count": 130,
   "metadata": {},
   "outputs": [],
   "source": [
    "class Card:\n",
    "    def __init__(self, surname, card_num, funds):\n",
    "        self.surname = surname\n",
    "        self.card_num = card_num\n",
    "        self.funds = funds\n",
    "\n",
    "    @property\n",
    "    def surname(self):\n",
    "        return self._surname\n",
    "\n",
    "    @surname.setter\n",
    "    @Validation.validateStr\n",
    "    def surname(self, val):\n",
    "       self._surname = val\n",
    "    \n",
    "    @property\n",
    "    def card_num(self):\n",
    "        return self._card_num\n",
    "\n",
    "    @card_num.setter\n",
    "    @Validation.validateCard\n",
    "    def card_num(self, val):\n",
    "        self._card_num = val\n",
    "\n",
    "    @property\n",
    "    def funds(self):\n",
    "        return self._funds\n",
    "\n",
    "    @funds.setter\n",
    "    @Validation.validateSize\n",
    "    def funds(self, val):\n",
    "        self._funds = val\n",
    "\n",
    "    def __str__(self):\n",
    "        return f'surname = {self.surname}, card number = {self.card_num}, funds = {self.funds}'\n",
    "\n",
    "    def __repr__(self):\n",
    "        return f'surname = {self.surname}, card_num = {self.card_num}, funds = {self.funds}'"
   ]
  },
  {
   "cell_type": "code",
   "execution_count": 131,
   "metadata": {},
   "outputs": [
    {
     "output_type": "stream",
     "name": "stdout",
     "text": [
      "surname = Burley, card number = 36998437, funds = 91536.61\nsurname = Mariah, card number = 76037516, funds = 96034.04\nsurname = Lola, card number = 16387440, funds = 41639.97\nsurname = Rylee, card number = 73387510, funds = 36287.61\nsurname = Abdullah, card number = 32460215, funds = 87949.14\nsurname = Jedidiah, card number = 18285698, funds = 64061.18\nsurname = Birdie, card number = 61846453, funds = 52342.06\nsurname = Kellen, card number = 03576323, funds = 23905.62\nsurname = Helga, card number = 83958014, funds = 55203.29\n"
     ]
    }
   ],
   "source": [
    "import csv\n",
    "\n",
    "cards = [] \n",
    "try:\n",
    "    with open(\"cards.csv\", 'r') as v:\n",
    "        r = csv.reader(v)\n",
    "        next(r)\n",
    "        for row in r:\n",
    "            cards.append(Card(row[0], row[1], float(row[2])))\n",
    "except FileNotFoundError as e:\n",
    "    print(e)\n",
    "except Exception as e:\n",
    "    print(e)\n",
    "        \n",
    "    \n",
    "for i in cards:\n",
    "    print(i)"
   ]
  },
  {
   "cell_type": "code",
   "execution_count": 132,
   "metadata": {},
   "outputs": [
    {
     "output_type": "stream",
     "name": "stdout",
     "text": [
      "surname = Abdullah, card number = 32460215, funds = 87949.14\nsurname = Birdie, card number = 61846453, funds = 52342.06\nsurname = Burley, card number = 36998437, funds = 91536.61\nsurname = Helga, card number = 83958014, funds = 55203.29\nsurname = Jedidiah, card number = 18285698, funds = 64061.18\nsurname = Kellen, card number = 03576323, funds = 23905.62\nsurname = Lola, card number = 16387440, funds = 41639.97\nsurname = Mariah, card number = 76037516, funds = 96034.04\nsurname = Rylee, card number = 73387510, funds = 36287.61\n"
     ]
    }
   ],
   "source": [
    "cards.sort(key=lambda card: card.surname)\n",
    "\n",
    "for i in cards:\n",
    "    print(i)"
   ]
  },
  {
   "cell_type": "code",
   "execution_count": null,
   "metadata": {},
   "outputs": [],
   "source": []
  }
 ]
}