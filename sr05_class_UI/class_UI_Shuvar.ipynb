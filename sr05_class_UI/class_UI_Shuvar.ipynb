{
 "metadata": {
  "language_info": {
   "codemirror_mode": {
    "name": "ipython",
    "version": 3
   },
   "file_extension": ".py",
   "mimetype": "text/x-python",
   "name": "python",
   "nbconvert_exporter": "python",
   "pygments_lexer": "ipython3",
   "version": "3.8.5-final"
  },
  "orig_nbformat": 2,
  "kernelspec": {
   "name": "python3",
   "display_name": "Python 3",
   "language": "python"
  }
 },
 "nbformat": 4,
 "nbformat_minor": 2,
 "cells": [
  {
   "source": [
    "# Завдання 1.\n",
    "1. Розробити тип для банкiвських карток з атрибутами: прiзвище, номер i сума коштiв. Утворити перелiк банкiвських карток за допомогою списку i заповнити його об’єктами з csv-файла. Вивести вмiстиме перелiку, впорядковане за прiзвищами.\n",
    "2. Вивести номери карток iз сумою для власника, якого вибрати з випадаючого списку 3. Побудувати дiаграму загальної суми для кожного власника"
   ],
   "cell_type": "markdown",
   "metadata": {}
  },
  {
   "cell_type": "code",
   "execution_count": null,
   "metadata": {},
   "outputs": [],
   "source": [
    "import csv\n",
    "import pandas as pd\n",
    "import matplotlib.pyplot as plt\n",
    "import numpy as np\n",
    "from ipywidgets import interact, interactive, fixed, interact_manual\n",
    "import ipywidgets as widgets\n",
    "from functools import reduce\n",
    "import numpy as np\n",
    "import matplotlib.pyplot as plt\n",
    "from datetime import datetime\n",
    "from scipy.interpolate import interp1d"
   ]
  },
  {
   "cell_type": "code",
   "execution_count": null,
   "metadata": {},
   "outputs": [],
   "source": [
    "\n",
    "class Validation:\n",
    "    \"\"\"Class for Validation representation.\"\"\"\n",
    "\n",
    "    @staticmethod\n",
    "    def validateStr(func):\n",
    "        def validateStrWrapper(w, value):\n",
    "            if not(isinstance(value, str)):\n",
    "                raise TypeError('must be an str')\n",
    "            return func(w, value)\n",
    "        return validateStrWrapper\n",
    "\n",
    "    @staticmethod\n",
    "    def validateFloat(func):\n",
    "        def validateFloatWrapper(w, value):\n",
    "            if not(isinstance(value, float)) and not(isinstance(value, int)):\n",
    "                raise TypeError('must be an float')\n",
    "            return func(w, value)\n",
    "        return validateFloatWrapper\n",
    "\n",
    "    @staticmethod\n",
    "    def validateInt(func):\n",
    "        def validateIntWrapper(w, value):\n",
    "            if not(isinstance(value, int)):\n",
    "                raise TypeError('must be an int')\n",
    "            return func(w, value)\n",
    "        return validateIntWrapper\n",
    "\n",
    "    @staticmethod\n",
    "    def validateSize(func):\n",
    "        def validateSizeWrapper(w, value):\n",
    "            if not(isinstance(value, int)) and not(isinstance(value, float)):\n",
    "                raise TypeError('must be an int')\n",
    "            if value < 0:\n",
    "                raise ValueError(\"mast be positive\")\n",
    "            return func(w, value)\n",
    "        return validateSizeWrapper\n",
    "\n",
    "    @staticmethod\n",
    "    def validateAmount(func):\n",
    "        def validateAmountWrapper(w, value):\n",
    "            if not(isinstance(value, int)):\n",
    "                raise TypeError('must be an int')\n",
    "            if value < 0:\n",
    "                raise ValueError(\"mast be positive\")\n",
    "            return func(w, value)\n",
    "        return validateSizeWrapper\n",
    "\n",
    "    @staticmethod\n",
    "    def validateDate(func):\n",
    "        def validateDateWrapper(w, date):\n",
    "            datetime.strptime(date, '%Y-%m-%d')\n",
    "            return func(w, date)\n",
    "        return validateDateWrapper\n",
    "\n",
    "    \n",
    "    @staticmethod\n",
    "    def validateCard(func):\n",
    "        def validateCardWrapper(w, value):\n",
    "            if not value.isdigit():\n",
    "                raise ValueError(\"mast contain only digits\")\n",
    "            return func(w, value)\n",
    "        return validateCardWrapper\n",
    "\n",
    "    @staticmethod\n",
    "    def validateFileName(end=\".csv\"):\n",
    "        def validateFileNameDecorator(func):\n",
    "            def validateFileNameWrapper(L, filename):\n",
    "                if not filename.endswith(end):\n",
    "                    raise ValueError(\"Incorrect filename, should end with .\" + end + \".\")\n",
    "                return func(L, filename)\n",
    "            return validateFileNameWrapper\n",
    "        return validateFileNameDecorator"
   ]
  },
  {
   "cell_type": "code",
   "execution_count": null,
   "metadata": {},
   "outputs": [],
   "source": [
    "class Card:\n",
    "    def __init__(self, surname, card_num, funds):\n",
    "        self.surname = surname\n",
    "        self.card_num = card_num\n",
    "        self.funds = funds\n",
    "\n",
    "    @property\n",
    "    def surname(self):\n",
    "        return self._surname\n",
    "\n",
    "    @surname.setter\n",
    "    @Validation.validateStr\n",
    "    def surname(self, val):\n",
    "       self._surname = val\n",
    "    \n",
    "    @property\n",
    "    def card_num(self):\n",
    "        return self._card_num\n",
    "\n",
    "    @card_num.setter\n",
    "    @Validation.validateCard\n",
    "    def card_num(self, val):\n",
    "        self._card_num = val\n",
    "\n",
    "    @property\n",
    "    def funds(self):\n",
    "        return self._funds\n",
    "\n",
    "    @funds.setter\n",
    "    @Validation.validateSize\n",
    "    def funds(self, val):\n",
    "        self._funds = val\n",
    "\n",
    "    def __str__(self):\n",
    "        return f'surname = {self.surname}, card number = {self.card_num}, funds = {self.funds}'\n",
    "\n",
    "    def __repr__(self):\n",
    "        return f'surname = {self.surname}, card_num = {self.card_num}, funds = {self.funds}'"
   ]
  },
  {
   "cell_type": "code",
   "execution_count": null,
   "metadata": {},
   "outputs": [],
   "source": [
    "import csv\n",
    "\n",
    "cards = [] \n",
    "try:\n",
    "    with open(\"cards.csv\", 'r') as v:\n",
    "        r = csv.reader(v)\n",
    "        next(r)\n",
    "        for row in r:\n",
    "            cards.append(Card(row[0], row[1], float(row[2])))\n",
    "except FileNotFoundError as e:\n",
    "    print(e)\n",
    "except Exception as e:\n",
    "    print(e)\n",
    "        \n",
    "    \n",
    "for i in cards:\n",
    "    print(i)"
   ]
  },
  {
   "cell_type": "code",
   "execution_count": null,
   "metadata": {},
   "outputs": [],
   "source": [
    "cards.sort(key=lambda card: card.surname)\n",
    "\n",
    "for i in cards:\n",
    "    print(i)"
   ]
  },
  {
   "cell_type": "code",
   "execution_count": null,
   "metadata": {},
   "outputs": [],
   "source": [
    "## Task 2"
   ]
  },
  {
   "cell_type": "code",
   "execution_count": null,
   "metadata": {},
   "outputs": [],
   "source": [
    "\n",
    "surnames = [(card.surname, card) for card in cards]\n",
    "\n",
    "def task2(card):\n",
    "    print(f'{card.card_num} - {card.funds}')\n",
    "\n",
    "interact(task2, card=sorted(surnames));"
   ]
  },
  {
   "cell_type": "code",
   "execution_count": null,
   "metadata": {},
   "outputs": [],
   "source": [
    "## Task 3"
   ]
  },
  {
   "cell_type": "code",
   "execution_count": null,
   "metadata": {},
   "outputs": [],
   "source": [
    "def draw_histogram(x, y, x_label, y_label, title): \n",
    "    fig, ax = plt.subplots(figsize=(15, 10))\n",
    "    plt.plot(x, y, 'r--')\n",
    "    ax.bar(x, y, color='#5499C7', width=0.5, edgecolor='#154360')\n",
    "    ax.set_title(title, color='black', size=50, fontweight='bold', pad=50)\n",
    "    ax.set_ylabel(y_label, size=25, fontweight='bold')\n",
    "    ax.set_xlabel(x_label, size=24, fontweight='bold')\n",
    "    ax.tick_params(axis='x', rotation=70, direction='inout', pad=10, labelsize='large', length=10, width=2)\n",
    "    ax.tick_params(axis='y', direction='inout', pad=10, labelsize='large', length=10, width=2)\n",
    "    ax.patch.set_facecolor('#B0C4DE')\n",
    "    fig.patch.set_facecolor('#154360')         \n",
    "    plt.show()"
   ]
  },
  {
   "cell_type": "code",
   "execution_count": null,
   "metadata": {},
   "outputs": [],
   "source": [
    "surnames = np.array([card.surname for card in cards])\n",
    "funds =  np.array([card.funds for card in cards])\n",
    "draw_histogram(surnames, funds, 'Urers', \"Funds\", \"Card Users\")"
   ]
  },
  {
   "cell_type": "code",
   "execution_count": null,
   "metadata": {},
   "outputs": [],
   "source": []
  }
 ]
}