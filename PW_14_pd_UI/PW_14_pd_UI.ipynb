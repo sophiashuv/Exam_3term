{
 "metadata": {
  "language_info": {
   "codemirror_mode": {
    "name": "ipython",
    "version": 3
   },
   "file_extension": ".py",
   "mimetype": "text/x-python",
   "name": "python",
   "nbconvert_exporter": "python",
   "pygments_lexer": "ipython3",
   "version": "3.8.5-final"
  },
  "orig_nbformat": 2,
  "kernelspec": {
   "name": "python3",
   "display_name": "Python 3",
   "language": "python"
  }
 },
 "nbformat": 4,
 "nbformat_minor": 2,
 "cells": [
  {
   "source": [
    "# Task\n",
    "Студент характеризується iменем i прiзвищем та iдентифiкацiйним но-<br>\n",
    "мером studID. Данi студентiв знаходяться в окремому файлi.<br>\n",
    "\n",
    "Результати виконання iндивiдуальних завдань знаходяться в кiлькох<br>\n",
    "окремих файлах, назва яких має формат “taskXX”, де ХХ – двоцифровий<br>\n",
    "номер завдання. Формат результатiв: studID , невiд’єне цiле число.<br>\n",
    "Отримати засобами Pandas вказанi в завданнях данi i вiзуалiзувати їх :<br>\n",
    "\n",
    "1. Побудувати загальний DataFrame з колонками<br>\n",
    "’Student’, ’Task01’,’Task02’,’Task03’, ...,’Task0N’.<br>\n",
    "1а. Для колонки, назва якої вибрана з випадаючого списку, отримати<br>\n",
    "рейтинг студентiв.<br>\n",
    "1б. Для колонки, назва якої вибрана з випадаючого списку, побудувати<br>\n",
    "дiаграму результатiв.<br>\n",
    "1в. Для колонки, назва якої вибрана з випадаючого списку, отримати<br>\n",
    "середнє значення результатiв.<br>\n",
    "\n",
    "2. Додати до датафрейму колонку ’Total’ iз сумою результатiв.<br>\n",
    "2а. Побудувати дiаграму результатiв для ’Total’.<br>\n",
    "\n",
    "3. Вважаючи, що максимально можливий результат в ’Total’ 100 балiв,<br>\n",
    "додати колонку з оцiнками у болонськiй системi.<br>\n",
    "\n",
    "4. Отримати список студентiв iз заданою з вiджета оцiнкою, впорядко-<br>\n",
    "ваний за балами.<br>\n",
    "\n",
    "5. Для студента, прiзвище та iм’я якого вибрано з випадаючого списку,<br>\n",
    "отримати найменший та найбiльший поточний результати i назви вiдповiд-<br>\n",
    "них завдань.<br>"
   ],
   "cell_type": "markdown",
   "metadata": {}
  },
  {
   "cell_type": "code",
   "execution_count": 64,
   "metadata": {},
   "outputs": [],
   "source": [
    "import csv\n",
    "import pandas as pd\n",
    "import matplotlib.pyplot as plt\n",
    "import numpy as np\n",
    "from ipywidgets import interact, interactive, fixed, interact_manual\n",
    "import ipywidgets as widgets\n",
    "from datetime import datetime"
   ]
  },
  {
   "cell_type": "code",
   "execution_count": 65,
   "metadata": {},
   "outputs": [
    {
     "output_type": "display_data",
     "data": {
      "text/plain": "   studentID        full_name  Task01  Task02  Task03  Task04  Task05\n0          1  Camron Gottlieb       8       1       3       1      14\n1          2  Vivian Hartmann       7      17      19       3      16\n2          3    Luciano Adams      19      34      10       5      23\n3          4    Brycen Dooley       9      19      15      18      21\n4          5     Derrick Kris      14      20      13      21      19",
      "text/html": "<div>\n<style scoped>\n    .dataframe tbody tr th:only-of-type {\n        vertical-align: middle;\n    }\n\n    .dataframe tbody tr th {\n        vertical-align: top;\n    }\n\n    .dataframe thead th {\n        text-align: right;\n    }\n</style>\n<table border=\"1\" class=\"dataframe\">\n  <thead>\n    <tr style=\"text-align: right;\">\n      <th></th>\n      <th>studentID</th>\n      <th>full_name</th>\n      <th>Task01</th>\n      <th>Task02</th>\n      <th>Task03</th>\n      <th>Task04</th>\n      <th>Task05</th>\n    </tr>\n  </thead>\n  <tbody>\n    <tr>\n      <th>0</th>\n      <td>1</td>\n      <td>Camron Gottlieb</td>\n      <td>8</td>\n      <td>1</td>\n      <td>3</td>\n      <td>1</td>\n      <td>14</td>\n    </tr>\n    <tr>\n      <th>1</th>\n      <td>2</td>\n      <td>Vivian Hartmann</td>\n      <td>7</td>\n      <td>17</td>\n      <td>19</td>\n      <td>3</td>\n      <td>16</td>\n    </tr>\n    <tr>\n      <th>2</th>\n      <td>3</td>\n      <td>Luciano Adams</td>\n      <td>19</td>\n      <td>34</td>\n      <td>10</td>\n      <td>5</td>\n      <td>23</td>\n    </tr>\n    <tr>\n      <th>3</th>\n      <td>4</td>\n      <td>Brycen Dooley</td>\n      <td>9</td>\n      <td>19</td>\n      <td>15</td>\n      <td>18</td>\n      <td>21</td>\n    </tr>\n    <tr>\n      <th>4</th>\n      <td>5</td>\n      <td>Derrick Kris</td>\n      <td>14</td>\n      <td>20</td>\n      <td>13</td>\n      <td>21</td>\n      <td>19</td>\n    </tr>\n  </tbody>\n</table>\n</div>"
     },
     "metadata": {}
    }
   ],
   "source": [
    "students = pd.read_csv('students.csv')\n",
    "cols = [\"student_name\", \"student_last_name\"]\n",
    "students['full_name'] = students[cols].apply(lambda row: ' '.join(row.values.astype(str)), axis=1)\n",
    "students = students.drop(cols, axis=1)\n",
    "\n",
    "task01 = pd.read_csv('Task01.csv')\n",
    "task02 = pd.read_csv('Task02.csv')\n",
    "task03 = pd.read_csv('Task03.csv')\n",
    "task04 = pd.read_csv('Task04.csv')\n",
    "task05 = pd.read_csv('Task05.csv')\n",
    "\n",
    "df_list = [task01, task02, task03, task04, task05]\n",
    "big_df = students\n",
    "for df_ in df_list:\n",
    "    big_df = big_df.merge(df_, on='studentID')\n",
    "\n",
    "display(big_df)"
   ]
  },
  {
   "source": [
    "1. Побудувати загальний DataFrame з колонками<br>\n",
    "’Student’, ’Task01’,’Task02’,’Task03’, ...,’Task0N’.<br>"
   ],
   "cell_type": "markdown",
   "metadata": {}
  },
  {
   "cell_type": "code",
   "execution_count": 66,
   "metadata": {},
   "outputs": [
    {
     "output_type": "execute_result",
     "data": {
      "text/plain": [
       "         full_name  Task01  Task02  Task03  Task04  Task05\n",
       "0  Camron Gottlieb       8       1       3       1      14\n",
       "1  Vivian Hartmann       7      17      19       3      16\n",
       "2    Luciano Adams      19      34      10       5      23\n",
       "3    Brycen Dooley       9      19      15      18      21\n",
       "4     Derrick Kris      14      20      13      21      19"
      ],
      "text/html": "<div>\n<style scoped>\n    .dataframe tbody tr th:only-of-type {\n        vertical-align: middle;\n    }\n\n    .dataframe tbody tr th {\n        vertical-align: top;\n    }\n\n    .dataframe thead th {\n        text-align: right;\n    }\n</style>\n<table border=\"1\" class=\"dataframe\">\n  <thead>\n    <tr style=\"text-align: right;\">\n      <th></th>\n      <th>full_name</th>\n      <th>Task01</th>\n      <th>Task02</th>\n      <th>Task03</th>\n      <th>Task04</th>\n      <th>Task05</th>\n    </tr>\n  </thead>\n  <tbody>\n    <tr>\n      <th>0</th>\n      <td>Camron Gottlieb</td>\n      <td>8</td>\n      <td>1</td>\n      <td>3</td>\n      <td>1</td>\n      <td>14</td>\n    </tr>\n    <tr>\n      <th>1</th>\n      <td>Vivian Hartmann</td>\n      <td>7</td>\n      <td>17</td>\n      <td>19</td>\n      <td>3</td>\n      <td>16</td>\n    </tr>\n    <tr>\n      <th>2</th>\n      <td>Luciano Adams</td>\n      <td>19</td>\n      <td>34</td>\n      <td>10</td>\n      <td>5</td>\n      <td>23</td>\n    </tr>\n    <tr>\n      <th>3</th>\n      <td>Brycen Dooley</td>\n      <td>9</td>\n      <td>19</td>\n      <td>15</td>\n      <td>18</td>\n      <td>21</td>\n    </tr>\n    <tr>\n      <th>4</th>\n      <td>Derrick Kris</td>\n      <td>14</td>\n      <td>20</td>\n      <td>13</td>\n      <td>21</td>\n      <td>19</td>\n    </tr>\n  </tbody>\n</table>\n</div>"
     },
     "metadata": {},
     "execution_count": 66
    }
   ],
   "source": [
    "df1 = big_df.loc[:, ['full_name', 'Task01', 'Task02', 'Task03', 'Task04', 'Task05']]\n",
    "df1\n"
   ]
  },
  {
   "source": [
    "1а. Для колонки, назва якої вибрана з випадаючого списку, отримати<br>\n",
    "рейтинг студентiв.<br>\n",
    "1б. Для колонки, назва якої вибрана з випадаючого списку, побудувати<br>\n",
    "дiаграму результатiв.<br>\n",
    "1в. Для колонки, назва якої вибрана з випадаючого списку, отримати<br>\n",
    "середнє значення результатiв.<br>"
   ],
   "cell_type": "markdown",
   "metadata": {}
  },
  {
   "cell_type": "code",
   "execution_count": 67,
   "metadata": {},
   "outputs": [
    {
     "output_type": "display_data",
     "data": {
      "text/plain": "interactive(children=(Dropdown(description='task', options=('Task01', 'Task02', 'Task03', 'Task04', 'Task05'),…",
      "application/vnd.jupyter.widget-view+json": {
       "version_major": 2,
       "version_minor": 0,
       "model_id": "dc91a5ffea614577ad5be4d46c8df425"
      }
     },
     "metadata": {}
    }
   ],
   "source": [
    "column_list = list(big_df)[2:]\n",
    "\n",
    "def task1(task, plot=False, mid=False):\n",
    "    df11 = big_df.sort_values(by=task, ascending=False)\n",
    "    df11 = df11.loc[:, ['full_name', task]]\n",
    "    display(df11)\n",
    "    if plot:\n",
    "        df11.plot(x='full_name', y=task, kind='bar', title=task, figsize=(10, 5), rot=30, color='#73C6B6');\n",
    "    if mid:\n",
    "        print('Mean value:', df11[task].mean())\n",
    "\n",
    "interact(task1, task=column_list);"
   ]
  },
  {
   "source": [
    "2. Додати до датафрейму колонку ’Total’ iз сумою результатiв.<br>\n",
    "2а. Побудувати дiаграму результатiв для ’Total’.<br>"
   ],
   "cell_type": "markdown",
   "metadata": {}
  },
  {
   "cell_type": "code",
   "execution_count": 68,
   "metadata": {},
   "outputs": [
    {
     "output_type": "display_data",
     "data": {
      "text/plain": "         full_name  Task01  Task02  Task03  Task04  Task05  Total\n0  Camron Gottlieb       8       1       3       1      14     27\n1  Vivian Hartmann       7      17      19       3      16     62\n2    Luciano Adams      19      34      10       5      23     91\n3    Brycen Dooley       9      19      15      18      21     82\n4     Derrick Kris      14      20      13      21      19     87",
      "text/html": "<div>\n<style scoped>\n    .dataframe tbody tr th:only-of-type {\n        vertical-align: middle;\n    }\n\n    .dataframe tbody tr th {\n        vertical-align: top;\n    }\n\n    .dataframe thead th {\n        text-align: right;\n    }\n</style>\n<table border=\"1\" class=\"dataframe\">\n  <thead>\n    <tr style=\"text-align: right;\">\n      <th></th>\n      <th>full_name</th>\n      <th>Task01</th>\n      <th>Task02</th>\n      <th>Task03</th>\n      <th>Task04</th>\n      <th>Task05</th>\n      <th>Total</th>\n    </tr>\n  </thead>\n  <tbody>\n    <tr>\n      <th>0</th>\n      <td>Camron Gottlieb</td>\n      <td>8</td>\n      <td>1</td>\n      <td>3</td>\n      <td>1</td>\n      <td>14</td>\n      <td>27</td>\n    </tr>\n    <tr>\n      <th>1</th>\n      <td>Vivian Hartmann</td>\n      <td>7</td>\n      <td>17</td>\n      <td>19</td>\n      <td>3</td>\n      <td>16</td>\n      <td>62</td>\n    </tr>\n    <tr>\n      <th>2</th>\n      <td>Luciano Adams</td>\n      <td>19</td>\n      <td>34</td>\n      <td>10</td>\n      <td>5</td>\n      <td>23</td>\n      <td>91</td>\n    </tr>\n    <tr>\n      <th>3</th>\n      <td>Brycen Dooley</td>\n      <td>9</td>\n      <td>19</td>\n      <td>15</td>\n      <td>18</td>\n      <td>21</td>\n      <td>82</td>\n    </tr>\n    <tr>\n      <th>4</th>\n      <td>Derrick Kris</td>\n      <td>14</td>\n      <td>20</td>\n      <td>13</td>\n      <td>21</td>\n      <td>19</td>\n      <td>87</td>\n    </tr>\n  </tbody>\n</table>\n</div>"
     },
     "metadata": {}
    },
    {
     "output_type": "display_data",
     "data": {
      "text/plain": "<Figure size 720x360 with 1 Axes>",
      "image/svg+xml": "<?xml version=\"1.0\" encoding=\"utf-8\" standalone=\"no\"?>\n<!DOCTYPE svg PUBLIC \"-//W3C//DTD SVG 1.1//EN\"\n  \"http://www.w3.org/Graphics/SVG/1.1/DTD/svg11.dtd\">\n<!-- Created with matplotlib (https://matplotlib.org/) -->\n<svg height=\"372.634783pt\" version=\"1.1\" viewBox=\"0 0 592.125 372.634783\" width=\"592.125pt\" xmlns=\"http://www.w3.org/2000/svg\" xmlns:xlink=\"http://www.w3.org/1999/xlink\">\n <defs>\n  <style type=\"text/css\">\n*{stroke-linecap:butt;stroke-linejoin:round;}\n  </style>\n </defs>\n <g id=\"figure_1\">\n  <g id=\"patch_1\">\n   <path d=\"M 0 372.634783 \nL 592.125 372.634783 \nL 592.125 -0 \nL 0 -0 \nz\n\" style=\"fill:none;\"/>\n  </g>\n  <g id=\"axes_1\">\n   <g id=\"patch_2\">\n    <path d=\"M 26.925 294.118125 \nL 584.925 294.118125 \nL 584.925 22.318125 \nL 26.925 22.318125 \nz\n\" style=\"fill:#ffffff;\"/>\n   </g>\n   <g id=\"patch_3\">\n    <path clip-path=\"url(#p27200163f4)\" d=\"M 54.825 294.118125 \nL 110.625 294.118125 \nL 110.625 217.314357 \nL 54.825 217.314357 \nz\n\" style=\"fill:#73c6b6;\"/>\n   </g>\n   <g id=\"patch_4\">\n    <path clip-path=\"url(#p27200163f4)\" d=\"M 166.425 294.118125 \nL 222.225 294.118125 \nL 222.225 117.753918 \nL 166.425 117.753918 \nz\n\" style=\"fill:#73c6b6;\"/>\n   </g>\n   <g id=\"patch_5\">\n    <path clip-path=\"url(#p27200163f4)\" d=\"M 278.025 294.118125 \nL 333.825 294.118125 \nL 333.825 35.260982 \nL 278.025 35.260982 \nz\n\" style=\"fill:#73c6b6;\"/>\n   </g>\n   <g id=\"patch_6\">\n    <path clip-path=\"url(#p27200163f4)\" d=\"M 389.625 294.118125 \nL 445.425 294.118125 \nL 445.425 60.862238 \nL 389.625 60.862238 \nz\n\" style=\"fill:#73c6b6;\"/>\n   </g>\n   <g id=\"patch_7\">\n    <path clip-path=\"url(#p27200163f4)\" d=\"M 501.225 294.118125 \nL 557.025 294.118125 \nL 557.025 46.639318 \nL 501.225 46.639318 \nz\n\" style=\"fill:#73c6b6;\"/>\n   </g>\n   <g id=\"matplotlib.axis_1\">\n    <g id=\"xtick_1\">\n     <g id=\"line2d_1\">\n      <defs>\n       <path d=\"M 0 0 \nL 0 3.5 \n\" id=\"m5d25e4ca4b\" style=\"stroke:#000000;stroke-width:0.8;\"/>\n      </defs>\n      <g>\n       <use style=\"stroke:#000000;stroke-width:0.8;\" x=\"82.725\" xlink:href=\"#m5d25e4ca4b\" y=\"294.118125\"/>\n      </g>\n     </g>\n     <g id=\"text_1\">\n      <!-- Camron Gottlieb -->\n      <defs>\n       <path d=\"M 64.40625 67.28125 \nL 64.40625 56.890625 \nQ 59.421875 61.53125 53.78125 63.8125 \nQ 48.140625 66.109375 41.796875 66.109375 \nQ 29.296875 66.109375 22.65625 58.46875 \nQ 16.015625 50.828125 16.015625 36.375 \nQ 16.015625 21.96875 22.65625 14.328125 \nQ 29.296875 6.6875 41.796875 6.6875 \nQ 48.140625 6.6875 53.78125 8.984375 \nQ 59.421875 11.28125 64.40625 15.921875 \nL 64.40625 5.609375 \nQ 59.234375 2.09375 53.4375 0.328125 \nQ 47.65625 -1.421875 41.21875 -1.421875 \nQ 24.65625 -1.421875 15.125 8.703125 \nQ 5.609375 18.84375 5.609375 36.375 \nQ 5.609375 53.953125 15.125 64.078125 \nQ 24.65625 74.21875 41.21875 74.21875 \nQ 47.75 74.21875 53.53125 72.484375 \nQ 59.328125 70.75 64.40625 67.28125 \nz\n\" id=\"DejaVuSans-67\"/>\n       <path d=\"M 34.28125 27.484375 \nQ 23.390625 27.484375 19.1875 25 \nQ 14.984375 22.515625 14.984375 16.5 \nQ 14.984375 11.71875 18.140625 8.90625 \nQ 21.296875 6.109375 26.703125 6.109375 \nQ 34.1875 6.109375 38.703125 11.40625 \nQ 43.21875 16.703125 43.21875 25.484375 \nL 43.21875 27.484375 \nz\nM 52.203125 31.203125 \nL 52.203125 0 \nL 43.21875 0 \nL 43.21875 8.296875 \nQ 40.140625 3.328125 35.546875 0.953125 \nQ 30.953125 -1.421875 24.3125 -1.421875 \nQ 15.921875 -1.421875 10.953125 3.296875 \nQ 6 8.015625 6 15.921875 \nQ 6 25.140625 12.171875 29.828125 \nQ 18.359375 34.515625 30.609375 34.515625 \nL 43.21875 34.515625 \nL 43.21875 35.40625 \nQ 43.21875 41.609375 39.140625 45 \nQ 35.0625 48.390625 27.6875 48.390625 \nQ 23 48.390625 18.546875 47.265625 \nQ 14.109375 46.140625 10.015625 43.890625 \nL 10.015625 52.203125 \nQ 14.9375 54.109375 19.578125 55.046875 \nQ 24.21875 56 28.609375 56 \nQ 40.484375 56 46.34375 49.84375 \nQ 52.203125 43.703125 52.203125 31.203125 \nz\n\" id=\"DejaVuSans-97\"/>\n       <path d=\"M 52 44.1875 \nQ 55.375 50.25 60.0625 53.125 \nQ 64.75 56 71.09375 56 \nQ 79.640625 56 84.28125 50.015625 \nQ 88.921875 44.046875 88.921875 33.015625 \nL 88.921875 0 \nL 79.890625 0 \nL 79.890625 32.71875 \nQ 79.890625 40.578125 77.09375 44.375 \nQ 74.3125 48.1875 68.609375 48.1875 \nQ 61.625 48.1875 57.5625 43.546875 \nQ 53.515625 38.921875 53.515625 30.90625 \nL 53.515625 0 \nL 44.484375 0 \nL 44.484375 32.71875 \nQ 44.484375 40.625 41.703125 44.40625 \nQ 38.921875 48.1875 33.109375 48.1875 \nQ 26.21875 48.1875 22.15625 43.53125 \nQ 18.109375 38.875 18.109375 30.90625 \nL 18.109375 0 \nL 9.078125 0 \nL 9.078125 54.6875 \nL 18.109375 54.6875 \nL 18.109375 46.1875 \nQ 21.1875 51.21875 25.484375 53.609375 \nQ 29.78125 56 35.6875 56 \nQ 41.65625 56 45.828125 52.96875 \nQ 50 49.953125 52 44.1875 \nz\n\" id=\"DejaVuSans-109\"/>\n       <path d=\"M 41.109375 46.296875 \nQ 39.59375 47.171875 37.8125 47.578125 \nQ 36.03125 48 33.890625 48 \nQ 26.265625 48 22.1875 43.046875 \nQ 18.109375 38.09375 18.109375 28.8125 \nL 18.109375 0 \nL 9.078125 0 \nL 9.078125 54.6875 \nL 18.109375 54.6875 \nL 18.109375 46.1875 \nQ 20.953125 51.171875 25.484375 53.578125 \nQ 30.03125 56 36.53125 56 \nQ 37.453125 56 38.578125 55.875 \nQ 39.703125 55.765625 41.0625 55.515625 \nz\n\" id=\"DejaVuSans-114\"/>\n       <path d=\"M 30.609375 48.390625 \nQ 23.390625 48.390625 19.1875 42.75 \nQ 14.984375 37.109375 14.984375 27.296875 \nQ 14.984375 17.484375 19.15625 11.84375 \nQ 23.34375 6.203125 30.609375 6.203125 \nQ 37.796875 6.203125 41.984375 11.859375 \nQ 46.1875 17.53125 46.1875 27.296875 \nQ 46.1875 37.015625 41.984375 42.703125 \nQ 37.796875 48.390625 30.609375 48.390625 \nz\nM 30.609375 56 \nQ 42.328125 56 49.015625 48.375 \nQ 55.71875 40.765625 55.71875 27.296875 \nQ 55.71875 13.875 49.015625 6.21875 \nQ 42.328125 -1.421875 30.609375 -1.421875 \nQ 18.84375 -1.421875 12.171875 6.21875 \nQ 5.515625 13.875 5.515625 27.296875 \nQ 5.515625 40.765625 12.171875 48.375 \nQ 18.84375 56 30.609375 56 \nz\n\" id=\"DejaVuSans-111\"/>\n       <path d=\"M 54.890625 33.015625 \nL 54.890625 0 \nL 45.90625 0 \nL 45.90625 32.71875 \nQ 45.90625 40.484375 42.875 44.328125 \nQ 39.84375 48.1875 33.796875 48.1875 \nQ 26.515625 48.1875 22.3125 43.546875 \nQ 18.109375 38.921875 18.109375 30.90625 \nL 18.109375 0 \nL 9.078125 0 \nL 9.078125 54.6875 \nL 18.109375 54.6875 \nL 18.109375 46.1875 \nQ 21.34375 51.125 25.703125 53.5625 \nQ 30.078125 56 35.796875 56 \nQ 45.21875 56 50.046875 50.171875 \nQ 54.890625 44.34375 54.890625 33.015625 \nz\n\" id=\"DejaVuSans-110\"/>\n       <path id=\"DejaVuSans-32\"/>\n       <path d=\"M 59.515625 10.40625 \nL 59.515625 29.984375 \nL 43.40625 29.984375 \nL 43.40625 38.09375 \nL 69.28125 38.09375 \nL 69.28125 6.78125 \nQ 63.578125 2.734375 56.6875 0.65625 \nQ 49.8125 -1.421875 42 -1.421875 \nQ 24.90625 -1.421875 15.25 8.5625 \nQ 5.609375 18.5625 5.609375 36.375 \nQ 5.609375 54.25 15.25 64.234375 \nQ 24.90625 74.21875 42 74.21875 \nQ 49.125 74.21875 55.546875 72.453125 \nQ 61.96875 70.703125 67.390625 67.28125 \nL 67.390625 56.78125 \nQ 61.921875 61.421875 55.765625 63.765625 \nQ 49.609375 66.109375 42.828125 66.109375 \nQ 29.4375 66.109375 22.71875 58.640625 \nQ 16.015625 51.171875 16.015625 36.375 \nQ 16.015625 21.625 22.71875 14.15625 \nQ 29.4375 6.6875 42.828125 6.6875 \nQ 48.046875 6.6875 52.140625 7.59375 \nQ 56.25 8.5 59.515625 10.40625 \nz\n\" id=\"DejaVuSans-71\"/>\n       <path d=\"M 18.3125 70.21875 \nL 18.3125 54.6875 \nL 36.8125 54.6875 \nL 36.8125 47.703125 \nL 18.3125 47.703125 \nL 18.3125 18.015625 \nQ 18.3125 11.328125 20.140625 9.421875 \nQ 21.96875 7.515625 27.59375 7.515625 \nL 36.8125 7.515625 \nL 36.8125 0 \nL 27.59375 0 \nQ 17.1875 0 13.234375 3.875 \nQ 9.28125 7.765625 9.28125 18.015625 \nL 9.28125 47.703125 \nL 2.6875 47.703125 \nL 2.6875 54.6875 \nL 9.28125 54.6875 \nL 9.28125 70.21875 \nz\n\" id=\"DejaVuSans-116\"/>\n       <path d=\"M 9.421875 75.984375 \nL 18.40625 75.984375 \nL 18.40625 0 \nL 9.421875 0 \nz\n\" id=\"DejaVuSans-108\"/>\n       <path d=\"M 9.421875 54.6875 \nL 18.40625 54.6875 \nL 18.40625 0 \nL 9.421875 0 \nz\nM 9.421875 75.984375 \nL 18.40625 75.984375 \nL 18.40625 64.59375 \nL 9.421875 64.59375 \nz\n\" id=\"DejaVuSans-105\"/>\n       <path d=\"M 56.203125 29.59375 \nL 56.203125 25.203125 \nL 14.890625 25.203125 \nQ 15.484375 15.921875 20.484375 11.0625 \nQ 25.484375 6.203125 34.421875 6.203125 \nQ 39.59375 6.203125 44.453125 7.46875 \nQ 49.3125 8.734375 54.109375 11.28125 \nL 54.109375 2.78125 \nQ 49.265625 0.734375 44.1875 -0.34375 \nQ 39.109375 -1.421875 33.890625 -1.421875 \nQ 20.796875 -1.421875 13.15625 6.1875 \nQ 5.515625 13.8125 5.515625 26.8125 \nQ 5.515625 40.234375 12.765625 48.109375 \nQ 20.015625 56 32.328125 56 \nQ 43.359375 56 49.78125 48.890625 \nQ 56.203125 41.796875 56.203125 29.59375 \nz\nM 47.21875 32.234375 \nQ 47.125 39.59375 43.09375 43.984375 \nQ 39.0625 48.390625 32.421875 48.390625 \nQ 24.90625 48.390625 20.390625 44.140625 \nQ 15.875 39.890625 15.1875 32.171875 \nz\n\" id=\"DejaVuSans-101\"/>\n       <path d=\"M 48.6875 27.296875 \nQ 48.6875 37.203125 44.609375 42.84375 \nQ 40.53125 48.484375 33.40625 48.484375 \nQ 26.265625 48.484375 22.1875 42.84375 \nQ 18.109375 37.203125 18.109375 27.296875 \nQ 18.109375 17.390625 22.1875 11.75 \nQ 26.265625 6.109375 33.40625 6.109375 \nQ 40.53125 6.109375 44.609375 11.75 \nQ 48.6875 17.390625 48.6875 27.296875 \nz\nM 18.109375 46.390625 \nQ 20.953125 51.265625 25.265625 53.625 \nQ 29.59375 56 35.59375 56 \nQ 45.5625 56 51.78125 48.09375 \nQ 58.015625 40.1875 58.015625 27.296875 \nQ 58.015625 14.40625 51.78125 6.484375 \nQ 45.5625 -1.421875 35.59375 -1.421875 \nQ 29.59375 -1.421875 25.265625 0.953125 \nQ 20.953125 3.328125 18.109375 8.203125 \nL 18.109375 0 \nL 9.078125 0 \nL 9.078125 75.984375 \nL 18.109375 75.984375 \nz\n\" id=\"DejaVuSans-98\"/>\n      </defs>\n      <g transform=\"translate(48.538107 348.767315)rotate(-30)scale(0.1 -0.1)\">\n       <use xlink:href=\"#DejaVuSans-67\"/>\n       <use x=\"69.824219\" xlink:href=\"#DejaVuSans-97\"/>\n       <use x=\"131.103516\" xlink:href=\"#DejaVuSans-109\"/>\n       <use x=\"228.515625\" xlink:href=\"#DejaVuSans-114\"/>\n       <use x=\"267.378906\" xlink:href=\"#DejaVuSans-111\"/>\n       <use x=\"328.560547\" xlink:href=\"#DejaVuSans-110\"/>\n       <use x=\"391.939453\" xlink:href=\"#DejaVuSans-32\"/>\n       <use x=\"423.726562\" xlink:href=\"#DejaVuSans-71\"/>\n       <use x=\"501.216797\" xlink:href=\"#DejaVuSans-111\"/>\n       <use x=\"562.398438\" xlink:href=\"#DejaVuSans-116\"/>\n       <use x=\"601.607422\" xlink:href=\"#DejaVuSans-116\"/>\n       <use x=\"640.816406\" xlink:href=\"#DejaVuSans-108\"/>\n       <use x=\"668.599609\" xlink:href=\"#DejaVuSans-105\"/>\n       <use x=\"696.382812\" xlink:href=\"#DejaVuSans-101\"/>\n       <use x=\"757.90625\" xlink:href=\"#DejaVuSans-98\"/>\n      </g>\n     </g>\n    </g>\n    <g id=\"xtick_2\">\n     <g id=\"line2d_2\">\n      <g>\n       <use style=\"stroke:#000000;stroke-width:0.8;\" x=\"194.325\" xlink:href=\"#m5d25e4ca4b\" y=\"294.118125\"/>\n      </g>\n     </g>\n     <g id=\"text_2\">\n      <!-- Vivian Hartmann -->\n      <defs>\n       <path d=\"M 28.609375 0 \nL 0.78125 72.90625 \nL 11.078125 72.90625 \nL 34.1875 11.53125 \nL 57.328125 72.90625 \nL 67.578125 72.90625 \nL 39.796875 0 \nz\n\" id=\"DejaVuSans-86\"/>\n       <path d=\"M 2.984375 54.6875 \nL 12.5 54.6875 \nL 29.59375 8.796875 \nL 46.6875 54.6875 \nL 56.203125 54.6875 \nL 35.6875 0 \nL 23.484375 0 \nz\n\" id=\"DejaVuSans-118\"/>\n       <path d=\"M 9.8125 72.90625 \nL 19.671875 72.90625 \nL 19.671875 43.015625 \nL 55.515625 43.015625 \nL 55.515625 72.90625 \nL 65.375 72.90625 \nL 65.375 0 \nL 55.515625 0 \nL 55.515625 34.71875 \nL 19.671875 34.71875 \nL 19.671875 0 \nL 9.8125 0 \nz\n\" id=\"DejaVuSans-72\"/>\n      </defs>\n      <g transform=\"translate(159.349888 349.677471)rotate(-30)scale(0.1 -0.1)\">\n       <use xlink:href=\"#DejaVuSans-86\"/>\n       <use x=\"66.158203\" xlink:href=\"#DejaVuSans-105\"/>\n       <use x=\"93.941406\" xlink:href=\"#DejaVuSans-118\"/>\n       <use x=\"153.121094\" xlink:href=\"#DejaVuSans-105\"/>\n       <use x=\"180.904297\" xlink:href=\"#DejaVuSans-97\"/>\n       <use x=\"242.183594\" xlink:href=\"#DejaVuSans-110\"/>\n       <use x=\"305.5625\" xlink:href=\"#DejaVuSans-32\"/>\n       <use x=\"337.349609\" xlink:href=\"#DejaVuSans-72\"/>\n       <use x=\"412.544922\" xlink:href=\"#DejaVuSans-97\"/>\n       <use x=\"473.824219\" xlink:href=\"#DejaVuSans-114\"/>\n       <use x=\"514.9375\" xlink:href=\"#DejaVuSans-116\"/>\n       <use x=\"554.146484\" xlink:href=\"#DejaVuSans-109\"/>\n       <use x=\"651.558594\" xlink:href=\"#DejaVuSans-97\"/>\n       <use x=\"712.837891\" xlink:href=\"#DejaVuSans-110\"/>\n       <use x=\"776.216797\" xlink:href=\"#DejaVuSans-110\"/>\n      </g>\n     </g>\n    </g>\n    <g id=\"xtick_3\">\n     <g id=\"line2d_3\">\n      <g>\n       <use style=\"stroke:#000000;stroke-width:0.8;\" x=\"305.925\" xlink:href=\"#m5d25e4ca4b\" y=\"294.118125\"/>\n      </g>\n     </g>\n     <g id=\"text_3\">\n      <!-- Luciano Adams -->\n      <defs>\n       <path d=\"M 9.8125 72.90625 \nL 19.671875 72.90625 \nL 19.671875 8.296875 \nL 55.171875 8.296875 \nL 55.171875 0 \nL 9.8125 0 \nz\n\" id=\"DejaVuSans-76\"/>\n       <path d=\"M 8.5 21.578125 \nL 8.5 54.6875 \nL 17.484375 54.6875 \nL 17.484375 21.921875 \nQ 17.484375 14.15625 20.5 10.265625 \nQ 23.53125 6.390625 29.59375 6.390625 \nQ 36.859375 6.390625 41.078125 11.03125 \nQ 45.3125 15.671875 45.3125 23.6875 \nL 45.3125 54.6875 \nL 54.296875 54.6875 \nL 54.296875 0 \nL 45.3125 0 \nL 45.3125 8.40625 \nQ 42.046875 3.421875 37.71875 1 \nQ 33.40625 -1.421875 27.6875 -1.421875 \nQ 18.265625 -1.421875 13.375 4.4375 \nQ 8.5 10.296875 8.5 21.578125 \nz\nM 31.109375 56 \nz\n\" id=\"DejaVuSans-117\"/>\n       <path d=\"M 48.78125 52.59375 \nL 48.78125 44.1875 \nQ 44.96875 46.296875 41.140625 47.34375 \nQ 37.3125 48.390625 33.40625 48.390625 \nQ 24.65625 48.390625 19.8125 42.84375 \nQ 14.984375 37.3125 14.984375 27.296875 \nQ 14.984375 17.28125 19.8125 11.734375 \nQ 24.65625 6.203125 33.40625 6.203125 \nQ 37.3125 6.203125 41.140625 7.25 \nQ 44.96875 8.296875 48.78125 10.40625 \nL 48.78125 2.09375 \nQ 45.015625 0.34375 40.984375 -0.53125 \nQ 36.96875 -1.421875 32.421875 -1.421875 \nQ 20.0625 -1.421875 12.78125 6.34375 \nQ 5.515625 14.109375 5.515625 27.296875 \nQ 5.515625 40.671875 12.859375 48.328125 \nQ 20.21875 56 33.015625 56 \nQ 37.15625 56 41.109375 55.140625 \nQ 45.0625 54.296875 48.78125 52.59375 \nz\n\" id=\"DejaVuSans-99\"/>\n       <path d=\"M 34.1875 63.1875 \nL 20.796875 26.90625 \nL 47.609375 26.90625 \nz\nM 28.609375 72.90625 \nL 39.796875 72.90625 \nL 67.578125 0 \nL 57.328125 0 \nL 50.6875 18.703125 \nL 17.828125 18.703125 \nL 11.1875 0 \nL 0.78125 0 \nz\n\" id=\"DejaVuSans-65\"/>\n       <path d=\"M 45.40625 46.390625 \nL 45.40625 75.984375 \nL 54.390625 75.984375 \nL 54.390625 0 \nL 45.40625 0 \nL 45.40625 8.203125 \nQ 42.578125 3.328125 38.25 0.953125 \nQ 33.9375 -1.421875 27.875 -1.421875 \nQ 17.96875 -1.421875 11.734375 6.484375 \nQ 5.515625 14.40625 5.515625 27.296875 \nQ 5.515625 40.1875 11.734375 48.09375 \nQ 17.96875 56 27.875 56 \nQ 33.9375 56 38.25 53.625 \nQ 42.578125 51.265625 45.40625 46.390625 \nz\nM 14.796875 27.296875 \nQ 14.796875 17.390625 18.875 11.75 \nQ 22.953125 6.109375 30.078125 6.109375 \nQ 37.203125 6.109375 41.296875 11.75 \nQ 45.40625 17.390625 45.40625 27.296875 \nQ 45.40625 37.203125 41.296875 42.84375 \nQ 37.203125 48.484375 30.078125 48.484375 \nQ 22.953125 48.484375 18.875 42.84375 \nQ 14.796875 37.203125 14.796875 27.296875 \nz\n\" id=\"DejaVuSans-100\"/>\n       <path d=\"M 44.28125 53.078125 \nL 44.28125 44.578125 \nQ 40.484375 46.53125 36.375 47.5 \nQ 32.28125 48.484375 27.875 48.484375 \nQ 21.1875 48.484375 17.84375 46.4375 \nQ 14.5 44.390625 14.5 40.28125 \nQ 14.5 37.15625 16.890625 35.375 \nQ 19.28125 33.59375 26.515625 31.984375 \nL 29.59375 31.296875 \nQ 39.15625 29.25 43.1875 25.515625 \nQ 47.21875 21.78125 47.21875 15.09375 \nQ 47.21875 7.46875 41.1875 3.015625 \nQ 35.15625 -1.421875 24.609375 -1.421875 \nQ 20.21875 -1.421875 15.453125 -0.5625 \nQ 10.6875 0.296875 5.421875 2 \nL 5.421875 11.28125 \nQ 10.40625 8.6875 15.234375 7.390625 \nQ 20.0625 6.109375 24.8125 6.109375 \nQ 31.15625 6.109375 34.5625 8.28125 \nQ 37.984375 10.453125 37.984375 14.40625 \nQ 37.984375 18.0625 35.515625 20.015625 \nQ 33.0625 21.96875 24.703125 23.78125 \nL 21.578125 24.515625 \nQ 13.234375 26.265625 9.515625 29.90625 \nQ 5.8125 33.546875 5.8125 39.890625 \nQ 5.8125 47.609375 11.28125 51.796875 \nQ 16.75 56 26.8125 56 \nQ 31.78125 56 36.171875 55.265625 \nQ 40.578125 54.546875 44.28125 53.078125 \nz\n\" id=\"DejaVuSans-115\"/>\n      </defs>\n      <g transform=\"translate(274.453908 345.631377)rotate(-30)scale(0.1 -0.1)\">\n       <use xlink:href=\"#DejaVuSans-76\"/>\n       <use x=\"53.962891\" xlink:href=\"#DejaVuSans-117\"/>\n       <use x=\"117.341797\" xlink:href=\"#DejaVuSans-99\"/>\n       <use x=\"172.322266\" xlink:href=\"#DejaVuSans-105\"/>\n       <use x=\"200.105469\" xlink:href=\"#DejaVuSans-97\"/>\n       <use x=\"261.384766\" xlink:href=\"#DejaVuSans-110\"/>\n       <use x=\"324.763672\" xlink:href=\"#DejaVuSans-111\"/>\n       <use x=\"385.945312\" xlink:href=\"#DejaVuSans-32\"/>\n       <use x=\"417.732422\" xlink:href=\"#DejaVuSans-65\"/>\n       <use x=\"484.390625\" xlink:href=\"#DejaVuSans-100\"/>\n       <use x=\"547.867188\" xlink:href=\"#DejaVuSans-97\"/>\n       <use x=\"609.146484\" xlink:href=\"#DejaVuSans-109\"/>\n       <use x=\"706.558594\" xlink:href=\"#DejaVuSans-115\"/>\n      </g>\n     </g>\n    </g>\n    <g id=\"xtick_4\">\n     <g id=\"line2d_4\">\n      <g>\n       <use style=\"stroke:#000000;stroke-width:0.8;\" x=\"417.525\" xlink:href=\"#m5d25e4ca4b\" y=\"294.118125\"/>\n      </g>\n     </g>\n     <g id=\"text_4\">\n      <!-- Brycen Dooley -->\n      <defs>\n       <path d=\"M 19.671875 34.8125 \nL 19.671875 8.109375 \nL 35.5 8.109375 \nQ 43.453125 8.109375 47.28125 11.40625 \nQ 51.125 14.703125 51.125 21.484375 \nQ 51.125 28.328125 47.28125 31.5625 \nQ 43.453125 34.8125 35.5 34.8125 \nz\nM 19.671875 64.796875 \nL 19.671875 42.828125 \nL 34.28125 42.828125 \nQ 41.5 42.828125 45.03125 45.53125 \nQ 48.578125 48.25 48.578125 53.8125 \nQ 48.578125 59.328125 45.03125 62.0625 \nQ 41.5 64.796875 34.28125 64.796875 \nz\nM 9.8125 72.90625 \nL 35.015625 72.90625 \nQ 46.296875 72.90625 52.390625 68.21875 \nQ 58.5 63.53125 58.5 54.890625 \nQ 58.5 48.1875 55.375 44.234375 \nQ 52.25 40.28125 46.1875 39.3125 \nQ 53.46875 37.75 57.5 32.78125 \nQ 61.53125 27.828125 61.53125 20.40625 \nQ 61.53125 10.640625 54.890625 5.3125 \nQ 48.25 0 35.984375 0 \nL 9.8125 0 \nz\n\" id=\"DejaVuSans-66\"/>\n       <path d=\"M 32.171875 -5.078125 \nQ 28.375 -14.84375 24.75 -17.8125 \nQ 21.140625 -20.796875 15.09375 -20.796875 \nL 7.90625 -20.796875 \nL 7.90625 -13.28125 \nL 13.1875 -13.28125 \nQ 16.890625 -13.28125 18.9375 -11.515625 \nQ 21 -9.765625 23.484375 -3.21875 \nL 25.09375 0.875 \nL 2.984375 54.6875 \nL 12.5 54.6875 \nL 29.59375 11.921875 \nL 46.6875 54.6875 \nL 56.203125 54.6875 \nz\n\" id=\"DejaVuSans-121\"/>\n       <path d=\"M 19.671875 64.796875 \nL 19.671875 8.109375 \nL 31.59375 8.109375 \nQ 46.6875 8.109375 53.6875 14.9375 \nQ 60.6875 21.78125 60.6875 36.53125 \nQ 60.6875 51.171875 53.6875 57.984375 \nQ 46.6875 64.796875 31.59375 64.796875 \nz\nM 9.8125 72.90625 \nL 30.078125 72.90625 \nQ 51.265625 72.90625 61.171875 64.09375 \nQ 71.09375 55.28125 71.09375 36.53125 \nQ 71.09375 17.671875 61.125 8.828125 \nQ 51.171875 0 30.078125 0 \nL 9.8125 0 \nz\n\" id=\"DejaVuSans-68\"/>\n      </defs>\n      <g transform=\"translate(387.361742 344.121221)rotate(-30)scale(0.1 -0.1)\">\n       <use xlink:href=\"#DejaVuSans-66\"/>\n       <use x=\"68.603516\" xlink:href=\"#DejaVuSans-114\"/>\n       <use x=\"109.716797\" xlink:href=\"#DejaVuSans-121\"/>\n       <use x=\"168.896484\" xlink:href=\"#DejaVuSans-99\"/>\n       <use x=\"223.876953\" xlink:href=\"#DejaVuSans-101\"/>\n       <use x=\"285.400391\" xlink:href=\"#DejaVuSans-110\"/>\n       <use x=\"348.779297\" xlink:href=\"#DejaVuSans-32\"/>\n       <use x=\"380.566406\" xlink:href=\"#DejaVuSans-68\"/>\n       <use x=\"457.568359\" xlink:href=\"#DejaVuSans-111\"/>\n       <use x=\"518.75\" xlink:href=\"#DejaVuSans-111\"/>\n       <use x=\"579.931641\" xlink:href=\"#DejaVuSans-108\"/>\n       <use x=\"607.714844\" xlink:href=\"#DejaVuSans-101\"/>\n       <use x=\"669.238281\" xlink:href=\"#DejaVuSans-121\"/>\n      </g>\n     </g>\n    </g>\n    <g id=\"xtick_5\">\n     <g id=\"line2d_5\">\n      <g>\n       <use style=\"stroke:#000000;stroke-width:0.8;\" x=\"529.125\" xlink:href=\"#m5d25e4ca4b\" y=\"294.118125\"/>\n      </g>\n     </g>\n     <g id=\"text_5\">\n      <!-- Derrick Kris -->\n      <defs>\n       <path d=\"M 9.078125 75.984375 \nL 18.109375 75.984375 \nL 18.109375 31.109375 \nL 44.921875 54.6875 \nL 56.390625 54.6875 \nL 27.390625 29.109375 \nL 57.625 0 \nL 45.90625 0 \nL 18.109375 26.703125 \nL 18.109375 0 \nL 9.078125 0 \nz\n\" id=\"DejaVuSans-107\"/>\n       <path d=\"M 9.8125 72.90625 \nL 19.671875 72.90625 \nL 19.671875 42.09375 \nL 52.390625 72.90625 \nL 65.09375 72.90625 \nL 28.90625 38.921875 \nL 67.671875 0 \nL 54.6875 0 \nL 19.671875 35.109375 \nL 19.671875 0 \nL 9.8125 0 \nz\n\" id=\"DejaVuSans-75\"/>\n      </defs>\n      <g transform=\"translate(505.475877 336.599346)rotate(-30)scale(0.1 -0.1)\">\n       <use xlink:href=\"#DejaVuSans-68\"/>\n       <use x=\"77.001953\" xlink:href=\"#DejaVuSans-101\"/>\n       <use x=\"138.525391\" xlink:href=\"#DejaVuSans-114\"/>\n       <use x=\"177.888672\" xlink:href=\"#DejaVuSans-114\"/>\n       <use x=\"219.001953\" xlink:href=\"#DejaVuSans-105\"/>\n       <use x=\"246.785156\" xlink:href=\"#DejaVuSans-99\"/>\n       <use x=\"301.765625\" xlink:href=\"#DejaVuSans-107\"/>\n       <use x=\"359.675781\" xlink:href=\"#DejaVuSans-32\"/>\n       <use x=\"391.462891\" xlink:href=\"#DejaVuSans-75\"/>\n       <use x=\"457.039062\" xlink:href=\"#DejaVuSans-114\"/>\n       <use x=\"498.152344\" xlink:href=\"#DejaVuSans-105\"/>\n       <use x=\"525.935547\" xlink:href=\"#DejaVuSans-115\"/>\n      </g>\n     </g>\n    </g>\n    <g id=\"text_6\">\n     <!-- full_name -->\n     <defs>\n      <path d=\"M 37.109375 75.984375 \nL 37.109375 68.5 \nL 28.515625 68.5 \nQ 23.6875 68.5 21.796875 66.546875 \nQ 19.921875 64.59375 19.921875 59.515625 \nL 19.921875 54.6875 \nL 34.71875 54.6875 \nL 34.71875 47.703125 \nL 19.921875 47.703125 \nL 19.921875 0 \nL 10.890625 0 \nL 10.890625 47.703125 \nL 2.296875 47.703125 \nL 2.296875 54.6875 \nL 10.890625 54.6875 \nL 10.890625 58.5 \nQ 10.890625 67.625 15.140625 71.796875 \nQ 19.390625 75.984375 28.609375 75.984375 \nz\n\" id=\"DejaVuSans-102\"/>\n      <path d=\"M 50.984375 -16.609375 \nL 50.984375 -23.578125 \nL -0.984375 -23.578125 \nL -0.984375 -16.609375 \nz\n\" id=\"DejaVuSans-95\"/>\n     </defs>\n     <g transform=\"translate(281.538281 363.076971)scale(0.1 -0.1)\">\n      <use xlink:href=\"#DejaVuSans-102\"/>\n      <use x=\"35.205078\" xlink:href=\"#DejaVuSans-117\"/>\n      <use x=\"98.583984\" xlink:href=\"#DejaVuSans-108\"/>\n      <use x=\"126.367188\" xlink:href=\"#DejaVuSans-108\"/>\n      <use x=\"154.150391\" xlink:href=\"#DejaVuSans-95\"/>\n      <use x=\"204.150391\" xlink:href=\"#DejaVuSans-110\"/>\n      <use x=\"267.529297\" xlink:href=\"#DejaVuSans-97\"/>\n      <use x=\"328.808594\" xlink:href=\"#DejaVuSans-109\"/>\n      <use x=\"426.220703\" xlink:href=\"#DejaVuSans-101\"/>\n     </g>\n    </g>\n   </g>\n   <g id=\"matplotlib.axis_2\">\n    <g id=\"ytick_1\">\n     <g id=\"line2d_6\">\n      <defs>\n       <path d=\"M 0 0 \nL -3.5 0 \n\" id=\"mdd73848c2c\" style=\"stroke:#000000;stroke-width:0.8;\"/>\n      </defs>\n      <g>\n       <use style=\"stroke:#000000;stroke-width:0.8;\" x=\"26.925\" xlink:href=\"#mdd73848c2c\" y=\"294.118125\"/>\n      </g>\n     </g>\n     <g id=\"text_7\">\n      <!-- 0 -->\n      <defs>\n       <path d=\"M 31.78125 66.40625 \nQ 24.171875 66.40625 20.328125 58.90625 \nQ 16.5 51.421875 16.5 36.375 \nQ 16.5 21.390625 20.328125 13.890625 \nQ 24.171875 6.390625 31.78125 6.390625 \nQ 39.453125 6.390625 43.28125 13.890625 \nQ 47.125 21.390625 47.125 36.375 \nQ 47.125 51.421875 43.28125 58.90625 \nQ 39.453125 66.40625 31.78125 66.40625 \nz\nM 31.78125 74.21875 \nQ 44.046875 74.21875 50.515625 64.515625 \nQ 56.984375 54.828125 56.984375 36.375 \nQ 56.984375 17.96875 50.515625 8.265625 \nQ 44.046875 -1.421875 31.78125 -1.421875 \nQ 19.53125 -1.421875 13.0625 8.265625 \nQ 6.59375 17.96875 6.59375 36.375 \nQ 6.59375 54.828125 13.0625 64.515625 \nQ 19.53125 74.21875 31.78125 74.21875 \nz\n\" id=\"DejaVuSans-48\"/>\n      </defs>\n      <g transform=\"translate(13.5625 297.917344)scale(0.1 -0.1)\">\n       <use xlink:href=\"#DejaVuSans-48\"/>\n      </g>\n     </g>\n    </g>\n    <g id=\"ytick_2\">\n     <g id=\"line2d_7\">\n      <g>\n       <use style=\"stroke:#000000;stroke-width:0.8;\" x=\"26.925\" xlink:href=\"#mdd73848c2c\" y=\"237.226445\"/>\n      </g>\n     </g>\n     <g id=\"text_8\">\n      <!-- 20 -->\n      <defs>\n       <path d=\"M 19.1875 8.296875 \nL 53.609375 8.296875 \nL 53.609375 0 \nL 7.328125 0 \nL 7.328125 8.296875 \nQ 12.9375 14.109375 22.625 23.890625 \nQ 32.328125 33.6875 34.8125 36.53125 \nQ 39.546875 41.84375 41.421875 45.53125 \nQ 43.3125 49.21875 43.3125 52.78125 \nQ 43.3125 58.59375 39.234375 62.25 \nQ 35.15625 65.921875 28.609375 65.921875 \nQ 23.96875 65.921875 18.8125 64.3125 \nQ 13.671875 62.703125 7.8125 59.421875 \nL 7.8125 69.390625 \nQ 13.765625 71.78125 18.9375 73 \nQ 24.125 74.21875 28.421875 74.21875 \nQ 39.75 74.21875 46.484375 68.546875 \nQ 53.21875 62.890625 53.21875 53.421875 \nQ 53.21875 48.921875 51.53125 44.890625 \nQ 49.859375 40.875 45.40625 35.40625 \nQ 44.1875 33.984375 37.640625 27.21875 \nQ 31.109375 20.453125 19.1875 8.296875 \nz\n\" id=\"DejaVuSans-50\"/>\n      </defs>\n      <g transform=\"translate(7.2 241.025664)scale(0.1 -0.1)\">\n       <use xlink:href=\"#DejaVuSans-50\"/>\n       <use x=\"63.623047\" xlink:href=\"#DejaVuSans-48\"/>\n      </g>\n     </g>\n    </g>\n    <g id=\"ytick_3\">\n     <g id=\"line2d_8\">\n      <g>\n       <use style=\"stroke:#000000;stroke-width:0.8;\" x=\"26.925\" xlink:href=\"#mdd73848c2c\" y=\"180.334766\"/>\n      </g>\n     </g>\n     <g id=\"text_9\">\n      <!-- 40 -->\n      <defs>\n       <path d=\"M 37.796875 64.3125 \nL 12.890625 25.390625 \nL 37.796875 25.390625 \nz\nM 35.203125 72.90625 \nL 47.609375 72.90625 \nL 47.609375 25.390625 \nL 58.015625 25.390625 \nL 58.015625 17.1875 \nL 47.609375 17.1875 \nL 47.609375 0 \nL 37.796875 0 \nL 37.796875 17.1875 \nL 4.890625 17.1875 \nL 4.890625 26.703125 \nz\n\" id=\"DejaVuSans-52\"/>\n      </defs>\n      <g transform=\"translate(7.2 184.133984)scale(0.1 -0.1)\">\n       <use xlink:href=\"#DejaVuSans-52\"/>\n       <use x=\"63.623047\" xlink:href=\"#DejaVuSans-48\"/>\n      </g>\n     </g>\n    </g>\n    <g id=\"ytick_4\">\n     <g id=\"line2d_9\">\n      <g>\n       <use style=\"stroke:#000000;stroke-width:0.8;\" x=\"26.925\" xlink:href=\"#mdd73848c2c\" y=\"123.443086\"/>\n      </g>\n     </g>\n     <g id=\"text_10\">\n      <!-- 60 -->\n      <defs>\n       <path d=\"M 33.015625 40.375 \nQ 26.375 40.375 22.484375 35.828125 \nQ 18.609375 31.296875 18.609375 23.390625 \nQ 18.609375 15.53125 22.484375 10.953125 \nQ 26.375 6.390625 33.015625 6.390625 \nQ 39.65625 6.390625 43.53125 10.953125 \nQ 47.40625 15.53125 47.40625 23.390625 \nQ 47.40625 31.296875 43.53125 35.828125 \nQ 39.65625 40.375 33.015625 40.375 \nz\nM 52.59375 71.296875 \nL 52.59375 62.3125 \nQ 48.875 64.0625 45.09375 64.984375 \nQ 41.3125 65.921875 37.59375 65.921875 \nQ 27.828125 65.921875 22.671875 59.328125 \nQ 17.53125 52.734375 16.796875 39.40625 \nQ 19.671875 43.65625 24.015625 45.921875 \nQ 28.375 48.1875 33.59375 48.1875 \nQ 44.578125 48.1875 50.953125 41.515625 \nQ 57.328125 34.859375 57.328125 23.390625 \nQ 57.328125 12.15625 50.6875 5.359375 \nQ 44.046875 -1.421875 33.015625 -1.421875 \nQ 20.359375 -1.421875 13.671875 8.265625 \nQ 6.984375 17.96875 6.984375 36.375 \nQ 6.984375 53.65625 15.1875 63.9375 \nQ 23.390625 74.21875 37.203125 74.21875 \nQ 40.921875 74.21875 44.703125 73.484375 \nQ 48.484375 72.75 52.59375 71.296875 \nz\n\" id=\"DejaVuSans-54\"/>\n      </defs>\n      <g transform=\"translate(7.2 127.242305)scale(0.1 -0.1)\">\n       <use xlink:href=\"#DejaVuSans-54\"/>\n       <use x=\"63.623047\" xlink:href=\"#DejaVuSans-48\"/>\n      </g>\n     </g>\n    </g>\n    <g id=\"ytick_5\">\n     <g id=\"line2d_10\">\n      <g>\n       <use style=\"stroke:#000000;stroke-width:0.8;\" x=\"26.925\" xlink:href=\"#mdd73848c2c\" y=\"66.551406\"/>\n      </g>\n     </g>\n     <g id=\"text_11\">\n      <!-- 80 -->\n      <defs>\n       <path d=\"M 31.78125 34.625 \nQ 24.75 34.625 20.71875 30.859375 \nQ 16.703125 27.09375 16.703125 20.515625 \nQ 16.703125 13.921875 20.71875 10.15625 \nQ 24.75 6.390625 31.78125 6.390625 \nQ 38.8125 6.390625 42.859375 10.171875 \nQ 46.921875 13.96875 46.921875 20.515625 \nQ 46.921875 27.09375 42.890625 30.859375 \nQ 38.875 34.625 31.78125 34.625 \nz\nM 21.921875 38.8125 \nQ 15.578125 40.375 12.03125 44.71875 \nQ 8.5 49.078125 8.5 55.328125 \nQ 8.5 64.0625 14.71875 69.140625 \nQ 20.953125 74.21875 31.78125 74.21875 \nQ 42.671875 74.21875 48.875 69.140625 \nQ 55.078125 64.0625 55.078125 55.328125 \nQ 55.078125 49.078125 51.53125 44.71875 \nQ 48 40.375 41.703125 38.8125 \nQ 48.828125 37.15625 52.796875 32.3125 \nQ 56.78125 27.484375 56.78125 20.515625 \nQ 56.78125 9.90625 50.3125 4.234375 \nQ 43.84375 -1.421875 31.78125 -1.421875 \nQ 19.734375 -1.421875 13.25 4.234375 \nQ 6.78125 9.90625 6.78125 20.515625 \nQ 6.78125 27.484375 10.78125 32.3125 \nQ 14.796875 37.15625 21.921875 38.8125 \nz\nM 18.3125 54.390625 \nQ 18.3125 48.734375 21.84375 45.5625 \nQ 25.390625 42.390625 31.78125 42.390625 \nQ 38.140625 42.390625 41.71875 45.5625 \nQ 45.3125 48.734375 45.3125 54.390625 \nQ 45.3125 60.0625 41.71875 63.234375 \nQ 38.140625 66.40625 31.78125 66.40625 \nQ 25.390625 66.40625 21.84375 63.234375 \nQ 18.3125 60.0625 18.3125 54.390625 \nz\n\" id=\"DejaVuSans-56\"/>\n      </defs>\n      <g transform=\"translate(7.2 70.350625)scale(0.1 -0.1)\">\n       <use xlink:href=\"#DejaVuSans-56\"/>\n       <use x=\"63.623047\" xlink:href=\"#DejaVuSans-48\"/>\n      </g>\n     </g>\n    </g>\n   </g>\n   <g id=\"patch_8\">\n    <path d=\"M 26.925 294.118125 \nL 26.925 22.318125 \n\" style=\"fill:none;stroke:#000000;stroke-linecap:square;stroke-linejoin:miter;stroke-width:0.8;\"/>\n   </g>\n   <g id=\"patch_9\">\n    <path d=\"M 584.925 294.118125 \nL 584.925 22.318125 \n\" style=\"fill:none;stroke:#000000;stroke-linecap:square;stroke-linejoin:miter;stroke-width:0.8;\"/>\n   </g>\n   <g id=\"patch_10\">\n    <path d=\"M 26.925 294.118125 \nL 584.925 294.118125 \n\" style=\"fill:none;stroke:#000000;stroke-linecap:square;stroke-linejoin:miter;stroke-width:0.8;\"/>\n   </g>\n   <g id=\"patch_11\">\n    <path d=\"M 26.925 22.318125 \nL 584.925 22.318125 \n\" style=\"fill:none;stroke:#000000;stroke-linecap:square;stroke-linejoin:miter;stroke-width:0.8;\"/>\n   </g>\n   <g id=\"text_12\">\n    <!-- Total diagram -->\n    <defs>\n     <path d=\"M -0.296875 72.90625 \nL 61.375 72.90625 \nL 61.375 64.59375 \nL 35.5 64.59375 \nL 35.5 0 \nL 25.59375 0 \nL 25.59375 64.59375 \nL -0.296875 64.59375 \nz\n\" id=\"DejaVuSans-84\"/>\n     <path d=\"M 45.40625 27.984375 \nQ 45.40625 37.75 41.375 43.109375 \nQ 37.359375 48.484375 30.078125 48.484375 \nQ 22.859375 48.484375 18.828125 43.109375 \nQ 14.796875 37.75 14.796875 27.984375 \nQ 14.796875 18.265625 18.828125 12.890625 \nQ 22.859375 7.515625 30.078125 7.515625 \nQ 37.359375 7.515625 41.375 12.890625 \nQ 45.40625 18.265625 45.40625 27.984375 \nz\nM 54.390625 6.78125 \nQ 54.390625 -7.171875 48.1875 -13.984375 \nQ 42 -20.796875 29.203125 -20.796875 \nQ 24.46875 -20.796875 20.265625 -20.09375 \nQ 16.0625 -19.390625 12.109375 -17.921875 \nL 12.109375 -9.1875 \nQ 16.0625 -11.328125 19.921875 -12.34375 \nQ 23.78125 -13.375 27.78125 -13.375 \nQ 36.625 -13.375 41.015625 -8.765625 \nQ 45.40625 -4.15625 45.40625 5.171875 \nL 45.40625 9.625 \nQ 42.625 4.78125 38.28125 2.390625 \nQ 33.9375 0 27.875 0 \nQ 17.828125 0 11.671875 7.65625 \nQ 5.515625 15.328125 5.515625 27.984375 \nQ 5.515625 40.671875 11.671875 48.328125 \nQ 17.828125 56 27.875 56 \nQ 33.9375 56 38.28125 53.609375 \nQ 42.625 51.21875 45.40625 46.390625 \nL 45.40625 54.6875 \nL 54.390625 54.6875 \nz\n\" id=\"DejaVuSans-103\"/>\n    </defs>\n    <g transform=\"translate(265.056563 16.318125)scale(0.12 -0.12)\">\n     <use xlink:href=\"#DejaVuSans-84\"/>\n     <use x=\"44.083984\" xlink:href=\"#DejaVuSans-111\"/>\n     <use x=\"105.265625\" xlink:href=\"#DejaVuSans-116\"/>\n     <use x=\"144.474609\" xlink:href=\"#DejaVuSans-97\"/>\n     <use x=\"205.753906\" xlink:href=\"#DejaVuSans-108\"/>\n     <use x=\"233.537109\" xlink:href=\"#DejaVuSans-32\"/>\n     <use x=\"265.324219\" xlink:href=\"#DejaVuSans-100\"/>\n     <use x=\"328.800781\" xlink:href=\"#DejaVuSans-105\"/>\n     <use x=\"356.583984\" xlink:href=\"#DejaVuSans-97\"/>\n     <use x=\"417.863281\" xlink:href=\"#DejaVuSans-103\"/>\n     <use x=\"481.339844\" xlink:href=\"#DejaVuSans-114\"/>\n     <use x=\"522.453125\" xlink:href=\"#DejaVuSans-97\"/>\n     <use x=\"583.732422\" xlink:href=\"#DejaVuSans-109\"/>\n    </g>\n   </g>\n   <g id=\"legend_1\">\n    <g id=\"patch_12\">\n     <path d=\"M 522.571875 44.99625 \nL 577.925 44.99625 \nQ 579.925 44.99625 579.925 42.99625 \nL 579.925 29.318125 \nQ 579.925 27.318125 577.925 27.318125 \nL 522.571875 27.318125 \nQ 520.571875 27.318125 520.571875 29.318125 \nL 520.571875 42.99625 \nQ 520.571875 44.99625 522.571875 44.99625 \nz\n\" style=\"fill:#ffffff;opacity:0.8;stroke:#cccccc;stroke-linejoin:miter;\"/>\n    </g>\n    <g id=\"patch_13\">\n     <path d=\"M 524.571875 38.916562 \nL 544.571875 38.916562 \nL 544.571875 31.916562 \nL 524.571875 31.916562 \nz\n\" style=\"fill:#73c6b6;\"/>\n    </g>\n    <g id=\"text_13\">\n     <!-- Total -->\n     <g transform=\"translate(552.571875 38.916562)scale(0.1 -0.1)\">\n      <use xlink:href=\"#DejaVuSans-84\"/>\n      <use x=\"44.083984\" xlink:href=\"#DejaVuSans-111\"/>\n      <use x=\"105.265625\" xlink:href=\"#DejaVuSans-116\"/>\n      <use x=\"144.474609\" xlink:href=\"#DejaVuSans-97\"/>\n      <use x=\"205.753906\" xlink:href=\"#DejaVuSans-108\"/>\n     </g>\n    </g>\n   </g>\n  </g>\n </g>\n <defs>\n  <clipPath id=\"p27200163f4\">\n   <rect height=\"271.8\" width=\"558\" x=\"26.925\" y=\"22.318125\"/>\n  </clipPath>\n </defs>\n</svg>\n",
      "image/png": "[encoded data removed]"
     },
     "metadata": {
      "needs_background": "light"
     }
    }
   ],
   "source": [
    "df1[\"Total\"] = df1[column_list].sum(axis=1)\n",
    "display(df1)\n",
    "df1.plot(x='full_name', y=\"Total\", kind='bar', title=\"Total diagram\", figsize=(10, 5), rot=30, color='#73C6B6');"
   ]
  },
  {
   "source": [
    "3. Вважаючи, що максимально можливий результат в ’Total’ 100 балiв,<br>\n",
    "додати колонку з оцiнками у болонськiй системi.<br>"
   ],
   "cell_type": "markdown",
   "metadata": {}
  },
  {
   "cell_type": "code",
   "execution_count": 69,
   "metadata": {},
   "outputs": [
    {
     "output_type": "execute_result",
     "data": {
      "text/plain": [
       "         full_name  Task01  Task02  Task03  Task04  Task05  Total Bologne\n",
       "0  Camron Gottlieb       8       1       3       1      14     27       F\n",
       "1  Vivian Hartmann       7      17      19       3      16     62       D\n",
       "2    Luciano Adams      19      34      10       5      23     91       A\n",
       "3    Brycen Dooley       9      19      15      18      21     82       B\n",
       "4     Derrick Kris      14      20      13      21      19     87       B"
      ],
      "text/html": "<div>\n<style scoped>\n    .dataframe tbody tr th:only-of-type {\n        vertical-align: middle;\n    }\n\n    .dataframe tbody tr th {\n        vertical-align: top;\n    }\n\n    .dataframe thead th {\n        text-align: right;\n    }\n</style>\n<table border=\"1\" class=\"dataframe\">\n  <thead>\n    <tr style=\"text-align: right;\">\n      <th></th>\n      <th>full_name</th>\n      <th>Task01</th>\n      <th>Task02</th>\n      <th>Task03</th>\n      <th>Task04</th>\n      <th>Task05</th>\n      <th>Total</th>\n      <th>Bologne</th>\n    </tr>\n  </thead>\n  <tbody>\n    <tr>\n      <th>0</th>\n      <td>Camron Gottlieb</td>\n      <td>8</td>\n      <td>1</td>\n      <td>3</td>\n      <td>1</td>\n      <td>14</td>\n      <td>27</td>\n      <td>F</td>\n    </tr>\n    <tr>\n      <th>1</th>\n      <td>Vivian Hartmann</td>\n      <td>7</td>\n      <td>17</td>\n      <td>19</td>\n      <td>3</td>\n      <td>16</td>\n      <td>62</td>\n      <td>D</td>\n    </tr>\n    <tr>\n      <th>2</th>\n      <td>Luciano Adams</td>\n      <td>19</td>\n      <td>34</td>\n      <td>10</td>\n      <td>5</td>\n      <td>23</td>\n      <td>91</td>\n      <td>A</td>\n    </tr>\n    <tr>\n      <th>3</th>\n      <td>Brycen Dooley</td>\n      <td>9</td>\n      <td>19</td>\n      <td>15</td>\n      <td>18</td>\n      <td>21</td>\n      <td>82</td>\n      <td>B</td>\n    </tr>\n    <tr>\n      <th>4</th>\n      <td>Derrick Kris</td>\n      <td>14</td>\n      <td>20</td>\n      <td>13</td>\n      <td>21</td>\n      <td>19</td>\n      <td>87</td>\n      <td>B</td>\n    </tr>\n  </tbody>\n</table>\n</div>"
     },
     "metadata": {},
     "execution_count": 69
    }
   ],
   "source": [
    "def bolon(i):\n",
    "    if i < 51:\n",
    "        return 'F'\n",
    "    elif i >= 51 and i < 61:\n",
    "        return 'E'\n",
    "    elif i >= 61 and i < 71:\n",
    "        return 'D'\n",
    "    elif i >= 71 and i < 81:\n",
    "        return 'C'\n",
    "    elif i >= 81 and i < 90:\n",
    "        return 'B'\n",
    "    elif i >= 90:\n",
    "        return 'A'\n",
    "        \n",
    "df1['Bologne'] = df1.apply(lambda x: bolon(x['Total']), axis=1)\n",
    "df1"
   ]
  },
  {
   "source": [
    "4. Отримати список студентiв iз заданою з вiджета оцiнкою, впорядко-<br>\n",
    "ваний за балами.<br>"
   ],
   "cell_type": "markdown",
   "metadata": {}
  },
  {
   "cell_type": "code",
   "execution_count": 70,
   "metadata": {},
   "outputs": [
    {
     "output_type": "display_data",
     "data": {
      "text/plain": "interactive(children=(Dropdown(description='bolon', options=('A', 'B', 'C', 'D', 'E', 'F'), value='A'), Output…",
      "application/vnd.jupyter.widget-view+json": {
       "version_major": 2,
       "version_minor": 0,
       "model_id": "cb8656bde627489c8fff590dfa6ec170"
      }
     },
     "metadata": {}
    }
   ],
   "source": [
    "def task4(bolon):\n",
    "    df4 = df1[df1[\"Bologne\"] == bolon]\n",
    "    if df4.empty:\n",
    "        print('DataFrame is empty!')\n",
    "    else:\n",
    "        df4 = df4.sort_values(\"Total\", ascending=False)\n",
    "        df4 = df4.loc[:, ['full_name', \"Total\"]]\n",
    "        display(df4)\n",
    "\n",
    "interact(task4, bolon=[\"A\", \"B\", \"C\", \"D\", \"E\", \"F\"]);"
   ]
  },
  {
   "source": [
    "5. Для студента, прiзвище та iм’я якого вибрано з випадаючого списку,<br>\n",
    "отримати найменший та найбiльший поточний результати i назви вiдповiд-<br>\n",
    "них завдань.<br>"
   ],
   "cell_type": "markdown",
   "metadata": {}
  },
  {
   "cell_type": "code",
   "execution_count": 71,
   "metadata": {},
   "outputs": [
    {
     "output_type": "display_data",
     "data": {
      "text/plain": "interactive(children=(Dropdown(description='full_name', options=('Camron Gottlieb', 'Vivian Hartmann', 'Lucian…",
      "application/vnd.jupyter.widget-view+json": {
       "version_major": 2,
       "version_minor": 0,
       "model_id": "3738d8d27615405aab86c6eb747d4b08"
      }
     },
     "metadata": {}
    }
   ],
   "source": [
    "def task5(full_name):\n",
    "    df5 = df1[df1['full_name'] == full_name]\n",
    "    maximum_task = df5[column_list].idxmax(axis=1).item()\n",
    "    minimum_task = df5[column_list].idxmin(axis=1).item()\n",
    "    print('Maximum result was on Task:', maximum_task, 'and result was', df5[maximum_task].item())\n",
    "    print('Minimum result was on Task:', minimum_task, 'and result was', df5[minimum_task].item())\n",
    "\n",
    "interact(task5, full_name=list(students['full_name']));"
   ]
  },
  {
   "source": [
    "# Withoun Pandas"
   ],
   "cell_type": "markdown",
   "metadata": {}
  },
  {
   "cell_type": "code",
   "execution_count": 72,
   "metadata": {},
   "outputs": [],
   "source": [
    "class Validation:\n",
    "    \"\"\"Class for Validation representation.\"\"\"\n",
    "\n",
    "    @staticmethod\n",
    "    def validateStr(func):\n",
    "        def validateStrWrapper(w, value):\n",
    "            if not(isinstance(value, str)):\n",
    "                raise TypeError('must be an str')\n",
    "            return func(w, value)\n",
    "        return validateStrWrapper\n",
    "\n",
    "    @staticmethod\n",
    "    def validateAmount(func):\n",
    "        def validateAmountWrapper(w, value):\n",
    "            if not(isinstance(value, int)):\n",
    "                try:\n",
    "                    value = int(value)\n",
    "                except TypeError:\n",
    "                    raise TypeError('must be an int')\n",
    "            if value < 0:\n",
    "                raise ValueError(\"mast be positive\")\n",
    "            return func(w, value)\n",
    "        return validateAmountWrapper\n"
   ]
  },
  {
   "cell_type": "code",
   "execution_count": 73,
   "metadata": {},
   "outputs": [],
   "source": [
    "class Student:\n",
    "    \"\"\"Class for Student representation.\"\"\"\n",
    "    \n",
    "    def __init__(self, student_name, student_last_name, student_number):\n",
    "        self.student_name = student_name\n",
    "        self.student_last_name = student_last_name\n",
    "        self.student_number = student_number\n",
    "        \n",
    "    @property\n",
    "    def student_name(self):\n",
    "        return self._student_name\n",
    "\n",
    "    @student_name.setter\n",
    "    @Validation.validateStr\n",
    "    def student_name(self, value):\n",
    "        self._student_name = value\n",
    "        \n",
    "    @property\n",
    "    def student_last_name(self):\n",
    "        return self._student_last_name\n",
    "\n",
    "    @student_last_name.setter\n",
    "    @Validation.validateStr\n",
    "    def student_last_name(self, value):\n",
    "        self._student_last_name = value\n",
    "        \n",
    "    @property\n",
    "    def student_number(self):\n",
    "        return self._student_number\n",
    "\n",
    "    @student_number.setter\n",
    "    @Validation.validateAmount\n",
    "    def student_number(self, value):\n",
    "        self._student_number = value\n",
    "\n",
    "    def full_name(self):\n",
    "        return self.student_name + \" \" + self.student_last_name\n",
    "\n",
    "        \n",
    "    def __str__(self):\n",
    "        return f\"\\nstudent_name: {self.student_name}\\\n",
    "                 \\nstudent_number: {self.student_number}\\\n",
    "                 \\nstudent_last_name: {self.student_last_name}\"\n",
    "\n",
    "    def __repr__(self):\n",
    "        return f\"\\nstudent_name: {self.student_name}\\\n",
    "                 \\nstudent_number: {self.student_number}\\\n",
    "                 \\nstudent_last_name: {self.student_last_name}\""
   ]
  },
  {
   "cell_type": "code",
   "execution_count": 74,
   "metadata": {},
   "outputs": [],
   "source": [
    "class Test:\n",
    "    \"\"\"Class for Test representation.\"\"\"\n",
    "    \n",
    "    def __init__(self, test_name, student_number, points):\n",
    "        self.test_name = test_name\n",
    "        self.student_number = student_number\n",
    "        self.points = points\n",
    "\n",
    "    @property\n",
    "    def test_name(self):\n",
    "        return self._test_name\n",
    "\n",
    "    @test_name.setter\n",
    "    @Validation.validateStr\n",
    "    def test_name(self, value):\n",
    "        self._test_name = value\n",
    "        \n",
    "    @property\n",
    "    def student_number(self):\n",
    "        return self._student_number\n",
    "\n",
    "    @student_number.setter\n",
    "    @Validation.validateAmount\n",
    "    def student_number(self, value):\n",
    "        self._student_number = value\n",
    "\n",
    "    @property\n",
    "    def points(self):\n",
    "        return self._points\n",
    "\n",
    "    @points.setter\n",
    "    @Validation.validateAmount\n",
    "    def points(self, value):\n",
    "        self._points = value\n",
    "\n",
    "    def __str__(self):\n",
    "        return f\"\\nstudent_number: {self.student_number}\\\n",
    "                 \\npoints: {self.points}\\\n",
    "                 \\ntest_name: {self.test_name}\"\n",
    "\n",
    "    def __repr__(self):\n",
    "        return f\"\\nstudent_number: {self.student_number}\\\n",
    "                 \\npoints: {self.points}\\\n",
    "                 \\ntest_name: {self.test_name}\""
   ]
  },
  {
   "cell_type": "code",
   "execution_count": 75,
   "metadata": {},
   "outputs": [],
   "source": [
    "def read_csv_file(file_name, t, objects, t_name=None):  \n",
    "    with open(file_name, 'r') as v:\n",
    "        r = csv.reader(v)\n",
    "        next(r)\n",
    "        for row in r:\n",
    "            try:\n",
    "                if not t_name:\n",
    "                    objects.append(t(*row))\n",
    "                else:\n",
    "                    objects.append(t(t_name, *row))\n",
    "            except Exception as e:\n",
    "                print(f'{file_name}:\\nline - {len(objects)}: {e}')\n",
    "                continue"
   ]
  },
  {
   "cell_type": "code",
   "execution_count": 76,
   "metadata": {},
   "outputs": [
    {
     "output_type": "execute_result",
     "data": {
      "text/plain": [
       "([\n",
       "  student_name: Camron                 \n",
       "  student_number: 1                 \n",
       "  student_last_name: Gottlieb,\n",
       "  \n",
       "  student_name: Vivian                 \n",
       "  student_number: 2                 \n",
       "  student_last_name: Hartmann,\n",
       "  \n",
       "  student_name: Luciano                 \n",
       "  student_number: 3                 \n",
       "  student_last_name: Adams,\n",
       "  \n",
       "  student_name: Brycen                 \n",
       "  student_number: 4                 \n",
       "  student_last_name: Dooley,\n",
       "  \n",
       "  student_name: Derrick                 \n",
       "  student_number: 5                 \n",
       "  student_last_name: Kris],\n",
       " [\n",
       "  student_number: 1                 \n",
       "  points: 8                 \n",
       "  test_name: Task01,\n",
       "  \n",
       "  student_number: 2                 \n",
       "  points: 7                 \n",
       "  test_name: Task01,\n",
       "  \n",
       "  student_number: 3                 \n",
       "  points: 19                 \n",
       "  test_name: Task01,\n",
       "  \n",
       "  student_number: 4                 \n",
       "  points: 9                 \n",
       "  test_name: Task01,\n",
       "  \n",
       "  student_number: 5                 \n",
       "  points: 14                 \n",
       "  test_name: Task01,\n",
       "  \n",
       "  student_number: 1                 \n",
       "  points: 1                 \n",
       "  test_name: Task02,\n",
       "  \n",
       "  student_number: 2                 \n",
       "  points: 17                 \n",
       "  test_name: Task02,\n",
       "  \n",
       "  student_number: 3                 \n",
       "  points: 34                 \n",
       "  test_name: Task02,\n",
       "  \n",
       "  student_number: 4                 \n",
       "  points: 19                 \n",
       "  test_name: Task02,\n",
       "  \n",
       "  student_number: 5                 \n",
       "  points: 20                 \n",
       "  test_name: Task02,\n",
       "  \n",
       "  student_number: 1                 \n",
       "  points: 3                 \n",
       "  test_name: Task03,\n",
       "  \n",
       "  student_number: 2                 \n",
       "  points: 19                 \n",
       "  test_name: Task03,\n",
       "  \n",
       "  student_number: 3                 \n",
       "  points: 10                 \n",
       "  test_name: Task03,\n",
       "  \n",
       "  student_number: 4                 \n",
       "  points: 15                 \n",
       "  test_name: Task03,\n",
       "  \n",
       "  student_number: 5                 \n",
       "  points: 13                 \n",
       "  test_name: Task03,\n",
       "  \n",
       "  student_number: 1                 \n",
       "  points: 1                 \n",
       "  test_name: Task04,\n",
       "  \n",
       "  student_number: 2                 \n",
       "  points: 3                 \n",
       "  test_name: Task04,\n",
       "  \n",
       "  student_number: 3                 \n",
       "  points: 5                 \n",
       "  test_name: Task04,\n",
       "  \n",
       "  student_number: 4                 \n",
       "  points: 18                 \n",
       "  test_name: Task04,\n",
       "  \n",
       "  student_number: 5                 \n",
       "  points: 21                 \n",
       "  test_name: Task04,\n",
       "  \n",
       "  student_number: 1                 \n",
       "  points: 14                 \n",
       "  test_name: Task05,\n",
       "  \n",
       "  student_number: 2                 \n",
       "  points: 16                 \n",
       "  test_name: Task05,\n",
       "  \n",
       "  student_number: 3                 \n",
       "  points: 23                 \n",
       "  test_name: Task05,\n",
       "  \n",
       "  student_number: 4                 \n",
       "  points: 21                 \n",
       "  test_name: Task05,\n",
       "  \n",
       "  student_number: 5                 \n",
       "  points: 19                 \n",
       "  test_name: Task05])"
      ]
     },
     "metadata": {},
     "execution_count": 76
    }
   ],
   "source": [
    "students = []\n",
    "tests = []\n",
    "\n",
    "read_csv_file(\"students.csv\", Student, students)\n",
    "read_csv_file(\"Task01.csv\", Test, tests, \"Task01\")\n",
    "read_csv_file(\"Task02.csv\", Test, tests, \"Task02\")\n",
    "read_csv_file(\"Task03.csv\", Test, tests, \"Task03\")\n",
    "read_csv_file(\"Task04.csv\", Test, tests, \"Task04\")\n",
    "read_csv_file(\"Task05.csv\", Test, tests, \"Task05\")\n",
    "\n",
    "\n",
    "students, tests"
   ]
  },
  {
   "source": [
    "1. Побудувати загальний DataFrame з колонками<br>\n",
    "’Student’, ’Task01’,’Task02’,’Task03’, ...,’Task0N’.<br>\n",
    "1а. Для колонки, назва якої вибрана з випадаючого списку, отримати<br>\n",
    "рейтинг студентiв.<br>\n",
    "1б. Для колонки, назва якої вибрана з випадаючого списку, побудувати<br>\n",
    "дiаграму результатiв.<br>\n",
    "1в. Для колонки, назва якої вибрана з випадаючого списку, отримати<br>\n",
    "середнє значення результатiв.<br>"
   ],
   "cell_type": "markdown",
   "metadata": {}
  },
  {
   "cell_type": "code",
   "execution_count": 77,
   "metadata": {},
   "outputs": [
    {
     "output_type": "stream",
     "name": "stdout",
     "text": [
      "Camron Gottlieb :\n\tTask01 - 8\n\tTask02 - 1\n\tTask03 - 3\n\tTask04 - 1\n\tTask05 - 14\n\nVivian Hartmann :\n\tTask01 - 7\n\tTask02 - 17\n\tTask03 - 19\n\tTask04 - 3\n\tTask05 - 16\n\nLuciano Adams :\n\tTask01 - 19\n\tTask02 - 34\n\tTask03 - 10\n\tTask04 - 5\n\tTask05 - 23\n\nBrycen Dooley :\n\tTask01 - 9\n\tTask02 - 19\n\tTask03 - 15\n\tTask04 - 18\n\tTask05 - 21\n\nDerrick Kris :\n\tTask01 - 14\n\tTask02 - 20\n\tTask03 - 13\n\tTask04 - 21\n\tTask05 - 19\n\n"
     ]
    }
   ],
   "source": [
    "d = {}\n",
    "for student in students:\n",
    "    d[student.full_name()] = {}\n",
    "    for t in tests:\n",
    "        if student.student_number == t.student_number:\n",
    "            d[student.full_name()][t.test_name] = t.points\n",
    "\n",
    "for (k, v) in d.items():\n",
    "    print(k, \":\")\n",
    "    for (kk, vv) in v.items():\n",
    "        print(f'\\t{kk} - {vv}')\n",
    "    print()\n",
    "\n"
   ]
  },
  {
   "cell_type": "code",
   "execution_count": 78,
   "metadata": {},
   "outputs": [],
   "source": [
    "def draw_histogram(x, y, x_label, y_label, title): \n",
    "    fig, ax = plt.subplots(figsize=(10, 7))\n",
    "    ax.bar(x, y, color='#EB984E', width=0.5, edgecolor='#154360')\n",
    "    ax.set_title(title, color='black', size=50, fontweight='bold', pad=30)\n",
    "    ax.set_ylabel(y_label, size=25, fontweight='bold')\n",
    "    ax.set_xlabel(x_label, size=24, fontweight='bold')\n",
    "    ax.tick_params(axis='x', rotation=70, direction='inout', pad=10, labelsize='large', length=10, width=2)\n",
    "    ax.tick_params(axis='y', direction='inout', pad=10, labelsize='large', length=10, width=2)\n",
    "    ax.patch.set_facecolor('#FCF3CF')\n",
    "    fig.patch.set_facecolor('#73C6B6')         \n",
    "    plt.show()"
   ]
  },
  {
   "cell_type": "code",
   "execution_count": 79,
   "metadata": {},
   "outputs": [
    {
     "output_type": "display_data",
     "data": {
      "text/plain": "interactive(children=(Dropdown(description='task', options=('Task03', 'Task05', 'Task02', 'Task04', 'Task01'),…",
      "application/vnd.jupyter.widget-view+json": {
       "version_major": 2,
       "version_minor": 0,
       "model_id": "e004d3070ecb497fa15075fb688e94c1"
      }
     },
     "metadata": {}
    }
   ],
   "source": [
    "column_list = set(map(lambda k: k.test_name, tests))\n",
    "\n",
    "def task1(task, plot=False, mid=False):\n",
    "    t = sorted(list(filter(lambda k: k.test_name == task, tests)), key = lambda k: k.points, reverse=True)\n",
    "    dd = {}\n",
    "    for i in t:\n",
    "        name = next(filter(lambda k: k.student_number == i.student_number, students))\n",
    "        dd[name.full_name()] = i.points\n",
    "    for (k, v) in dd.items():\n",
    "        print(f\"{k} - {v}\")\n",
    "\n",
    "    if plot:\n",
    "        draw_histogram(list(dd.keys()), list(dd.values()), \"Students\", \"Points\", task)\n",
    "    if mid:\n",
    "        print('Mean value:', sum(list(dd.values()))/len(dd))\n",
    "\n",
    "interact(task1, task=column_list);"
   ]
  },
  {
   "source": [
    "2. Додати до датафрейму колонку ’Total’ iз сумою результатiв.<br>\n",
    "2а. Побудувати дiаграму результатiв для ’Total’.<br>"
   ],
   "cell_type": "markdown",
   "metadata": {}
  },
  {
   "cell_type": "code",
   "execution_count": 80,
   "metadata": {},
   "outputs": [
    {
     "output_type": "stream",
     "name": "stdout",
     "text": [
      "Camron Gottlieb :\n\tTask01 - 8\n\tTask02 - 1\n\tTask03 - 3\n\tTask04 - 1\n\tTask05 - 14\n\tTotal - 27\n\nVivian Hartmann :\n\tTask01 - 7\n\tTask02 - 17\n\tTask03 - 19\n\tTask04 - 3\n\tTask05 - 16\n\tTotal - 62\n\nLuciano Adams :\n\tTask01 - 19\n\tTask02 - 34\n\tTask03 - 10\n\tTask04 - 5\n\tTask05 - 23\n\tTotal - 91\n\nBrycen Dooley :\n\tTask01 - 9\n\tTask02 - 19\n\tTask03 - 15\n\tTask04 - 18\n\tTask05 - 21\n\tTotal - 82\n\nDerrick Kris :\n\tTask01 - 14\n\tTask02 - 20\n\tTask03 - 13\n\tTask04 - 21\n\tTask05 - 19\n\tTotal - 87\n\n"
     ]
    },
    {
     "output_type": "display_data",
     "data": {
      "text/plain": "<Figure size 720x504 with 1 Axes>",
      "image/svg+xml": "<?xml version=\"1.0\" encoding=\"utf-8\" standalone=\"no\"?>\n<!DOCTYPE svg PUBLIC \"-//W3C//DTD SVG 1.1//EN\"\n  \"http://www.w3.org/Graphics/SVG/1.1/DTD/svg11.dtd\">\n<!-- Created with matplotlib (https://matplotlib.org/) -->\n<svg height=\"603.785268pt\" version=\"1.1\" viewBox=\"0 0 630.865312 603.785268\" width=\"630.865312pt\" xmlns=\"http://www.w3.org/2000/svg\" xmlns:xlink=\"http://www.w3.org/1999/xlink\">\n <defs>\n  <style type=\"text/css\">\n*{stroke-linecap:butt;stroke-linejoin:round;}\n  </style>\n </defs>\n <g id=\"figure_1\">\n  <g id=\"patch_1\">\n   <path d=\"M -0 603.785268 \nL 630.865312 603.785268 \nL 630.865312 0 \nL -0 0 \nz\n\" style=\"fill:#73c6b6;\"/>\n  </g>\n  <g id=\"axes_1\">\n   <g id=\"patch_2\">\n    <path d=\"M 65.665312 455.712187 \nL 623.665313 455.712187 \nL 623.665313 75.192187 \nL 65.665312 75.192187 \nz\n\" style=\"fill:#fcf3cf;\"/>\n   </g>\n   <g id=\"patch_3\">\n    <path clip-path=\"url(#p0b76d81bc5)\" d=\"M 91.028949 455.712187 \nL 147.392585 455.712187 \nL 147.392585 348.186913 \nL 91.028949 348.186913 \nz\n\" style=\"fill:#eb984e;stroke:#154360;stroke-linejoin:miter;\"/>\n   </g>\n   <g id=\"patch_4\">\n    <path clip-path=\"url(#p0b76d81bc5)\" d=\"M 203.756222 455.712187 \nL 260.119858 455.712187 \nL 260.119858 208.802297 \nL 203.756222 208.802297 \nz\n\" style=\"fill:#eb984e;stroke:#154360;stroke-linejoin:miter;\"/>\n   </g>\n   <g id=\"patch_5\">\n    <path clip-path=\"url(#p0b76d81bc5)\" d=\"M 316.483494 455.712187 \nL 372.847131 455.712187 \nL 372.847131 93.312187 \nL 316.483494 93.312187 \nz\n\" style=\"fill:#eb984e;stroke:#154360;stroke-linejoin:miter;\"/>\n   </g>\n   <g id=\"patch_6\">\n    <path clip-path=\"url(#p0b76d81bc5)\" d=\"M 429.210767 455.712187 \nL 485.574403 455.712187 \nL 485.574403 129.153946 \nL 429.210767 129.153946 \nz\n\" style=\"fill:#eb984e;stroke:#154360;stroke-linejoin:miter;\"/>\n   </g>\n   <g id=\"patch_7\">\n    <path clip-path=\"url(#p0b76d81bc5)\" d=\"M 541.93804 455.712187 \nL 598.301676 455.712187 \nL 598.301676 109.241858 \nL 541.93804 109.241858 \nz\n\" style=\"fill:#eb984e;stroke:#154360;stroke-linejoin:miter;\"/>\n   </g>\n   <g id=\"matplotlib.axis_1\">\n    <g id=\"xtick_1\">\n     <g id=\"line2d_1\">\n      <defs>\n       <path d=\"M 0 5 \nL 0 -5 \n\" id=\"m9b61b643e1\" style=\"stroke:#000000;stroke-width:2;\"/>\n      </defs>\n      <g>\n       <use style=\"stroke:#000000;stroke-width:2;\" x=\"119.210767\" xlink:href=\"#m9b61b643e1\" y=\"455.712187\"/>\n      </g>\n     </g>\n     <g id=\"text_1\">\n      <!-- Camron Gottlieb -->\n      <defs>\n       <path d=\"M 64.40625 67.28125 \nL 64.40625 56.890625 \nQ 59.421875 61.53125 53.78125 63.8125 \nQ 48.140625 66.109375 41.796875 66.109375 \nQ 29.296875 66.109375 22.65625 58.46875 \nQ 16.015625 50.828125 16.015625 36.375 \nQ 16.015625 21.96875 22.65625 14.328125 \nQ 29.296875 6.6875 41.796875 6.6875 \nQ 48.140625 6.6875 53.78125 8.984375 \nQ 59.421875 11.28125 64.40625 15.921875 \nL 64.40625 5.609375 \nQ 59.234375 2.09375 53.4375 0.328125 \nQ 47.65625 -1.421875 41.21875 -1.421875 \nQ 24.65625 -1.421875 15.125 8.703125 \nQ 5.609375 18.84375 5.609375 36.375 \nQ 5.609375 53.953125 15.125 64.078125 \nQ 24.65625 74.21875 41.21875 74.21875 \nQ 47.75 74.21875 53.53125 72.484375 \nQ 59.328125 70.75 64.40625 67.28125 \nz\n\" id=\"DejaVuSans-67\"/>\n       <path d=\"M 34.28125 27.484375 \nQ 23.390625 27.484375 19.1875 25 \nQ 14.984375 22.515625 14.984375 16.5 \nQ 14.984375 11.71875 18.140625 8.90625 \nQ 21.296875 6.109375 26.703125 6.109375 \nQ 34.1875 6.109375 38.703125 11.40625 \nQ 43.21875 16.703125 43.21875 25.484375 \nL 43.21875 27.484375 \nz\nM 52.203125 31.203125 \nL 52.203125 0 \nL 43.21875 0 \nL 43.21875 8.296875 \nQ 40.140625 3.328125 35.546875 0.953125 \nQ 30.953125 -1.421875 24.3125 -1.421875 \nQ 15.921875 -1.421875 10.953125 3.296875 \nQ 6 8.015625 6 15.921875 \nQ 6 25.140625 12.171875 29.828125 \nQ 18.359375 34.515625 30.609375 34.515625 \nL 43.21875 34.515625 \nL 43.21875 35.40625 \nQ 43.21875 41.609375 39.140625 45 \nQ 35.0625 48.390625 27.6875 48.390625 \nQ 23 48.390625 18.546875 47.265625 \nQ 14.109375 46.140625 10.015625 43.890625 \nL 10.015625 52.203125 \nQ 14.9375 54.109375 19.578125 55.046875 \nQ 24.21875 56 28.609375 56 \nQ 40.484375 56 46.34375 49.84375 \nQ 52.203125 43.703125 52.203125 31.203125 \nz\n\" id=\"DejaVuSans-97\"/>\n       <path d=\"M 52 44.1875 \nQ 55.375 50.25 60.0625 53.125 \nQ 64.75 56 71.09375 56 \nQ 79.640625 56 84.28125 50.015625 \nQ 88.921875 44.046875 88.921875 33.015625 \nL 88.921875 0 \nL 79.890625 0 \nL 79.890625 32.71875 \nQ 79.890625 40.578125 77.09375 44.375 \nQ 74.3125 48.1875 68.609375 48.1875 \nQ 61.625 48.1875 57.5625 43.546875 \nQ 53.515625 38.921875 53.515625 30.90625 \nL 53.515625 0 \nL 44.484375 0 \nL 44.484375 32.71875 \nQ 44.484375 40.625 41.703125 44.40625 \nQ 38.921875 48.1875 33.109375 48.1875 \nQ 26.21875 48.1875 22.15625 43.53125 \nQ 18.109375 38.875 18.109375 30.90625 \nL 18.109375 0 \nL 9.078125 0 \nL 9.078125 54.6875 \nL 18.109375 54.6875 \nL 18.109375 46.1875 \nQ 21.1875 51.21875 25.484375 53.609375 \nQ 29.78125 56 35.6875 56 \nQ 41.65625 56 45.828125 52.96875 \nQ 50 49.953125 52 44.1875 \nz\n\" id=\"DejaVuSans-109\"/>\n       <path d=\"M 41.109375 46.296875 \nQ 39.59375 47.171875 37.8125 47.578125 \nQ 36.03125 48 33.890625 48 \nQ 26.265625 48 22.1875 43.046875 \nQ 18.109375 38.09375 18.109375 28.8125 \nL 18.109375 0 \nL 9.078125 0 \nL 9.078125 54.6875 \nL 18.109375 54.6875 \nL 18.109375 46.1875 \nQ 20.953125 51.171875 25.484375 53.578125 \nQ 30.03125 56 36.53125 56 \nQ 37.453125 56 38.578125 55.875 \nQ 39.703125 55.765625 41.0625 55.515625 \nz\n\" id=\"DejaVuSans-114\"/>\n       <path d=\"M 30.609375 48.390625 \nQ 23.390625 48.390625 19.1875 42.75 \nQ 14.984375 37.109375 14.984375 27.296875 \nQ 14.984375 17.484375 19.15625 11.84375 \nQ 23.34375 6.203125 30.609375 6.203125 \nQ 37.796875 6.203125 41.984375 11.859375 \nQ 46.1875 17.53125 46.1875 27.296875 \nQ 46.1875 37.015625 41.984375 42.703125 \nQ 37.796875 48.390625 30.609375 48.390625 \nz\nM 30.609375 56 \nQ 42.328125 56 49.015625 48.375 \nQ 55.71875 40.765625 55.71875 27.296875 \nQ 55.71875 13.875 49.015625 6.21875 \nQ 42.328125 -1.421875 30.609375 -1.421875 \nQ 18.84375 -1.421875 12.171875 6.21875 \nQ 5.515625 13.875 5.515625 27.296875 \nQ 5.515625 40.765625 12.171875 48.375 \nQ 18.84375 56 30.609375 56 \nz\n\" id=\"DejaVuSans-111\"/>\n       <path d=\"M 54.890625 33.015625 \nL 54.890625 0 \nL 45.90625 0 \nL 45.90625 32.71875 \nQ 45.90625 40.484375 42.875 44.328125 \nQ 39.84375 48.1875 33.796875 48.1875 \nQ 26.515625 48.1875 22.3125 43.546875 \nQ 18.109375 38.921875 18.109375 30.90625 \nL 18.109375 0 \nL 9.078125 0 \nL 9.078125 54.6875 \nL 18.109375 54.6875 \nL 18.109375 46.1875 \nQ 21.34375 51.125 25.703125 53.5625 \nQ 30.078125 56 35.796875 56 \nQ 45.21875 56 50.046875 50.171875 \nQ 54.890625 44.34375 54.890625 33.015625 \nz\n\" id=\"DejaVuSans-110\"/>\n       <path id=\"DejaVuSans-32\"/>\n       <path d=\"M 59.515625 10.40625 \nL 59.515625 29.984375 \nL 43.40625 29.984375 \nL 43.40625 38.09375 \nL 69.28125 38.09375 \nL 69.28125 6.78125 \nQ 63.578125 2.734375 56.6875 0.65625 \nQ 49.8125 -1.421875 42 -1.421875 \nQ 24.90625 -1.421875 15.25 8.5625 \nQ 5.609375 18.5625 5.609375 36.375 \nQ 5.609375 54.25 15.25 64.234375 \nQ 24.90625 74.21875 42 74.21875 \nQ 49.125 74.21875 55.546875 72.453125 \nQ 61.96875 70.703125 67.390625 67.28125 \nL 67.390625 56.78125 \nQ 61.921875 61.421875 55.765625 63.765625 \nQ 49.609375 66.109375 42.828125 66.109375 \nQ 29.4375 66.109375 22.71875 58.640625 \nQ 16.015625 51.171875 16.015625 36.375 \nQ 16.015625 21.625 22.71875 14.15625 \nQ 29.4375 6.6875 42.828125 6.6875 \nQ 48.046875 6.6875 52.140625 7.59375 \nQ 56.25 8.5 59.515625 10.40625 \nz\n\" id=\"DejaVuSans-71\"/>\n       <path d=\"M 18.3125 70.21875 \nL 18.3125 54.6875 \nL 36.8125 54.6875 \nL 36.8125 47.703125 \nL 18.3125 47.703125 \nL 18.3125 18.015625 \nQ 18.3125 11.328125 20.140625 9.421875 \nQ 21.96875 7.515625 27.59375 7.515625 \nL 36.8125 7.515625 \nL 36.8125 0 \nL 27.59375 0 \nQ 17.1875 0 13.234375 3.875 \nQ 9.28125 7.765625 9.28125 18.015625 \nL 9.28125 47.703125 \nL 2.6875 47.703125 \nL 2.6875 54.6875 \nL 9.28125 54.6875 \nL 9.28125 70.21875 \nz\n\" id=\"DejaVuSans-116\"/>\n       <path d=\"M 9.421875 75.984375 \nL 18.40625 75.984375 \nL 18.40625 0 \nL 9.421875 0 \nz\n\" id=\"DejaVuSans-108\"/>\n       <path d=\"M 9.421875 54.6875 \nL 18.40625 54.6875 \nL 18.40625 0 \nL 9.421875 0 \nz\nM 9.421875 75.984375 \nL 18.40625 75.984375 \nL 18.40625 64.59375 \nL 9.421875 64.59375 \nz\n\" id=\"DejaVuSans-105\"/>\n       <path d=\"M 56.203125 29.59375 \nL 56.203125 25.203125 \nL 14.890625 25.203125 \nQ 15.484375 15.921875 20.484375 11.0625 \nQ 25.484375 6.203125 34.421875 6.203125 \nQ 39.59375 6.203125 44.453125 7.46875 \nQ 49.3125 8.734375 54.109375 11.28125 \nL 54.109375 2.78125 \nQ 49.265625 0.734375 44.1875 -0.34375 \nQ 39.109375 -1.421875 33.890625 -1.421875 \nQ 20.796875 -1.421875 13.15625 6.1875 \nQ 5.515625 13.8125 5.515625 26.8125 \nQ 5.515625 40.234375 12.765625 48.109375 \nQ 20.015625 56 32.328125 56 \nQ 43.359375 56 49.78125 48.890625 \nQ 56.203125 41.796875 56.203125 29.59375 \nz\nM 47.21875 32.234375 \nQ 47.125 39.59375 43.09375 43.984375 \nQ 39.0625 48.390625 32.421875 48.390625 \nQ 24.90625 48.390625 20.390625 44.140625 \nQ 15.875 39.890625 15.1875 32.171875 \nz\n\" id=\"DejaVuSans-101\"/>\n       <path d=\"M 48.6875 27.296875 \nQ 48.6875 37.203125 44.609375 42.84375 \nQ 40.53125 48.484375 33.40625 48.484375 \nQ 26.265625 48.484375 22.1875 42.84375 \nQ 18.109375 37.203125 18.109375 27.296875 \nQ 18.109375 17.390625 22.1875 11.75 \nQ 26.265625 6.109375 33.40625 6.109375 \nQ 40.53125 6.109375 44.609375 11.75 \nQ 48.6875 17.390625 48.6875 27.296875 \nz\nM 18.109375 46.390625 \nQ 20.953125 51.265625 25.265625 53.625 \nQ 29.59375 56 35.59375 56 \nQ 45.5625 56 51.78125 48.09375 \nQ 58.015625 40.1875 58.015625 27.296875 \nQ 58.015625 14.40625 51.78125 6.484375 \nQ 45.5625 -1.421875 35.59375 -1.421875 \nQ 29.59375 -1.421875 25.265625 0.953125 \nQ 20.953125 3.328125 18.109375 8.203125 \nL 18.109375 0 \nL 9.078125 0 \nL 9.078125 75.984375 \nL 18.109375 75.984375 \nz\n\" id=\"DejaVuSans-98\"/>\n      </defs>\n      <g transform=\"translate(105.466717 566.451573)rotate(-70)scale(0.12 -0.12)\">\n       <use xlink:href=\"#DejaVuSans-67\"/>\n       <use x=\"69.824219\" xlink:href=\"#DejaVuSans-97\"/>\n       <use x=\"131.103516\" xlink:href=\"#DejaVuSans-109\"/>\n       <use x=\"228.515625\" xlink:href=\"#DejaVuSans-114\"/>\n       <use x=\"267.378906\" xlink:href=\"#DejaVuSans-111\"/>\n       <use x=\"328.560547\" xlink:href=\"#DejaVuSans-110\"/>\n       <use x=\"391.939453\" xlink:href=\"#DejaVuSans-32\"/>\n       <use x=\"423.726562\" xlink:href=\"#DejaVuSans-71\"/>\n       <use x=\"501.216797\" xlink:href=\"#DejaVuSans-111\"/>\n       <use x=\"562.398438\" xlink:href=\"#DejaVuSans-116\"/>\n       <use x=\"601.607422\" xlink:href=\"#DejaVuSans-116\"/>\n       <use x=\"640.816406\" xlink:href=\"#DejaVuSans-108\"/>\n       <use x=\"668.599609\" xlink:href=\"#DejaVuSans-105\"/>\n       <use x=\"696.382812\" xlink:href=\"#DejaVuSans-101\"/>\n       <use x=\"757.90625\" xlink:href=\"#DejaVuSans-98\"/>\n      </g>\n     </g>\n    </g>\n    <g id=\"xtick_2\">\n     <g id=\"line2d_2\">\n      <g>\n       <use style=\"stroke:#000000;stroke-width:2;\" x=\"231.93804\" xlink:href=\"#m9b61b643e1\" y=\"455.712187\"/>\n      </g>\n     </g>\n     <g id=\"text_2\">\n      <!-- Vivian Hartmann -->\n      <defs>\n       <path d=\"M 28.609375 0 \nL 0.78125 72.90625 \nL 11.078125 72.90625 \nL 34.1875 11.53125 \nL 57.328125 72.90625 \nL 67.578125 72.90625 \nL 39.796875 0 \nz\n\" id=\"DejaVuSans-86\"/>\n       <path d=\"M 2.984375 54.6875 \nL 12.5 54.6875 \nL 29.59375 8.796875 \nL 46.6875 54.6875 \nL 56.203125 54.6875 \nL 35.6875 0 \nL 23.484375 0 \nz\n\" id=\"DejaVuSans-118\"/>\n       <path d=\"M 9.8125 72.90625 \nL 19.671875 72.90625 \nL 19.671875 43.015625 \nL 55.515625 43.015625 \nL 55.515625 72.90625 \nL 65.375 72.90625 \nL 65.375 0 \nL 55.515625 0 \nL 55.515625 34.71875 \nL 19.671875 34.71875 \nL 19.671875 0 \nL 9.8125 0 \nz\n\" id=\"DejaVuSans-72\"/>\n      </defs>\n      <g transform=\"translate(217.820439 568.504214)rotate(-70)scale(0.12 -0.12)\">\n       <use xlink:href=\"#DejaVuSans-86\"/>\n       <use x=\"66.158203\" xlink:href=\"#DejaVuSans-105\"/>\n       <use x=\"93.941406\" xlink:href=\"#DejaVuSans-118\"/>\n       <use x=\"153.121094\" xlink:href=\"#DejaVuSans-105\"/>\n       <use x=\"180.904297\" xlink:href=\"#DejaVuSans-97\"/>\n       <use x=\"242.183594\" xlink:href=\"#DejaVuSans-110\"/>\n       <use x=\"305.5625\" xlink:href=\"#DejaVuSans-32\"/>\n       <use x=\"337.349609\" xlink:href=\"#DejaVuSans-72\"/>\n       <use x=\"412.544922\" xlink:href=\"#DejaVuSans-97\"/>\n       <use x=\"473.824219\" xlink:href=\"#DejaVuSans-114\"/>\n       <use x=\"514.9375\" xlink:href=\"#DejaVuSans-116\"/>\n       <use x=\"554.146484\" xlink:href=\"#DejaVuSans-109\"/>\n       <use x=\"651.558594\" xlink:href=\"#DejaVuSans-97\"/>\n       <use x=\"712.837891\" xlink:href=\"#DejaVuSans-110\"/>\n       <use x=\"776.216797\" xlink:href=\"#DejaVuSans-110\"/>\n      </g>\n     </g>\n    </g>\n    <g id=\"xtick_3\">\n     <g id=\"line2d_3\">\n      <g>\n       <use style=\"stroke:#000000;stroke-width:2;\" x=\"344.665313\" xlink:href=\"#m9b61b643e1\" y=\"455.712187\"/>\n      </g>\n     </g>\n     <g id=\"text_3\">\n      <!-- Luciano Adams -->\n      <defs>\n       <path d=\"M 9.8125 72.90625 \nL 19.671875 72.90625 \nL 19.671875 8.296875 \nL 55.171875 8.296875 \nL 55.171875 0 \nL 9.8125 0 \nz\n\" id=\"DejaVuSans-76\"/>\n       <path d=\"M 8.5 21.578125 \nL 8.5 54.6875 \nL 17.484375 54.6875 \nL 17.484375 21.921875 \nQ 17.484375 14.15625 20.5 10.265625 \nQ 23.53125 6.390625 29.59375 6.390625 \nQ 36.859375 6.390625 41.078125 11.03125 \nQ 45.3125 15.671875 45.3125 23.6875 \nL 45.3125 54.6875 \nL 54.296875 54.6875 \nL 54.296875 0 \nL 45.3125 0 \nL 45.3125 8.40625 \nQ 42.046875 3.421875 37.71875 1 \nQ 33.40625 -1.421875 27.6875 -1.421875 \nQ 18.265625 -1.421875 13.375 4.4375 \nQ 8.5 10.296875 8.5 21.578125 \nz\nM 31.109375 56 \nz\n\" id=\"DejaVuSans-117\"/>\n       <path d=\"M 48.78125 52.59375 \nL 48.78125 44.1875 \nQ 44.96875 46.296875 41.140625 47.34375 \nQ 37.3125 48.390625 33.40625 48.390625 \nQ 24.65625 48.390625 19.8125 42.84375 \nQ 14.984375 37.3125 14.984375 27.296875 \nQ 14.984375 17.28125 19.8125 11.734375 \nQ 24.65625 6.203125 33.40625 6.203125 \nQ 37.3125 6.203125 41.140625 7.25 \nQ 44.96875 8.296875 48.78125 10.40625 \nL 48.78125 2.09375 \nQ 45.015625 0.34375 40.984375 -0.53125 \nQ 36.96875 -1.421875 32.421875 -1.421875 \nQ 20.0625 -1.421875 12.78125 6.34375 \nQ 5.515625 14.109375 5.515625 27.296875 \nQ 5.515625 40.671875 12.859375 48.328125 \nQ 20.21875 56 33.015625 56 \nQ 37.15625 56 41.109375 55.140625 \nQ 45.0625 54.296875 48.78125 52.59375 \nz\n\" id=\"DejaVuSans-99\"/>\n       <path d=\"M 34.1875 63.1875 \nL 20.796875 26.90625 \nL 47.609375 26.90625 \nz\nM 28.609375 72.90625 \nL 39.796875 72.90625 \nL 67.578125 0 \nL 57.328125 0 \nL 50.6875 18.703125 \nL 17.828125 18.703125 \nL 11.1875 0 \nL 0.78125 0 \nz\n\" id=\"DejaVuSans-65\"/>\n       <path d=\"M 45.40625 46.390625 \nL 45.40625 75.984375 \nL 54.390625 75.984375 \nL 54.390625 0 \nL 45.40625 0 \nL 45.40625 8.203125 \nQ 42.578125 3.328125 38.25 0.953125 \nQ 33.9375 -1.421875 27.875 -1.421875 \nQ 17.96875 -1.421875 11.734375 6.484375 \nQ 5.515625 14.40625 5.515625 27.296875 \nQ 5.515625 40.1875 11.734375 48.09375 \nQ 17.96875 56 27.875 56 \nQ 33.9375 56 38.25 53.625 \nQ 42.578125 51.265625 45.40625 46.390625 \nz\nM 14.796875 27.296875 \nQ 14.796875 17.390625 18.875 11.75 \nQ 22.953125 6.109375 30.078125 6.109375 \nQ 37.203125 6.109375 41.296875 11.75 \nQ 45.40625 17.390625 45.40625 27.296875 \nQ 45.40625 37.203125 41.296875 42.84375 \nQ 37.203125 48.484375 30.078125 48.484375 \nQ 22.953125 48.484375 18.875 42.84375 \nQ 14.796875 37.203125 14.796875 27.296875 \nz\n\" id=\"DejaVuSans-100\"/>\n       <path d=\"M 44.28125 53.078125 \nL 44.28125 44.578125 \nQ 40.484375 46.53125 36.375 47.5 \nQ 32.28125 48.484375 27.875 48.484375 \nQ 21.1875 48.484375 17.84375 46.4375 \nQ 14.5 44.390625 14.5 40.28125 \nQ 14.5 37.15625 16.890625 35.375 \nQ 19.28125 33.59375 26.515625 31.984375 \nL 29.59375 31.296875 \nQ 39.15625 29.25 43.1875 25.515625 \nQ 47.21875 21.78125 47.21875 15.09375 \nQ 47.21875 7.46875 41.1875 3.015625 \nQ 35.15625 -1.421875 24.609375 -1.421875 \nQ 20.21875 -1.421875 15.453125 -0.5625 \nQ 10.6875 0.296875 5.421875 2 \nL 5.421875 11.28125 \nQ 10.40625 8.6875 15.234375 7.390625 \nQ 20.0625 6.109375 24.8125 6.109375 \nQ 31.15625 6.109375 34.5625 8.28125 \nQ 37.984375 10.453125 37.984375 14.40625 \nQ 37.984375 18.0625 35.515625 20.015625 \nQ 33.0625 21.96875 24.703125 23.78125 \nL 21.578125 24.515625 \nQ 13.234375 26.265625 9.515625 29.90625 \nQ 5.8125 33.546875 5.8125 39.890625 \nQ 5.8125 47.609375 11.28125 51.796875 \nQ 16.75 56 26.8125 56 \nQ 31.78125 56 36.171875 55.265625 \nQ 40.578125 54.546875 44.28125 53.078125 \nz\n\" id=\"DejaVuSans-115\"/>\n      </defs>\n      <g transform=\"translate(332.208327 559.379211)rotate(-70)scale(0.12 -0.12)\">\n       <use xlink:href=\"#DejaVuSans-76\"/>\n       <use x=\"53.962891\" xlink:href=\"#DejaVuSans-117\"/>\n       <use x=\"117.341797\" xlink:href=\"#DejaVuSans-99\"/>\n       <use x=\"172.322266\" xlink:href=\"#DejaVuSans-105\"/>\n       <use x=\"200.105469\" xlink:href=\"#DejaVuSans-97\"/>\n       <use x=\"261.384766\" xlink:href=\"#DejaVuSans-110\"/>\n       <use x=\"324.763672\" xlink:href=\"#DejaVuSans-111\"/>\n       <use x=\"385.945312\" xlink:href=\"#DejaVuSans-32\"/>\n       <use x=\"417.732422\" xlink:href=\"#DejaVuSans-65\"/>\n       <use x=\"484.390625\" xlink:href=\"#DejaVuSans-100\"/>\n       <use x=\"547.867188\" xlink:href=\"#DejaVuSans-97\"/>\n       <use x=\"609.146484\" xlink:href=\"#DejaVuSans-109\"/>\n       <use x=\"706.558594\" xlink:href=\"#DejaVuSans-115\"/>\n      </g>\n     </g>\n    </g>\n    <g id=\"xtick_4\">\n     <g id=\"line2d_4\">\n      <g>\n       <use style=\"stroke:#000000;stroke-width:2;\" x=\"457.392585\" xlink:href=\"#m9b61b643e1\" y=\"455.712187\"/>\n      </g>\n     </g>\n     <g id=\"text_4\">\n      <!-- Brycen Dooley -->\n      <defs>\n       <path d=\"M 19.671875 34.8125 \nL 19.671875 8.109375 \nL 35.5 8.109375 \nQ 43.453125 8.109375 47.28125 11.40625 \nQ 51.125 14.703125 51.125 21.484375 \nQ 51.125 28.328125 47.28125 31.5625 \nQ 43.453125 34.8125 35.5 34.8125 \nz\nM 19.671875 64.796875 \nL 19.671875 42.828125 \nL 34.28125 42.828125 \nQ 41.5 42.828125 45.03125 45.53125 \nQ 48.578125 48.25 48.578125 53.8125 \nQ 48.578125 59.328125 45.03125 62.0625 \nQ 41.5 64.796875 34.28125 64.796875 \nz\nM 9.8125 72.90625 \nL 35.015625 72.90625 \nQ 46.296875 72.90625 52.390625 68.21875 \nQ 58.5 63.53125 58.5 54.890625 \nQ 58.5 48.1875 55.375 44.234375 \nQ 52.25 40.28125 46.1875 39.3125 \nQ 53.46875 37.75 57.5 32.78125 \nQ 61.53125 27.828125 61.53125 20.40625 \nQ 61.53125 10.640625 54.890625 5.3125 \nQ 48.25 0 35.984375 0 \nL 9.8125 0 \nz\n\" id=\"DejaVuSans-66\"/>\n       <path d=\"M 32.171875 -5.078125 \nQ 28.375 -14.84375 24.75 -17.8125 \nQ 21.140625 -20.796875 15.09375 -20.796875 \nL 7.90625 -20.796875 \nL 7.90625 -13.28125 \nL 13.1875 -13.28125 \nQ 16.890625 -13.28125 18.9375 -11.515625 \nQ 21 -9.765625 23.484375 -3.21875 \nL 25.09375 0.875 \nL 2.984375 54.6875 \nL 12.5 54.6875 \nL 29.59375 11.921875 \nL 46.6875 54.6875 \nL 56.203125 54.6875 \nz\n\" id=\"DejaVuSans-121\"/>\n       <path d=\"M 19.671875 64.796875 \nL 19.671875 8.109375 \nL 31.59375 8.109375 \nQ 46.6875 8.109375 53.6875 14.9375 \nQ 60.6875 21.78125 60.6875 36.53125 \nQ 60.6875 51.171875 53.6875 57.984375 \nQ 46.6875 64.796875 31.59375 64.796875 \nz\nM 9.8125 72.90625 \nL 30.078125 72.90625 \nQ 51.265625 72.90625 61.171875 64.09375 \nQ 71.09375 55.28125 71.09375 36.53125 \nQ 71.09375 17.671875 61.125 8.828125 \nQ 51.171875 0 30.078125 0 \nL 9.8125 0 \nz\n\" id=\"DejaVuSans-68\"/>\n      </defs>\n      <g transform=\"translate(445.555404 555.973413)rotate(-70)scale(0.12 -0.12)\">\n       <use xlink:href=\"#DejaVuSans-66\"/>\n       <use x=\"68.603516\" xlink:href=\"#DejaVuSans-114\"/>\n       <use x=\"109.716797\" xlink:href=\"#DejaVuSans-121\"/>\n       <use x=\"168.896484\" xlink:href=\"#DejaVuSans-99\"/>\n       <use x=\"223.876953\" xlink:href=\"#DejaVuSans-101\"/>\n       <use x=\"285.400391\" xlink:href=\"#DejaVuSans-110\"/>\n       <use x=\"348.779297\" xlink:href=\"#DejaVuSans-32\"/>\n       <use x=\"380.566406\" xlink:href=\"#DejaVuSans-68\"/>\n       <use x=\"457.568359\" xlink:href=\"#DejaVuSans-111\"/>\n       <use x=\"518.75\" xlink:href=\"#DejaVuSans-111\"/>\n       <use x=\"579.931641\" xlink:href=\"#DejaVuSans-108\"/>\n       <use x=\"607.714844\" xlink:href=\"#DejaVuSans-101\"/>\n       <use x=\"669.238281\" xlink:href=\"#DejaVuSans-121\"/>\n      </g>\n     </g>\n    </g>\n    <g id=\"xtick_5\">\n     <g id=\"line2d_5\">\n      <g>\n       <use style=\"stroke:#000000;stroke-width:2;\" x=\"570.119858\" xlink:href=\"#m9b61b643e1\" y=\"455.712187\"/>\n      </g>\n     </g>\n     <g id=\"text_5\">\n      <!-- Derrick Kris -->\n      <defs>\n       <path d=\"M 9.078125 75.984375 \nL 18.109375 75.984375 \nL 18.109375 31.109375 \nL 44.921875 54.6875 \nL 56.390625 54.6875 \nL 27.390625 29.109375 \nL 57.625 0 \nL 45.90625 0 \nL 18.109375 26.703125 \nL 18.109375 0 \nL 9.078125 0 \nz\n\" id=\"DejaVuSans-107\"/>\n       <path d=\"M 9.8125 72.90625 \nL 19.671875 72.90625 \nL 19.671875 42.09375 \nL 52.390625 72.90625 \nL 65.09375 72.90625 \nL 28.90625 38.921875 \nL 67.671875 0 \nL 54.6875 0 \nL 19.671875 35.109375 \nL 19.671875 0 \nL 9.8125 0 \nz\n\" id=\"DejaVuSans-75\"/>\n      </defs>\n      <g transform=\"translate(561.369836 539.009612)rotate(-70)scale(0.12 -0.12)\">\n       <use xlink:href=\"#DejaVuSans-68\"/>\n       <use x=\"77.001953\" xlink:href=\"#DejaVuSans-101\"/>\n       <use x=\"138.525391\" xlink:href=\"#DejaVuSans-114\"/>\n       <use x=\"177.888672\" xlink:href=\"#DejaVuSans-114\"/>\n       <use x=\"219.001953\" xlink:href=\"#DejaVuSans-105\"/>\n       <use x=\"246.785156\" xlink:href=\"#DejaVuSans-99\"/>\n       <use x=\"301.765625\" xlink:href=\"#DejaVuSans-107\"/>\n       <use x=\"359.675781\" xlink:href=\"#DejaVuSans-32\"/>\n       <use x=\"391.462891\" xlink:href=\"#DejaVuSans-75\"/>\n       <use x=\"457.039062\" xlink:href=\"#DejaVuSans-114\"/>\n       <use x=\"498.152344\" xlink:href=\"#DejaVuSans-105\"/>\n       <use x=\"525.935547\" xlink:href=\"#DejaVuSans-115\"/>\n      </g>\n     </g>\n    </g>\n    <g id=\"text_6\">\n     <!-- Students -->\n     <defs>\n      <path d=\"M 59.90625 70.609375 \nL 59.90625 55.171875 \nQ 53.90625 57.859375 48.1875 59.21875 \nQ 42.484375 60.59375 37.40625 60.59375 \nQ 30.671875 60.59375 27.4375 58.734375 \nQ 24.21875 56.890625 24.21875 52.984375 \nQ 24.21875 50.046875 26.390625 48.40625 \nQ 28.5625 46.78125 34.28125 45.609375 \nL 42.28125 44 \nQ 54.4375 41.546875 59.5625 36.5625 \nQ 64.703125 31.59375 64.703125 22.40625 \nQ 64.703125 10.359375 57.546875 4.46875 \nQ 50.390625 -1.421875 35.6875 -1.421875 \nQ 28.765625 -1.421875 21.78125 -0.09375 \nQ 14.796875 1.21875 7.8125 3.8125 \nL 7.8125 19.671875 \nQ 14.796875 15.96875 21.3125 14.078125 \nQ 27.828125 12.203125 33.890625 12.203125 \nQ 40.046875 12.203125 43.3125 14.25 \nQ 46.578125 16.3125 46.578125 20.125 \nQ 46.578125 23.53125 44.359375 25.390625 \nQ 42.140625 27.25 35.5 28.71875 \nL 28.21875 30.328125 \nQ 17.28125 32.671875 12.21875 37.796875 \nQ 7.171875 42.921875 7.171875 51.609375 \nQ 7.171875 62.5 14.203125 68.359375 \nQ 21.234375 74.21875 34.421875 74.21875 \nQ 40.4375 74.21875 46.78125 73.3125 \nQ 53.125 72.40625 59.90625 70.609375 \nz\n\" id=\"DejaVuSans-Bold-83\"/>\n      <path d=\"M 27.484375 70.21875 \nL 27.484375 54.6875 \nL 45.515625 54.6875 \nL 45.515625 42.1875 \nL 27.484375 42.1875 \nL 27.484375 19 \nQ 27.484375 15.1875 29 13.84375 \nQ 30.515625 12.5 35.015625 12.5 \nL 44 12.5 \nL 44 0 \nL 29 0 \nQ 18.65625 0 14.328125 4.3125 \nQ 10.015625 8.640625 10.015625 19 \nL 10.015625 42.1875 \nL 1.3125 42.1875 \nL 1.3125 54.6875 \nL 10.015625 54.6875 \nL 10.015625 70.21875 \nz\n\" id=\"DejaVuSans-Bold-116\"/>\n      <path d=\"M 7.8125 21.296875 \nL 7.8125 54.6875 \nL 25.390625 54.6875 \nL 25.390625 49.21875 \nQ 25.390625 44.78125 25.34375 38.0625 \nQ 25.296875 31.34375 25.296875 29.109375 \nQ 25.296875 22.515625 25.640625 19.609375 \nQ 25.984375 16.703125 26.8125 15.375 \nQ 27.875 13.671875 29.609375 12.734375 \nQ 31.34375 11.8125 33.59375 11.8125 \nQ 39.0625 11.8125 42.1875 16.015625 \nQ 45.3125 20.21875 45.3125 27.6875 \nL 45.3125 54.6875 \nL 62.796875 54.6875 \nL 62.796875 0 \nL 45.3125 0 \nL 45.3125 7.90625 \nQ 41.359375 3.125 36.9375 0.84375 \nQ 32.515625 -1.421875 27.203125 -1.421875 \nQ 17.71875 -1.421875 12.765625 4.390625 \nQ 7.8125 10.203125 7.8125 21.296875 \nz\n\" id=\"DejaVuSans-Bold-117\"/>\n      <path d=\"M 45.609375 46.6875 \nL 45.609375 75.984375 \nL 63.1875 75.984375 \nL 63.1875 0 \nL 45.609375 0 \nL 45.609375 7.90625 \nQ 42 3.078125 37.640625 0.828125 \nQ 33.296875 -1.421875 27.59375 -1.421875 \nQ 17.484375 -1.421875 10.984375 6.609375 \nQ 4.5 14.65625 4.5 27.296875 \nQ 4.5 39.9375 10.984375 47.96875 \nQ 17.484375 56 27.59375 56 \nQ 33.25 56 37.625 53.734375 \nQ 42 51.46875 45.609375 46.6875 \nz\nM 34.078125 11.28125 \nQ 39.703125 11.28125 42.65625 15.375 \nQ 45.609375 19.484375 45.609375 27.296875 \nQ 45.609375 35.109375 42.65625 39.203125 \nQ 39.703125 43.3125 34.078125 43.3125 \nQ 28.515625 43.3125 25.5625 39.203125 \nQ 22.609375 35.109375 22.609375 27.296875 \nQ 22.609375 19.484375 25.5625 15.375 \nQ 28.515625 11.28125 34.078125 11.28125 \nz\n\" id=\"DejaVuSans-Bold-100\"/>\n      <path d=\"M 62.984375 27.484375 \nL 62.984375 22.515625 \nL 22.125 22.515625 \nQ 22.75 16.359375 26.5625 13.28125 \nQ 30.375 10.203125 37.203125 10.203125 \nQ 42.71875 10.203125 48.5 11.84375 \nQ 54.296875 13.484375 60.40625 16.796875 \nL 60.40625 3.328125 \nQ 54.203125 0.984375 48 -0.21875 \nQ 41.796875 -1.421875 35.59375 -1.421875 \nQ 20.75 -1.421875 12.515625 6.125 \nQ 4.296875 13.671875 4.296875 27.296875 \nQ 4.296875 40.671875 12.375 48.328125 \nQ 20.453125 56 34.625 56 \nQ 47.515625 56 55.25 48.234375 \nQ 62.984375 40.484375 62.984375 27.484375 \nz\nM 45.015625 33.296875 \nQ 45.015625 38.28125 42.109375 41.328125 \nQ 39.203125 44.390625 34.515625 44.390625 \nQ 29.4375 44.390625 26.265625 41.53125 \nQ 23.09375 38.671875 22.3125 33.296875 \nz\n\" id=\"DejaVuSans-Bold-101\"/>\n      <path d=\"M 63.375 33.296875 \nL 63.375 0 \nL 45.796875 0 \nL 45.796875 5.421875 \nL 45.796875 25.484375 \nQ 45.796875 32.5625 45.484375 35.25 \nQ 45.171875 37.9375 44.390625 39.203125 \nQ 43.359375 40.921875 41.59375 41.875 \nQ 39.84375 42.828125 37.59375 42.828125 \nQ 32.125 42.828125 29 38.59375 \nQ 25.875 34.375 25.875 26.90625 \nL 25.875 0 \nL 8.40625 0 \nL 8.40625 54.6875 \nL 25.875 54.6875 \nL 25.875 46.6875 \nQ 29.828125 51.46875 34.265625 53.734375 \nQ 38.71875 56 44.09375 56 \nQ 53.5625 56 58.46875 50.1875 \nQ 63.375 44.390625 63.375 33.296875 \nz\n\" id=\"DejaVuSans-Bold-110\"/>\n      <path d=\"M 51.125 52.984375 \nL 51.125 39.703125 \nQ 45.515625 42.046875 40.28125 43.21875 \nQ 35.0625 44.390625 30.421875 44.390625 \nQ 25.4375 44.390625 23.015625 43.140625 \nQ 20.609375 41.890625 20.609375 39.3125 \nQ 20.609375 37.203125 22.4375 36.078125 \nQ 24.265625 34.96875 29 34.421875 \nL 32.078125 33.984375 \nQ 45.515625 32.28125 50.140625 28.375 \nQ 54.78125 24.46875 54.78125 16.109375 \nQ 54.78125 7.375 48.328125 2.96875 \nQ 41.890625 -1.421875 29.109375 -1.421875 \nQ 23.6875 -1.421875 17.890625 -0.5625 \nQ 12.109375 0.296875 6 2 \nL 6 15.28125 \nQ 11.234375 12.75 16.71875 11.46875 \nQ 22.21875 10.203125 27.875 10.203125 \nQ 33.015625 10.203125 35.59375 11.609375 \nQ 38.1875 13.03125 38.1875 15.828125 \nQ 38.1875 18.171875 36.40625 19.3125 \nQ 34.625 20.453125 29.296875 21.09375 \nL 26.21875 21.484375 \nQ 14.546875 22.953125 9.859375 26.90625 \nQ 5.171875 30.859375 5.171875 38.921875 \nQ 5.171875 47.609375 11.125 51.796875 \nQ 17.09375 56 29.390625 56 \nQ 34.234375 56 39.546875 55.265625 \nQ 44.875 54.546875 51.125 52.984375 \nz\n\" id=\"DejaVuSans-Bold-115\"/>\n     </defs>\n     <g transform=\"translate(283.596563 591.594018)scale(0.24 -0.24)\">\n      <use xlink:href=\"#DejaVuSans-Bold-83\"/>\n      <use x=\"72.021484\" xlink:href=\"#DejaVuSans-Bold-116\"/>\n      <use x=\"119.824219\" xlink:href=\"#DejaVuSans-Bold-117\"/>\n      <use x=\"191.015625\" xlink:href=\"#DejaVuSans-Bold-100\"/>\n      <use x=\"262.597656\" xlink:href=\"#DejaVuSans-Bold-101\"/>\n      <use x=\"330.419922\" xlink:href=\"#DejaVuSans-Bold-110\"/>\n      <use x=\"401.611328\" xlink:href=\"#DejaVuSans-Bold-116\"/>\n      <use x=\"449.414062\" xlink:href=\"#DejaVuSans-Bold-115\"/>\n     </g>\n    </g>\n   </g>\n   <g id=\"matplotlib.axis_2\">\n    <g id=\"ytick_1\">\n     <g id=\"line2d_6\">\n      <defs>\n       <path d=\"M 5 0 \nL -5 -0 \n\" id=\"m6453b44788\" style=\"stroke:#000000;stroke-width:2;\"/>\n      </defs>\n      <g>\n       <use style=\"stroke:#000000;stroke-width:2;\" x=\"65.665312\" xlink:href=\"#m6453b44788\" y=\"455.712187\"/>\n      </g>\n     </g>\n     <g id=\"text_7\">\n      <!-- 0 -->\n      <defs>\n       <path d=\"M 31.78125 66.40625 \nQ 24.171875 66.40625 20.328125 58.90625 \nQ 16.5 51.421875 16.5 36.375 \nQ 16.5 21.390625 20.328125 13.890625 \nQ 24.171875 6.390625 31.78125 6.390625 \nQ 39.453125 6.390625 43.28125 13.890625 \nQ 47.125 21.390625 47.125 36.375 \nQ 47.125 51.421875 43.28125 58.90625 \nQ 39.453125 66.40625 31.78125 66.40625 \nz\nM 31.78125 74.21875 \nQ 44.046875 74.21875 50.515625 64.515625 \nQ 56.984375 54.828125 56.984375 36.375 \nQ 56.984375 17.96875 50.515625 8.265625 \nQ 44.046875 -1.421875 31.78125 -1.421875 \nQ 19.53125 -1.421875 13.0625 8.265625 \nQ 6.59375 17.96875 6.59375 36.375 \nQ 6.59375 54.828125 13.0625 64.515625 \nQ 19.53125 74.21875 31.78125 74.21875 \nz\n\" id=\"DejaVuSans-48\"/>\n      </defs>\n      <g transform=\"translate(43.030313 460.27125)scale(0.12 -0.12)\">\n       <use xlink:href=\"#DejaVuSans-48\"/>\n      </g>\n     </g>\n    </g>\n    <g id=\"ytick_2\">\n     <g id=\"line2d_7\">\n      <g>\n       <use style=\"stroke:#000000;stroke-width:2;\" x=\"65.665312\" xlink:href=\"#m6453b44788\" y=\"376.063836\"/>\n      </g>\n     </g>\n     <g id=\"text_8\">\n      <!-- 20 -->\n      <defs>\n       <path d=\"M 19.1875 8.296875 \nL 53.609375 8.296875 \nL 53.609375 0 \nL 7.328125 0 \nL 7.328125 8.296875 \nQ 12.9375 14.109375 22.625 23.890625 \nQ 32.328125 33.6875 34.8125 36.53125 \nQ 39.546875 41.84375 41.421875 45.53125 \nQ 43.3125 49.21875 43.3125 52.78125 \nQ 43.3125 58.59375 39.234375 62.25 \nQ 35.15625 65.921875 28.609375 65.921875 \nQ 23.96875 65.921875 18.8125 64.3125 \nQ 13.671875 62.703125 7.8125 59.421875 \nL 7.8125 69.390625 \nQ 13.765625 71.78125 18.9375 73 \nQ 24.125 74.21875 28.421875 74.21875 \nQ 39.75 74.21875 46.484375 68.546875 \nQ 53.21875 62.890625 53.21875 53.421875 \nQ 53.21875 48.921875 51.53125 44.890625 \nQ 49.859375 40.875 45.40625 35.40625 \nQ 44.1875 33.984375 37.640625 27.21875 \nQ 31.109375 20.453125 19.1875 8.296875 \nz\n\" id=\"DejaVuSans-50\"/>\n      </defs>\n      <g transform=\"translate(35.395313 380.622898)scale(0.12 -0.12)\">\n       <use xlink:href=\"#DejaVuSans-50\"/>\n       <use x=\"63.623047\" xlink:href=\"#DejaVuSans-48\"/>\n      </g>\n     </g>\n    </g>\n    <g id=\"ytick_3\">\n     <g id=\"line2d_8\">\n      <g>\n       <use style=\"stroke:#000000;stroke-width:2;\" x=\"65.665312\" xlink:href=\"#m6453b44788\" y=\"296.415484\"/>\n      </g>\n     </g>\n     <g id=\"text_9\">\n      <!-- 40 -->\n      <defs>\n       <path d=\"M 37.796875 64.3125 \nL 12.890625 25.390625 \nL 37.796875 25.390625 \nz\nM 35.203125 72.90625 \nL 47.609375 72.90625 \nL 47.609375 25.390625 \nL 58.015625 25.390625 \nL 58.015625 17.1875 \nL 47.609375 17.1875 \nL 47.609375 0 \nL 37.796875 0 \nL 37.796875 17.1875 \nL 4.890625 17.1875 \nL 4.890625 26.703125 \nz\n\" id=\"DejaVuSans-52\"/>\n      </defs>\n      <g transform=\"translate(35.395313 300.974547)scale(0.12 -0.12)\">\n       <use xlink:href=\"#DejaVuSans-52\"/>\n       <use x=\"63.623047\" xlink:href=\"#DejaVuSans-48\"/>\n      </g>\n     </g>\n    </g>\n    <g id=\"ytick_4\">\n     <g id=\"line2d_9\">\n      <g>\n       <use style=\"stroke:#000000;stroke-width:2;\" x=\"65.665312\" xlink:href=\"#m6453b44788\" y=\"216.767133\"/>\n      </g>\n     </g>\n     <g id=\"text_10\">\n      <!-- 60 -->\n      <defs>\n       <path d=\"M 33.015625 40.375 \nQ 26.375 40.375 22.484375 35.828125 \nQ 18.609375 31.296875 18.609375 23.390625 \nQ 18.609375 15.53125 22.484375 10.953125 \nQ 26.375 6.390625 33.015625 6.390625 \nQ 39.65625 6.390625 43.53125 10.953125 \nQ 47.40625 15.53125 47.40625 23.390625 \nQ 47.40625 31.296875 43.53125 35.828125 \nQ 39.65625 40.375 33.015625 40.375 \nz\nM 52.59375 71.296875 \nL 52.59375 62.3125 \nQ 48.875 64.0625 45.09375 64.984375 \nQ 41.3125 65.921875 37.59375 65.921875 \nQ 27.828125 65.921875 22.671875 59.328125 \nQ 17.53125 52.734375 16.796875 39.40625 \nQ 19.671875 43.65625 24.015625 45.921875 \nQ 28.375 48.1875 33.59375 48.1875 \nQ 44.578125 48.1875 50.953125 41.515625 \nQ 57.328125 34.859375 57.328125 23.390625 \nQ 57.328125 12.15625 50.6875 5.359375 \nQ 44.046875 -1.421875 33.015625 -1.421875 \nQ 20.359375 -1.421875 13.671875 8.265625 \nQ 6.984375 17.96875 6.984375 36.375 \nQ 6.984375 53.65625 15.1875 63.9375 \nQ 23.390625 74.21875 37.203125 74.21875 \nQ 40.921875 74.21875 44.703125 73.484375 \nQ 48.484375 72.75 52.59375 71.296875 \nz\n\" id=\"DejaVuSans-54\"/>\n      </defs>\n      <g transform=\"translate(35.395313 221.326195)scale(0.12 -0.12)\">\n       <use xlink:href=\"#DejaVuSans-54\"/>\n       <use x=\"63.623047\" xlink:href=\"#DejaVuSans-48\"/>\n      </g>\n     </g>\n    </g>\n    <g id=\"ytick_5\">\n     <g id=\"line2d_10\">\n      <g>\n       <use style=\"stroke:#000000;stroke-width:2;\" x=\"65.665312\" xlink:href=\"#m6453b44788\" y=\"137.118781\"/>\n      </g>\n     </g>\n     <g id=\"text_11\">\n      <!-- 80 -->\n      <defs>\n       <path d=\"M 31.78125 34.625 \nQ 24.75 34.625 20.71875 30.859375 \nQ 16.703125 27.09375 16.703125 20.515625 \nQ 16.703125 13.921875 20.71875 10.15625 \nQ 24.75 6.390625 31.78125 6.390625 \nQ 38.8125 6.390625 42.859375 10.171875 \nQ 46.921875 13.96875 46.921875 20.515625 \nQ 46.921875 27.09375 42.890625 30.859375 \nQ 38.875 34.625 31.78125 34.625 \nz\nM 21.921875 38.8125 \nQ 15.578125 40.375 12.03125 44.71875 \nQ 8.5 49.078125 8.5 55.328125 \nQ 8.5 64.0625 14.71875 69.140625 \nQ 20.953125 74.21875 31.78125 74.21875 \nQ 42.671875 74.21875 48.875 69.140625 \nQ 55.078125 64.0625 55.078125 55.328125 \nQ 55.078125 49.078125 51.53125 44.71875 \nQ 48 40.375 41.703125 38.8125 \nQ 48.828125 37.15625 52.796875 32.3125 \nQ 56.78125 27.484375 56.78125 20.515625 \nQ 56.78125 9.90625 50.3125 4.234375 \nQ 43.84375 -1.421875 31.78125 -1.421875 \nQ 19.734375 -1.421875 13.25 4.234375 \nQ 6.78125 9.90625 6.78125 20.515625 \nQ 6.78125 27.484375 10.78125 32.3125 \nQ 14.796875 37.15625 21.921875 38.8125 \nz\nM 18.3125 54.390625 \nQ 18.3125 48.734375 21.84375 45.5625 \nQ 25.390625 42.390625 31.78125 42.390625 \nQ 38.140625 42.390625 41.71875 45.5625 \nQ 45.3125 48.734375 45.3125 54.390625 \nQ 45.3125 60.0625 41.71875 63.234375 \nQ 38.140625 66.40625 31.78125 66.40625 \nQ 25.390625 66.40625 21.84375 63.234375 \nQ 18.3125 60.0625 18.3125 54.390625 \nz\n\" id=\"DejaVuSans-56\"/>\n      </defs>\n      <g transform=\"translate(35.395313 141.677843)scale(0.12 -0.12)\">\n       <use xlink:href=\"#DejaVuSans-56\"/>\n       <use x=\"63.623047\" xlink:href=\"#DejaVuSans-48\"/>\n      </g>\n     </g>\n    </g>\n    <g id=\"text_12\">\n     <!-- Points -->\n     <defs>\n      <path d=\"M 9.1875 72.90625 \nL 40.375 72.90625 \nQ 54.296875 72.90625 61.734375 66.71875 \nQ 69.1875 60.546875 69.1875 49.125 \nQ 69.1875 37.640625 61.734375 31.46875 \nQ 54.296875 25.296875 40.375 25.296875 \nL 27.984375 25.296875 \nL 27.984375 0 \nL 9.1875 0 \nz\nM 27.984375 59.28125 \nL 27.984375 38.921875 \nL 38.375 38.921875 \nQ 43.84375 38.921875 46.828125 41.578125 \nQ 49.8125 44.234375 49.8125 49.125 \nQ 49.8125 54 46.828125 56.640625 \nQ 43.84375 59.28125 38.375 59.28125 \nz\n\" id=\"DejaVuSans-Bold-80\"/>\n      <path d=\"M 34.421875 43.5 \nQ 28.609375 43.5 25.5625 39.328125 \nQ 22.515625 35.15625 22.515625 27.296875 \nQ 22.515625 19.4375 25.5625 15.25 \nQ 28.609375 11.078125 34.421875 11.078125 \nQ 40.140625 11.078125 43.15625 15.25 \nQ 46.1875 19.4375 46.1875 27.296875 \nQ 46.1875 35.15625 43.15625 39.328125 \nQ 40.140625 43.5 34.421875 43.5 \nz\nM 34.421875 56 \nQ 48.53125 56 56.46875 48.375 \nQ 64.40625 40.765625 64.40625 27.296875 \nQ 64.40625 13.8125 56.46875 6.1875 \nQ 48.53125 -1.421875 34.421875 -1.421875 \nQ 20.265625 -1.421875 12.28125 6.1875 \nQ 4.296875 13.8125 4.296875 27.296875 \nQ 4.296875 40.765625 12.28125 48.375 \nQ 20.265625 56 34.421875 56 \nz\n\" id=\"DejaVuSans-Bold-111\"/>\n      <path d=\"M 8.40625 54.6875 \nL 25.875 54.6875 \nL 25.875 0 \nL 8.40625 0 \nz\nM 8.40625 75.984375 \nL 25.875 75.984375 \nL 25.875 61.71875 \nL 8.40625 61.71875 \nz\n\" id=\"DejaVuSans-Bold-105\"/>\n     </defs>\n     <g transform=\"translate(26.196094 309.799844)rotate(-90)scale(0.25 -0.25)\">\n      <use xlink:href=\"#DejaVuSans-Bold-80\"/>\n      <use x=\"73.291016\" xlink:href=\"#DejaVuSans-Bold-111\"/>\n      <use x=\"141.992188\" xlink:href=\"#DejaVuSans-Bold-105\"/>\n      <use x=\"176.269531\" xlink:href=\"#DejaVuSans-Bold-110\"/>\n      <use x=\"247.460938\" xlink:href=\"#DejaVuSans-Bold-116\"/>\n      <use x=\"295.263672\" xlink:href=\"#DejaVuSans-Bold-115\"/>\n     </g>\n    </g>\n   </g>\n   <g id=\"patch_8\">\n    <path d=\"M 65.665312 455.712187 \nL 65.665312 75.192187 \n\" style=\"fill:none;stroke:#000000;stroke-linecap:square;stroke-linejoin:miter;stroke-width:0.8;\"/>\n   </g>\n   <g id=\"patch_9\">\n    <path d=\"M 623.665313 455.712187 \nL 623.665313 75.192187 \n\" style=\"fill:none;stroke:#000000;stroke-linecap:square;stroke-linejoin:miter;stroke-width:0.8;\"/>\n   </g>\n   <g id=\"patch_10\">\n    <path d=\"M 65.665312 455.712187 \nL 623.665313 455.712187 \n\" style=\"fill:none;stroke:#000000;stroke-linecap:square;stroke-linejoin:miter;stroke-width:0.8;\"/>\n   </g>\n   <g id=\"patch_11\">\n    <path d=\"M 65.665312 75.192187 \nL 623.665313 75.192187 \n\" style=\"fill:none;stroke:#000000;stroke-linecap:square;stroke-linejoin:miter;stroke-width:0.8;\"/>\n   </g>\n   <g id=\"text_13\">\n    <!-- Total -->\n    <defs>\n     <path d=\"M 0.484375 72.90625 \nL 67.671875 72.90625 \nL 67.671875 58.6875 \nL 43.5 58.6875 \nL 43.5 0 \nL 24.703125 0 \nL 24.703125 58.6875 \nL 0.484375 58.6875 \nz\n\" id=\"DejaVuSans-Bold-84\"/>\n     <path d=\"M 32.90625 24.609375 \nQ 27.4375 24.609375 24.671875 22.75 \nQ 21.921875 20.90625 21.921875 17.28125 \nQ 21.921875 13.96875 24.140625 12.078125 \nQ 26.375 10.203125 30.328125 10.203125 \nQ 35.25 10.203125 38.625 13.734375 \nQ 42 17.28125 42 22.609375 \nL 42 24.609375 \nz\nM 59.625 31.203125 \nL 59.625 0 \nL 42 0 \nL 42 8.109375 \nQ 38.484375 3.125 34.078125 0.84375 \nQ 29.6875 -1.421875 23.390625 -1.421875 \nQ 14.890625 -1.421875 9.59375 3.53125 \nQ 4.296875 8.5 4.296875 16.40625 \nQ 4.296875 26.03125 10.90625 30.515625 \nQ 17.53125 35.015625 31.6875 35.015625 \nL 42 35.015625 \nL 42 36.375 \nQ 42 40.53125 38.71875 42.453125 \nQ 35.453125 44.390625 28.515625 44.390625 \nQ 22.90625 44.390625 18.0625 43.265625 \nQ 13.234375 42.140625 9.078125 39.890625 \nL 9.078125 53.21875 \nQ 14.703125 54.59375 20.359375 55.296875 \nQ 26.03125 56 31.6875 56 \nQ 46.484375 56 53.046875 50.171875 \nQ 59.625 44.34375 59.625 31.203125 \nz\n\" id=\"DejaVuSans-Bold-97\"/>\n     <path d=\"M 8.40625 75.984375 \nL 25.875 75.984375 \nL 25.875 0 \nL 8.40625 0 \nz\n\" id=\"DejaVuSans-Bold-108\"/>\n    </defs>\n    <g transform=\"translate(276.356719 45.192187)scale(0.5 -0.5)\">\n     <use xlink:href=\"#DejaVuSans-Bold-84\"/>\n     <use x=\"54.962891\" xlink:href=\"#DejaVuSans-Bold-111\"/>\n     <use x=\"123.664062\" xlink:href=\"#DejaVuSans-Bold-116\"/>\n     <use x=\"171.466797\" xlink:href=\"#DejaVuSans-Bold-97\"/>\n     <use x=\"238.947266\" xlink:href=\"#DejaVuSans-Bold-108\"/>\n    </g>\n   </g>\n  </g>\n </g>\n <defs>\n  <clipPath id=\"p0b76d81bc5\">\n   <rect height=\"380.52\" width=\"558\" x=\"65.665312\" y=\"75.192187\"/>\n  </clipPath>\n </defs>\n</svg>\n",
      "image/png": "[encoded data removed]"
     },
     "metadata": {}
    }
   ],
   "source": [
    "for (k, v) in d.items():\n",
    "    d[k][\"Total\"] = sum(list(v.values()))\n",
    "\n",
    "for (k, v) in d.items():\n",
    "    print(k, \":\")\n",
    "    for (kk, vv) in v.items():\n",
    "        print(f'\\t{kk} - {vv}')\n",
    "    print()   \n",
    "\n",
    "draw_histogram(list(d.keys()), list(d[k][\"Total\"] for (k, v) in d.items()), \"Students\", \"Points\", \"Total\")\n"
   ]
  },
  {
   "source": [
    "3. Вважаючи, що максимально можливий результат в ’Total’ 100 балiв,<br>\n",
    "додати колонку з оцiнками у болонськiй системi.<br>"
   ],
   "cell_type": "markdown",
   "metadata": {}
  },
  {
   "cell_type": "code",
   "execution_count": 81,
   "metadata": {},
   "outputs": [
    {
     "output_type": "stream",
     "name": "stdout",
     "text": [
      "Camron Gottlieb :\n\tTask01 - 8\n\tTask02 - 1\n\tTask03 - 3\n\tTask04 - 1\n\tTask05 - 14\n\tTotal - 27\n\tbolon - F\n\nVivian Hartmann :\n\tTask01 - 7\n\tTask02 - 17\n\tTask03 - 19\n\tTask04 - 3\n\tTask05 - 16\n\tTotal - 62\n\tbolon - D\n\nLuciano Adams :\n\tTask01 - 19\n\tTask02 - 34\n\tTask03 - 10\n\tTask04 - 5\n\tTask05 - 23\n\tTotal - 91\n\tbolon - A\n\nBrycen Dooley :\n\tTask01 - 9\n\tTask02 - 19\n\tTask03 - 15\n\tTask04 - 18\n\tTask05 - 21\n\tTotal - 82\n\tbolon - B\n\nDerrick Kris :\n\tTask01 - 14\n\tTask02 - 20\n\tTask03 - 13\n\tTask04 - 21\n\tTask05 - 19\n\tTotal - 87\n\tbolon - B\n\n"
     ]
    }
   ],
   "source": [
    "for (k, v) in d.items():\n",
    "    d[k][\"bolon\"] = bolon(d[k][\"Total\"])\n",
    "\n",
    "for (k, v) in d.items():\n",
    "    print(k, \":\")\n",
    "    for (kk, vv) in v.items():\n",
    "        print(f'\\t{kk} - {vv}')\n",
    "    print()   \n"
   ]
  },
  {
   "source": [
    "4. Отримати список студентiв iз заданою з вiджета оцiнкою, впорядко-<br>\n",
    "ваний за балами.<br>"
   ],
   "cell_type": "markdown",
   "metadata": {}
  },
  {
   "cell_type": "code",
   "execution_count": 82,
   "metadata": {},
   "outputs": [
    {
     "output_type": "display_data",
     "data": {
      "text/plain": "interactive(children=(Dropdown(description='bolon', options=('A', 'B', 'C', 'D', 'E', 'F'), value='A'), Output…",
      "application/vnd.jupyter.widget-view+json": {
       "version_major": 2,
       "version_minor": 0,
       "model_id": "6efdae6486104938b0a3ca31a669c6bb"
      }
     },
     "metadata": {}
    }
   ],
   "source": [
    "def task4(bolon):\n",
    "    ddd = {k: v for k, v in d.items() if v[\"bolon\"] == bolon}\n",
    "    \n",
    "    if not ddd:\n",
    "         print('DataFrame is empty!')\n",
    "    else:\n",
    "        ddd = dict(sorted(ddd.items(), key=lambda x: x[1][\"Total\"], reverse=True))\n",
    "        for (k, v) in ddd.items():\n",
    "            suma = v[\"Total\"]\n",
    "            print(f\"{k} - {suma}\")\n",
    "\n",
    "interact(task4, bolon=[\"A\", \"B\", \"C\", \"D\", \"E\", \"F\"]);"
   ]
  },
  {
   "source": [
    "5. Для студента, прiзвище та iм’я якого вибрано з випадаючого списку,<br>\n",
    "отримати найменший та найбiльший поточний результати i назви вiдповiд-<br>\n",
    "них завдань.<br>"
   ],
   "cell_type": "markdown",
   "metadata": {}
  },
  {
   "cell_type": "code",
   "execution_count": 83,
   "metadata": {},
   "outputs": [
    {
     "output_type": "display_data",
     "data": {
      "text/plain": "interactive(children=(Dropdown(description='full_name', options={'Camron Gottlieb': {'Task01': 8, 'Task02': 1,…",
      "application/vnd.jupyter.widget-view+json": {
       "version_major": 2,
       "version_minor": 0,
       "model_id": "9ab41aa5206a421d9bd5b520cd552ddf"
      }
     },
     "metadata": {}
    }
   ],
   "source": [
    "def task5(full_name):\n",
    "    full_name = full_name.copy()\n",
    "    full_name.pop(\"Total\", None) \n",
    "    full_name.pop(\"bolon\", None) \n",
    "    maximum_task = max(full_name, key=full_name.get)\n",
    "    minimum_task = min(full_name, key=full_name.get)\n",
    "    print('Maximum result was on Task:', maximum_task, 'and result was', full_name[maximum_task])\n",
    "    print('Minimum result was on Task:', minimum_task, 'and result was', full_name[minimum_task])\n",
    "\n",
    "interact(task5, full_name=d);"
   ]
  },
  {
   "cell_type": "code",
   "execution_count": null,
   "metadata": {},
   "outputs": [],
   "source": []
  }
 ]
}