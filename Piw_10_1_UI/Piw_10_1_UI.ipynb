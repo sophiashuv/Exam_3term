{
 "metadata": {
  "language_info": {
   "codemirror_mode": {
    "name": "ipython",
    "version": 3
   },
   "file_extension": ".py",
   "mimetype": "text/x-python",
   "name": "python",
   "nbconvert_exporter": "python",
   "pygments_lexer": "ipython3",
   "version": "3.8.5-final"
  },
  "orig_nbformat": 2,
  "kernelspec": {
   "name": "python3",
   "display_name": "Python 3",
   "language": "python"
  }
 },
 "nbformat": 4,
 "nbformat_minor": 2,
 "cells": [
  {
   "source": [
    "# Task\n",
    "Розробити типи для вiдбору на навчання за результатами тестування.</br>\n",
    "\n",
    "Претенденти характеризуються прiзвищем, iменем та iдентифiкацiйним но-</br>\n",
    "мером. Тести характеризуються номером претендента, назвою предмета та</br>\n",
    "\n",
    "кiлькiстю балiв. Для зарахування на факультет враховується сума балiв iз</br>\n",
    "двох заданих предметiв, причому враховуються лише тi результати, якi не</br>\n",
    "меншi прохiдного балу для конкретного предмета.</br>\n",
    "Данi учасникiв тестування i тестiв задано у двох окремих файлах.</br>\n",
    "\n",
    "1. Отримати для учасника, заданого випадаючим списком, перелiк пре- </br>\n",
    "дметiв з набраними балами, впорядковуючи його за спаданням балiв (вра- </br>\n",
    "ховувати лише наявнi результати);</br>\n",
    "\n",
    "1а.побудувати дiаграму результатiв заданого учасника.</br>\n",
    "\n",
    "2. Для предмета, заданого випадаючим списком, отримати рейтинг уча-</br>\n",
    "сникiв за результатами тестiв;</br>\n",
    "\n",
    "2а.побудувати дiаграму результатiв заданого предмета вiдповiдно до п.2.</br>\n",
    "3. Для факультету, заданого випадаючим списком, побудувати рейтинг</br>\n",
    "\n",
    "претендентiв за сумою результатiв (бiльших за прохiдний бал, який зада-</br>\n",
    "вати слайдером для кожного предмета) з вiдповiдних предметiв;</br>\n",
    "\n",
    "3а.побудувати дiаграму претендентiв для п.3.</br>\n",
    "\n",
    "3б.За допомогою текстового вiджета задати кiлькiсть мiсць для зараху-</br>\n",
    "вання на факультет за п.3 i отримати фiнальний список.</br>"
   ],
   "cell_type": "markdown",
   "metadata": {}
  },
  {
   "source": [
    "Розробити типи для вiдбору на навчання за результатами тестування. Претенденти характеризуються прiзвищем, iменем та iдентифiкацiйним но- <br>мером. Тести характеризуються номером претендента, назвою предмета та кiлькiстю балiв. Для зарахування на факультет враховується сума <br>балiв iз двох заданих предметiв, причому враховуються лише тi результати, якi не меншi прохiдного балу для конкретного предмета.<br>\n",
    "Данi учасникiв тестування i тестiв задано у двох окремих файлах.<br>\n",
    "1. Отримати для учасника, заданого випадаючим списком, перелiк пре- дметiв з набраними балами, впорядковуючи його за спаданням балiв (вра- <br>ховувати лише наявнi результати);<br>\n",
    "1а.побудувати дiаграму результатiв заданого учасника.<br>\n",
    "2. Для предмета, заданого випадаючим списком, отримати рейтинг уча- сникiв за результатами тестiв;<br>\n",
    "2а.побудувати дiаграму результатiв заданого предмета вiдповiдно до п.2.<br>\n",
    "3. Для факультету, заданого випадаючим списком, побудувати рейтинг претендентiв за сумою результатiв (бiльших за прохiдний бал, який <br>зада- вати слайдером для кожного предмета) з вiдповiдних предметiв;<br>\n",
    "3а.побудувати дiаграму претендентiв для п.3.<br>\n",
    "3б.За допомогою текстового вiджета задати кiлькiсть мiсць для зараху- вання на факультет за п.3 i отримати фiнальний список.<br>"
   ],
   "cell_type": "markdown",
   "metadata": {}
  },
  {
   "cell_type": "code",
   "execution_count": 271,
   "metadata": {},
   "outputs": [],
   "source": [
    "from ipywidgets import interact, interactive, fixed, interact_manual\n",
    "import ipywidgets\n",
    "import ipywidgets as widgets\n",
    "import matplotlib.pyplot as plt\n",
    "import numpy as np\n",
    "import csv\n",
    "import pandas as pd\n",
    "from IPython.display import Image"
   ]
  },
  {
   "cell_type": "code",
   "execution_count": 272,
   "metadata": {},
   "outputs": [],
   "source": [
    "class Validation:\n",
    "    \"\"\"Class for Validation representation.\"\"\"\n",
    "\n",
    "    @staticmethod\n",
    "    def validateStr(func):\n",
    "        def validateStrWrapper(w, value):\n",
    "            if not(isinstance(value, str)):\n",
    "                raise TypeError('must be an str')\n",
    "            return func(w, value)\n",
    "        return validateStrWrapper\n",
    "\n",
    "    @staticmethod\n",
    "    def validateFloat(func):\n",
    "        def validateFloatWrapper(w, value):\n",
    "            if not(isinstance(value, float)) and not(isinstance(value, int)):\n",
    "                try:\n",
    "                    value = float(value)\n",
    "                except TypeError:\n",
    "                    raise TypeError('must be an float')\n",
    "            return func(w, value)\n",
    "        return validateFloatWrapper\n",
    "\n",
    "    @staticmethod\n",
    "    def validateInt(func):\n",
    "        def validateIntWrapper(w, value):\n",
    "            if not(isinstance(value, int)):\n",
    "                try:\n",
    "                    value = int(value)\n",
    "                except TypeError:\n",
    "                    raise TypeError('must be an int')\n",
    "            return func(w, value)\n",
    "        return validateIntWrapper\n",
    "\n",
    "    @staticmethod\n",
    "    def validateSize(func):\n",
    "        def validateSizeWrapper(w, value):\n",
    "            if not(isinstance(value, int)) and not(isinstance(value, float)):\n",
    "                try:\n",
    "                    value = float(value)\n",
    "                except TypeError:\n",
    "                    raise TypeError('must be an float')\n",
    "            if value < 0:\n",
    "                raise ValueError(\"mast be positive\")\n",
    "            return func(w, value)\n",
    "        return validateSizeWrapper\n",
    "\n",
    "    @staticmethod\n",
    "    def validateAmount(func):\n",
    "        def validateAmountWrapper(w, value):\n",
    "            if not(isinstance(value, int)):\n",
    "                try:\n",
    "                    value = int(value)\n",
    "                except TypeError:\n",
    "                    raise TypeError('must be an int')\n",
    "            if value < 0:\n",
    "                raise ValueError(\"mast be positive\")\n",
    "            return func(w, value)\n",
    "        return validateAmountWrapper\n",
    "\n",
    "    @staticmethod\n",
    "    def validateDate(func):\n",
    "        def validateDateWrapper(w, date):\n",
    "            datetime.strptime(date, '%Y-%m-%d')\n",
    "            return func(w, date)\n",
    "        return validateDateWrapper\n",
    "\n",
    "    \n",
    "    @staticmethod\n",
    "    def validateCard(func):\n",
    "        def validateCardWrapper(w, value):\n",
    "            if not value.isdigit():\n",
    "                raise ValueError(\"mast contain only digits\")\n",
    "            return func(w, value)\n",
    "        return validateCardWrapper\n",
    "\n",
    "    @staticmethod\n",
    "    def validateFileName(end=\".csv\"):\n",
    "        def validateFileNameDecorator(func):\n",
    "            def validateFileNameWrapper(L, filename):\n",
    "                if not filename.endswith(end):\n",
    "                    raise ValueError(\"Incorrect filename, should end with .\" + end + \".\")\n",
    "                return func(L, filename)\n",
    "            return validateFileNameWrapper\n",
    "        return validateFileNameDecorator"
   ]
  },
  {
   "cell_type": "code",
   "execution_count": 273,
   "metadata": {},
   "outputs": [],
   "source": [
    "class Pretender:\n",
    "    def __init__(self, p_last_name, p_first_name, p_id):\n",
    "        self.p_last_name = p_last_name\n",
    "        self.p_first_name = p_first_name\n",
    "        self.p_id = p_id\n",
    "\n",
    "    @property\n",
    "    def p_last_name(self):\n",
    "        return self._p_last_name\n",
    "    \n",
    "    @p_last_name.setter\n",
    "    @Validation.validateStr\n",
    "    def p_last_name(self, val):\n",
    "        self._p_last_name = val\n",
    "\n",
    "    @property\n",
    "    def p_first_name(self):\n",
    "        return self._p_first_name\n",
    "\n",
    "    @p_first_name.setter\n",
    "    @Validation.validateStr\n",
    "    def p_first_name(self, val):\n",
    "        self._p_first_name = val\n",
    "    \n",
    "    @property\n",
    "    def p_id(self):\n",
    "        return self._p_id\n",
    "    \n",
    "    @p_id.setter\n",
    "    @Validation.validateInt\n",
    "    def p_id(self, val):\n",
    "        self._p_id = val\n",
    "\n",
    "    def full_name(self):\n",
    "        return f'{self.p_first_name} {self.p_last_name}'\n",
    "\n",
    "    def __str__(self):\n",
    "        return f'first name is {self.p_first_name}, last name is {self.p_last_name}, and id is {self.p_id}'\n",
    "\n",
    "    def __repr__(self):\n",
    "        return f'p_first_name ={self.p_first_name}, p_last_name = {self.p_last_name}, p_id = {self.p_id}'"
   ]
  },
  {
   "cell_type": "code",
   "execution_count": 274,
   "metadata": {},
   "outputs": [],
   "source": [
    "class Test:\n",
    "    def __init__(self, t_p_id, t_name, t_points):\n",
    "        self.t_p_id = t_p_id\n",
    "        self.t_name = t_name\n",
    "        self.t_points = t_points\n",
    "\n",
    "    @property\n",
    "    def t_p_id(self):\n",
    "        return self._t_p_id\n",
    "    \n",
    "    @t_p_id.setter\n",
    "    @Validation.validateInt\n",
    "    def t_p_id(self, val):\n",
    "        self._t_p_id = val\n",
    "\n",
    "    @property\n",
    "    def t_name(self):\n",
    "        return self._t_name\n",
    "    \n",
    "    @t_name.setter\n",
    "    @Validation.validateStr\n",
    "    def t_name(self, val):\n",
    "        self._t_name = val\n",
    "\n",
    "    @property\n",
    "    def t_points(self):\n",
    "        return self._t_points\n",
    "    \n",
    "    @t_points.setter\n",
    "    @Validation.validateSize\n",
    "    def t_points(self, val):\n",
    "        self._t_points = val\n",
    "\n",
    "    def __str__(self):\n",
    "        return f'id is {self.t_p_id}, test name is {self.t_name}, and points {self.t_points}'\n",
    "\n",
    "    def __repr__(self):\n",
    "        return f't_p_id={self.t_p_id}, t_name={self.t_name}, t_points={self.t_points}'"
   ]
  },
  {
   "cell_type": "code",
   "execution_count": 275,
   "metadata": {},
   "outputs": [],
   "source": [
    "def read_csv_file(file_name, t, objects):  \n",
    "    with open(file_name, 'r') as v:\n",
    "        r = csv.reader(v)\n",
    "        next(r)\n",
    "        for row in r:\n",
    "            try:\n",
    "                objects.append(t(*row))\n",
    "            except Exception as e:\n",
    "                print(f'{file_name}:\\nline - {len(objects)}: {e}')\n",
    "                continue"
   ]
  },
  {
   "cell_type": "code",
   "execution_count": 276,
   "metadata": {},
   "outputs": [
    {
     "output_type": "execute_result",
     "data": {
      "text/plain": [
       "([p_first_name =Shawna, p_last_name = Schowalter, p_id = 1,\n",
       "  p_first_name =Shawna, p_last_name = Conn, p_id = 2,\n",
       "  p_first_name =Keegan, p_last_name = Parker, p_id = 3,\n",
       "  p_first_name =Shaniya, p_last_name = Walter, p_id = 4,\n",
       "  p_first_name =Nelda, p_last_name = Dietrich, p_id = 5,\n",
       "  p_first_name =Alan, p_last_name = Lang, p_id = 6,\n",
       "  p_first_name =Bart, p_last_name = Schmidt, p_id = 7,\n",
       "  p_first_name =Casper, p_last_name = Gusikowski, p_id = 8,\n",
       "  p_first_name =Katrina, p_last_name = Cole, p_id = 9,\n",
       "  p_first_name =Citlalli, p_last_name = Farrell, p_id = 10],\n",
       " [t_p_id=1, t_name=Ukrainian, t_points=23.0,\n",
       "  t_p_id=1, t_name=Math, t_points=70.0,\n",
       "  t_p_id=2, t_name=Polish, t_points=99.0,\n",
       "  t_p_id=2, t_name=Physics, t_points=51.0,\n",
       "  t_p_id=3, t_name=Math, t_points=85.0,\n",
       "  t_p_id=3, t_name=PE, t_points=30.0,\n",
       "  t_p_id=4, t_name=Ukrainian, t_points=80.0,\n",
       "  t_p_id=4, t_name=Polish, t_points=78.0,\n",
       "  t_p_id=5, t_name=Chemistry, t_points=10.0,\n",
       "  t_p_id=5, t_name=Physics, t_points=89.0,\n",
       "  t_p_id=6, t_name=PE, t_points=89.0,\n",
       "  t_p_id=6, t_name=Chemistry, t_points=40.0,\n",
       "  t_p_id=7, t_name=Math, t_points=88.0,\n",
       "  t_p_id=7, t_name=Polish, t_points=13.0,\n",
       "  t_p_id=8, t_name=Physics, t_points=33.0,\n",
       "  t_p_id=8, t_name=Polish, t_points=69.0,\n",
       "  t_p_id=9, t_name=PE, t_points=20.0,\n",
       "  t_p_id=9, t_name=Math, t_points=79.0,\n",
       "  t_p_id=10, t_name=Polish, t_points=10.0,\n",
       "  t_p_id=10, t_name=Ukrainian, t_points=94.0])"
      ]
     },
     "metadata": {},
     "execution_count": 276
    }
   ],
   "source": [
    "pretenders = []\n",
    "tests = []\n",
    "\n",
    "read_csv_file(\"pretenders.csv\", Pretender, pretenders)\n",
    "read_csv_file(\"tests.csv\", Test, tests)\n",
    "\n",
    "pretenders, tests"
   ]
  },
  {
   "cell_type": "code",
   "execution_count": 277,
   "metadata": {},
   "outputs": [],
   "source": [
    "def draw_histogram(x, y, x_label, y_label, title): \n",
    "    fig, ax = plt.subplots(figsize=(10, 7))\n",
    "    ax.bar(x, y, color='#EB984E', width=0.5, edgecolor='#154360')\n",
    "    ax.set_title(title, color='black', size=50, fontweight='bold', pad=30)\n",
    "    ax.set_ylabel(y_label, size=25, fontweight='bold')\n",
    "    ax.set_xlabel(x_label, size=24, fontweight='bold')\n",
    "    ax.tick_params(axis='x', rotation=70, direction='inout', pad=10, labelsize='large', length=10, width=2)\n",
    "    ax.tick_params(axis='y', direction='inout', pad=10, labelsize='large', length=10, width=2)\n",
    "    ax.patch.set_facecolor('#FCF3CF')\n",
    "    fig.patch.set_facecolor('#73C6B6')         \n",
    "    plt.show()"
   ]
  },
  {
   "source": [
    "1. Отримати для учасника, заданого випадаючим списком, перелiк пре- дметiв з набраними балами, впорядковуючи його за спаданням балiв (вра-\n",
    "ховувати лише наявнi результати);<br>\n",
    "1а.побудувати дiаграму результатiв заданого учасника.<br>"
   ],
   "cell_type": "markdown",
   "metadata": {}
  },
  {
   "cell_type": "code",
   "execution_count": 278,
   "metadata": {},
   "outputs": [
    {
     "output_type": "display_data",
     "data": {
      "text/plain": "interactive(children=(Dropdown(description='pretender', options=(('Alan Lang', p_first_name =Alan, p_last_name…",
      "application/vnd.jupyter.widget-view+json": {
       "version_major": 2,
       "version_minor": 0,
       "model_id": "41765445c7624392940d5c0319ac9e0d"
      }
     },
     "metadata": {}
    }
   ],
   "source": [
    "surnames = [(pretender.full_name(), pretender) for pretender in pretenders]\n",
    "\n",
    "def task1(pretender):\n",
    "    pretender_tests = sorted([(test.t_name, test.t_points) for test in tests if test.t_p_id == pretender.p_id], key=lambda t: t[1])\n",
    "\n",
    "    print(f'{pretender.p_last_name}:')\n",
    "    for t in pretender_tests:\n",
    "        print(t[0] + \" - \" + str(t[1]))\n",
    "        \n",
    "    x, y = zip(*pretender_tests)\n",
    "    draw_histogram(x, y, \"Test\", \"Points\", pretender.full_name())\n",
    "\n",
    "interact(task1, pretender=sorted(surnames));"
   ]
  },
  {
   "source": [
    "2. Для предмета, заданого випадаючим списком, отримати рейтинг уча- сникiв за результатами тестiв;<br>\n",
    "2а.побудувати дiаграму результатiв заданого предмета вiдповiдно до п.2.<br>"
   ],
   "cell_type": "markdown",
   "metadata": {}
  },
  {
   "cell_type": "code",
   "execution_count": 279,
   "metadata": {},
   "outputs": [
    {
     "output_type": "display_data",
     "data": {
      "text/plain": "interactive(children=(Dropdown(description='test', options={'Ukrainian': [t_p_id=1, t_name=Ukrainian, t_points…",
      "application/vnd.jupyter.widget-view+json": {
       "version_major": 2,
       "version_minor": 0,
       "model_id": "b430d05134d54cc689bc476dd3fc3bb3"
      }
     },
     "metadata": {}
    }
   ],
   "source": [
    "tests_names = {}\n",
    "for test in tests:\n",
    "    tests_names.setdefault(test.t_name, []).append(test)\n",
    "\n",
    "def task1(test):\n",
    "    test_pretenders = sorted([(pret.full_name(), t.t_points) for pret in pretenders for t in test if t.t_p_id == pret.p_id], key=lambda t: t[1], reverse=True)\n",
    "    \n",
    "    print(f'{test[0].t_name}:')\n",
    "    for t in test_pretenders:\n",
    "        print(t[0] + \" - \" + str(t[1]))\n",
    "        \n",
    "    x, y = zip(*test_pretenders)\n",
    "    draw_histogram(x, y, \"Pretendents\", \"Points\", test[0].t_name)\n",
    "\n",
    "interact(task1, test=tests_names);"
   ]
  },
  {
   "source": [
    "3. Для факультету, заданого випадаючим списком, побудувати рейтинг претендентiв за сумою результатiв (бiльших за прохiдний бал, який\n",
    "зада- вати слайдером для кожного предмета) з вiдповiдних предметiв;<br>\n",
    "3а.побудувати дiаграму претендентiв для п.3.<br>\n",
    "3б.За допомогою текстового вiджета задати кiлькiсть мiсць для зараху- вання на факультет за п.3 i отримати фiнальний список.<br>"
   ],
   "cell_type": "markdown",
   "metadata": {}
  },
  {
   "cell_type": "code",
   "execution_count": 280,
   "metadata": {},
   "outputs": [
    {
     "output_type": "display_data",
     "data": {
      "text/plain": "interactive(children=(Dropdown(description='faculty', options={'Applied Mathematic': ['Math', 'Physics'], 'Fil…",
      "application/vnd.jupyter.widget-view+json": {
       "version_major": 2,
       "version_minor": 0,
       "model_id": "b1a768b9cf1d4404bcc95de568bd3e30"
      }
     },
     "metadata": {}
    }
   ],
   "source": [
    "faculties = {\n",
    "    'Applied Mathematic': ['Math', 'Physics'],\n",
    "    'Filology': ['Ukrainian', 'Polish'],\n",
    "    'Physical': ['PE', 'Chemistry']\n",
    "}\n",
    "\n",
    "def task3(faculty, p, amount):\n",
    "    try: \n",
    "        amount = int(amount)\n",
    "    except Exception:\n",
    "        print(\"Amount should be an integer\")\n",
    "        return\n",
    "\n",
    "    bests = {}\n",
    "    for pr in pretenders:\n",
    "        bests[pr.full_name()]= sum([test.t_points for t in faculty for test in tests if t == test.t_name if pr.p_id == test.t_p_id])\n",
    "    best_pretendents = sorted([(k, v) for k, v in bests.items() if v > p], key=lambda k: k[1], reverse=True)[:int(amount)]\n",
    "    for i in best_pretendents:\n",
    "        print(f'{i[0]} - {i[1]}')\n",
    "\n",
    "    try:\n",
    "        x, y = zip(*best_pretendents)\n",
    "    except Exception:\n",
    "        print(\"Ther's now students with such good points!\")\n",
    "        return\n",
    "\n",
    "    draw_histogram(x, y, \"Pretentents\", \"Points\", faculty)\n",
    "\n",
    "   \n",
    "present_value = ipywidgets.IntSlider(min=0, max=200, step=5, value=30, description='passing score', continuous_update=False)\n",
    "text = ipywidgets.Text(value='100', placeholder='Type amount', disabled=False)\n",
    "interact(task3, faculty=faculties, p=present_value, amount=text);"
   ]
  },
  {
   "source": [
    "# Pandas"
   ],
   "cell_type": "markdown",
   "metadata": {}
  },
  {
   "cell_type": "code",
   "execution_count": 281,
   "metadata": {},
   "outputs": [
    {
     "output_type": "display_data",
     "data": {
      "text/plain": "  p_last_name p_first_name  p_id\n0  Schowalter       Shawna     1\n1        Conn       Shawna     2\n2      Parker       Keegan     3\n3      Walter      Shaniya     4\n4    Dietrich        Nelda     5\n5        Lang         Alan     6\n6     Schmidt         Bart     7\n7  Gusikowski       Casper     8\n8        Cole      Katrina     9\n9     Farrell     Citlalli    10",
      "text/html": "<div>\n<style scoped>\n    .dataframe tbody tr th:only-of-type {\n        vertical-align: middle;\n    }\n\n    .dataframe tbody tr th {\n        vertical-align: top;\n    }\n\n    .dataframe thead th {\n        text-align: right;\n    }\n</style>\n<table border=\"1\" class=\"dataframe\">\n  <thead>\n    <tr style=\"text-align: right;\">\n      <th></th>\n      <th>p_last_name</th>\n      <th>p_first_name</th>\n      <th>p_id</th>\n    </tr>\n  </thead>\n  <tbody>\n    <tr>\n      <th>0</th>\n      <td>Schowalter</td>\n      <td>Shawna</td>\n      <td>1</td>\n    </tr>\n    <tr>\n      <th>1</th>\n      <td>Conn</td>\n      <td>Shawna</td>\n      <td>2</td>\n    </tr>\n    <tr>\n      <th>2</th>\n      <td>Parker</td>\n      <td>Keegan</td>\n      <td>3</td>\n    </tr>\n    <tr>\n      <th>3</th>\n      <td>Walter</td>\n      <td>Shaniya</td>\n      <td>4</td>\n    </tr>\n    <tr>\n      <th>4</th>\n      <td>Dietrich</td>\n      <td>Nelda</td>\n      <td>5</td>\n    </tr>\n    <tr>\n      <th>5</th>\n      <td>Lang</td>\n      <td>Alan</td>\n      <td>6</td>\n    </tr>\n    <tr>\n      <th>6</th>\n      <td>Schmidt</td>\n      <td>Bart</td>\n      <td>7</td>\n    </tr>\n    <tr>\n      <th>7</th>\n      <td>Gusikowski</td>\n      <td>Casper</td>\n      <td>8</td>\n    </tr>\n    <tr>\n      <th>8</th>\n      <td>Cole</td>\n      <td>Katrina</td>\n      <td>9</td>\n    </tr>\n    <tr>\n      <th>9</th>\n      <td>Farrell</td>\n      <td>Citlalli</td>\n      <td>10</td>\n    </tr>\n  </tbody>\n</table>\n</div>"
     },
     "metadata": {}
    },
    {
     "output_type": "display_data",
     "data": {
      "text/plain": "    p_id     t_name  t_points\n0      1  Ukrainian        23\n1      1       Math        70\n2      2     Polish        99\n3      2    Physics        51\n4      3       Math        85\n5      3         PE        30\n6      4  Ukrainian        80\n7      4     Polish        78\n8      5  Chemistry        10\n9      5    Physics        89\n10     6         PE        89\n11     6  Chemistry        40\n12     7       Math        88\n13     7     Polish        13\n14     8    Physics        33\n15     8     Polish        69\n16     9         PE        20\n17     9       Math        79\n18    10     Polish        10\n19    10  Ukrainian        94",
      "text/html": "<div>\n<style scoped>\n    .dataframe tbody tr th:only-of-type {\n        vertical-align: middle;\n    }\n\n    .dataframe tbody tr th {\n        vertical-align: top;\n    }\n\n    .dataframe thead th {\n        text-align: right;\n    }\n</style>\n<table border=\"1\" class=\"dataframe\">\n  <thead>\n    <tr style=\"text-align: right;\">\n      <th></th>\n      <th>p_id</th>\n      <th>t_name</th>\n      <th>t_points</th>\n    </tr>\n  </thead>\n  <tbody>\n    <tr>\n      <th>0</th>\n      <td>1</td>\n      <td>Ukrainian</td>\n      <td>23</td>\n    </tr>\n    <tr>\n      <th>1</th>\n      <td>1</td>\n      <td>Math</td>\n      <td>70</td>\n    </tr>\n    <tr>\n      <th>2</th>\n      <td>2</td>\n      <td>Polish</td>\n      <td>99</td>\n    </tr>\n    <tr>\n      <th>3</th>\n      <td>2</td>\n      <td>Physics</td>\n      <td>51</td>\n    </tr>\n    <tr>\n      <th>4</th>\n      <td>3</td>\n      <td>Math</td>\n      <td>85</td>\n    </tr>\n    <tr>\n      <th>5</th>\n      <td>3</td>\n      <td>PE</td>\n      <td>30</td>\n    </tr>\n    <tr>\n      <th>6</th>\n      <td>4</td>\n      <td>Ukrainian</td>\n      <td>80</td>\n    </tr>\n    <tr>\n      <th>7</th>\n      <td>4</td>\n      <td>Polish</td>\n      <td>78</td>\n    </tr>\n    <tr>\n      <th>8</th>\n      <td>5</td>\n      <td>Chemistry</td>\n      <td>10</td>\n    </tr>\n    <tr>\n      <th>9</th>\n      <td>5</td>\n      <td>Physics</td>\n      <td>89</td>\n    </tr>\n    <tr>\n      <th>10</th>\n      <td>6</td>\n      <td>PE</td>\n      <td>89</td>\n    </tr>\n    <tr>\n      <th>11</th>\n      <td>6</td>\n      <td>Chemistry</td>\n      <td>40</td>\n    </tr>\n    <tr>\n      <th>12</th>\n      <td>7</td>\n      <td>Math</td>\n      <td>88</td>\n    </tr>\n    <tr>\n      <th>13</th>\n      <td>7</td>\n      <td>Polish</td>\n      <td>13</td>\n    </tr>\n    <tr>\n      <th>14</th>\n      <td>8</td>\n      <td>Physics</td>\n      <td>33</td>\n    </tr>\n    <tr>\n      <th>15</th>\n      <td>8</td>\n      <td>Polish</td>\n      <td>69</td>\n    </tr>\n    <tr>\n      <th>16</th>\n      <td>9</td>\n      <td>PE</td>\n      <td>20</td>\n    </tr>\n    <tr>\n      <th>17</th>\n      <td>9</td>\n      <td>Math</td>\n      <td>79</td>\n    </tr>\n    <tr>\n      <th>18</th>\n      <td>10</td>\n      <td>Polish</td>\n      <td>10</td>\n    </tr>\n    <tr>\n      <th>19</th>\n      <td>10</td>\n      <td>Ukrainian</td>\n      <td>94</td>\n    </tr>\n  </tbody>\n</table>\n</div>"
     },
     "metadata": {}
    },
    {
     "output_type": "display_data",
     "data": {
      "text/plain": "    p_id     t_name  t_points          full_name\n0      1  Ukrainian        23  Shawna Schowalter\n1      1       Math        70  Shawna Schowalter\n2      2     Polish        99        Shawna Conn\n3      2    Physics        51        Shawna Conn\n4      3       Math        85      Keegan Parker\n5      3         PE        30      Keegan Parker\n6      4  Ukrainian        80     Shaniya Walter\n7      4     Polish        78     Shaniya Walter\n8      5  Chemistry        10     Nelda Dietrich\n9      5    Physics        89     Nelda Dietrich\n10     6         PE        89          Alan Lang\n11     6  Chemistry        40          Alan Lang\n12     7       Math        88       Bart Schmidt\n13     7     Polish        13       Bart Schmidt\n14     8    Physics        33  Casper Gusikowski\n15     8     Polish        69  Casper Gusikowski\n16     9         PE        20       Katrina Cole\n17     9       Math        79       Katrina Cole\n18    10     Polish        10   Citlalli Farrell\n19    10  Ukrainian        94   Citlalli Farrell",
      "text/html": "<div>\n<style scoped>\n    .dataframe tbody tr th:only-of-type {\n        vertical-align: middle;\n    }\n\n    .dataframe tbody tr th {\n        vertical-align: top;\n    }\n\n    .dataframe thead th {\n        text-align: right;\n    }\n</style>\n<table border=\"1\" class=\"dataframe\">\n  <thead>\n    <tr style=\"text-align: right;\">\n      <th></th>\n      <th>p_id</th>\n      <th>t_name</th>\n      <th>t_points</th>\n      <th>full_name</th>\n    </tr>\n  </thead>\n  <tbody>\n    <tr>\n      <th>0</th>\n      <td>1</td>\n      <td>Ukrainian</td>\n      <td>23</td>\n      <td>Shawna Schowalter</td>\n    </tr>\n    <tr>\n      <th>1</th>\n      <td>1</td>\n      <td>Math</td>\n      <td>70</td>\n      <td>Shawna Schowalter</td>\n    </tr>\n    <tr>\n      <th>2</th>\n      <td>2</td>\n      <td>Polish</td>\n      <td>99</td>\n      <td>Shawna Conn</td>\n    </tr>\n    <tr>\n      <th>3</th>\n      <td>2</td>\n      <td>Physics</td>\n      <td>51</td>\n      <td>Shawna Conn</td>\n    </tr>\n    <tr>\n      <th>4</th>\n      <td>3</td>\n      <td>Math</td>\n      <td>85</td>\n      <td>Keegan Parker</td>\n    </tr>\n    <tr>\n      <th>5</th>\n      <td>3</td>\n      <td>PE</td>\n      <td>30</td>\n      <td>Keegan Parker</td>\n    </tr>\n    <tr>\n      <th>6</th>\n      <td>4</td>\n      <td>Ukrainian</td>\n      <td>80</td>\n      <td>Shaniya Walter</td>\n    </tr>\n    <tr>\n      <th>7</th>\n      <td>4</td>\n      <td>Polish</td>\n      <td>78</td>\n      <td>Shaniya Walter</td>\n    </tr>\n    <tr>\n      <th>8</th>\n      <td>5</td>\n      <td>Chemistry</td>\n      <td>10</td>\n      <td>Nelda Dietrich</td>\n    </tr>\n    <tr>\n      <th>9</th>\n      <td>5</td>\n      <td>Physics</td>\n      <td>89</td>\n      <td>Nelda Dietrich</td>\n    </tr>\n    <tr>\n      <th>10</th>\n      <td>6</td>\n      <td>PE</td>\n      <td>89</td>\n      <td>Alan Lang</td>\n    </tr>\n    <tr>\n      <th>11</th>\n      <td>6</td>\n      <td>Chemistry</td>\n      <td>40</td>\n      <td>Alan Lang</td>\n    </tr>\n    <tr>\n      <th>12</th>\n      <td>7</td>\n      <td>Math</td>\n      <td>88</td>\n      <td>Bart Schmidt</td>\n    </tr>\n    <tr>\n      <th>13</th>\n      <td>7</td>\n      <td>Polish</td>\n      <td>13</td>\n      <td>Bart Schmidt</td>\n    </tr>\n    <tr>\n      <th>14</th>\n      <td>8</td>\n      <td>Physics</td>\n      <td>33</td>\n      <td>Casper Gusikowski</td>\n    </tr>\n    <tr>\n      <th>15</th>\n      <td>8</td>\n      <td>Polish</td>\n      <td>69</td>\n      <td>Casper Gusikowski</td>\n    </tr>\n    <tr>\n      <th>16</th>\n      <td>9</td>\n      <td>PE</td>\n      <td>20</td>\n      <td>Katrina Cole</td>\n    </tr>\n    <tr>\n      <th>17</th>\n      <td>9</td>\n      <td>Math</td>\n      <td>79</td>\n      <td>Katrina Cole</td>\n    </tr>\n    <tr>\n      <th>18</th>\n      <td>10</td>\n      <td>Polish</td>\n      <td>10</td>\n      <td>Citlalli Farrell</td>\n    </tr>\n    <tr>\n      <th>19</th>\n      <td>10</td>\n      <td>Ukrainian</td>\n      <td>94</td>\n      <td>Citlalli Farrell</td>\n    </tr>\n  </tbody>\n</table>\n</div>"
     },
     "metadata": {}
    }
   ],
   "source": [
    "pretenders = pd.read_csv(\"pretenders.csv\")\n",
    "tests = pd.read_csv(\"tests.csv\")\n",
    "\n",
    "display(pretenders)\n",
    "display(tests)\n",
    "\n",
    "\n",
    "big_df = pd.merge(tests, pretenders, on='p_id', how='left')\n",
    "big_df[\"full_name\"] = big_df[\"p_first_name\"] + \" \" + big_df[\"p_last_name\"]\n",
    "big_df = big_df.drop([\"p_first_name\", \"p_last_name\"], axis=1)\n",
    "display(big_df)"
   ]
  },
  {
   "source": [
    "1. Отримати для учасника, заданого випадаючим списком, перелiк пре- дметiв з набраними балами, впорядковуючи його за спаданням балiв (вра-\n",
    "ховувати лише наявнi результати);<br>\n",
    "1а.побудувати дiаграму результатiв заданого учасника.<br>"
   ],
   "cell_type": "markdown",
   "metadata": {}
  },
  {
   "cell_type": "code",
   "execution_count": 282,
   "metadata": {},
   "outputs": [
    {
     "output_type": "display_data",
     "data": {
      "text/plain": "interactive(children=(Dropdown(description='pretender', options=('Nelda Dietrich', 'Bart Schmidt', 'Citlalli F…",
      "application/vnd.jupyter.widget-view+json": {
       "version_major": 2,
       "version_minor": 0,
       "model_id": "93c061c146614fe7a646bf99617ffef2"
      }
     },
     "metadata": {}
    }
   ],
   "source": [
    "surnames = set(big_df[\"full_name\"])\n",
    "def task1(pretender):\n",
    "    df1 = big_df[big_df[\"full_name\"] == pretender].sort_values(by=['t_points'], ascending=False)\n",
    "    df1 = df1.drop([\"full_name\", \"p_id\"], axis=1)\n",
    "    display(df1)\n",
    "    \n",
    "    df1.plot(x=\"t_name\", y=\"t_points\", kind='bar', title=pretender, figsize=(10, 5), rot=30, color= '#73C6B6');\n",
    "\n",
    "interact(task1, pretender=surnames);"
   ]
  },
  {
   "source": [
    "2. Для предмета, заданого випадаючим списком, отримати рейтинг уча- сникiв за результатами тестiв;<br>\n",
    "2а.побудувати дiаграму результатiв заданого предмета вiдповiдно до п.2.<br>"
   ],
   "cell_type": "markdown",
   "metadata": {}
  },
  {
   "cell_type": "code",
   "execution_count": 283,
   "metadata": {},
   "outputs": [
    {
     "output_type": "display_data",
     "data": {
      "text/plain": "interactive(children=(Dropdown(description='test', options=('Ukrainian', 'Math', 'Polish', 'PE', 'Physics', 'C…",
      "application/vnd.jupyter.widget-view+json": {
       "version_major": 2,
       "version_minor": 0,
       "model_id": "d0e9b7c9517342daa1826d056163d339"
      }
     },
     "metadata": {}
    }
   ],
   "source": [
    "tests_names = set(big_df[\"t_name\"])\n",
    "def task1(test):\n",
    "    df1 = big_df[big_df[\"t_name\"] == test].sort_values(by=['t_points'], ascending=False)\n",
    "    df1 = df1.drop([\"t_name\", \"p_id\"], axis=1)\n",
    "    display(df1)\n",
    "    \n",
    "    df1.plot(x=\"full_name\", y=\"t_points\", kind='bar', title=test, figsize=(10, 5), rot=30, color= '#73C6B6');\n",
    "\n",
    "interact(task1, test=tests_names);\n"
   ]
  },
  {
   "source": [
    "3. Для факультету, заданого випадаючим списком, побудувати рейтинг претендентiв за сумою результатiв (бiльших за прохiдний бал, який\n",
    "зада- вати слайдером для кожного предмета) з вiдповiдних предметiв;<br>\n",
    "3а.побудувати дiаграму претендентiв для п.3.<br>\n",
    "3б.За допомогою текстового вiджета задати кiлькiсть мiсць для зараху- вання на факультет за п.3 i отримати фiнальний список.<br>"
   ],
   "cell_type": "markdown",
   "metadata": {}
  },
  {
   "cell_type": "code",
   "execution_count": 284,
   "metadata": {},
   "outputs": [
    {
     "output_type": "display_data",
     "data": {
      "text/plain": "interactive(children=(Dropdown(description='faculty', options={'Applied Mathematic': ['Math', 'Physics'], 'Fil…",
      "application/vnd.jupyter.widget-view+json": {
       "version_major": 2,
       "version_minor": 0,
       "model_id": "4a894df40a3649c7977aedcb1116ae46"
      }
     },
     "metadata": {}
    }
   ],
   "source": [
    "faculties = {\n",
    "    'Applied Mathematic': ['Math', 'Physics'],\n",
    "    'Filology': ['Ukrainian', 'Polish'],\n",
    "    'Physical': ['PE', 'Chemistry']\n",
    "}\n",
    "\n",
    "def task3(faculty, p, amount):\n",
    "    try: \n",
    "        amount = int(amount)\n",
    "    except Exception:\n",
    "        print(\"Amount should be an integer\")\n",
    "        return\n",
    "\n",
    "    df1 = big_df[(big_df[\"t_name\"] == faculty[0]) | (big_df[\"t_name\"] == faculty[1])]\n",
    "    df1 = df1.groupby([\"full_name\"])['t_points'].sum().reset_index().sort_values(by=['t_points'], ascending=False)\n",
    "    df1 = df1[df1[\"t_points\"] > p].reset_index()\n",
    "    display(df1)\n",
    "    df1.plot(x=\"full_name\", y=\"t_points\", kind='bar', title=str(faculty), figsize=(10, 5), rot=30, color= '#73C6B6');\n",
    "    df1 = df1.truncate(before=0, after=amount-1)\n",
    "    display(df1)\n",
    "\n",
    "present_value = ipywidgets.IntSlider(min=0, max=200, step=5, value=30, description='passing score', continuous_update=False)\n",
    "text = ipywidgets.Text(value='100', placeholder='Type amount', disabled=False)\n",
    "interact(task3, faculty=faculties, p=present_value, amount=text);"
   ]
  },
  {
   "cell_type": "code",
   "execution_count": null,
   "metadata": {},
   "outputs": [],
   "source": []
  }
 ]
}