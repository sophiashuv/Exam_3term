{
 "metadata": {
  "language_info": {
   "codemirror_mode": {
    "name": "ipython",
    "version": 3
   },
   "file_extension": ".py",
   "mimetype": "text/x-python",
   "name": "python",
   "nbconvert_exporter": "python",
   "pygments_lexer": "ipython3",
   "version": "3.8.5-final"
  },
  "orig_nbformat": 2,
  "kernelspec": {
   "name": "python3",
   "display_name": "Python 3",
   "language": "python"
  }
 },
 "nbformat": 4,
 "nbformat_minor": 2,
 "cells": [
  {
   "source": [
    "# Task\n",
    "Розробити типи для результатiв лабораторних аналiзiв. Пацiєнти хара-<br>\n",
    "ктеризуються прiзвищем, iменем та iдентифiкацiйним номером. Результати<br>\n",
    "\n",
    "аналiзiв характеризуються номером пацiєнта, назвою лiкарняного вiддiлен-<br>\n",
    "ня, назвою виду аналiзу та кiлькiсним показником у вiдповiдних одиницях.<br>\n",
    "\n",
    "Вважається, що кожен вид аналiзу характеризується нижньою i верхньою<br>\n",
    "межею нормальних значень.<br>\n",
    "Данi пацiєнтiв i результати аналiзiв задано у двох окремих файлах.<br>\n",
    "\n",
    "1. Отримати перелiк результатiв конкретного виду аналiзу (заданого ви-<br>\n",
    "падаючим списком) для усiх пацiєнтiв конкретного вiддiлення (заданого<br>\n",
    "випадаючим списком), який впорядкований за алфавiтним порядком;<br>\n",
    "1а.побудувати дiаграму результатiв вiдповiдно до п.1.<br>\n",
    "\n",
    "2. Для конкретного виду аналiзу (заданого випадаючим списком) за за-<br>\n",
    "даним слайдерами дiапазоном нормальних показникiв побудувати перелiк<br>\n",
    "пацiєнтiв з вiдхиленнями вiд норми;<br>\n",
    "2а.побудувати дiаграму результатiв для усiх пацiєнтiв вiдповiдно до п.2.<br>\n",
    "\n",
    "3. Для конкретного вiддiлення (заданого випадаючим списком) для ко-<br>\n",
    "жного пацiєнта з ненормальними аналiзами вивести перелiк вiдхилень;<br>\n",
    "3а.побудувати дiаграму вiдхилень для конкретного виду аналiзу (зада-<br>\n",
    "ного випадаючим списком) вiдповiдно до п.3 у конкретному вiддiленнi (за-<br>\n",
    "даному випадаючим списком) – вважаємо вiдхилення вiд’ємним, якщо по-<br>\n",
    "казник менший норми, i додатнiм, якщо цей показник бiльший за норму.<br>"
   ],
   "cell_type": "markdown",
   "metadata": {}
  },
  {
   "cell_type": "code",
   "execution_count": 101,
   "metadata": {},
   "outputs": [],
   "source": [
    "from ipywidgets import interact, interactive, fixed, interact_manual\n",
    "import ipywidgets\n",
    "import ipywidgets as widgets\n",
    "import matplotlib.pyplot as plt\n",
    "import numpy as np\n",
    "import csv\n",
    "import pandas as pd\n",
    "from IPython.display import Image"
   ]
  },
  {
   "cell_type": "code",
   "execution_count": 102,
   "metadata": {},
   "outputs": [],
   "source": [
    "class Validation:\n",
    "    \"\"\"Class for Validation representation.\"\"\"\n",
    "\n",
    "    @staticmethod\n",
    "    def validateStr(func):\n",
    "        def validateStrWrapper(w, value):\n",
    "            if not(isinstance(value, str)):\n",
    "                raise TypeError('must be an str')\n",
    "            return func(w, value)\n",
    "        return validateStrWrapper\n",
    "\n",
    "    @staticmethod\n",
    "    def validateFloat(func):\n",
    "        def validateFloatWrapper(w, value):\n",
    "            if not(isinstance(value, float)) and not(isinstance(value, int)):\n",
    "                try:\n",
    "                    value = float(value)\n",
    "                except TypeError:\n",
    "                    raise TypeError('must be an float')\n",
    "            return func(w, value)\n",
    "        return validateFloatWrapper\n",
    "\n",
    "    @staticmethod\n",
    "    def validateInt(func):\n",
    "        def validateIntWrapper(w, value):\n",
    "            if not(isinstance(value, int)):\n",
    "                try:\n",
    "                    value = int(value)\n",
    "                except TypeError:\n",
    "                    raise TypeError('must be an int')\n",
    "            return func(w, value)\n",
    "        return validateIntWrapper\n",
    "\n",
    "    @staticmethod\n",
    "    def validateSize(func):\n",
    "        def validateSizeWrapper(w, value):\n",
    "            if not(isinstance(value, int)) and not(isinstance(value, float)):\n",
    "                try:\n",
    "                    value = float(value)\n",
    "                except TypeError:\n",
    "                    raise TypeError('must be an float')\n",
    "            if value < 0:\n",
    "                raise ValueError(\"mast be positive\")\n",
    "            return func(w, value)\n",
    "        return validateSizeWrapper\n",
    "\n",
    "    @staticmethod\n",
    "    def validateAmount(func):\n",
    "        def validateAmountWrapper(w, value):\n",
    "            if not(isinstance(value, int)):\n",
    "                try:\n",
    "                    value = int(value)\n",
    "                except TypeError:\n",
    "                    raise TypeError('must be an int')\n",
    "            if value < 0:\n",
    "                raise ValueError(\"mast be positive\")\n",
    "            return func(w, value)\n",
    "        return validateAmountWrapper\n",
    "\n",
    "    @staticmethod\n",
    "    def validateDate(func):\n",
    "        def validateDateWrapper(w, date):\n",
    "            datetime.strptime(date, '%Y-%m-%d')\n",
    "            return func(w, date)\n",
    "        return validateDateWrapper\n",
    "\n",
    "    \n",
    "    @staticmethod\n",
    "    def validateCard(func):\n",
    "        def validateCardWrapper(w, value):\n",
    "            if not value.isdigit():\n",
    "                raise ValueError(\"mast contain only digits\")\n",
    "            return func(w, value)\n",
    "        return validateCardWrapper\n",
    "\n",
    "    @staticmethod\n",
    "    def validateFileName(end=\".csv\"):\n",
    "        def validateFileNameDecorator(func):\n",
    "            def validateFileNameWrapper(L, filename):\n",
    "                if not filename.endswith(end):\n",
    "                    raise ValueError(\"Incorrect filename, should end with .\" + end + \".\")\n",
    "                return func(L, filename)\n",
    "            return validateFileNameWrapper\n",
    "        return validateFileNameDecorator"
   ]
  },
  {
   "cell_type": "code",
   "execution_count": 86,
   "metadata": {},
   "outputs": [],
   "source": [
    "class Patient:\n",
    "    def __init__(self, p_last_name, p_first_name, p_id):\n",
    "        self.p_last_name = p_last_name\n",
    "        self.p_first_name = p_first_name\n",
    "        self.p_id = p_id\n",
    "\n",
    "    @property\n",
    "    def p_last_name(self):\n",
    "        return self._p_last_name\n",
    "    \n",
    "    @p_last_name.setter\n",
    "    @Validation.validateStr\n",
    "    def p_last_name(self, val):\n",
    "        self._p_last_name = val\n",
    "\n",
    "    @property\n",
    "    def p_first_name(self):\n",
    "        return self._p_first_name\n",
    "\n",
    "    @p_first_name.setter\n",
    "    @Validation.validateStr\n",
    "    def p_first_name(self, val):\n",
    "        self._p_first_name = val\n",
    "    \n",
    "    @property\n",
    "    def p_id(self):\n",
    "        return self._p_id\n",
    "    \n",
    "    @p_id.setter\n",
    "    @Validation.validateInt\n",
    "    def p_id(self, val):\n",
    "        self._p_id = val\n",
    "\n",
    "    def full_name(self):\n",
    "        return f'{self.p_first_name} {self.p_last_name}'\n",
    "\n",
    "    def __str__(self):\n",
    "        return f'first name is {self.p_first_name}, last name is {self.p_last_name}, and id is {self.p_id}'\n",
    "\n",
    "    def __repr__(self):\n",
    "        return f'p_first_name ={self.p_first_name}, p_last_name = {self.p_last_name}, p_id = {self.p_id}'"
   ]
  },
  {
   "cell_type": "code",
   "execution_count": 103,
   "metadata": {},
   "outputs": [],
   "source": [
    "class Results:\n",
    "\n",
    "    def __init__(self, p_id, department_name, analysis_name, quantitative_indicator):\n",
    "        self.p_id = p_id\n",
    "        self.department_name = department_name\n",
    "        self.analysis_name = analysis_name\n",
    "        self.quantitative_indicator = quantitative_indicator\n",
    "\n",
    "    @property\n",
    "    def p_id(self):\n",
    "        return self._p_id\n",
    "    \n",
    "    @p_id.setter\n",
    "    @Validation.validateInt\n",
    "    def p_id(self, val):\n",
    "        self._p_id = val\n",
    "\n",
    "    @property\n",
    "    def department_name(self):\n",
    "        return self._department_name\n",
    "    \n",
    "    @department_name.setter\n",
    "    @Validation.validateStr\n",
    "    def department_name(self, val):\n",
    "        self._department_name = val\n",
    "\n",
    "    @property\n",
    "    def analysis_name(self):\n",
    "        return self._analysis_name\n",
    "    \n",
    "    @analysis_name.setter\n",
    "    @Validation.validateStr\n",
    "    def analysis_name(self, val):\n",
    "        self._analysis_name = val\n",
    "\n",
    "    @property\n",
    "    def quantitative_indicator(self):\n",
    "        return self._quantitative_indicator\n",
    "    \n",
    "    @quantitative_indicator.setter\n",
    "    @Validation.validateSize\n",
    "    def quantitative_indicator(self, val):\n",
    "        self._quantitative_indicator = val\n",
    "\n",
    "    def __str__(self):\n",
    "        return f'p_id={self.p_id}, department_name={self.department_name}, analysis_name={self.analysis_name}, quantitative_indicator={self.quantitative_indicator}'\n",
    "\n",
    "    def __repr__(self):\n",
    "        return f'p_id={self.p_id}, department_name={self.department_name}, analysis_name={self.analysis_name}, quantitative_indicator={self.quantitative_indicator}'"
   ]
  },
  {
   "cell_type": "code",
   "execution_count": 88,
   "metadata": {},
   "outputs": [],
   "source": [
    "def read_csv_file(file_name, t, objects):  \n",
    "    with open(file_name, 'r') as v:\n",
    "        r = csv.reader(v)\n",
    "        next(r)\n",
    "        for row in r:\n",
    "            try:\n",
    "                objects.append(t(*row))\n",
    "            except Exception as e:\n",
    "                print(f'{file_name}:\\nline - {len(objects)}: {e}')\n",
    "                continue"
   ]
  },
  {
   "cell_type": "code",
   "execution_count": 104,
   "metadata": {},
   "outputs": [
    {
     "output_type": "execute_result",
     "data": {
      "text/plain": [
       "([p_first_name =Lawrence, p_last_name = Mueller, p_id = 76255,\n",
       "  p_first_name =Ramon, p_last_name = Gottlieb, p_id = 88899,\n",
       "  p_first_name =Zella, p_last_name = Glover, p_id = 85403,\n",
       "  p_first_name =Haskell, p_last_name = Franecki, p_id = 20479,\n",
       "  p_first_name =Neil, p_last_name = Howe, p_id = 58374,\n",
       "  p_first_name =Collin, p_last_name = Mertz, p_id = 27222,\n",
       "  p_first_name =Dane, p_last_name = Botsford, p_id = 97162,\n",
       "  p_first_name =Eudora, p_last_name = Simonis, p_id = 1982,\n",
       "  p_first_name =Efren, p_last_name = Rodriguez, p_id = 83238,\n",
       "  p_first_name =Veda, p_last_name = Kreiger, p_id = 17170],\n",
       " [p_id=76255, department_name=Dynamic Brand Planner, analysis_name=Dynamic, quantitative_indicator=39.0,\n",
       "  p_id=88899, department_name=Dynamic Tactics Designer, analysis_name=Principal, quantitative_indicator=9.0,\n",
       "  p_id=85403, department_name=National Accountability Developer, analysis_name=Customer, quantitative_indicator=64.0,\n",
       "  p_id=20479, department_name=National Accountability Principal, analysis_name=Customer, quantitative_indicator=7.0,\n",
       "  p_id=58374, department_name=Direct Optimization Engineer, analysis_name=Principal, quantitative_indicator=49.0,\n",
       "  p_id=27222, department_name=Dynamic Tactics Designer, analysis_name=Global, quantitative_indicator=83.0,\n",
       "  p_id=97162, department_name=National Accountability Developer, analysis_name=Customer, quantitative_indicator=13.0,\n",
       "  p_id=1982, department_name=Direct Optimization Engineer, analysis_name=Global, quantitative_indicator=17.0,\n",
       "  p_id=83238, department_name=Dynamic Brand Planner, analysis_name=Dynamic, quantitative_indicator=19.0,\n",
       "  p_id=17170, department_name=Direct Optimization Engineer, analysis_name=Principal, quantitative_indicator=19.0,\n",
       "  p_id=20479, department_name=Internal Configuration Associate, analysis_name=Principal, quantitative_indicator=92.0,\n",
       "  p_id=27222, department_name=Dynamic Brand Planner, analysis_name=Direct, quantitative_indicator=74.0,\n",
       "  p_id=88899, department_name=Direct Optimization Engineer, analysis_name=Dynamic, quantitative_indicator=28.0,\n",
       "  p_id=20479, department_name=Dynamic Tactics Designer, analysis_name=Direct, quantitative_indicator=72.0,\n",
       "  p_id=27222, department_name=Dynamic Brand Planner, analysis_name=Global, quantitative_indicator=76.0,\n",
       "  p_id=76255, department_name=National Accountability Developer, analysis_name=Global, quantitative_indicator=56.0,\n",
       "  p_id=1982, department_name=National Accountability Developer, analysis_name=Customer, quantitative_indicator=81.0,\n",
       "  p_id=58374, department_name=Direct Optimization Engineer, analysis_name=Principal, quantitative_indicator=18.0])"
      ]
     },
     "metadata": {},
     "execution_count": 104
    }
   ],
   "source": [
    "patients = []\n",
    "results = []\n",
    "\n",
    "read_csv_file(\"patients.csv\", Patient, patients)\n",
    "read_csv_file(\"results.csv\", Results, results)\n",
    "\n",
    "patients, results"
   ]
  },
  {
   "cell_type": "code",
   "execution_count": 105,
   "metadata": {},
   "outputs": [],
   "source": [
    "def draw_histogram(x, y, x_label, y_label, title): \n",
    "    fig, ax = plt.subplots(figsize=(10, 7))\n",
    "    ax.bar(x, y, color='#EB984E', width=0.5, edgecolor='#154360')\n",
    "    ax.set_title(title, color='black', size=50, fontweight='bold', pad=30)\n",
    "    ax.set_ylabel(y_label, size=25, fontweight='bold')\n",
    "    ax.set_xlabel(x_label, size=24, fontweight='bold')\n",
    "    ax.tick_params(axis='x', rotation=70, direction='inout', pad=10, labelsize='large', length=10, width=2)\n",
    "    ax.tick_params(axis='y', direction='inout', pad=10, labelsize='large', length=10, width=2)\n",
    "    ax.patch.set_facecolor('#FCF3CF')\n",
    "    fig.patch.set_facecolor('#73C6B6')         \n",
    "    plt.show()"
   ]
  },
  {
   "source": [
    "1. Отримати перелiк результатiв конкретного виду аналiзу (заданого ви-<br>\n",
    "падаючим списком) для усiх пацiєнтiв конкретного вiддiлення (заданого<br>\n",
    "випадаючим списком), який впорядкований за алфавiтним порядком;<br>\n",
    "1а.побудувати дiаграму результатiв вiдповiдно до п.1.<br>"
   ],
   "cell_type": "markdown",
   "metadata": {}
  },
  {
   "cell_type": "code",
   "execution_count": 106,
   "metadata": {},
   "outputs": [
    {
     "output_type": "display_data",
     "data": {
      "text/plain": "interactive(children=(Dropdown(description='analysis_name', options=('Customer', 'Dynamic', 'Principal', 'Dire…",
      "application/vnd.jupyter.widget-view+json": {
       "version_major": 2,
       "version_minor": 0,
       "model_id": "41f95c3b758a4d6e80304a203ba6ae95"
      }
     },
     "metadata": {}
    }
   ],
   "source": [
    "analysis_names = set(result.analysis_name for result in results)\n",
    "department_names = set(result.department_name for result in results)\n",
    "\n",
    "def task1(analysis_name, department_name):\n",
    "    res = list(filter(lambda x: x.analysis_name == analysis_name and x.department_name == department_name, results))\n",
    "    ress = list(map(lambda x: (x.p_id, x.quantitative_indicator), res))\n",
    "    d = dict((next(filter(lambda x: x.p_id==i.p_id, patients)).full_name(), i.quantitative_indicator) for i in res)\n",
    "    \n",
    "    for (k,v) in d.items():\n",
    "        print(k, \" - \", v) \n",
    "\n",
    "    \n",
    "    draw_histogram(list(d.keys()), list(d.values()), \"Patient\", \"Results\", analysis_name + \" \" + department_name)\n",
    "\n",
    "interact(task1, analysis_name=analysis_names, department_name=department_names);"
   ]
  },
  {
   "source": [
    "2. Для конкретного виду аналiзу (заданого випадаючим списком) за за-<br>\n",
    "даним слайдерами дiапазоном нормальних показникiв побудувати перелiк<br>\n",
    "пацiєнтiв з вiдхиленнями вiд норми;<br>\n",
    "2а.побудувати дiаграму результатiв для усiх пацiєнтiв вiдповiдно до п.2.<br>"
   ],
   "cell_type": "markdown",
   "metadata": {}
  },
  {
   "cell_type": "code",
   "execution_count": 107,
   "metadata": {},
   "outputs": [
    {
     "output_type": "display_data",
     "data": {
      "text/plain": "interactive(children=(Dropdown(description='analysis_name', options=('Customer', 'Dynamic', 'Principal', 'Dire…",
      "application/vnd.jupyter.widget-view+json": {
       "version_major": 2,
       "version_minor": 0,
       "model_id": "041d1661707c4af4bea15b37142cc98f"
      }
     },
     "metadata": {}
    }
   ],
   "source": [
    "analysis_names = set(result.analysis_name for result in results)\n",
    "options = list(range(0,100))\n",
    "index = (0, len(options)-1)\n",
    "\n",
    "selection_range_slider = widgets.SelectionRangeSlider(\n",
    "    options=options,\n",
    "    index=index,\n",
    "    description='Norms',\n",
    "    orientation='horizontal',\n",
    "    layout={'width': '500px'}\n",
    ")\n",
    "\n",
    "def task1(analysis_name, norm):\n",
    "    res = list(filter(lambda x: x.analysis_name == analysis_name and (x.quantitative_indicator < norm[0] or x.quantitative_indicator > norm[1]), results))\n",
    "\n",
    "    d = {}\n",
    "    for p in patients:\n",
    "        for r in res:\n",
    "            if p.p_id == r.p_id:\n",
    "                d[p.full_name()] = r.quantitative_indicator\n",
    "  \n",
    "    \n",
    "    for (k,v) in d.items():\n",
    "        print(k, \" - \", v) \n",
    "\n",
    "    \n",
    "    draw_histogram(list(d.keys()), list(d.values()), \"Patient\", \"Results\", analysis_name )\n",
    "\n",
    "interact(task1, analysis_name=analysis_names, norm=selection_range_slider);\n"
   ]
  },
  {
   "source": [
    "3. Для конкретного вiддiлення (заданого випадаючим списком) для ко-<br>\n",
    "жного пацiєнта з ненормальними аналiзами вивести перелiк вiдхилень;<br>\n",
    "3а.побудувати дiаграму вiдхилень для конкретного виду аналiзу (зада-<br>\n",
    "ного випадаючим списком) вiдповiдно до п.3 у конкретному вiддiленнi (за-<br>\n",
    "даному випадаючим списком) – вважаємо вiдхилення вiд’ємним, якщо по-<br>\n",
    "казник менший норми, i додатнiм, якщо цей показник бiльший за норму.<br>"
   ],
   "cell_type": "markdown",
   "metadata": {}
  },
  {
   "cell_type": "code",
   "execution_count": 108,
   "metadata": {},
   "outputs": [],
   "source": [
    "class Deviation:\n",
    "    def __init__(self, analysis_name,low_d,high_d):\n",
    "        self.analysis_name = analysis_name\n",
    "        self.low_d = low_d\n",
    "        self.high_d = high_d\n",
    "\n",
    "    @property\n",
    "    def analysis_name(self):\n",
    "        return self._analysis_name\n",
    "\n",
    "    @analysis_name.setter\n",
    "    @Validation.validateStr\n",
    "    def analysis_name(self, val):\n",
    "        self._analysis_name = val\n",
    "\n",
    "    @property\n",
    "    def low_d(self):\n",
    "        return self._low_d\n",
    "\n",
    "    @low_d.setter\n",
    "    @Validation.validateSize\n",
    "    def low_d(self, val):\n",
    "        self._low_d = val\n",
    "    \n",
    "    @property\n",
    "    def high_d(self):\n",
    "        return self._high_d\n",
    "    \n",
    "    @high_d.setter\n",
    "    @Validation.validateSize\n",
    "    def high_d(self, val):\n",
    "        self._high_d = val\n",
    "\n",
    "    def __str__(self):\n",
    "       return f'analysis_name ={self.analysis_name}, low_d = {self.low_d}, high_d = {self.high_d}'\n",
    "\n",
    "    def __repr__(self):\n",
    "        return f'analysis_name ={self.analysis_name}, low_d = {self.low_d}, high_d = {self.high_d}'"
   ]
  },
  {
   "cell_type": "code",
   "execution_count": 109,
   "metadata": {},
   "outputs": [
    {
     "output_type": "execute_result",
     "data": {
      "text/plain": [
       "[analysis_name =Dynamic, low_d = 40.0, high_d = 50.0,\n",
       " analysis_name =Principal, low_d = 30.0, high_d = 67.0,\n",
       " analysis_name =Customer, low_d = 45.0, high_d = 86.0,\n",
       " analysis_name =Global, low_d = 27.0, high_d = 94.0,\n",
       " analysis_name =Direct, low_d = 61.0, high_d = 92.0]"
      ]
     },
     "metadata": {},
     "execution_count": 109
    }
   ],
   "source": [
    "deviations = []\n",
    "read_csv_file(\"deviations.csv\", Deviation, deviations)\n",
    "deviations"
   ]
  },
  {
   "cell_type": "code",
   "execution_count": 110,
   "metadata": {},
   "outputs": [
    {
     "output_type": "display_data",
     "data": {
      "text/plain": "interactive(children=(Dropdown(description='department_name', options=('National Accountability Developer', 'D…",
      "application/vnd.jupyter.widget-view+json": {
       "version_major": 2,
       "version_minor": 0,
       "model_id": "8595c58aeab54215800315f2d12c31fa"
      }
     },
     "metadata": {}
    }
   ],
   "source": [
    "department_names = set(result.department_name for result in results)\n",
    "analysis_names = set(result.analysis_name for result in results)\n",
    "\n",
    "def task3(department_name, plot):\n",
    "    d = {}\n",
    "    res = list(filter(lambda x: x.department_name == department_name, results))\n",
    "    for i in res:\n",
    "        div = next(filter(lambda x: x.analysis_name == i.analysis_name,deviations))\n",
    "        if (i.quantitative_indicator < div.low_d):\n",
    "            p = next(filter(lambda x: x.p_id == i.p_id,patients))\n",
    "            d[(p, i.analysis_name)] = i.quantitative_indicator - div.low_d\n",
    "        elif i.quantitative_indicator > div.high_d:\n",
    "            p = next(filter(lambda x: x.p_id == i.p_id,patients))\n",
    "            d[(p, i.analysis_name)] = i.quantitative_indicator - div.high_d\n",
    "\n",
    "    for (k,v) in d.items():\n",
    "        print(k[0].full_name(), \" - \", v) \n",
    "\n",
    "    if plot:\n",
    "        def task3a(analysis_name):\n",
    "            d2 = dict((key,value) for key, value in d.items() if key[1] == analysis_name)\n",
    "            x = [i[0].full_name() for i in d2.keys()]\n",
    "            print(x)\n",
    "            draw_histogram(x, d2.values(), \"Names\", \"Deviation\", \"Deviations\")\n",
    "        interact(task3a, analysis_name=analysis_names)\n",
    "       \n",
    "interact(task3, department_name=department_names, plot=False);"
   ]
  },
  {
   "source": [
    "# Pandas"
   ],
   "cell_type": "markdown",
   "metadata": {}
  },
  {
   "cell_type": "code",
   "execution_count": 111,
   "metadata": {},
   "outputs": [
    {
     "output_type": "display_data",
     "data": {
      "text/plain": "  p_last_name p_first_name   p_id\n0     Mueller     Lawrence  76255\n1    Gottlieb        Ramon  88899\n2      Glover        Zella  85403\n3    Franecki      Haskell  20479\n4        Howe         Neil  58374\n5       Mertz       Collin  27222\n6    Botsford         Dane  97162\n7     Simonis       Eudora   1982\n8   Rodriguez        Efren  83238\n9     Kreiger         Veda  17170",
      "text/html": "<div>\n<style scoped>\n    .dataframe tbody tr th:only-of-type {\n        vertical-align: middle;\n    }\n\n    .dataframe tbody tr th {\n        vertical-align: top;\n    }\n\n    .dataframe thead th {\n        text-align: right;\n    }\n</style>\n<table border=\"1\" class=\"dataframe\">\n  <thead>\n    <tr style=\"text-align: right;\">\n      <th></th>\n      <th>p_last_name</th>\n      <th>p_first_name</th>\n      <th>p_id</th>\n    </tr>\n  </thead>\n  <tbody>\n    <tr>\n      <th>0</th>\n      <td>Mueller</td>\n      <td>Lawrence</td>\n      <td>76255</td>\n    </tr>\n    <tr>\n      <th>1</th>\n      <td>Gottlieb</td>\n      <td>Ramon</td>\n      <td>88899</td>\n    </tr>\n    <tr>\n      <th>2</th>\n      <td>Glover</td>\n      <td>Zella</td>\n      <td>85403</td>\n    </tr>\n    <tr>\n      <th>3</th>\n      <td>Franecki</td>\n      <td>Haskell</td>\n      <td>20479</td>\n    </tr>\n    <tr>\n      <th>4</th>\n      <td>Howe</td>\n      <td>Neil</td>\n      <td>58374</td>\n    </tr>\n    <tr>\n      <th>5</th>\n      <td>Mertz</td>\n      <td>Collin</td>\n      <td>27222</td>\n    </tr>\n    <tr>\n      <th>6</th>\n      <td>Botsford</td>\n      <td>Dane</td>\n      <td>97162</td>\n    </tr>\n    <tr>\n      <th>7</th>\n      <td>Simonis</td>\n      <td>Eudora</td>\n      <td>1982</td>\n    </tr>\n    <tr>\n      <th>8</th>\n      <td>Rodriguez</td>\n      <td>Efren</td>\n      <td>83238</td>\n    </tr>\n    <tr>\n      <th>9</th>\n      <td>Kreiger</td>\n      <td>Veda</td>\n      <td>17170</td>\n    </tr>\n  </tbody>\n</table>\n</div>"
     },
     "metadata": {}
    },
    {
     "output_type": "display_data",
     "data": {
      "text/plain": "     p_id                    department_name analysis_name  \\\n0   76255              Dynamic Brand Planner       Dynamic   \n1   88899           Dynamic Tactics Designer     Principal   \n2   85403  National Accountability Developer      Customer   \n3   20479  National Accountability Principal      Customer   \n4   58374       Direct Optimization Engineer     Principal   \n5   27222           Dynamic Tactics Designer        Global   \n6   97162  National Accountability Developer      Customer   \n7    1982       Direct Optimization Engineer        Global   \n8   83238              Dynamic Brand Planner       Dynamic   \n9   17170       Direct Optimization Engineer     Principal   \n10  20479   Internal Configuration Associate     Principal   \n11  27222              Dynamic Brand Planner        Direct   \n12  88899       Direct Optimization Engineer       Dynamic   \n13  20479           Dynamic Tactics Designer        Direct   \n14  27222              Dynamic Brand Planner        Global   \n15  76255  National Accountability Developer        Global   \n16   1982  National Accountability Developer      Customer   \n17  58374       Direct Optimization Engineer     Principal   \n\n    quantitative_indicator  \n0                       39  \n1                        9  \n2                       64  \n3                        7  \n4                       49  \n5                       83  \n6                       13  \n7                       17  \n8                       19  \n9                       19  \n10                      92  \n11                      74  \n12                      28  \n13                      72  \n14                      76  \n15                      56  \n16                      81  \n17                      18  ",
      "text/html": "<div>\n<style scoped>\n    .dataframe tbody tr th:only-of-type {\n        vertical-align: middle;\n    }\n\n    .dataframe tbody tr th {\n        vertical-align: top;\n    }\n\n    .dataframe thead th {\n        text-align: right;\n    }\n</style>\n<table border=\"1\" class=\"dataframe\">\n  <thead>\n    <tr style=\"text-align: right;\">\n      <th></th>\n      <th>p_id</th>\n      <th>department_name</th>\n      <th>analysis_name</th>\n      <th>quantitative_indicator</th>\n    </tr>\n  </thead>\n  <tbody>\n    <tr>\n      <th>0</th>\n      <td>76255</td>\n      <td>Dynamic Brand Planner</td>\n      <td>Dynamic</td>\n      <td>39</td>\n    </tr>\n    <tr>\n      <th>1</th>\n      <td>88899</td>\n      <td>Dynamic Tactics Designer</td>\n      <td>Principal</td>\n      <td>9</td>\n    </tr>\n    <tr>\n      <th>2</th>\n      <td>85403</td>\n      <td>National Accountability Developer</td>\n      <td>Customer</td>\n      <td>64</td>\n    </tr>\n    <tr>\n      <th>3</th>\n      <td>20479</td>\n      <td>National Accountability Principal</td>\n      <td>Customer</td>\n      <td>7</td>\n    </tr>\n    <tr>\n      <th>4</th>\n      <td>58374</td>\n      <td>Direct Optimization Engineer</td>\n      <td>Principal</td>\n      <td>49</td>\n    </tr>\n    <tr>\n      <th>5</th>\n      <td>27222</td>\n      <td>Dynamic Tactics Designer</td>\n      <td>Global</td>\n      <td>83</td>\n    </tr>\n    <tr>\n      <th>6</th>\n      <td>97162</td>\n      <td>National Accountability Developer</td>\n      <td>Customer</td>\n      <td>13</td>\n    </tr>\n    <tr>\n      <th>7</th>\n      <td>1982</td>\n      <td>Direct Optimization Engineer</td>\n      <td>Global</td>\n      <td>17</td>\n    </tr>\n    <tr>\n      <th>8</th>\n      <td>83238</td>\n      <td>Dynamic Brand Planner</td>\n      <td>Dynamic</td>\n      <td>19</td>\n    </tr>\n    <tr>\n      <th>9</th>\n      <td>17170</td>\n      <td>Direct Optimization Engineer</td>\n      <td>Principal</td>\n      <td>19</td>\n    </tr>\n    <tr>\n      <th>10</th>\n      <td>20479</td>\n      <td>Internal Configuration Associate</td>\n      <td>Principal</td>\n      <td>92</td>\n    </tr>\n    <tr>\n      <th>11</th>\n      <td>27222</td>\n      <td>Dynamic Brand Planner</td>\n      <td>Direct</td>\n      <td>74</td>\n    </tr>\n    <tr>\n      <th>12</th>\n      <td>88899</td>\n      <td>Direct Optimization Engineer</td>\n      <td>Dynamic</td>\n      <td>28</td>\n    </tr>\n    <tr>\n      <th>13</th>\n      <td>20479</td>\n      <td>Dynamic Tactics Designer</td>\n      <td>Direct</td>\n      <td>72</td>\n    </tr>\n    <tr>\n      <th>14</th>\n      <td>27222</td>\n      <td>Dynamic Brand Planner</td>\n      <td>Global</td>\n      <td>76</td>\n    </tr>\n    <tr>\n      <th>15</th>\n      <td>76255</td>\n      <td>National Accountability Developer</td>\n      <td>Global</td>\n      <td>56</td>\n    </tr>\n    <tr>\n      <th>16</th>\n      <td>1982</td>\n      <td>National Accountability Developer</td>\n      <td>Customer</td>\n      <td>81</td>\n    </tr>\n    <tr>\n      <th>17</th>\n      <td>58374</td>\n      <td>Direct Optimization Engineer</td>\n      <td>Principal</td>\n      <td>18</td>\n    </tr>\n  </tbody>\n</table>\n</div>"
     },
     "metadata": {}
    },
    {
     "output_type": "display_data",
     "data": {
      "text/plain": "     p_id                    department_name analysis_name  \\\n0   76255              Dynamic Brand Planner       Dynamic   \n1   88899           Dynamic Tactics Designer     Principal   \n2   85403  National Accountability Developer      Customer   \n3   20479  National Accountability Principal      Customer   \n4   58374       Direct Optimization Engineer     Principal   \n5   27222           Dynamic Tactics Designer        Global   \n6   97162  National Accountability Developer      Customer   \n7    1982       Direct Optimization Engineer        Global   \n8   83238              Dynamic Brand Planner       Dynamic   \n9   17170       Direct Optimization Engineer     Principal   \n10  20479   Internal Configuration Associate     Principal   \n11  27222              Dynamic Brand Planner        Direct   \n12  88899       Direct Optimization Engineer       Dynamic   \n13  20479           Dynamic Tactics Designer        Direct   \n14  27222              Dynamic Brand Planner        Global   \n15  76255  National Accountability Developer        Global   \n16   1982  National Accountability Developer      Customer   \n17  58374       Direct Optimization Engineer     Principal   \n\n    quantitative_indicator         full_name  \n0                       39  Lawrence Mueller  \n1                        9    Ramon Gottlieb  \n2                       64      Zella Glover  \n3                        7  Haskell Franecki  \n4                       49         Neil Howe  \n5                       83      Collin Mertz  \n6                       13     Dane Botsford  \n7                       17    Eudora Simonis  \n8                       19   Efren Rodriguez  \n9                       19      Veda Kreiger  \n10                      92  Haskell Franecki  \n11                      74      Collin Mertz  \n12                      28    Ramon Gottlieb  \n13                      72  Haskell Franecki  \n14                      76      Collin Mertz  \n15                      56  Lawrence Mueller  \n16                      81    Eudora Simonis  \n17                      18         Neil Howe  ",
      "text/html": "<div>\n<style scoped>\n    .dataframe tbody tr th:only-of-type {\n        vertical-align: middle;\n    }\n\n    .dataframe tbody tr th {\n        vertical-align: top;\n    }\n\n    .dataframe thead th {\n        text-align: right;\n    }\n</style>\n<table border=\"1\" class=\"dataframe\">\n  <thead>\n    <tr style=\"text-align: right;\">\n      <th></th>\n      <th>p_id</th>\n      <th>department_name</th>\n      <th>analysis_name</th>\n      <th>quantitative_indicator</th>\n      <th>full_name</th>\n    </tr>\n  </thead>\n  <tbody>\n    <tr>\n      <th>0</th>\n      <td>76255</td>\n      <td>Dynamic Brand Planner</td>\n      <td>Dynamic</td>\n      <td>39</td>\n      <td>Lawrence Mueller</td>\n    </tr>\n    <tr>\n      <th>1</th>\n      <td>88899</td>\n      <td>Dynamic Tactics Designer</td>\n      <td>Principal</td>\n      <td>9</td>\n      <td>Ramon Gottlieb</td>\n    </tr>\n    <tr>\n      <th>2</th>\n      <td>85403</td>\n      <td>National Accountability Developer</td>\n      <td>Customer</td>\n      <td>64</td>\n      <td>Zella Glover</td>\n    </tr>\n    <tr>\n      <th>3</th>\n      <td>20479</td>\n      <td>National Accountability Principal</td>\n      <td>Customer</td>\n      <td>7</td>\n      <td>Haskell Franecki</td>\n    </tr>\n    <tr>\n      <th>4</th>\n      <td>58374</td>\n      <td>Direct Optimization Engineer</td>\n      <td>Principal</td>\n      <td>49</td>\n      <td>Neil Howe</td>\n    </tr>\n    <tr>\n      <th>5</th>\n      <td>27222</td>\n      <td>Dynamic Tactics Designer</td>\n      <td>Global</td>\n      <td>83</td>\n      <td>Collin Mertz</td>\n    </tr>\n    <tr>\n      <th>6</th>\n      <td>97162</td>\n      <td>National Accountability Developer</td>\n      <td>Customer</td>\n      <td>13</td>\n      <td>Dane Botsford</td>\n    </tr>\n    <tr>\n      <th>7</th>\n      <td>1982</td>\n      <td>Direct Optimization Engineer</td>\n      <td>Global</td>\n      <td>17</td>\n      <td>Eudora Simonis</td>\n    </tr>\n    <tr>\n      <th>8</th>\n      <td>83238</td>\n      <td>Dynamic Brand Planner</td>\n      <td>Dynamic</td>\n      <td>19</td>\n      <td>Efren Rodriguez</td>\n    </tr>\n    <tr>\n      <th>9</th>\n      <td>17170</td>\n      <td>Direct Optimization Engineer</td>\n      <td>Principal</td>\n      <td>19</td>\n      <td>Veda Kreiger</td>\n    </tr>\n    <tr>\n      <th>10</th>\n      <td>20479</td>\n      <td>Internal Configuration Associate</td>\n      <td>Principal</td>\n      <td>92</td>\n      <td>Haskell Franecki</td>\n    </tr>\n    <tr>\n      <th>11</th>\n      <td>27222</td>\n      <td>Dynamic Brand Planner</td>\n      <td>Direct</td>\n      <td>74</td>\n      <td>Collin Mertz</td>\n    </tr>\n    <tr>\n      <th>12</th>\n      <td>88899</td>\n      <td>Direct Optimization Engineer</td>\n      <td>Dynamic</td>\n      <td>28</td>\n      <td>Ramon Gottlieb</td>\n    </tr>\n    <tr>\n      <th>13</th>\n      <td>20479</td>\n      <td>Dynamic Tactics Designer</td>\n      <td>Direct</td>\n      <td>72</td>\n      <td>Haskell Franecki</td>\n    </tr>\n    <tr>\n      <th>14</th>\n      <td>27222</td>\n      <td>Dynamic Brand Planner</td>\n      <td>Global</td>\n      <td>76</td>\n      <td>Collin Mertz</td>\n    </tr>\n    <tr>\n      <th>15</th>\n      <td>76255</td>\n      <td>National Accountability Developer</td>\n      <td>Global</td>\n      <td>56</td>\n      <td>Lawrence Mueller</td>\n    </tr>\n    <tr>\n      <th>16</th>\n      <td>1982</td>\n      <td>National Accountability Developer</td>\n      <td>Customer</td>\n      <td>81</td>\n      <td>Eudora Simonis</td>\n    </tr>\n    <tr>\n      <th>17</th>\n      <td>58374</td>\n      <td>Direct Optimization Engineer</td>\n      <td>Principal</td>\n      <td>18</td>\n      <td>Neil Howe</td>\n    </tr>\n  </tbody>\n</table>\n</div>"
     },
     "metadata": {}
    }
   ],
   "source": [
    "patients = pd.read_csv(\"patients.csv\")\n",
    "results = pd.read_csv(\"results.csv\")\n",
    "\n",
    "display(patients)\n",
    "display(results)\n",
    "\n",
    "\n",
    "big_df = pd.merge(results, patients, on='p_id', how='left')\n",
    "big_df[\"full_name\"] = big_df[\"p_first_name\"] + \" \" + big_df[\"p_last_name\"]\n",
    "big_df = big_df.drop([\"p_first_name\", \"p_last_name\"], axis=1)\n",
    "display(big_df)"
   ]
  },
  {
   "source": [
    "1. Отримати перелiк результатiв конкретного виду аналiзу (заданого ви-<br>\n",
    "падаючим списком) для усiх пацiєнтiв конкретного вiддiлення (заданого<br>\n",
    "випадаючим списком), який впорядкований за алфавiтним порядком;<br>\n",
    "1а.побудувати дiаграму результатiв вiдповiдно до п.1.<br>"
   ],
   "cell_type": "markdown",
   "metadata": {}
  },
  {
   "cell_type": "code",
   "execution_count": 112,
   "metadata": {},
   "outputs": [
    {
     "output_type": "display_data",
     "data": {
      "text/plain": "interactive(children=(Dropdown(description='analysis_names', options=('Customer', 'Dynamic', 'Principal', 'Dir…",
      "application/vnd.jupyter.widget-view+json": {
       "version_major": 2,
       "version_minor": 0,
       "model_id": "07ca346ecf02413c98d823593793d502"
      }
     },
     "metadata": {}
    }
   ],
   "source": [
    "analysis_names = set(big_df[\"analysis_name\"])\n",
    "department_names = set(big_df[\"department_name\"])\n",
    "\n",
    "def task1(analysis_names, department_names):\n",
    "    df1 = big_df[(big_df[\"analysis_name\"] == analysis_names) & (big_df[\"department_name\"] == department_names)]\n",
    "    df1 = df1.drop([\"analysis_name\", \"p_id\", \"department_name\"], axis=1)\n",
    "    display(df1)\n",
    "    \n",
    "    df1.plot(x=\"full_name\", y=\"quantitative_indicator\", kind='bar', title=analysis_names + \" \" + department_names, figsize=(10, 5), rot=30, color= '#73C6B6');\n",
    "\n",
    "interact(task1, analysis_names=analysis_names, department_names=department_names);"
   ]
  },
  {
   "source": [
    "2. Для конкретного виду аналiзу (заданого випадаючим списком) за за-<br>\n",
    "даним слайдерами дiапазоном нормальних показникiв побудувати перелiк<br>\n",
    "пацiєнтiв з вiдхиленнями вiд норми;<br>\n",
    "2а.побудувати дiаграму результатiв для усiх пацiєнтiв вiдповiдно до п.2.<br>"
   ],
   "cell_type": "markdown",
   "metadata": {}
  },
  {
   "cell_type": "code",
   "execution_count": 113,
   "metadata": {},
   "outputs": [
    {
     "output_type": "display_data",
     "data": {
      "text/plain": "interactive(children=(Dropdown(description='analysis_name', options=('Customer', 'Dynamic', 'Principal', 'Dire…",
      "application/vnd.jupyter.widget-view+json": {
       "version_major": 2,
       "version_minor": 0,
       "model_id": "2a88c715ffa247a0a4c11476fbc7070d"
      }
     },
     "metadata": {}
    }
   ],
   "source": [
    "analysis_names = set(big_df[\"analysis_name\"])\n",
    "options = list(range(0,100))\n",
    "index = (0, len(options)-1)\n",
    "\n",
    "selection_range_slider = widgets.SelectionRangeSlider(\n",
    "    options=options,\n",
    "    index=index,\n",
    "    description='Norms',\n",
    "    orientation='horizontal',\n",
    "    layout={'width': '500px'}\n",
    ")\n",
    "\n",
    "def task1(analysis_name, norm):\n",
    "    df1 = big_df[(big_df[\"analysis_name\"] == analysis_name) & (big_df[\"quantitative_indicator\"] < norm[0]) | (big_df[\"quantitative_indicator\"] > norm[1])]\n",
    "    df1 = df1.drop([\"analysis_name\", \"p_id\", \"department_name\"], axis=1)\n",
    "    display(df1)\n",
    "    if not df1.empty:\n",
    "        df1.plot(x=\"full_name\", y=\"quantitative_indicator\", kind='bar', title=analysis_name, figsize=(10, 5), rot=30, color= '#73C6B6');\n",
    "\n",
    "interact(task1, analysis_name=analysis_names, norm=selection_range_slider);\n"
   ]
  },
  {
   "source": [
    "3. Для конкретного вiддiлення (заданого випадаючим списком) для ко-<br>\n",
    "жного пацiєнта з ненормальними аналiзами вивести перелiк вiдхилень;<br>\n",
    "3а.побудувати дiаграму вiдхилень для конкретного виду аналiзу (зада-<br>\n",
    "ного випадаючим списком) вiдповiдно до п.3 у конкретному вiддiленнi (за-<br>\n",
    "даному випадаючим списком) – вважаємо вiдхилення вiд’ємним, якщо по-<br>\n",
    "казник менший норми, i додатнiм, якщо цей показник бiльший за норму.<br>"
   ],
   "cell_type": "markdown",
   "metadata": {}
  },
  {
   "cell_type": "code",
   "execution_count": 114,
   "metadata": {},
   "outputs": [
    {
     "output_type": "display_data",
     "data": {
      "text/plain": "  analysis_name  low_d  high_d\n0       Dynamic     40      50\n1     Principal     30      67\n2      Customer     45      86\n3        Global     27      94\n4        Direct     61      92",
      "text/html": "<div>\n<style scoped>\n    .dataframe tbody tr th:only-of-type {\n        vertical-align: middle;\n    }\n\n    .dataframe tbody tr th {\n        vertical-align: top;\n    }\n\n    .dataframe thead th {\n        text-align: right;\n    }\n</style>\n<table border=\"1\" class=\"dataframe\">\n  <thead>\n    <tr style=\"text-align: right;\">\n      <th></th>\n      <th>analysis_name</th>\n      <th>low_d</th>\n      <th>high_d</th>\n    </tr>\n  </thead>\n  <tbody>\n    <tr>\n      <th>0</th>\n      <td>Dynamic</td>\n      <td>40</td>\n      <td>50</td>\n    </tr>\n    <tr>\n      <th>1</th>\n      <td>Principal</td>\n      <td>30</td>\n      <td>67</td>\n    </tr>\n    <tr>\n      <th>2</th>\n      <td>Customer</td>\n      <td>45</td>\n      <td>86</td>\n    </tr>\n    <tr>\n      <th>3</th>\n      <td>Global</td>\n      <td>27</td>\n      <td>94</td>\n    </tr>\n    <tr>\n      <th>4</th>\n      <td>Direct</td>\n      <td>61</td>\n      <td>92</td>\n    </tr>\n  </tbody>\n</table>\n</div>"
     },
     "metadata": {}
    },
    {
     "output_type": "display_data",
     "data": {
      "text/plain": "     p_id                    department_name analysis_name  \\\n0   76255              Dynamic Brand Planner       Dynamic   \n1   88899           Dynamic Tactics Designer     Principal   \n2   85403  National Accountability Developer      Customer   \n3   20479  National Accountability Principal      Customer   \n4   58374       Direct Optimization Engineer     Principal   \n5   27222           Dynamic Tactics Designer        Global   \n6   97162  National Accountability Developer      Customer   \n7    1982       Direct Optimization Engineer        Global   \n8   83238              Dynamic Brand Planner       Dynamic   \n9   17170       Direct Optimization Engineer     Principal   \n10  20479   Internal Configuration Associate     Principal   \n11  27222              Dynamic Brand Planner        Direct   \n12  88899       Direct Optimization Engineer       Dynamic   \n13  20479           Dynamic Tactics Designer        Direct   \n14  27222              Dynamic Brand Planner        Global   \n15  76255  National Accountability Developer        Global   \n16   1982  National Accountability Developer      Customer   \n17  58374       Direct Optimization Engineer     Principal   \n\n    quantitative_indicator         full_name  low_d  high_d  \n0                       39  Lawrence Mueller     40      50  \n1                        9    Ramon Gottlieb     30      67  \n2                       64      Zella Glover     45      86  \n3                        7  Haskell Franecki     45      86  \n4                       49         Neil Howe     30      67  \n5                       83      Collin Mertz     27      94  \n6                       13     Dane Botsford     45      86  \n7                       17    Eudora Simonis     27      94  \n8                       19   Efren Rodriguez     40      50  \n9                       19      Veda Kreiger     30      67  \n10                      92  Haskell Franecki     30      67  \n11                      74      Collin Mertz     61      92  \n12                      28    Ramon Gottlieb     40      50  \n13                      72  Haskell Franecki     61      92  \n14                      76      Collin Mertz     27      94  \n15                      56  Lawrence Mueller     27      94  \n16                      81    Eudora Simonis     45      86  \n17                      18         Neil Howe     30      67  ",
      "text/html": "<div>\n<style scoped>\n    .dataframe tbody tr th:only-of-type {\n        vertical-align: middle;\n    }\n\n    .dataframe tbody tr th {\n        vertical-align: top;\n    }\n\n    .dataframe thead th {\n        text-align: right;\n    }\n</style>\n<table border=\"1\" class=\"dataframe\">\n  <thead>\n    <tr style=\"text-align: right;\">\n      <th></th>\n      <th>p_id</th>\n      <th>department_name</th>\n      <th>analysis_name</th>\n      <th>quantitative_indicator</th>\n      <th>full_name</th>\n      <th>low_d</th>\n      <th>high_d</th>\n    </tr>\n  </thead>\n  <tbody>\n    <tr>\n      <th>0</th>\n      <td>76255</td>\n      <td>Dynamic Brand Planner</td>\n      <td>Dynamic</td>\n      <td>39</td>\n      <td>Lawrence Mueller</td>\n      <td>40</td>\n      <td>50</td>\n    </tr>\n    <tr>\n      <th>1</th>\n      <td>88899</td>\n      <td>Dynamic Tactics Designer</td>\n      <td>Principal</td>\n      <td>9</td>\n      <td>Ramon Gottlieb</td>\n      <td>30</td>\n      <td>67</td>\n    </tr>\n    <tr>\n      <th>2</th>\n      <td>85403</td>\n      <td>National Accountability Developer</td>\n      <td>Customer</td>\n      <td>64</td>\n      <td>Zella Glover</td>\n      <td>45</td>\n      <td>86</td>\n    </tr>\n    <tr>\n      <th>3</th>\n      <td>20479</td>\n      <td>National Accountability Principal</td>\n      <td>Customer</td>\n      <td>7</td>\n      <td>Haskell Franecki</td>\n      <td>45</td>\n      <td>86</td>\n    </tr>\n    <tr>\n      <th>4</th>\n      <td>58374</td>\n      <td>Direct Optimization Engineer</td>\n      <td>Principal</td>\n      <td>49</td>\n      <td>Neil Howe</td>\n      <td>30</td>\n      <td>67</td>\n    </tr>\n    <tr>\n      <th>5</th>\n      <td>27222</td>\n      <td>Dynamic Tactics Designer</td>\n      <td>Global</td>\n      <td>83</td>\n      <td>Collin Mertz</td>\n      <td>27</td>\n      <td>94</td>\n    </tr>\n    <tr>\n      <th>6</th>\n      <td>97162</td>\n      <td>National Accountability Developer</td>\n      <td>Customer</td>\n      <td>13</td>\n      <td>Dane Botsford</td>\n      <td>45</td>\n      <td>86</td>\n    </tr>\n    <tr>\n      <th>7</th>\n      <td>1982</td>\n      <td>Direct Optimization Engineer</td>\n      <td>Global</td>\n      <td>17</td>\n      <td>Eudora Simonis</td>\n      <td>27</td>\n      <td>94</td>\n    </tr>\n    <tr>\n      <th>8</th>\n      <td>83238</td>\n      <td>Dynamic Brand Planner</td>\n      <td>Dynamic</td>\n      <td>19</td>\n      <td>Efren Rodriguez</td>\n      <td>40</td>\n      <td>50</td>\n    </tr>\n    <tr>\n      <th>9</th>\n      <td>17170</td>\n      <td>Direct Optimization Engineer</td>\n      <td>Principal</td>\n      <td>19</td>\n      <td>Veda Kreiger</td>\n      <td>30</td>\n      <td>67</td>\n    </tr>\n    <tr>\n      <th>10</th>\n      <td>20479</td>\n      <td>Internal Configuration Associate</td>\n      <td>Principal</td>\n      <td>92</td>\n      <td>Haskell Franecki</td>\n      <td>30</td>\n      <td>67</td>\n    </tr>\n    <tr>\n      <th>11</th>\n      <td>27222</td>\n      <td>Dynamic Brand Planner</td>\n      <td>Direct</td>\n      <td>74</td>\n      <td>Collin Mertz</td>\n      <td>61</td>\n      <td>92</td>\n    </tr>\n    <tr>\n      <th>12</th>\n      <td>88899</td>\n      <td>Direct Optimization Engineer</td>\n      <td>Dynamic</td>\n      <td>28</td>\n      <td>Ramon Gottlieb</td>\n      <td>40</td>\n      <td>50</td>\n    </tr>\n    <tr>\n      <th>13</th>\n      <td>20479</td>\n      <td>Dynamic Tactics Designer</td>\n      <td>Direct</td>\n      <td>72</td>\n      <td>Haskell Franecki</td>\n      <td>61</td>\n      <td>92</td>\n    </tr>\n    <tr>\n      <th>14</th>\n      <td>27222</td>\n      <td>Dynamic Brand Planner</td>\n      <td>Global</td>\n      <td>76</td>\n      <td>Collin Mertz</td>\n      <td>27</td>\n      <td>94</td>\n    </tr>\n    <tr>\n      <th>15</th>\n      <td>76255</td>\n      <td>National Accountability Developer</td>\n      <td>Global</td>\n      <td>56</td>\n      <td>Lawrence Mueller</td>\n      <td>27</td>\n      <td>94</td>\n    </tr>\n    <tr>\n      <th>16</th>\n      <td>1982</td>\n      <td>National Accountability Developer</td>\n      <td>Customer</td>\n      <td>81</td>\n      <td>Eudora Simonis</td>\n      <td>45</td>\n      <td>86</td>\n    </tr>\n    <tr>\n      <th>17</th>\n      <td>58374</td>\n      <td>Direct Optimization Engineer</td>\n      <td>Principal</td>\n      <td>18</td>\n      <td>Neil Howe</td>\n      <td>30</td>\n      <td>67</td>\n    </tr>\n  </tbody>\n</table>\n</div>"
     },
     "metadata": {}
    }
   ],
   "source": [
    "deviations = pd.read_csv(\"deviations.csv\")\n",
    "display(deviations)\n",
    "\n",
    "big_df = pd.merge(big_df, deviations, on='analysis_name', how='left')\n",
    "display(big_df)"
   ]
  },
  {
   "cell_type": "code",
   "execution_count": 115,
   "metadata": {},
   "outputs": [
    {
     "output_type": "display_data",
     "data": {
      "text/plain": "interactive(children=(Dropdown(description='department_name', options=('National Accountability Developer', 'D…",
      "application/vnd.jupyter.widget-view+json": {
       "version_major": 2,
       "version_minor": 0,
       "model_id": "7957e5bbad35432d9ad3304323ed1938"
      }
     },
     "metadata": {}
    }
   ],
   "source": [
    "analysis_names = set(big_df[\"analysis_name\"])\n",
    "department_names = set(big_df[\"department_name\"])\n",
    "\n",
    "def task3(department_name, plot):\n",
    "    df1 = big_df[(big_df[\"department_name\"] == department_name) & (big_df[\"quantitative_indicator\"] < big_df[\"low_d\"]) | (big_df[\"quantitative_indicator\"] > big_df[\"high_d\"])]\n",
    "    df1[\"deviations\"] = np.where(df1['quantitative_indicator'] <  df1[\"low_d\"], df1['quantitative_indicator'] - df1[\"low_d\"], df1['quantitative_indicator'] -  df1[\"high_d\"])\n",
    "    df1 = df1.drop([\"p_id\", \"department_name\", \"quantitative_indicator\", \"low_d\", \"high_d\"], axis=1)\n",
    "    display(df1)\n",
    "\n",
    "    if plot:\n",
    "        def task3a(analysis_name):\n",
    "            d2 = df1[df1[\"analysis_name\"] == analysis_name]\n",
    "            d2 = d2.drop(\"analysis_name\", axis=1)\n",
    "            if not d2.empty:\n",
    "                d2.plot(x=\"full_name\", y=\"deviations\", kind='bar', title=department_name, figsize=(10, 5), rot=30, color= '#73C6B6');\n",
    "        interact(task3a, analysis_name=analysis_names)\n",
    "       \n",
    "interact(task3, department_name=department_names, plot=False);"
   ]
  },
  {
   "cell_type": "code",
   "execution_count": null,
   "metadata": {},
   "outputs": [],
   "source": []
  }
 ]
}