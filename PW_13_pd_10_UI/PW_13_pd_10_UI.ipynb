{
 "metadata": {
  "language_info": {
   "codemirror_mode": {
    "name": "ipython",
    "version": 3
   },
   "file_extension": ".py",
   "mimetype": "text/x-python",
   "name": "python",
   "nbconvert_exporter": "python",
   "pygments_lexer": "ipython3",
   "version": "3.8.5-final"
  },
  "orig_nbformat": 2,
  "kernelspec": {
   "name": "python3",
   "display_name": "Python 3",
   "language": "python"
  }
 },
 "nbformat": 4,
 "nbformat_minor": 2,
 "cells": [
  {
   "source": [
    "# Task\n",
    "Розробити типи для облiку видачi пацiєнтам лiкiв в медзакладi вiдпо-<br>\n",
    "вiдно до призначень лiкаря. Пацiєнт характеризується iменем i прiзвищем<br>\n",
    "та реєстрацiйним номером. Призначення характеризується реєстрацiйним<br>\n",
    "номером пацiєнта, датою, назвою лiкiв, дозою в мг i кiлькiстю прийомiв у<br>\n",
    "день. Призначення та iнформацiя про пацiєнтiв подано окремими файлами.<br>\n",
    "Отримати засобами Pandas вказанi в завданнях данi i вiзуалiзувати їх :<br>\n",
    "\n",
    "1. для кожного пацiєнта ( за iменем i прiзвищем) повний перелiк (без<br>\n",
    "повторень) отриманих лiкiв iз вказанням сумарної кiлькостi кожного пре-<br>\n",
    "парату в мг; <br><br>\n",
    "Крiм того, надати GUI з елементами:<br>\n",
    "– випадаючий список для задання пацiєнта за iменем i прiзвищем<br>\n",
    "– випадаючий список для задання назви препарату<br>\n",
    "– елемент для перiоду часу<br>\n",
    "– кнопка для побудови дiаграми отриманого пацiєнтом конкретного пре-<br>\n",
    "парату за перiод часу.<br>\n",
    "\n",
    "2. для кожного препарату загальний розхiд за перiоду часу. <br><br>\n",
    "Крiм того, надати GUI з елементами:<br>\n",
    "– випадаючий список для задання назви препарату<br>\n",
    "– елемент для перiоду часу<br>\n",
    "– кнопка для побудови дiаграми загального розходу конкретного препа-<br>\n",
    "рату за перiоду часу.<br>"
   ],
   "cell_type": "markdown",
   "metadata": {}
  },
  {
   "cell_type": "code",
   "execution_count": 80,
   "metadata": {},
   "outputs": [],
   "source": [
    "import csv\n",
    "import pandas as pd\n",
    "import matplotlib.pyplot as plt\n",
    "import numpy as np\n",
    "from ipywidgets import interact, interactive, fixed, interact_manual\n",
    "import ipywidgets as widgets\n",
    "from datetime import datetime"
   ]
  },
  {
   "cell_type": "code",
   "execution_count": 81,
   "metadata": {},
   "outputs": [
    {
     "output_type": "display_data",
     "data": {
      "text/plain": "   patient_number        full_name\n0               1    Alvera Hammes\n1               2     Barry Conner\n2               3     Brando Nolan\n3               4   Miss Lueilwitz\n4               5  Nakia Rodriguez",
      "text/html": "<div>\n<style scoped>\n    .dataframe tbody tr th:only-of-type {\n        vertical-align: middle;\n    }\n\n    .dataframe tbody tr th {\n        vertical-align: top;\n    }\n\n    .dataframe thead th {\n        text-align: right;\n    }\n</style>\n<table border=\"1\" class=\"dataframe\">\n  <thead>\n    <tr style=\"text-align: right;\">\n      <th></th>\n      <th>patient_number</th>\n      <th>full_name</th>\n    </tr>\n  </thead>\n  <tbody>\n    <tr>\n      <th>0</th>\n      <td>1</td>\n      <td>Alvera Hammes</td>\n    </tr>\n    <tr>\n      <th>1</th>\n      <td>2</td>\n      <td>Barry Conner</td>\n    </tr>\n    <tr>\n      <th>2</th>\n      <td>3</td>\n      <td>Brando Nolan</td>\n    </tr>\n    <tr>\n      <th>3</th>\n      <td>4</td>\n      <td>Miss Lueilwitz</td>\n    </tr>\n    <tr>\n      <th>4</th>\n      <td>5</td>\n      <td>Nakia Rodriguez</td>\n    </tr>\n  </tbody>\n</table>\n</div>"
     },
     "metadata": {}
    }
   ],
   "source": [
    "patients = pd.read_csv('patients.csv')\n",
    "cols = [\"patient_name\", \"patient_last_name\"]\n",
    "patients['full_name'] = patients[cols].apply(lambda row: ' '.join(row.values.astype(str)), axis=1)\n",
    "patients = patients.drop(cols, axis=1)\n",
    "display(patients)"
   ]
  },
  {
   "cell_type": "code",
   "execution_count": 82,
   "metadata": {},
   "outputs": [
    {
     "output_type": "display_data",
     "data": {
      "text/plain": "    patient_number     as_date          as_name  as_dose  as_count\n0                1  2020-12-01          Ibuprom       85         4\n5                1  2020-11-01          Ibuprom       31         6\n10               1  2020-01-02          Estates       51         3\n1                2  2020-11-01          Kopacul       15         2\n7                2  2020-11-21          Ibuprom       43         3\n11               2  2020-06-03           Ikarus       56         7\n2                3  2020-10-01          Magenta       86         4\n12               3  2020-12-01        Berkshire       83         5\n3                4  2020-09-01          Estates       73         5\n6                4  2020-11-11  Buckinghamshire        7         3\n8                4  2020-10-09          Kopacul       54         3\n13               4  2020-11-01  Buckinghamshire       10         5\n4                5  2020-08-01           Ikarus       31         4\n9                5  2020-01-01          Magenta       75         7",
      "text/html": "<div>\n<style scoped>\n    .dataframe tbody tr th:only-of-type {\n        vertical-align: middle;\n    }\n\n    .dataframe tbody tr th {\n        vertical-align: top;\n    }\n\n    .dataframe thead th {\n        text-align: right;\n    }\n</style>\n<table border=\"1\" class=\"dataframe\">\n  <thead>\n    <tr style=\"text-align: right;\">\n      <th></th>\n      <th>patient_number</th>\n      <th>as_date</th>\n      <th>as_name</th>\n      <th>as_dose</th>\n      <th>as_count</th>\n    </tr>\n  </thead>\n  <tbody>\n    <tr>\n      <th>0</th>\n      <td>1</td>\n      <td>2020-12-01</td>\n      <td>Ibuprom</td>\n      <td>85</td>\n      <td>4</td>\n    </tr>\n    <tr>\n      <th>5</th>\n      <td>1</td>\n      <td>2020-11-01</td>\n      <td>Ibuprom</td>\n      <td>31</td>\n      <td>6</td>\n    </tr>\n    <tr>\n      <th>10</th>\n      <td>1</td>\n      <td>2020-01-02</td>\n      <td>Estates</td>\n      <td>51</td>\n      <td>3</td>\n    </tr>\n    <tr>\n      <th>1</th>\n      <td>2</td>\n      <td>2020-11-01</td>\n      <td>Kopacul</td>\n      <td>15</td>\n      <td>2</td>\n    </tr>\n    <tr>\n      <th>7</th>\n      <td>2</td>\n      <td>2020-11-21</td>\n      <td>Ibuprom</td>\n      <td>43</td>\n      <td>3</td>\n    </tr>\n    <tr>\n      <th>11</th>\n      <td>2</td>\n      <td>2020-06-03</td>\n      <td>Ikarus</td>\n      <td>56</td>\n      <td>7</td>\n    </tr>\n    <tr>\n      <th>2</th>\n      <td>3</td>\n      <td>2020-10-01</td>\n      <td>Magenta</td>\n      <td>86</td>\n      <td>4</td>\n    </tr>\n    <tr>\n      <th>12</th>\n      <td>3</td>\n      <td>2020-12-01</td>\n      <td>Berkshire</td>\n      <td>83</td>\n      <td>5</td>\n    </tr>\n    <tr>\n      <th>3</th>\n      <td>4</td>\n      <td>2020-09-01</td>\n      <td>Estates</td>\n      <td>73</td>\n      <td>5</td>\n    </tr>\n    <tr>\n      <th>6</th>\n      <td>4</td>\n      <td>2020-11-11</td>\n      <td>Buckinghamshire</td>\n      <td>7</td>\n      <td>3</td>\n    </tr>\n    <tr>\n      <th>8</th>\n      <td>4</td>\n      <td>2020-10-09</td>\n      <td>Kopacul</td>\n      <td>54</td>\n      <td>3</td>\n    </tr>\n    <tr>\n      <th>13</th>\n      <td>4</td>\n      <td>2020-11-01</td>\n      <td>Buckinghamshire</td>\n      <td>10</td>\n      <td>5</td>\n    </tr>\n    <tr>\n      <th>4</th>\n      <td>5</td>\n      <td>2020-08-01</td>\n      <td>Ikarus</td>\n      <td>31</td>\n      <td>4</td>\n    </tr>\n    <tr>\n      <th>9</th>\n      <td>5</td>\n      <td>2020-01-01</td>\n      <td>Magenta</td>\n      <td>75</td>\n      <td>7</td>\n    </tr>\n  </tbody>\n</table>\n</div>"
     },
     "metadata": {}
    }
   ],
   "source": [
    "assigments = pd.read_csv('assigments.csv')\n",
    "assigments.sort_values('patient_number', inplace = True)\n",
    "display(assigments)"
   ]
  },
  {
   "cell_type": "code",
   "execution_count": 83,
   "metadata": {},
   "outputs": [
    {
     "output_type": "display_data",
     "data": {
      "text/plain": "    patient_number     as_date          as_name  as_dose  as_count\n0                1  2020-12-01          Ibuprom      116        10\n1                2  2020-11-01          Kopacul       15         2\n2                3  2020-10-01          Magenta       86         4\n3                4  2020-09-01          Estates       73         5\n4                5  2020-08-01           Ikarus       31         4\n6                4  2020-11-11  Buckinghamshire       17         8\n7                2  2020-11-21          Ibuprom       43         3\n8                4  2020-10-09          Kopacul       54         3\n9                5  2020-01-01          Magenta       75         7\n10               1  2020-01-02          Estates       51         3\n11               2  2020-06-03           Ikarus       56         7\n12               3  2020-12-01        Berkshire       83         5",
      "text/html": "<div>\n<style scoped>\n    .dataframe tbody tr th:only-of-type {\n        vertical-align: middle;\n    }\n\n    .dataframe tbody tr th {\n        vertical-align: top;\n    }\n\n    .dataframe thead th {\n        text-align: right;\n    }\n</style>\n<table border=\"1\" class=\"dataframe\">\n  <thead>\n    <tr style=\"text-align: right;\">\n      <th></th>\n      <th>patient_number</th>\n      <th>as_date</th>\n      <th>as_name</th>\n      <th>as_dose</th>\n      <th>as_count</th>\n    </tr>\n  </thead>\n  <tbody>\n    <tr>\n      <th>0</th>\n      <td>1</td>\n      <td>2020-12-01</td>\n      <td>Ibuprom</td>\n      <td>116</td>\n      <td>10</td>\n    </tr>\n    <tr>\n      <th>1</th>\n      <td>2</td>\n      <td>2020-11-01</td>\n      <td>Kopacul</td>\n      <td>15</td>\n      <td>2</td>\n    </tr>\n    <tr>\n      <th>2</th>\n      <td>3</td>\n      <td>2020-10-01</td>\n      <td>Magenta</td>\n      <td>86</td>\n      <td>4</td>\n    </tr>\n    <tr>\n      <th>3</th>\n      <td>4</td>\n      <td>2020-09-01</td>\n      <td>Estates</td>\n      <td>73</td>\n      <td>5</td>\n    </tr>\n    <tr>\n      <th>4</th>\n      <td>5</td>\n      <td>2020-08-01</td>\n      <td>Ikarus</td>\n      <td>31</td>\n      <td>4</td>\n    </tr>\n    <tr>\n      <th>6</th>\n      <td>4</td>\n      <td>2020-11-11</td>\n      <td>Buckinghamshire</td>\n      <td>17</td>\n      <td>8</td>\n    </tr>\n    <tr>\n      <th>7</th>\n      <td>2</td>\n      <td>2020-11-21</td>\n      <td>Ibuprom</td>\n      <td>43</td>\n      <td>3</td>\n    </tr>\n    <tr>\n      <th>8</th>\n      <td>4</td>\n      <td>2020-10-09</td>\n      <td>Kopacul</td>\n      <td>54</td>\n      <td>3</td>\n    </tr>\n    <tr>\n      <th>9</th>\n      <td>5</td>\n      <td>2020-01-01</td>\n      <td>Magenta</td>\n      <td>75</td>\n      <td>7</td>\n    </tr>\n    <tr>\n      <th>10</th>\n      <td>1</td>\n      <td>2020-01-02</td>\n      <td>Estates</td>\n      <td>51</td>\n      <td>3</td>\n    </tr>\n    <tr>\n      <th>11</th>\n      <td>2</td>\n      <td>2020-06-03</td>\n      <td>Ikarus</td>\n      <td>56</td>\n      <td>7</td>\n    </tr>\n    <tr>\n      <th>12</th>\n      <td>3</td>\n      <td>2020-12-01</td>\n      <td>Berkshire</td>\n      <td>83</td>\n      <td>5</td>\n    </tr>\n  </tbody>\n</table>\n</div>"
     },
     "metadata": {}
    }
   ],
   "source": [
    "assigments_summed = pd.read_csv('assigments.csv')\n",
    "assigments_summed['as_dose'] = assigments_summed.groupby(['patient_number', 'as_name'])['as_dose'].transform('sum')\n",
    "assigments_summed['as_count'] = assigments_summed.groupby(['patient_number', 'as_name'])['as_count'].transform('sum')\n",
    "assigments_summed = assigments_summed.drop_duplicates(subset =['patient_number',\"as_name\"])\n",
    "display(assigments_summed)"
   ]
  },
  {
   "cell_type": "code",
   "execution_count": 84,
   "metadata": {},
   "outputs": [
    {
     "output_type": "display_data",
     "data": {
      "text/plain": "    patient_number        full_name     as_date          as_name  as_dose  \\\n0                1    Alvera Hammes  2020-12-01          Ibuprom      116   \n1                1    Alvera Hammes  2020-01-02          Estates       51   \n2                2     Barry Conner  2020-11-01          Kopacul       15   \n3                2     Barry Conner  2020-11-21          Ibuprom       43   \n4                2     Barry Conner  2020-06-03           Ikarus       56   \n5                3     Brando Nolan  2020-10-01          Magenta       86   \n6                3     Brando Nolan  2020-12-01        Berkshire       83   \n7                4   Miss Lueilwitz  2020-09-01          Estates       73   \n8                4   Miss Lueilwitz  2020-11-11  Buckinghamshire       17   \n9                4   Miss Lueilwitz  2020-10-09          Kopacul       54   \n10               5  Nakia Rodriguez  2020-08-01           Ikarus       31   \n11               5  Nakia Rodriguez  2020-01-01          Magenta       75   \n\n    as_count  \n0         10  \n1          3  \n2          2  \n3          3  \n4          7  \n5          4  \n6          5  \n7          5  \n8          8  \n9          3  \n10         4  \n11         7  ",
      "text/html": "<div>\n<style scoped>\n    .dataframe tbody tr th:only-of-type {\n        vertical-align: middle;\n    }\n\n    .dataframe tbody tr th {\n        vertical-align: top;\n    }\n\n    .dataframe thead th {\n        text-align: right;\n    }\n</style>\n<table border=\"1\" class=\"dataframe\">\n  <thead>\n    <tr style=\"text-align: right;\">\n      <th></th>\n      <th>patient_number</th>\n      <th>full_name</th>\n      <th>as_date</th>\n      <th>as_name</th>\n      <th>as_dose</th>\n      <th>as_count</th>\n    </tr>\n  </thead>\n  <tbody>\n    <tr>\n      <th>0</th>\n      <td>1</td>\n      <td>Alvera Hammes</td>\n      <td>2020-12-01</td>\n      <td>Ibuprom</td>\n      <td>116</td>\n      <td>10</td>\n    </tr>\n    <tr>\n      <th>1</th>\n      <td>1</td>\n      <td>Alvera Hammes</td>\n      <td>2020-01-02</td>\n      <td>Estates</td>\n      <td>51</td>\n      <td>3</td>\n    </tr>\n    <tr>\n      <th>2</th>\n      <td>2</td>\n      <td>Barry Conner</td>\n      <td>2020-11-01</td>\n      <td>Kopacul</td>\n      <td>15</td>\n      <td>2</td>\n    </tr>\n    <tr>\n      <th>3</th>\n      <td>2</td>\n      <td>Barry Conner</td>\n      <td>2020-11-21</td>\n      <td>Ibuprom</td>\n      <td>43</td>\n      <td>3</td>\n    </tr>\n    <tr>\n      <th>4</th>\n      <td>2</td>\n      <td>Barry Conner</td>\n      <td>2020-06-03</td>\n      <td>Ikarus</td>\n      <td>56</td>\n      <td>7</td>\n    </tr>\n    <tr>\n      <th>5</th>\n      <td>3</td>\n      <td>Brando Nolan</td>\n      <td>2020-10-01</td>\n      <td>Magenta</td>\n      <td>86</td>\n      <td>4</td>\n    </tr>\n    <tr>\n      <th>6</th>\n      <td>3</td>\n      <td>Brando Nolan</td>\n      <td>2020-12-01</td>\n      <td>Berkshire</td>\n      <td>83</td>\n      <td>5</td>\n    </tr>\n    <tr>\n      <th>7</th>\n      <td>4</td>\n      <td>Miss Lueilwitz</td>\n      <td>2020-09-01</td>\n      <td>Estates</td>\n      <td>73</td>\n      <td>5</td>\n    </tr>\n    <tr>\n      <th>8</th>\n      <td>4</td>\n      <td>Miss Lueilwitz</td>\n      <td>2020-11-11</td>\n      <td>Buckinghamshire</td>\n      <td>17</td>\n      <td>8</td>\n    </tr>\n    <tr>\n      <th>9</th>\n      <td>4</td>\n      <td>Miss Lueilwitz</td>\n      <td>2020-10-09</td>\n      <td>Kopacul</td>\n      <td>54</td>\n      <td>3</td>\n    </tr>\n    <tr>\n      <th>10</th>\n      <td>5</td>\n      <td>Nakia Rodriguez</td>\n      <td>2020-08-01</td>\n      <td>Ikarus</td>\n      <td>31</td>\n      <td>4</td>\n    </tr>\n    <tr>\n      <th>11</th>\n      <td>5</td>\n      <td>Nakia Rodriguez</td>\n      <td>2020-01-01</td>\n      <td>Magenta</td>\n      <td>75</td>\n      <td>7</td>\n    </tr>\n  </tbody>\n</table>\n</div>"
     },
     "metadata": {}
    }
   ],
   "source": [
    "big_df = pd.merge(patients, assigments_summed, on='patient_number', how='left').fillna(0)\n",
    "display(big_df)"
   ]
  },
  {
   "source": [
    "Крiм того, надати GUI з елементами:<br>\n",
    "– випадаючий список для задання пацiєнта за iменем i прiзвищем<br>\n",
    "– випадаючий список для задання назви препарату<br>\n",
    "– елемент для перiоду часу<br>\n",
    "– кнопка для побудови дiаграми отриманого пацiєнтом конкретного пре-<br>\n",
    "парату за перiод часу.<br>"
   ],
   "cell_type": "markdown",
   "metadata": {}
  },
  {
   "cell_type": "code",
   "execution_count": 85,
   "metadata": {},
   "outputs": [
    {
     "output_type": "display_data",
     "data": {
      "text/plain": "interactive(children=(Dropdown(description='full_name', options=('Alvera Hammes', 'Nakia Rodriguez', 'Brando N…",
      "application/vnd.jupyter.widget-view+json": {
       "version_major": 2,
       "version_minor": 0,
       "model_id": "8df6ef83a4d14edbac7a3631179f90cf"
      }
     },
     "metadata": {}
    }
   ],
   "source": [
    "full_names = set(big_df[\"full_name\"])\n",
    "as_names = set(big_df[\"as_name\"])\n",
    "dates = pd.date_range(datetime(2020, 1, 1), datetime(2020, 12, 30), freq='D')\n",
    "options=[(date.strftime(' %d %b %Y '), date) for date in dates]\n",
    "\n",
    "selection_range_slider = widgets.SelectionRangeSlider(\n",
    "    options=options,\n",
    "    index=(0, len(options)-1),\n",
    "    description='Dates',\n",
    "    orientation='horizontal',\n",
    "    layout={'width': '500px', \"color\": 'red'}\n",
    ")\n",
    "\n",
    "colors = widgets.ColorPicker(\n",
    "    concise=False,\n",
    "    description='Pick a color',\n",
    "    value='blue',\n",
    "    disabled=False\n",
    ")\n",
    "\n",
    "def choose(full_name, as_name, dates):\n",
    "    df = big_df.copy()\n",
    "    start, end = dates\n",
    "    df = df[(df.full_name == full_name) & (df.as_name == as_name)]\n",
    "    if not df.empty:\n",
    "        def bottom(color, plot=False):\n",
    "            if plot:\n",
    "                pl = df.sort_values(by='as_date', ascending=False)\n",
    "                pl[\"tot_dose\"] = pl[\"as_dose\"]*pl[\"as_count\"]\n",
    "                pl.plot(x='as_date', y='tot_dose', kind='bar', title=full_name + \" \" + as_name, figsize=(10, 5), rot=30, color=color);\n",
    "        interact(bottom, color=colors)\n",
    "   \n",
    "    display(df)\n",
    "\n",
    "interact(choose, full_name=full_names, as_name=as_names, dates=selection_range_slider);"
   ]
  },
  {
   "source": [
    "2. для кожного препарату загальний розхiд за перiоду часу. <br><br>\n",
    "Крiм того, надати GUI з елементами:<br>\n",
    "– випадаючий список для задання назви препарату<br>\n",
    "– елемент для перiоду часу<br>\n",
    "– кнопка для побудови дiаграми загального розходу конкретного препа-<br>\n",
    "рату за перiоду часу.<br>"
   ],
   "cell_type": "markdown",
   "metadata": {}
  },
  {
   "cell_type": "code",
   "execution_count": 86,
   "metadata": {},
   "outputs": [
    {
     "output_type": "execute_result",
     "data": {
      "text/plain": [
       "      as_date          as_name  consumption\n",
       "0  2020-12-01          Ibuprom         2067\n",
       "1  2020-01-02          Estates          992\n",
       "2  2020-11-01          Kopacul          345\n",
       "3  2020-11-21          Ibuprom         2067\n",
       "4  2020-06-03           Ikarus          957\n",
       "5  2020-10-01          Magenta         1771\n",
       "6  2020-12-01        Berkshire          415\n",
       "7  2020-09-01          Estates          992\n",
       "8  2020-11-11  Buckinghamshire          136\n",
       "9  2020-10-09          Kopacul          345\n",
       "10 2020-08-01           Ikarus          957\n",
       "11 2020-01-01          Magenta         1771"
      ],
      "text/html": "<div>\n<style scoped>\n    .dataframe tbody tr th:only-of-type {\n        vertical-align: middle;\n    }\n\n    .dataframe tbody tr th {\n        vertical-align: top;\n    }\n\n    .dataframe thead th {\n        text-align: right;\n    }\n</style>\n<table border=\"1\" class=\"dataframe\">\n  <thead>\n    <tr style=\"text-align: right;\">\n      <th></th>\n      <th>as_date</th>\n      <th>as_name</th>\n      <th>consumption</th>\n    </tr>\n  </thead>\n  <tbody>\n    <tr>\n      <th>0</th>\n      <td>2020-12-01</td>\n      <td>Ibuprom</td>\n      <td>2067</td>\n    </tr>\n    <tr>\n      <th>1</th>\n      <td>2020-01-02</td>\n      <td>Estates</td>\n      <td>992</td>\n    </tr>\n    <tr>\n      <th>2</th>\n      <td>2020-11-01</td>\n      <td>Kopacul</td>\n      <td>345</td>\n    </tr>\n    <tr>\n      <th>3</th>\n      <td>2020-11-21</td>\n      <td>Ibuprom</td>\n      <td>2067</td>\n    </tr>\n    <tr>\n      <th>4</th>\n      <td>2020-06-03</td>\n      <td>Ikarus</td>\n      <td>957</td>\n    </tr>\n    <tr>\n      <th>5</th>\n      <td>2020-10-01</td>\n      <td>Magenta</td>\n      <td>1771</td>\n    </tr>\n    <tr>\n      <th>6</th>\n      <td>2020-12-01</td>\n      <td>Berkshire</td>\n      <td>415</td>\n    </tr>\n    <tr>\n      <th>7</th>\n      <td>2020-09-01</td>\n      <td>Estates</td>\n      <td>992</td>\n    </tr>\n    <tr>\n      <th>8</th>\n      <td>2020-11-11</td>\n      <td>Buckinghamshire</td>\n      <td>136</td>\n    </tr>\n    <tr>\n      <th>9</th>\n      <td>2020-10-09</td>\n      <td>Kopacul</td>\n      <td>345</td>\n    </tr>\n    <tr>\n      <th>10</th>\n      <td>2020-08-01</td>\n      <td>Ikarus</td>\n      <td>957</td>\n    </tr>\n    <tr>\n      <th>11</th>\n      <td>2020-01-01</td>\n      <td>Magenta</td>\n      <td>1771</td>\n    </tr>\n  </tbody>\n</table>\n</div>"
     },
     "metadata": {},
     "execution_count": 86
    }
   ],
   "source": [
    "new_df = big_df.loc[:, ['as_date', 'as_name', 'as_dose', 'as_count']]\n",
    "new_df['as_dose'] = new_df.groupby('as_name')['as_dose'].transform('sum')\n",
    "new_df['as_count'] = new_df.groupby('as_name')['as_count'].transform('sum')\n",
    "new_df =  new_df.drop_duplicates(subset =['as_date',\"as_name\"])\n",
    "new_df['consumption'] = new_df['as_dose']*new_df['as_count']\n",
    "new_df = new_df.drop([\"as_dose\", \"as_count\"], axis=1)\n",
    "\n",
    "new_df[\"as_date\"] = new_df[\"as_date\"].apply(lambda x: datetime.strptime(x, '%Y-%m-%d'))\n",
    "new_df"
   ]
  },
  {
   "cell_type": "code",
   "execution_count": 87,
   "metadata": {},
   "outputs": [
    {
     "output_type": "display_data",
     "data": {
      "text/plain": "interactive(children=(Dropdown(description='as_name', options=('Berkshire', 'Ikarus', 'Estates', 'Ibuprom', 'B…",
      "application/vnd.jupyter.widget-view+json": {
       "version_major": 2,
       "version_minor": 0,
       "model_id": "10d556815cee45879d6e9b7d03a711ae"
      }
     },
     "metadata": {}
    },
    {
     "output_type": "display_data",
     "data": {
      "text/plain": "     as_date    as_name  consumption\n6 2020-12-01  Berkshire          415",
      "text/html": "<div>\n<style scoped>\n    .dataframe tbody tr th:only-of-type {\n        vertical-align: middle;\n    }\n\n    .dataframe tbody tr th {\n        vertical-align: top;\n    }\n\n    .dataframe thead th {\n        text-align: right;\n    }\n</style>\n<table border=\"1\" class=\"dataframe\">\n  <thead>\n    <tr style=\"text-align: right;\">\n      <th></th>\n      <th>as_date</th>\n      <th>as_name</th>\n      <th>consumption</th>\n    </tr>\n  </thead>\n  <tbody>\n    <tr>\n      <th>6</th>\n      <td>2020-12-01</td>\n      <td>Berkshire</td>\n      <td>415</td>\n    </tr>\n  </tbody>\n</table>\n</div>"
     },
     "metadata": {}
    }
   ],
   "source": [
    "as_name = set(new_df[\"as_name\"])\n",
    "dates = pd.date_range(datetime(2020, 1, 1), datetime(2020, 12, 30), freq='D')\n",
    "options=[(date.strftime(' %d %b %Y '), date) for date in dates]\n",
    "\n",
    "selection_range_slider = widgets.SelectionRangeSlider(\n",
    "    options=options,\n",
    "    index=(0, len(options)-1),\n",
    "    description='Dates',\n",
    "    orientation='horizontal',\n",
    "    layout={'width': '500px', \"color\": 'red'}\n",
    ")\n",
    "\n",
    "colors = widgets.ColorPicker(\n",
    "    concise=False,\n",
    "    description='Pick a color',\n",
    "    value='blue',\n",
    "    disabled=False\n",
    ")\n",
    "\n",
    "def choose(as_name, dates):\n",
    "    df = new_df.copy()\n",
    "    start, end = dates\n",
    "    df = df[(df.as_name == as_name) & (df.as_date >= start) & (df.as_date <= end)]\n",
    "    if not df.empty:\n",
    "\n",
    "        def bottom(color, plot=False):\n",
    "            if plot:\n",
    "                pl = df.sort_values(by='as_date', ascending=False)\n",
    "                pl.plot(x='as_date', y='consumption', kind='bar', title=as_name, figsize=(10, 5), rot=30, color=color);\n",
    "                \n",
    "        interact(bottom, color=colors)\n",
    "    display(df)\n",
    "\n",
    "interact(choose, as_name=as_names, dates=selection_range_slider);"
   ]
  },
  {
   "source": [
    "# Without Pandas"
   ],
   "cell_type": "markdown",
   "metadata": {}
  },
  {
   "cell_type": "code",
   "execution_count": 88,
   "metadata": {},
   "outputs": [],
   "source": [
    "class Validation:\n",
    "    \"\"\"Class for Validation representation.\"\"\"\n",
    "\n",
    "    @staticmethod\n",
    "    def validateStr(func):\n",
    "        def validateStrWrapper(w, value):\n",
    "            if not(isinstance(value, str)):\n",
    "                raise TypeError('must be an str')\n",
    "            return func(w, value)\n",
    "        return validateStrWrapper\n",
    "\n",
    "    @staticmethod\n",
    "    def validateFloat(func):\n",
    "        def validateFloatWrapper(w, value):\n",
    "            if not(isinstance(value, float)) and not(isinstance(value, int)):\n",
    "                try:\n",
    "                    value = float(value)\n",
    "                except TypeError:\n",
    "                    raise TypeError('must be an float')\n",
    "            return func(w, value)\n",
    "        return validateFloatWrapper\n",
    "\n",
    "    @staticmethod\n",
    "    def validateInt(func):\n",
    "        def validateIntWrapper(w, value):\n",
    "            if not(isinstance(value, int)):\n",
    "                try:\n",
    "                    value = int(value)\n",
    "                except TypeError:\n",
    "                    raise TypeError('must be an int')\n",
    "            return func(w, value)\n",
    "        return validateIntWrapper\n",
    "\n",
    "    @staticmethod\n",
    "    def validateSize(func):\n",
    "        def validateSizeWrapper(w, value):\n",
    "            if not(isinstance(value, int)) and not(isinstance(value, float)):\n",
    "                try:\n",
    "                    value = float(value)\n",
    "                except TypeError:\n",
    "                    raise TypeError('must be an float')\n",
    "            if value < 0:\n",
    "                raise ValueError(\"mast be positive\")\n",
    "            return func(w, value)\n",
    "        return validateSizeWrapper\n",
    "\n",
    "    @staticmethod\n",
    "    def validateAmount(func):\n",
    "        def validateAmountWrapper(w, value):\n",
    "            if not(isinstance(value, int)):\n",
    "                try:\n",
    "                    value = int(value)\n",
    "                except TypeError:\n",
    "                    raise TypeError('must be an int')\n",
    "            if value < 0:\n",
    "                raise ValueError(\"mast be positive\")\n",
    "            return func(w, value)\n",
    "        return validateAmountWrapper\n",
    "\n",
    "    @staticmethod\n",
    "    def validateDate(func):\n",
    "        def validateDateWrapper(w, date):\n",
    "            date = datetime.strptime(date, '%Y-%m-%d')\n",
    "            return func(w, date)\n",
    "        return validateDateWrapper\n",
    "    \n",
    "    @staticmethod\n",
    "    def validateBool(func):\n",
    "        def validateBoolWrapper(w, value):\n",
    "            bools = ['yes', 'no', 'Yes', 'No', '0', '1', 0, 1, True, False, 'True', 'False']\n",
    "            if value not in bools:\n",
    "                raise ValueError(\"mast be boolean\")\n",
    "            return func(w, value)\n",
    "        return validateBoolWrapper"
   ]
  },
  {
   "cell_type": "code",
   "execution_count": 89,
   "metadata": {},
   "outputs": [],
   "source": [
    "class Patient:\n",
    "    \"\"\"Class for Patient representation.\"\"\"\n",
    "    \n",
    "    def __init__(self, patient_name, patient_last_name, patient_number):\n",
    "        self.patient_name = patient_name\n",
    "        self.patient_last_name = patient_last_name\n",
    "        self.patient_number = patient_number\n",
    "        \n",
    "    @property\n",
    "    def patient_name(self):\n",
    "        return self._patient_name\n",
    "\n",
    "    @patient_name.setter\n",
    "    @Validation.validateStr\n",
    "    def patient_name(self, value):\n",
    "        self._patient_name = value\n",
    "        \n",
    "    @property\n",
    "    def patient_last_name(self):\n",
    "        return self._patient_last_name\n",
    "\n",
    "    @patient_last_name.setter\n",
    "    @Validation.validateStr\n",
    "    def patient_last_name(self, value):\n",
    "        self._patient_last_name = value\n",
    "        \n",
    "    @property\n",
    "    def patient_number(self):\n",
    "        return self._patient_number\n",
    "\n",
    "    @patient_number.setter\n",
    "    @Validation.validateAmount\n",
    "    def patient_number(self, value):\n",
    "        self._patient_number = value\n",
    "\n",
    "    def full_name(self):\n",
    "        return self.patient_name + \" \" + self.patient_last_name\n",
    "\n",
    "        \n",
    "    def __str__(self):\n",
    "        return f\"\\npatient_name: {self.patient_name}\\\n",
    "                 \\npatient_number: {self.patient_number}\\\n",
    "                 \\npatient_last_name: {self.patient_last_name}\"\n",
    "\n",
    "    def __repr__(self):\n",
    "        return f\"\\npatient_name: {self.patient_name}\\\n",
    "                 \\npatient_number: {self.patient_number}\\\n",
    "                 \\npatient_last_name: {self.patient_last_name}\""
   ]
  },
  {
   "cell_type": "code",
   "execution_count": 90,
   "metadata": {},
   "outputs": [],
   "source": [
    "class Assigment:\n",
    "    \"\"\"Class for Assigment representation.\"\"\"\n",
    "    \n",
    "    def __init__(self, patient_number, as_date, as_name, as_dose, as_count):\n",
    "        self.patient_number = patient_number\n",
    "        self.as_date = as_date\n",
    "        self.as_name = as_name\n",
    "        self.as_dose = as_dose\n",
    "        self.as_count = as_count\n",
    "        \n",
    "\n",
    "    @property\n",
    "    def patient_number(self):\n",
    "        return self._patient_number\n",
    "\n",
    "    @patient_number.setter\n",
    "    @Validation.validateAmount\n",
    "    def patient_number(self, value):\n",
    "        self._patient_number = value\n",
    "\n",
    "    @property\n",
    "    def as_date(self):\n",
    "        return self._as_date\n",
    "\n",
    "    @as_date.setter\n",
    "    @Validation.validateDate\n",
    "    def as_date(self, value):\n",
    "        self._as_date = value\n",
    "        \n",
    "    @property\n",
    "    def as_name(self):\n",
    "        return self._as_name\n",
    "\n",
    "    @as_name.setter\n",
    "    @Validation.validateStr\n",
    "    def as_name(self, value):\n",
    "        self._as_name = value\n",
    "\n",
    "    @property\n",
    "    def as_dose(self):\n",
    "        return self._as_dose\n",
    "\n",
    "    @as_dose.setter\n",
    "    @Validation.validateAmount\n",
    "    def as_dose(self, value):\n",
    "        self._as_dose = value\n",
    "\n",
    "    @property\n",
    "    def as_count(self):\n",
    "        return self._as_count\n",
    "\n",
    "    @as_count.setter\n",
    "    @Validation.validateAmount\n",
    "    def as_count(self, value):\n",
    "        self._as_count = value\n",
    "        \n",
    "    def __str__(self):\n",
    "        return f\"\\npatient_number: {self.patient_number}\\\n",
    "                 \\nas_date: {self.as_date}\\\n",
    "                 \\nas_dose: {self.as_dose}\\\n",
    "                 \\nas_name: {self.as_name}\\\n",
    "                 \\nas_count: {self.as_count}\"\n",
    "\n",
    "    def __repr__(self):\n",
    "        return f\"\\npatient_number: {self.patient_number}\\\n",
    "                 \\nas_date: {self.as_date}\\\n",
    "                 \\nas_dose: {self.as_dose}\\\n",
    "                 \\nas_name: {self.as_name}\\\n",
    "                 \\nas_count: {self.as_count}\""
   ]
  },
  {
   "cell_type": "code",
   "execution_count": 91,
   "metadata": {},
   "outputs": [],
   "source": [
    "def read_csv_file(file_name, t, objects):  \n",
    "    with open(file_name, 'r') as v:\n",
    "        r = csv.reader(v)\n",
    "        next(r)\n",
    "        for row in r:\n",
    "            try:\n",
    "                objects.append(t(*row))\n",
    "            except Exception as e:\n",
    "                print(f'{file_name}:\\nline - {len(objects)}: {e}')\n",
    "                continue"
   ]
  },
  {
   "cell_type": "code",
   "execution_count": 92,
   "metadata": {},
   "outputs": [
    {
     "output_type": "execute_result",
     "data": {
      "text/plain": [
       "([\n",
       "  patient_name: Alvera                 \n",
       "  patient_number: 1                 \n",
       "  patient_last_name: Hammes,\n",
       "  \n",
       "  patient_name: Barry                 \n",
       "  patient_number: 2                 \n",
       "  patient_last_name: Conner,\n",
       "  \n",
       "  patient_name: Brando                 \n",
       "  patient_number: 3                 \n",
       "  patient_last_name: Nolan,\n",
       "  \n",
       "  patient_name: Miss                 \n",
       "  patient_number: 4                 \n",
       "  patient_last_name: Lueilwitz,\n",
       "  \n",
       "  patient_name: Nakia                 \n",
       "  patient_number: 5                 \n",
       "  patient_last_name: Rodriguez],\n",
       " [\n",
       "  patient_number: 1                 \n",
       "  as_date: 2020-12-01 00:00:00                 \n",
       "  as_dose: 85                 \n",
       "  as_name: Ibuprom                 \n",
       "  as_count: 4,\n",
       "  \n",
       "  patient_number: 2                 \n",
       "  as_date: 2020-11-01 00:00:00                 \n",
       "  as_dose: 15                 \n",
       "  as_name: Kopacul                 \n",
       "  as_count: 2,\n",
       "  \n",
       "  patient_number: 3                 \n",
       "  as_date: 2020-10-01 00:00:00                 \n",
       "  as_dose: 86                 \n",
       "  as_name: Magenta                 \n",
       "  as_count: 4,\n",
       "  \n",
       "  patient_number: 4                 \n",
       "  as_date: 2020-09-01 00:00:00                 \n",
       "  as_dose: 73                 \n",
       "  as_name: Estates                 \n",
       "  as_count: 5,\n",
       "  \n",
       "  patient_number: 5                 \n",
       "  as_date: 2020-08-01 00:00:00                 \n",
       "  as_dose: 31                 \n",
       "  as_name: Ikarus                 \n",
       "  as_count: 4,\n",
       "  \n",
       "  patient_number: 1                 \n",
       "  as_date: 2020-11-01 00:00:00                 \n",
       "  as_dose: 31                 \n",
       "  as_name: Ibuprom                 \n",
       "  as_count: 6,\n",
       "  \n",
       "  patient_number: 4                 \n",
       "  as_date: 2020-11-11 00:00:00                 \n",
       "  as_dose: 7                 \n",
       "  as_name: Buckinghamshire                 \n",
       "  as_count: 3,\n",
       "  \n",
       "  patient_number: 2                 \n",
       "  as_date: 2020-11-21 00:00:00                 \n",
       "  as_dose: 43                 \n",
       "  as_name: Ibuprom                 \n",
       "  as_count: 3,\n",
       "  \n",
       "  patient_number: 4                 \n",
       "  as_date: 2020-10-09 00:00:00                 \n",
       "  as_dose: 54                 \n",
       "  as_name: Kopacul                 \n",
       "  as_count: 3,\n",
       "  \n",
       "  patient_number: 5                 \n",
       "  as_date: 2020-01-01 00:00:00                 \n",
       "  as_dose: 75                 \n",
       "  as_name: Magenta                 \n",
       "  as_count: 7,\n",
       "  \n",
       "  patient_number: 1                 \n",
       "  as_date: 2020-01-02 00:00:00                 \n",
       "  as_dose: 51                 \n",
       "  as_name: Estates                 \n",
       "  as_count: 3,\n",
       "  \n",
       "  patient_number: 2                 \n",
       "  as_date: 2020-06-03 00:00:00                 \n",
       "  as_dose: 56                 \n",
       "  as_name: Ikarus                 \n",
       "  as_count: 7,\n",
       "  \n",
       "  patient_number: 3                 \n",
       "  as_date: 2020-12-01 00:00:00                 \n",
       "  as_dose: 83                 \n",
       "  as_name: Berkshire                 \n",
       "  as_count: 5,\n",
       "  \n",
       "  patient_number: 4                 \n",
       "  as_date: 2020-11-01 00:00:00                 \n",
       "  as_dose: 10                 \n",
       "  as_name: Buckinghamshire                 \n",
       "  as_count: 5])"
      ]
     },
     "metadata": {},
     "execution_count": 92
    }
   ],
   "source": [
    "patients = []\n",
    "assigments = []\n",
    "\n",
    "read_csv_file(\"patients.csv\", Patient, patients)\n",
    "read_csv_file(\"assigments.csv\", Assigment, assigments)\n",
    "\n",
    "patients, assigments"
   ]
  },
  {
   "source": [
    "1. для кожного пацiєнта ( за iменем i прiзвищем) повний перелiк (без<br>\n",
    "повторень) отриманих лiкiв iз вказанням сумарної кiлькостi кожного пре-<br>\n",
    "парату в мг; <br><br>\n",
    "Крiм того, надати GUI з елементами:<br>\n",
    "– випадаючий список для задання пацiєнта за iменем i прiзвищем<br>\n",
    "– випадаючий список для задання назви препарату<br>\n",
    "– елемент для перiоду часу<br>\n",
    "– кнопка для побудови дiаграми отриманого пацiєнтом конкретного пре-<br>\n",
    "парату за перiод часу.<br>"
   ],
   "cell_type": "markdown",
   "metadata": {}
  },
  {
   "cell_type": "code",
   "execution_count": 93,
   "metadata": {},
   "outputs": [
    {
     "output_type": "stream",
     "name": "stdout",
     "text": [
      "Alvera Hammes :\n\tIbuprom - 526\n\tEstates - 153\nBarry Conner :\n\tKopacul - 30\n\tIbuprom - 129\n\tIkarus - 392\nBrando Nolan :\n\tMagenta - 344\n\tBerkshire - 415\nMiss Lueilwitz :\n\tEstates - 365\n\tBuckinghamshire - 71\n\tKopacul - 162\nNakia Rodriguez :\n\tIkarus - 124\n\tMagenta - 525\n"
     ]
    }
   ],
   "source": [
    "d = {}\n",
    "for patient in patients:\n",
    "    dd = {}\n",
    "    for assigment in assigments:\n",
    "        if patient.patient_number == assigment.patient_number:\n",
    "            dd.setdefault(assigment.as_name, 0)\n",
    "            dd[assigment.as_name] += assigment.as_dose * assigment.as_count\n",
    "            d[patient.full_name()] = dd\n",
    "\n",
    "for (k, v) in d.items():\n",
    "    print(k, \":\")\n",
    "    for (kk, vv) in v.items():\n",
    "        print(f'\\t{kk} - {vv}')\n",
    "    "
   ]
  },
  {
   "cell_type": "code",
   "execution_count": 94,
   "metadata": {},
   "outputs": [],
   "source": [
    "def draw_histogram(x, y, x_label, y_label, title): \n",
    "    fig, ax = plt.subplots(figsize=(10, 7))\n",
    "    ax.bar(x, y, color='#EB984E', width=0.5, edgecolor='#154360')\n",
    "    ax.set_title(title, color='black', size=50, fontweight='bold', pad=30)\n",
    "    ax.set_ylabel(y_label, size=25, fontweight='bold')\n",
    "    ax.set_xlabel(x_label, size=24, fontweight='bold')\n",
    "    ax.tick_params(axis='x', rotation=70, direction='inout', pad=10, labelsize='large', length=10, width=2)\n",
    "    ax.tick_params(axis='y', direction='inout', pad=10, labelsize='large', length=10, width=2)\n",
    "    ax.patch.set_facecolor('#FCF3CF')\n",
    "    fig.patch.set_facecolor('#73C6B6')         \n",
    "    plt.show()"
   ]
  },
  {
   "cell_type": "code",
   "execution_count": 95,
   "metadata": {},
   "outputs": [
    {
     "output_type": "display_data",
     "data": {
      "text/plain": "interactive(children=(Dropdown(description='full_name', options=(('Alvera Hammes', \npatient_name: Alvera      …",
      "application/vnd.jupyter.widget-view+json": {
       "version_major": 2,
       "version_minor": 0,
       "model_id": "6cd9155a2c3e498cb6b5b40f7b726603"
      }
     },
     "metadata": {}
    }
   ],
   "source": [
    "full_names = list((patient.full_name(), patient) for patient in patients)\n",
    "as_names = set(assigment.as_name for assigment in assigments)\n",
    "dates = pd.date_range(datetime(2020, 1, 1), datetime(2020, 12, 30), freq='D')\n",
    "options=[(date.strftime(' %d %b %Y '), date) for date in dates]\n",
    "\n",
    "selection_range_slider = widgets.SelectionRangeSlider(\n",
    "    options=options,\n",
    "    index=(0, len(options)-1),\n",
    "    description='Dates',\n",
    "    orientation='horizontal',\n",
    "    layout={'width': '500px', \"color\": 'red'}\n",
    ")\n",
    "\n",
    "def choose(full_name, as_name, dates):\n",
    "    dates = datetime.strptime(str(dates[0]), '%Y-%m-%d %H:%M:%S'), datetime.strptime(str(dates[1]), '%Y-%m-%d %H:%M:%S')\n",
    "    assi = list(filter(lambda k: k.patient_number == full_name.patient_number and k.as_name == as_name and k.as_date > dates[0] and k.as_date < dates[1], assigments))\n",
    "\n",
    "    d = {}\n",
    "    for i in assi:\n",
    "        d.setdefault(i.as_date, 0)\n",
    "        d[i.as_date] += i.as_dose * i.as_count\n",
    "\n",
    "    if assi:\n",
    "        def bottom(plot=False):\n",
    "            if plot:\n",
    "                draw_histogram(list(d.keys()), list(d.values()), \"Date\", \"Dose\", full_name.full_name() + \" - \" + as_name)\n",
    "        interact(bottom);\n",
    "   \n",
    "    \n",
    "interact(choose, full_name=full_names, as_name=as_names, dates=selection_range_slider);"
   ]
  },
  {
   "source": [
    "2. для кожного препарату загальний розхiд за перiоду часу. <br><br>\n",
    "Крiм того, надати GUI з елементами:<br>\n",
    "– випадаючий список для задання назви препарату<br>\n",
    "– елемент для перiоду часу<br>\n",
    "– кнопка для побудови дiаграми загального розходу конкретного препа-<br>\n",
    "рату за перiоду часу.<br>"
   ],
   "cell_type": "markdown",
   "metadata": {}
  },
  {
   "cell_type": "code",
   "execution_count": 96,
   "metadata": {},
   "outputs": [
    {
     "output_type": "stream",
     "name": "stdout",
     "text": [
      "Ibuprom :\n\t2020-12-01 00:00:00 - 340\n\t2020-11-01 00:00:00 - 186\n\t2020-11-21 00:00:00 - 129\nKopacul :\n\t2020-11-01 00:00:00 - 30\n\t2020-10-09 00:00:00 - 162\nMagenta :\n\t2020-10-01 00:00:00 - 344\n\t2020-01-01 00:00:00 - 525\nEstates :\n\t2020-09-01 00:00:00 - 365\n\t2020-01-02 00:00:00 - 153\nIkarus :\n\t2020-08-01 00:00:00 - 124\n\t2020-06-03 00:00:00 - 392\nBuckinghamshire :\n\t2020-11-11 00:00:00 - 21\n\t2020-11-01 00:00:00 - 50\nBerkshire :\n\t2020-12-01 00:00:00 - 415\n"
     ]
    }
   ],
   "source": [
    "d = {}\n",
    "for assigment in assigments:\n",
    "    dd = {}\n",
    "    d.setdefault(assigment.as_name, {})\n",
    "    d[assigment.as_name].setdefault(assigment.as_date, 0)\n",
    "\n",
    "    d[assigment.as_name][assigment.as_date] += assigment.as_dose * assigment.as_count\n",
    "\n",
    "for (k, v) in d.items():\n",
    "    print(k, \":\")\n",
    "    for (kk, vv) in v.items():\n",
    "        print(f'\\t{kk} - {vv}')"
   ]
  },
  {
   "cell_type": "code",
   "execution_count": 97,
   "metadata": {},
   "outputs": [
    {
     "output_type": "display_data",
     "data": {
      "text/plain": "interactive(children=(Dropdown(description='as_name', options=('Berkshire', 'Ikarus', 'Estates', 'Ibuprom', 'B…",
      "application/vnd.jupyter.widget-view+json": {
       "version_major": 2,
       "version_minor": 0,
       "model_id": "c67a843d382c4902a8a4446804436d8b"
      }
     },
     "metadata": {}
    }
   ],
   "source": [
    "as_names = set(assigment.as_name for assigment in assigments)\n",
    "dates = pd.date_range(datetime(2020, 1, 1), datetime(2020, 12, 30), freq='D')\n",
    "options=[(date.strftime(' %d %b %Y '), date) for date in dates]\n",
    "\n",
    "selection_range_slider = widgets.SelectionRangeSlider(\n",
    "    options=options,\n",
    "    index=(0, len(options)-1),\n",
    "    description='Dates',\n",
    "    orientation='horizontal',\n",
    "    layout={'width': '500px', \"color\": 'red'}\n",
    ")\n",
    "\n",
    "def choose(as_name, dates):\n",
    "    dates = datetime.strptime(str(dates[0]), '%Y-%m-%d %H:%M:%S'), datetime.strptime(str(dates[1]), '%Y-%m-%d %H:%M:%S')\n",
    "    assi = list(filter(lambda k: k.as_name == as_name and k.as_date > dates[0] and k.as_date < dates[1], assigments))\n",
    "\n",
    "    d = {}\n",
    "    for i in assi:\n",
    "        d.setdefault(i.as_date, 0)\n",
    "        d[i.as_date] += i.as_dose * i.as_count\n",
    "\n",
    "    if assi:\n",
    "        def bottom(plot=False):\n",
    "            if plot:\n",
    "                draw_histogram(list(d.keys()), list(d.values()), \"Date\", \"Dose\", as_name)\n",
    "        interact(bottom);\n",
    "   \n",
    "    \n",
    "interact(choose, full_name=full_names, as_name=as_names, dates=selection_range_slider);"
   ]
  },
  {
   "cell_type": "code",
   "execution_count": null,
   "metadata": {},
   "outputs": [],
   "source": []
  }
 ]
}