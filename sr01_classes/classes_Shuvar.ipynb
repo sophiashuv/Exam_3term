{
 "metadata": {
  "language_info": {
   "codemirror_mode": {
    "name": "ipython",
    "version": 3
   },
   "file_extension": ".py",
   "mimetype": "text/x-python",
   "name": "python",
   "nbconvert_exporter": "python",
   "pygments_lexer": "ipython3",
   "version": "3.8.5-final"
  },
  "orig_nbformat": 2,
  "kernelspec": {
   "name": "python3",
   "display_name": "Python 3",
   "language": "python"
  }
 },
 "nbformat": 4,
 "nbformat_minor": 2,
 "cells": [
  {
   "source": [
    "# Task \n",
    "Завдання 1.\n",
    "1. Створити тип Vehicle, який характеризується маркою, потужнiстю двигуна, кiлькiстю колiс та вагою автомобiля. Також утворити похiднi ти- пи Truck (додатково характеризується вантажопiдйомнiстю), а також Car i Bus, якi характеризується кiлькiстю мiсць для сидiння, а Bus – ще й кiлькi- стю “стоячих” мiсць. Надати properties для даних та методи для iнформува- ння користувачiв та розробникiв про характеристики автомобiля. Утворити список з кiлькох об’єктiв кожного типу i вивести їх повнi описи.\n",
    "2. Отримати окремо списки вантажних та пасажирських автомобiлiв. 3. Впорядкувати списки за спаданням :\n",
    "- для вантажiвок за вантажопiдйомнiстю\n",
    "- для пасажирських за кiлькiстю пасажирiв."
   ],
   "cell_type": "markdown",
   "metadata": {}
  },
  {
   "source": [
    "## Task1"
   ],
   "cell_type": "markdown",
   "metadata": {}
  },
  {
   "cell_type": "code",
   "execution_count": 87,
   "metadata": {},
   "outputs": [],
   "source": [
    "from datetime import datetime\n",
    "\n",
    "\n",
    "class Validation:\n",
    "    \"\"\"Class for Validation representation.\"\"\"\n",
    "\n",
    "    @staticmethod\n",
    "    def validateStr(func):\n",
    "        def validateStrWrapper(w, value):\n",
    "            if not(isinstance(value, str)):\n",
    "                raise TypeError('must be an str')\n",
    "            return func(w, value)\n",
    "        return validateStrWrapper\n",
    "\n",
    "    @staticmethod\n",
    "    def validateFloat(func):\n",
    "        def validateFloatWrapper(w, value):\n",
    "            if not(isinstance(value, float)) and not(isinstance(value, int)):\n",
    "                raise TypeError('must be an float')\n",
    "            return func(w, value)\n",
    "        return validateFloatWrapper\n",
    "\n",
    "    @staticmethod\n",
    "    def validateInt(func):\n",
    "        def validateIntWrapper(w, value):\n",
    "            if not(isinstance(value, int)):\n",
    "                raise TypeError('must be an int')\n",
    "            return func(w, value)\n",
    "        return validateIntWrapper\n",
    "\n",
    "    @staticmethod\n",
    "    def validateSize(func):\n",
    "        def validateSizeWrapper(w, value):\n",
    "            if not(isinstance(value, int)):\n",
    "                raise TypeError('must be an int')\n",
    "            if value < 0:\n",
    "                raise ValueError(\"mast be positive\")\n",
    "            return func(w, value)\n",
    "        return validateSizeWrapper\n",
    "\n",
    "    @staticmethod\n",
    "    def validateDate(func):\n",
    "        def validateDateWrapper(w, date):\n",
    "            datetime.strptime(date, '%Y-%m-%d')\n",
    "            return func(w, date)\n",
    "        return validateDateWrapper\n",
    "\n",
    "\n",
    "    @staticmethod\n",
    "    def validateFileName(end=\".txt\"):\n",
    "        def validateFileNameDecorator(func):\n",
    "            def validateFileNameWrapper(L, filename):\n",
    "                if not filename.endswith(end):\n",
    "                    raise ValueError(\"Incorrect filename, should end with .\" + end + \".\")\n",
    "                return func(L, filename)\n",
    "            return validateFileNameWrapper\n",
    "        return validateFileNameDecorator"
   ]
  },
  {
   "cell_type": "code",
   "execution_count": 88,
   "metadata": {},
   "outputs": [],
   "source": [
    "class Vehicle:\n",
    "    \"\"\"Class for Vehicle representation.\"\"\"\n",
    "\n",
    "    def __init__(self, brand, power, wheel_am, weight):\n",
    "        self.brand = brand\n",
    "        self.power = power\n",
    "        self.wheel_am = wheel_am\n",
    "        self.weight = weight\n",
    "\n",
    "    @property\n",
    "    def brand(self):\n",
    "        return self._brand\n",
    "    \n",
    "    @brand.setter\n",
    "    @Validation.validateStr\n",
    "    def brand(self, val):\n",
    "        self._brand = val\n",
    "\n",
    "    @property\n",
    "    def power(self):\n",
    "        return self._power\n",
    "\n",
    "    @power.setter\n",
    "    @Validation.validateFloat\n",
    "    def power(self, val):\n",
    "        self._power = val\n",
    "\n",
    "    @property\n",
    "    def wheel_am(self):\n",
    "        return self._wheel_am\n",
    "\n",
    "    @wheel_am.setter\n",
    "    @Validation.validateSize\n",
    "    def wheel_am(self, val):\n",
    "        self._wheel_am = val\n",
    "\n",
    "    @property\n",
    "    def weight(self):\n",
    "        return self._weight\n",
    "\n",
    "    @weight.setter\n",
    "    @Validation.validateFloat\n",
    "    def weight(self, val):\n",
    "        self._weight = val\n",
    "\n",
    "    def __str__(self):\n",
    "        return f'brand = {self.brand}, power = {self.power}, wheel_am = {self.wheel_am}, weight ={self.weight}'\n",
    "\n",
    "    def __repr__(self):\n",
    "        return f'brand = {self.brand}, power = {self.power}, wheel_am = {self.wheel_am}, weight ={self.weight}'"
   ]
  },
  {
   "cell_type": "code",
   "execution_count": 89,
   "metadata": {},
   "outputs": [],
   "source": [
    "class Truck(Vehicle):\n",
    "    \"\"\"Class for Truck representation.\"\"\"\n",
    "\n",
    "    def __init__(self, brand, power, wheel_am, weight, load_capacity):\n",
    "        super().__init__(brand, power, wheel_am, weight)\n",
    "        self.load_capacity = load_capacity\n",
    "\n",
    "    @property\n",
    "    def load_capacity(self):\n",
    "        return self._load_capacity\n",
    "\n",
    "    @load_capacity.setter\n",
    "    @Validation.validateSize\n",
    "    def load_capacity(self, val):\n",
    "        self._load_capacity = val\n",
    "\n",
    "    def __str__(self):\n",
    "        return super().__str__() + f', load_capacity={self.load_capacity}'\n",
    "\n",
    "    def __repr__(self):\n",
    "        return super().__repr__() + f', load_capacity={self.load_capacity}'\n",
    "    "
   ]
  },
  {
   "cell_type": "code",
   "execution_count": 90,
   "metadata": {},
   "outputs": [],
   "source": [
    "class Car(Vehicle):\n",
    "    \"\"\"Class for Car representation.\"\"\"\n",
    "\n",
    "    def __init__(self, brand, power, wheel_am, weight, seats):\n",
    "        super().__init__(brand, power, wheel_am, weight)\n",
    "        self.seats = seats\n",
    "\n",
    "    @property\n",
    "    def seats(self):\n",
    "        return self._seats\n",
    "\n",
    "    @seats.setter\n",
    "    @Validation.validateSize\n",
    "    def seats(self, val):\n",
    "        self._seats = val\n",
    "\n",
    "    def passengers(self):\n",
    "        return self.seats\n",
    "\n",
    "    def __str__(self):\n",
    "        return super().__str__() + f', seets={self.seats}'\n",
    "\n",
    "    def __repr__(self):\n",
    "        return super().__repr__() + f', seets={self.seats}'"
   ]
  },
  {
   "cell_type": "code",
   "execution_count": 91,
   "metadata": {},
   "outputs": [],
   "source": [
    "class Bus(Car):\n",
    "    \"\"\"Class for Bus representation.\"\"\"\n",
    "\n",
    "    def __init__(self, brand, power, wheel_am, weight, seats, stands):\n",
    "        super().__init__( brand, power, wheel_am, weight, seats)\n",
    "        self.stands = stands\n",
    "\n",
    "    @property\n",
    "    def stands(self):\n",
    "        return self._stands\n",
    "\n",
    "    @stands.setter\n",
    "    @Validation.validateSize\n",
    "    def stands(self, val):\n",
    "        self._stands = val\n",
    "\n",
    "    def passengers(self):\n",
    "        return super().passengers() + self.stands\n",
    "\n",
    "    def __str__(self):\n",
    "        return super().__str__() + f', stands={self.stands}'\n",
    "\n",
    "    def __repr__(self):\n",
    "        return super().__repr__() + f', stands={self.stands}'"
   ]
  },
  {
   "cell_type": "code",
   "execution_count": 92,
   "metadata": {},
   "outputs": [],
   "source": [
    "cars = [Vehicle('Volvo', 1300, 4, 2700), \n",
    "Vehicle('Bang', 1400, 6, 1420),\n",
    "Vehicle('Kizaru', 1000, 25, 1470),\n",
    "Truck('Man', 7000, 8, 9500, 6500),\n",
    "Truck('Woman', 8520, 12, 78965, 7415),\n",
    "Truck('Kids', 9510, 2, 412, 4152),\n",
    "Car('BMW', 2500, 4, 6500, 5),\n",
    "Car('MBW', 7410, 3, 1458, 3),\n",
    "Car('WBM', 9630, 7, 4120, 1),\n",
    "Bus('Mercedes-Benz', 5000, 6, 9000, 8, 36),\n",
    "Bus('SSS-Benz', 4563, 1, 741520, 41, 47),\n",
    "Bus('DDD-Benz', 9874, 2, 65412, 32, 63)]\n",
    "    "
   ]
  },
  {
   "cell_type": "code",
   "execution_count": 93,
   "metadata": {},
   "outputs": [
    {
     "output_type": "stream",
     "name": "stdout",
     "text": [
      "brand = Volvo, power = 1300, wheel_am = 4, weight =2700\nbrand = Bang, power = 1400, wheel_am = 6, weight =1420\nbrand = Kizaru, power = 1000, wheel_am = 25, weight =1470\nbrand = Man, power = 7000, wheel_am = 8, weight =9500, load_capacity=6500\nbrand = Woman, power = 8520, wheel_am = 12, weight =78965, load_capacity=7415\nbrand = Kids, power = 9510, wheel_am = 2, weight =412, load_capacity=4152\nbrand = BMW, power = 2500, wheel_am = 4, weight =6500, seets=5\nbrand = MBW, power = 7410, wheel_am = 3, weight =1458, seets=3\nbrand = WBM, power = 9630, wheel_am = 7, weight =4120, seets=1\nbrand = Mercedes-Benz, power = 5000, wheel_am = 6, weight =9000, seets=8, stands=36\nbrand = SSS-Benz, power = 4563, wheel_am = 1, weight =741520, seets=41, stands=47\nbrand = DDD-Benz, power = 9874, wheel_am = 2, weight =65412, seets=32, stands=63\n"
     ]
    }
   ],
   "source": [
    "@Validation.validate_inp\n",
    "def print_cars(cars):\n",
    "    for car in cars:\n",
    "        print(car)\n",
    "print_cars(cars)"
   ]
  },
  {
   "source": [
    " ## Task2"
   ],
   "cell_type": "markdown",
   "metadata": {}
  },
  {
   "cell_type": "code",
   "execution_count": 99,
   "metadata": {},
   "outputs": [
    {
     "output_type": "execute_result",
     "data": {
      "text/plain": [
       "([brand = Man, power = 7000, wheel_am = 8, weight =9500, load_capacity=6500,\n",
       "  brand = Woman, power = 8520, wheel_am = 12, weight =78965, load_capacity=7415,\n",
       "  brand = Kids, power = 9510, wheel_am = 2, weight =412, load_capacity=4152],\n",
       " [brand = BMW, power = 2500, wheel_am = 4, weight =6500, seets=5,\n",
       "  brand = MBW, power = 7410, wheel_am = 3, weight =1458, seets=3,\n",
       "  brand = WBM, power = 9630, wheel_am = 7, weight =4120, seets=1,\n",
       "  brand = Mercedes-Benz, power = 5000, wheel_am = 6, weight =9000, seets=8, stands=36,\n",
       "  brand = SSS-Benz, power = 4563, wheel_am = 1, weight =741520, seets=41, stands=47,\n",
       "  brand = DDD-Benz, power = 9874, wheel_am = 2, weight =65412, seets=32, stands=63])"
      ]
     },
     "metadata": {},
     "execution_count": 99
    }
   ],
   "source": [
    "Truck_list = [car for car in cars if car.__class__.__name__ == 'Truck']\n",
    "Passagers_list = [car for car in cars if car.__class__.__name__ == 'Car' or car.__class__.__name__ == 'Bus']\n",
    "\n",
    "Truck_list, Passagers_list"
   ]
  },
  {
   "source": [
    "## Task3"
   ],
   "cell_type": "markdown",
   "metadata": {}
  },
  {
   "cell_type": "code",
   "execution_count": 109,
   "metadata": {},
   "outputs": [
    {
     "output_type": "execute_result",
     "data": {
      "text/plain": [
       "([brand = Kids, power = 9510, wheel_am = 2, weight =412, load_capacity=4152,\n",
       "  brand = Man, power = 7000, wheel_am = 8, weight =9500, load_capacity=6500,\n",
       "  brand = Woman, power = 8520, wheel_am = 12, weight =78965, load_capacity=7415],\n",
       " [brand = WBM, power = 9630, wheel_am = 7, weight =4120, seets=1,\n",
       "  brand = MBW, power = 7410, wheel_am = 3, weight =1458, seets=3,\n",
       "  brand = BMW, power = 2500, wheel_am = 4, weight =6500, seets=5,\n",
       "  brand = Mercedes-Benz, power = 5000, wheel_am = 6, weight =9000, seets=8, stands=36,\n",
       "  brand = SSS-Benz, power = 4563, wheel_am = 1, weight =741520, seets=41, stands=47,\n",
       "  brand = DDD-Benz, power = 9874, wheel_am = 2, weight =65412, seets=32, stands=63])"
      ]
     },
     "metadata": {},
     "execution_count": 109
    }
   ],
   "source": [
    "Truck_list.sort(key=lambda x: x.load_capacity)\n",
    "Passagers_list.sort(key=lambda x: x.passengers())\n",
    "\n",
    "Truck_list, Passagers_list"
   ]
  },
  {
   "cell_type": "code",
   "execution_count": null,
   "metadata": {},
   "outputs": [],
   "source": []
  }
 ]
}