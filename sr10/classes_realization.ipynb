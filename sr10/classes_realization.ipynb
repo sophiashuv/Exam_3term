{
 "metadata": {
  "language_info": {
   "codemirror_mode": {
    "name": "ipython",
    "version": 3
   },
   "file_extension": ".py",
   "mimetype": "text/x-python",
   "name": "python",
   "nbconvert_exporter": "python",
   "pygments_lexer": "ipython3",
   "version": "3.8.5-final"
  },
  "orig_nbformat": 2,
  "kernelspec": {
   "name": "python3",
   "display_name": "Python 3",
   "language": "python"
  }
 },
 "nbformat": 4,
 "nbformat_minor": 2,
 "cells": [
  {
   "source": [
    "Розробити типи для вiдбору на навчання за результатами тестування. Претенденти характеризуються прiзвищем, iменем та iдентифiкацiйним но- мером. Тести характеризуються номером претендента, назвою предмета та кiлькiстю балiв. Для зарахування на факультет враховується сума балiв iз двох заданих предметiв, причому враховуються лише тi результати, якi не меншi прохiдного балу для конкретного предмета.\n",
    "Данi учасникiв тестування i тестiв задано у двох окремих файлах.<br>\n",
    "1. Отримати для учасника, заданого випадаючим списком, перелiк пре- дметiв з набраними балами, впорядковуючи його за спаданням балiв (вра- ховувати лише наявнi результати);<br>\n",
    "1а.побудувати дiаграму результатiв заданого учасника.<br>\n",
    "2. Для предмета, заданого випадаючим списком, отримати рейтинг уча- сникiв за результатами тестiв;<br>\n",
    "2а.побудувати дiаграму результатiв заданого предмета вiдповiдно до п.2.<br>\n",
    "3. Для факультету, заданого випадаючим списком, побудувати рейтинг претендентiв за сумою результатiв (бiльших за прохiдний бал, який зада- вати слайдером для кожного предмета) з вiдповiдних предметiв;<br>\n",
    "3а.побудувати дiаграму претендентiв для п.3.<br>\n",
    "3б.За допомогою текстового вiджета задати кiлькiсть мiсць для зараху- вання на факультет за п.3 i отримати фiнальний список.<br>"
   ],
   "cell_type": "markdown",
   "metadata": {}
  },
  {
   "cell_type": "code",
   "execution_count": 848,
   "metadata": {},
   "outputs": [],
   "source": [
    "from ipywidgets import interact, interactive, fixed, interact_manual\n",
    "import ipywidgets\n",
    "import ipywidgets as widgets\n",
    "import matplotlib.pyplot as plt\n",
    "import numpy as np\n",
    "import csv"
   ]
  },
  {
   "cell_type": "code",
   "execution_count": 849,
   "metadata": {},
   "outputs": [],
   "source": [
    "class Validation:\n",
    "    \"\"\"Class for Validation representation.\"\"\"\n",
    "\n",
    "    @staticmethod\n",
    "    def validateStr(func):\n",
    "        def validateStrWrapper(w, value):\n",
    "            if not(isinstance(value, str)):\n",
    "                raise TypeError('must be an str')\n",
    "            return func(w, value)\n",
    "        return validateStrWrapper\n",
    "\n",
    "    @staticmethod\n",
    "    def validateFloat(func):\n",
    "        def validateFloatWrapper(w, value):\n",
    "            if not(isinstance(value, float)) and not(isinstance(value, int)):\n",
    "                try:\n",
    "                    value = float(value)\n",
    "                except TypeError:\n",
    "                    raise TypeError('must be an float')\n",
    "            return func(w, value)\n",
    "        return validateFloatWrapper\n",
    "\n",
    "    @staticmethod\n",
    "    def validateInt(func):\n",
    "        def validateIntWrapper(w, value):\n",
    "            if not(isinstance(value, int)):\n",
    "                try:\n",
    "                    value = int(value)\n",
    "                except TypeError:\n",
    "                    raise TypeError('must be an int')\n",
    "            return func(w, value)\n",
    "        return validateIntWrapper\n",
    "\n",
    "    @staticmethod\n",
    "    def validateSize(func):\n",
    "        def validateSizeWrapper(w, value):\n",
    "            if not(isinstance(value, int)) and not(isinstance(value, float)):\n",
    "                try:\n",
    "                    value = float(value)\n",
    "                except TypeError:\n",
    "                    raise TypeError('must be an float')\n",
    "            if value < 0:\n",
    "                raise ValueError(\"mast be positive\")\n",
    "            return func(w, value)\n",
    "        return validateSizeWrapper\n",
    "\n",
    "    @staticmethod\n",
    "    def validateAmount(func):\n",
    "        def validateAmountWrapper(w, value):\n",
    "            if not(isinstance(value, int)):\n",
    "                try:\n",
    "                    value = int(value)\n",
    "                except TypeError:\n",
    "                    raise TypeError('must be an int')\n",
    "            if value < 0:\n",
    "                raise ValueError(\"mast be positive\")\n",
    "            return func(w, value)\n",
    "        return validateAmountWrapper\n",
    "\n",
    "    @staticmethod\n",
    "    def validateDate(func):\n",
    "        def validateDateWrapper(w, date):\n",
    "            datetime.strptime(date, '%Y-%m-%d')\n",
    "            return func(w, date)\n",
    "        return validateDateWrapper\n",
    "\n",
    "    \n",
    "    @staticmethod\n",
    "    def validateCard(func):\n",
    "        def validateCardWrapper(w, value):\n",
    "            if not value.isdigit():\n",
    "                raise ValueError(\"mast contain only digits\")\n",
    "            return func(w, value)\n",
    "        return validateCardWrapper\n",
    "\n",
    "    @staticmethod\n",
    "    def validateFileName(end=\".csv\"):\n",
    "        def validateFileNameDecorator(func):\n",
    "            def validateFileNameWrapper(L, filename):\n",
    "                if not filename.endswith(end):\n",
    "                    raise ValueError(\"Incorrect filename, should end with .\" + end + \".\")\n",
    "                return func(L, filename)\n",
    "            return validateFileNameWrapper\n",
    "        return validateFileNameDecorator"
   ]
  },
  {
   "cell_type": "code",
   "execution_count": 850,
   "metadata": {},
   "outputs": [],
   "source": [
    "class Pretender:\n",
    "    def __init__(self, p_last_name, p_first_name, p_id):\n",
    "        self.p_last_name = p_last_name\n",
    "        self.p_first_name = p_first_name\n",
    "        self.p_id = p_id\n",
    "\n",
    "    @property\n",
    "    def p_last_name(self):\n",
    "        return self._p_last_name\n",
    "    \n",
    "    @p_last_name.setter\n",
    "    @Validation.validateStr\n",
    "    def p_last_name(self, val):\n",
    "        self._p_last_name = val\n",
    "\n",
    "    @property\n",
    "    def p_first_name(self):\n",
    "        return self._p_first_name\n",
    "\n",
    "    @p_first_name.setter\n",
    "    @Validation.validateStr\n",
    "    def p_first_name(self, val):\n",
    "        self._p_first_name = val\n",
    "    \n",
    "    @property\n",
    "    def p_id(self):\n",
    "        return self._p_id\n",
    "    \n",
    "    @p_id.setter\n",
    "    @Validation.validateInt\n",
    "    def p_id(self, val):\n",
    "        self._p_id = val\n",
    "\n",
    "    def full_name(self):\n",
    "        return f'{self.p_first_name} {self.p_last_name}'\n",
    "\n",
    "    def __str__(self):\n",
    "        return f'first name is {self.p_first_name}, last name is {self.p_last_name}, and id is {self.p_id}'\n",
    "\n",
    "    def __repr__(self):\n",
    "        return f'p_first_name ={self.p_first_name}, p_last_name = {self.p_last_name}, p_id = {self.p_id}'"
   ]
  },
  {
   "cell_type": "code",
   "execution_count": 851,
   "metadata": {},
   "outputs": [],
   "source": [
    "class Test:\n",
    "    def __init__(self, t_p_id, t_name, t_points):\n",
    "        self.t_p_id = t_p_id\n",
    "        self.t_name = t_name\n",
    "        self.t_points = t_points\n",
    "\n",
    "    @property\n",
    "    def t_p_id(self):\n",
    "        return self._t_p_id\n",
    "    \n",
    "    @t_p_id.setter\n",
    "    @Validation.validateInt\n",
    "    def t_p_id(self, val):\n",
    "        self._t_p_id = val\n",
    "\n",
    "    @property\n",
    "    def t_name(self):\n",
    "        return self._t_name\n",
    "    \n",
    "    @t_name.setter\n",
    "    @Validation.validateStr\n",
    "    def t_name(self, val):\n",
    "        self._t_name = val\n",
    "\n",
    "    @property\n",
    "    def t_points(self):\n",
    "        return self._t_points\n",
    "    \n",
    "    @t_points.setter\n",
    "    @Validation.validateSize\n",
    "    def t_points(self, val):\n",
    "        self._t_points = val\n",
    "\n",
    "    # def __eq__(self, test):\n",
    "    #     return self.t_name == test.t_name\n",
    "\n",
    "    def __str__(self):\n",
    "        return f'id is {self.t_p_id}, test name is {self.t_name}, and points {self.t_points}'\n",
    "\n",
    "    def __repr__(self):\n",
    "        return f't_p_id={self.t_p_id}, t_name={self.t_name}, t_points={self.t_points}'"
   ]
  },
  {
   "cell_type": "code",
   "execution_count": 852,
   "metadata": {},
   "outputs": [],
   "source": [
    "def read_csv_file(file_name, t):\n",
    "    objects = [] \n",
    "    try:\n",
    "        with open(file_name, 'r') as v:\n",
    "            r = csv.reader(v)\n",
    "            next(r)\n",
    "            for row in r:\n",
    "                try:\n",
    "                    objects.append(t(*row))\n",
    "                except Exception as e:\n",
    "                    print(f'{file_name}:\\nline - {len(objects)}: {e}')\n",
    "                    continue\n",
    "    except FileNotFoundError as e:\n",
    "        print(e)\n",
    "    except Exception as e:\n",
    "        print(e)\n",
    "    return objects"
   ]
  },
  {
   "cell_type": "code",
   "execution_count": 853,
   "metadata": {},
   "outputs": [
    {
     "output_type": "stream",
     "name": "stdout",
     "text": [
      "pretenders.csv:\nline - 4: invalid literal for int() with base 10: ' gggg'\npretenders.csv:\nline - 6: invalid literal for int() with base 10: ' ooo'\n"
     ]
    },
    {
     "output_type": "execute_result",
     "data": {
      "text/plain": [
       "([p_first_name = Shawna, p_last_name = Schowalter, p_id = 1,\n",
       "  p_first_name = Shawna, p_last_name = Conn, p_id = 2,\n",
       "  p_first_name = Keegan, p_last_name = Parker, p_id = 3,\n",
       "  p_first_name = Shaniya, p_last_name = Walter, p_id = 4,\n",
       "  p_first_name = Alan, p_last_name = Lang, p_id = 6,\n",
       "  p_first_name = Bart, p_last_name = Schmidt, p_id = 7,\n",
       "  p_first_name = Katrina, p_last_name = Cole, p_id = 9,\n",
       "  p_first_name = Citlalli, p_last_name = Farrell, p_id = 10],\n",
       " [t_p_id=1, t_name=Ukrainian, t_points=23.0,\n",
       "  t_p_id=1, t_name=Math, t_points=70.0,\n",
       "  t_p_id=2, t_name=Polish, t_points=99.0,\n",
       "  t_p_id=2, t_name=Physics, t_points=51.0,\n",
       "  t_p_id=3, t_name=Math, t_points=85.0,\n",
       "  t_p_id=3, t_name=PE, t_points=30.0,\n",
       "  t_p_id=4, t_name=Ukrainian, t_points=80.0,\n",
       "  t_p_id=4, t_name=Polish, t_points=78.0,\n",
       "  t_p_id=5, t_name=Chemistry, t_points=10.0,\n",
       "  t_p_id=5, t_name=Physics, t_points=89.0,\n",
       "  t_p_id=6, t_name=PE, t_points=89.0,\n",
       "  t_p_id=6, t_name=Chemistry, t_points=40.0,\n",
       "  t_p_id=7, t_name=Math, t_points=88.0,\n",
       "  t_p_id=7, t_name=Polish, t_points=13.0,\n",
       "  t_p_id=8, t_name=Physics, t_points=33.0,\n",
       "  t_p_id=8, t_name=Polish, t_points=69.0,\n",
       "  t_p_id=9, t_name=PE, t_points=20.0,\n",
       "  t_p_id=9, t_name=Math, t_points=79.0,\n",
       "  t_p_id=10, t_name=Polish, t_points=10.0,\n",
       "  t_p_id=10, t_name=Ukrainian, t_points=94.0])"
      ]
     },
     "metadata": {},
     "execution_count": 853
    }
   ],
   "source": [
    "pretenders = read_csv_file(\"pretenders.csv\", Pretender)\n",
    "tests = read_csv_file(\"tests.csv\", Test)\n",
    "\n",
    "pretenders, tests"
   ]
  },
  {
   "source": [
    "1. Отримати для учасника, заданого випадаючим списком, перелiк пре- дметiв з набраними балами, впорядковуючи його за спаданням балiв (вра- ховувати лише наявнi результати)<br>\n",
    "1а.побудувати дiаграму результатiв заданого учасника."
   ],
   "cell_type": "markdown",
   "metadata": {}
  },
  {
   "cell_type": "code",
   "execution_count": 854,
   "metadata": {},
   "outputs": [],
   "source": [
    "def draw_histogram(x, y, x_label, y_label, title): \n",
    "    fig, ax = plt.subplots(figsize=(10, 7))\n",
    "    plt.plot(x, y, 'r--')\n",
    "    ax.bar(x, y, color='#5499C7', width=0.5, edgecolor='#154360')\n",
    "    ax.set_title(title, color='black', size=50, fontweight='bold', pad=50)\n",
    "    ax.set_ylabel(y_label, size=25, fontweight='bold')\n",
    "    ax.set_xlabel(x_label, size=24, fontweight='bold')\n",
    "    ax.tick_params(axis='x', rotation=70, direction='inout', pad=10, labelsize='large', length=10, width=2)\n",
    "    ax.tick_params(axis='y', direction='inout', pad=10, labelsize='large', length=10, width=2)\n",
    "    ax.patch.set_facecolor('#B0C4DE')\n",
    "    fig.patch.set_facecolor('#154360')         \n",
    "    plt.show()"
   ]
  },
  {
   "cell_type": "code",
   "execution_count": 855,
   "metadata": {},
   "outputs": [
    {
     "output_type": "stream",
     "name": "stdout",
     "text": [
      "('Schowalter', p_first_name = Shawna, p_last_name = Schowalter, p_id = 1)\n('Conn', p_first_name = Shawna, p_last_name = Conn, p_id = 2)\n('Parker', p_first_name = Keegan, p_last_name = Parker, p_id = 3)\n('Walter', p_first_name = Shaniya, p_last_name = Walter, p_id = 4)\n('Lang', p_first_name = Alan, p_last_name = Lang, p_id = 6)\n('Schmidt', p_first_name = Bart, p_last_name = Schmidt, p_id = 7)\n('Cole', p_first_name = Katrina, p_last_name = Cole, p_id = 9)\n('Farrell', p_first_name = Citlalli, p_last_name = Farrell, p_id = 10)\n"
     ]
    },
    {
     "output_type": "display_data",
     "data": {
      "text/plain": "interactive(children=(Dropdown(description='pretender', options=(('Cole', p_first_name = Katrina, p_last_name …",
      "application/vnd.jupyter.widget-view+json": {
       "version_major": 2,
       "version_minor": 0,
       "model_id": "c12b0b27b78a4f4aa9ae6f77268df264"
      }
     },
     "metadata": {}
    },
    {
     "output_type": "execute_result",
     "data": {
      "text/plain": [
       "<function __main__.task1(pretender)>"
      ]
     },
     "metadata": {},
     "execution_count": 855
    }
   ],
   "source": [
    "surnames = [(pretender.p_last_name, pretender) for pretender in pretenders]\n",
    "for i in surnames:\n",
    "    print(i)\n",
    "def task1(pretender):\n",
    "    pretender_tests = sorted([(test.t_name, test.t_points) for test in tests if test.t_p_id == pretender.p_id], key=lambda t: t[1])\n",
    "\n",
    "    print(f'{pretender.p_last_name}:')\n",
    "    for t in pretender_tests:\n",
    "        print(t[0] + \" - \" + str(t[1]))\n",
    "        \n",
    "    x, y = zip(*pretender_tests)\n",
    "    draw_histogram(x, y, \"Test\", \"Points\", pretender)\n",
    "\n",
    "interact(task1, pretender=sorted(surnames))"
   ]
  },
  {
   "source": [
    "2. Для предмета, заданого випадаючим списком, отримати рейтинг уча- сникiв за результатами тестiв;<br>\n",
    "2а.побудувати дiаграму результатiв заданого предмета вiдповiдно до п.2."
   ],
   "cell_type": "markdown",
   "metadata": {}
  },
  {
   "cell_type": "code",
   "execution_count": 856,
   "metadata": {},
   "outputs": [
    {
     "output_type": "display_data",
     "data": {
      "text/plain": "interactive(children=(Dropdown(description='test', options={'Ukrainian': [t_p_id=1, t_name=Ukrainian, t_points…",
      "application/vnd.jupyter.widget-view+json": {
       "version_major": 2,
       "version_minor": 0,
       "model_id": "a1366f7f7c734143b37b41db06dba030"
      }
     },
     "metadata": {}
    }
   ],
   "source": [
    "tests_names = {}\n",
    "for test in tests:\n",
    "    tests_names.setdefault(test.t_name, []).append(test)\n",
    "\n",
    "def task1(test):\n",
    "    test_pretenders = sorted([(pret.p_last_name, t.t_points) for pret in pretenders for t in test if t.t_p_id == pret.p_id], key=lambda t: t[1], reverse=True)\n",
    "    \n",
    "    print(f'{test[0].t_name}:')\n",
    "    for t in test_pretenders:\n",
    "        print(t[0] + \" - \" + str(t[1]))\n",
    "        \n",
    "    x, y = zip(*test_pretenders)\n",
    "    draw_histogram(x, y, \"Surnames\", \"Points\", test[0].t_name)\n",
    "\n",
    "interact(task1, test=tests_names);"
   ]
  },
  {
   "source": [
    "3. Для факультету, заданого випадаючим списком, побудувати рейтинг претендентiв за сумою результатiв (бiльших за прохiдний бал, який задавати слайдером для кожного предмета) з вiдповiдних предметiв;<br>\n",
    "3а.побудувати дiаграму претендентiв для п.3.<br>\n",
    "3б.За допомогою текстового вiджета задати кiлькiсть мiсць для зараху- вання на факультет за п.3 i отримати фiнальний список.<br>"
   ],
   "cell_type": "markdown",
   "metadata": {}
  },
  {
   "cell_type": "code",
   "execution_count": 857,
   "metadata": {},
   "outputs": [
    {
     "output_type": "display_data",
     "data": {
      "text/plain": "interactive(children=(Dropdown(description='faculty', options={'Applied Mathematic': ['Math', 'Physics'], 'Fil…",
      "application/vnd.jupyter.widget-view+json": {
       "version_major": 2,
       "version_minor": 0,
       "model_id": "38d6107d6b614f47a52f56c98065bb68"
      }
     },
     "metadata": {}
    }
   ],
   "source": [
    "faculties = {\n",
    "    'Applied Mathematic': ['Math', 'Physics'],\n",
    "    'Filology': ['Ukrainian', 'Polish'],\n",
    "    'Physical': ['PE', 'Chemistry']\n",
    "}\n",
    "\n",
    "def task3(faculty, p, amount):\n",
    "    try: \n",
    "        amount = int(amount)\n",
    "    except Exception:\n",
    "        print(\"Amount should be an integer\")\n",
    "        return\n",
    "\n",
    "    bests = {}\n",
    "    for pr in pretenders:\n",
    "        bests[pr.full_name()]= sum([test.t_points for t in faculty for test in tests if t == test.t_name if pr.p_id == test.t_p_id])\n",
    "    best_pretendents = sorted([(k, v) for k, v in bests.items() if v > p], key=lambda k: k[1], reverse=True)[:int(amount)]\n",
    "    print(best_pretendents)\n",
    "\n",
    "    try:\n",
    "        x, y = zip(*best_pretendents)\n",
    "    except Exception:\n",
    "        print(\"Ther's now students with such good points!\")\n",
    "        return\n",
    "\n",
    "    draw_histogram(x, y, \"Surnames\", \"Points\", faculty)\n",
    "\n",
    "   \n",
    "present_value = ipywidgets.IntSlider(min=0, max=200, step=5, value=30, description='passing score', continuous_update=False)\n",
    "text = ipywidgets.Text(value='100', placeholder='Type amount', disabled=False)\n",
    "interact(task3, faculty=faculties, p=present_value, amount=text);"
   ]
  },
  {
   "cell_type": "code",
   "execution_count": null,
   "metadata": {},
   "outputs": [],
   "source": []
  }
 ]
}
