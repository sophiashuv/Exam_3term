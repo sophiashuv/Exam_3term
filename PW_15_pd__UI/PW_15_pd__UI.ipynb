{
 "metadata": {
  "language_info": {
   "codemirror_mode": {
    "name": "ipython",
    "version": 3
   },
   "file_extension": ".py",
   "mimetype": "text/x-python",
   "name": "python",
   "nbconvert_exporter": "python",
   "pygments_lexer": "ipython3",
   "version": "3.8.5-final"
  },
  "orig_nbformat": 2,
  "kernelspec": {
   "name": "python3",
   "display_name": "Python 3",
   "language": "python"
  }
 },
 "nbformat": 4,
 "nbformat_minor": 2,
 "cells": [
  {
   "source": [
    "Розробити типи для обслуговування читачiв у студентськiй бiблiотецi.<br>\n",
    "Читач характеризується iменем i прiзвищем та реєстрацiйним номером. За-<br>\n",
    "мовлення характеризується датою, реєстрацiйним номером читача, автором<br>\n",
    "книги i назвою книги. Iнформацiя про читачiв подана окремим файлом. За-<br>\n",
    "мовлення також подано кiлькома (> одного) окремими файлами. Отримати<br>\n",
    "двома способами – “з” та “без” – pandas:<br>\n",
    "\n",
    "1. Для кожного читача ( за iменем i прiзвищем) повний перелiк (без<br>\n",
    "повторень) авторiв замовлених книг iз вказанням їх кiлькостi ( з усiх його<br>\n",
    "замовленнь);<br>\n",
    "1а. прiзвище читача вибирати з випадаючого списку;<br>\n",
    "1б. побудувати дiаграму популярностi авторiв.<br>\n",
    "\n",
    "2. Рейтинг читачiв за загальною кiлькiстю замовлених книг за схемою:<br>\n",
    "прiзвище та iм’я читача i загальна кiлькiсть книг у всiх його замовленнях;<br>\n",
    "2а. задати за допомогою вiджета перiод часу, за який будується рейтинг;<br>\n",
    "2б.рейтинг студентiв iлюстувати дiаграмою.<br>\n",
    "\n",
    "3. для кожної книги кiлькiсть замовлень;<br>\n",
    "3а.задати за допомогою вiджета перелiк книг, для яких шукають кiль-<br>\n",
    "кiсть замовлень;<br>\n",
    "3б. задати перелiк кних, в назвi яких зустрiчається заданий рядок сим-<br>\n",
    "волiв.<br>"
   ],
   "cell_type": "markdown",
   "metadata": {}
  },
  {
   "cell_type": "code",
   "execution_count": 1,
   "metadata": {},
   "outputs": [],
   "source": [
    "import csv\n",
    "import pandas as pd\n",
    "import matplotlib.pyplot as plt\n",
    "import numpy as np\n",
    "from ipywidgets import interact, interactive, fixed, interact_manual\n",
    "import ipywidgets as widgets\n",
    "from datetime import datetime"
   ]
  },
  {
   "source": [
    "# Withoun Pandas"
   ],
   "cell_type": "markdown",
   "metadata": {}
  },
  {
   "cell_type": "code",
   "execution_count": 2,
   "metadata": {},
   "outputs": [],
   "source": [
    "class Validation:\n",
    "    \"\"\"Class for Validation representation.\"\"\"\n",
    "\n",
    "    @staticmethod\n",
    "    def validateStr(func):\n",
    "        def validateStrWrapper(w, value):\n",
    "            if not(isinstance(value, str)):\n",
    "                raise TypeError('must be an str')\n",
    "            return func(w, value)\n",
    "        return validateStrWrapper\n",
    "\n",
    "    @staticmethod\n",
    "    def validateFloat(func):\n",
    "        def validateFloatWrapper(w, value):\n",
    "            if not(isinstance(value, float)) and not(isinstance(value, int)):\n",
    "                try:\n",
    "                    value = float(value)\n",
    "                except TypeError:\n",
    "                    raise TypeError('must be an float')\n",
    "            return func(w, value)\n",
    "        return validateFloatWrapper\n",
    "\n",
    "    @staticmethod\n",
    "    def validateInt(func):\n",
    "        def validateIntWrapper(w, value):\n",
    "            if not(isinstance(value, int)):\n",
    "                try:\n",
    "                    value = int(value)\n",
    "                except TypeError:\n",
    "                    raise TypeError('must be an int')\n",
    "            return func(w, value)\n",
    "        return validateIntWrapper\n",
    "\n",
    "    @staticmethod\n",
    "    def validateSize(func):\n",
    "        def validateSizeWrapper(w, value):\n",
    "            if not(isinstance(value, int)) and not(isinstance(value, float)):\n",
    "                try:\n",
    "                    value = float(value)\n",
    "                except TypeError:\n",
    "                    raise TypeError('must be an float')\n",
    "            if value < 0:\n",
    "                raise ValueError(\"mast be positive\")\n",
    "            return func(w, value)\n",
    "        return validateSizeWrapper\n",
    "\n",
    "    @staticmethod\n",
    "    def validateAmount(func):\n",
    "        def validateAmountWrapper(w, value):\n",
    "            if not(isinstance(value, int)):\n",
    "                try:\n",
    "                    value = int(value)\n",
    "                except TypeError:\n",
    "                    raise TypeError('must be an int')\n",
    "            if value < 0:\n",
    "                raise ValueError(\"mast be positive\")\n",
    "            return func(w, value)\n",
    "        return validateAmountWrapper\n",
    "\n",
    "    @staticmethod\n",
    "    def validateDate(func):\n",
    "        def validateDateWrapper(w, date):\n",
    "            date = datetime.strptime(date, '%Y-%m-%d')\n",
    "            return func(w, date)\n",
    "        return validateDateWrapper\n",
    "    \n",
    "    @staticmethod\n",
    "    def validateBool(func):\n",
    "        def validateBoolWrapper(w, value):\n",
    "            bools = ['yes', 'no', 'Yes', 'No', '0', '1', 0, 1, True, False, 'True', 'False']\n",
    "            if value not in bools:\n",
    "                raise ValueError(\"mast be boolean\")\n",
    "            return func(w, value)\n",
    "        return validateBoolWrapper"
   ]
  },
  {
   "cell_type": "code",
   "execution_count": 3,
   "metadata": {},
   "outputs": [],
   "source": [
    "class Reader():\n",
    "    def __init__(self, name, surname, iden):\n",
    "        self.name = name\n",
    "        self.surname = surname\n",
    "        self.iden = iden\n",
    "\n",
    "    @property\n",
    "    def name(self):\n",
    "        return self._name\n",
    "\n",
    "    @name.setter\n",
    "    @Validation.validateStr\n",
    "    def name(self, value):\n",
    "        self._name = value\n",
    "\n",
    "    @property\n",
    "    def surname(self):\n",
    "        return self._surname\n",
    "\n",
    "    @surname.setter\n",
    "    @Validation.validateStr\n",
    "    def surname(self, value):\n",
    "        self._surname = value\n",
    "\n",
    "    @property\n",
    "    def iden(self):\n",
    "        return self._iden\n",
    "\n",
    "    @iden.setter\n",
    "    @Validation.validateAmount\n",
    "    def iden(self, value):\n",
    "        self._iden = value\n",
    "\n",
    "    def fullname(self):\n",
    "        return self.name + ' ' + self.surname \n",
    "\n",
    "    def __str__(self):\n",
    "        return f'Name: {self.name} Surname: {self.surname} ID-Number: {self.iden}'\n",
    "\n",
    "    def __repr__(self):\n",
    "        return f'Name: {self.name} Surname: {self.surname} ID-Number: {self.iden}'"
   ]
  },
  {
   "cell_type": "code",
   "execution_count": 4,
   "metadata": {},
   "outputs": [],
   "source": [
    "class Order():\n",
    "    def __init__(self, iden, data, author, book):\n",
    "        self.data = data\n",
    "        self.iden = iden\n",
    "        self.author = author\n",
    "        self.book = book\n",
    "\n",
    "    @property\n",
    "    def data(self):\n",
    "        return self._data\n",
    "\n",
    "    @data.setter\n",
    "    @Validation.validateDate\n",
    "    def data(self, value):\n",
    "        self._data = value\n",
    "\n",
    "    @property\n",
    "    def iden(self):\n",
    "        return self._iden\n",
    "\n",
    "    @iden.setter\n",
    "    @Validation.validateAmount\n",
    "    def iden(self, value):\n",
    "        self._iden = value\n",
    "        \n",
    "    @property\n",
    "    def author(self):\n",
    "        return self._author\n",
    "\n",
    "    @author.setter\n",
    "    @Validation.validateStr\n",
    "    def author(self, value):\n",
    "        self._author = value\n",
    "        \n",
    "    @property\n",
    "    def book(self):\n",
    "        return self._book\n",
    "\n",
    "    @book.setter\n",
    "    @Validation.validateStr\n",
    "    def book(self, value):\n",
    "        self._book = value\n",
    "\n",
    "    def __str__(self):\n",
    "        return f'ID-Number: {self.iden} Date: {self.data} Author: {self.author} Book: {self.book} '\n",
    "\n",
    "    def __repr__(self):\n",
    "        return f'ID-Number: {self.iden} Date: {self.data} Author: {self.author} Book: {self.book} '"
   ]
  },
  {
   "cell_type": "code",
   "execution_count": 5,
   "metadata": {},
   "outputs": [],
   "source": [
    "def read_csv_file(file_name, t, objects):  \n",
    "    with open(file_name, 'r') as v:\n",
    "        r = csv.reader(v)\n",
    "        next(r)\n",
    "        for row in r:\n",
    "            try:\n",
    "                objects.append(t(*row))\n",
    "            except Exception as e:\n",
    "                print(f'{file_name}:\\nline - {len(objects)}: {e}')\n",
    "                continue"
   ]
  },
  {
   "cell_type": "code",
   "execution_count": 6,
   "metadata": {},
   "outputs": [
    {
     "output_type": "execute_result",
     "data": {
      "text/plain": [
       "([Name: Valeria Surname: Mahdenko ID-Number: 1,\n",
       "  Name: Sophia Surname: Shuvar ID-Number: 2,\n",
       "  Name: Nastya Surname: Veres ID-Number: 3,\n",
       "  Name: Max Surname: Stefankiv ID-Number: 4,\n",
       "  Name: Volodya Surname: Konko ID-Number: 5,\n",
       "  Name: Oksana Surname: Somar ID-Number: 6],\n",
       " [ID-Number: 1 Date: 2020-12-11 00:00:00 Author: author3 Book: book2 ,\n",
       "  ID-Number: 3 Date: 2020-11-12 00:00:00 Author: author1 Book: book4 ,\n",
       "  ID-Number: 5 Date: 2020-08-11 00:00:00 Author: author2 Book: book3 ,\n",
       "  ID-Number: 3 Date: 2020-10-09 00:00:00 Author: author4 Book: book1 ,\n",
       "  ID-Number: 2 Date: 2020-11-09 00:00:00 Author: author3 Book: book6 ,\n",
       "  ID-Number: 2 Date: 2020-09-09 00:00:00 Author: author3 Book: book2 ,\n",
       "  ID-Number: 4 Date: 2020-12-10 00:00:00 Author: author2 Book: book3 ,\n",
       "  ID-Number: 6 Date: 2020-09-12 00:00:00 Author: author1 Book: book5 ])"
      ]
     },
     "metadata": {},
     "execution_count": 6
    }
   ],
   "source": [
    "readers = []\n",
    "orders = []\n",
    "\n",
    "read_csv_file(\"reader.csv\", Reader, readers)\n",
    "read_csv_file(\"order.csv\", Order, orders)\n",
    "\n",
    "readers, orders"
   ]
  },
  {
   "source": [
    "1. Для кожного читача ( за iменем i прiзвищем) повний перелiк (без<br>\n",
    "повторень) авторiв замовлених книг iз вказанням їх кiлькостi ( з усiх його<br>\n",
    "замовленнь);<br>\n",
    "1а. прiзвище читача вибирати з випадаючого списку;<br>\n",
    "1б. побудувати дiаграму популярностi авторiв.<br>"
   ],
   "cell_type": "markdown",
   "metadata": {}
  },
  {
   "cell_type": "code",
   "execution_count": 7,
   "metadata": {},
   "outputs": [
    {
     "output_type": "stream",
     "name": "stdout",
     "text": [
      "Valeria Mahdenko :\n\tauthor3 - 1\n\nSophia Shuvar :\n\tauthor3 - 2\n\nNastya Veres :\n\tauthor1 - 1\n\tauthor4 - 1\n\nMax Stefankiv :\n\tauthor2 - 1\n\nVolodya Konko :\n\tauthor2 - 1\n\nOksana Somar :\n\tauthor1 - 1\n\n"
     ]
    }
   ],
   "source": [
    "d = {}\n",
    "for reader in readers:\n",
    "    d[reader.fullname()] = {}\n",
    "    for o in orders:\n",
    "        if reader.iden == o.iden:\n",
    "            d[reader.fullname()].setdefault(o.author, 0)\n",
    "            d[reader.fullname()][o.author] += 1\n",
    "\n",
    "for (k, v) in d.items():\n",
    "    print(k, \":\")\n",
    "    for (kk, vv) in v.items():\n",
    "        print(f'\\t{kk} - {vv}')\n",
    "    print()"
   ]
  },
  {
   "cell_type": "code",
   "execution_count": 8,
   "metadata": {},
   "outputs": [],
   "source": [
    "def draw_histogram(x, y, x_label, y_label, title): \n",
    "    fig, ax = plt.subplots(figsize=(10, 7))\n",
    "    ax.bar(x, y, color='#EB984E', width=0.5, edgecolor='#154360')\n",
    "    ax.set_title(title, color='black', size=50, fontweight='bold', pad=30)\n",
    "    ax.set_ylabel(y_label, size=25, fontweight='bold')\n",
    "    ax.set_xlabel(x_label, size=24, fontweight='bold')\n",
    "    ax.tick_params(axis='x', rotation=70, direction='inout', pad=10, labelsize='large', length=10, width=2)\n",
    "    ax.tick_params(axis='y', direction='inout', pad=10, labelsize='large', length=10, width=2)\n",
    "    ax.patch.set_facecolor('#FCF3CF')\n",
    "    fig.patch.set_facecolor('#73C6B6')         \n",
    "    plt.show()"
   ]
  },
  {
   "cell_type": "code",
   "execution_count": 9,
   "metadata": {},
   "outputs": [
    {
     "output_type": "display_data",
     "data": {
      "text/plain": "interactive(children=(Dropdown(description='reader', options={'Valeria Mahdenko': {'author3': 1}, 'Sophia Shuv…",
      "application/vnd.jupyter.widget-view+json": {
       "version_major": 2,
       "version_minor": 0,
       "model_id": "8444080913ec430abb7b010bb32f35e9"
      }
     },
     "metadata": {}
    }
   ],
   "source": [
    "def task1(reader, plot=False):\n",
    "    for (k, v) in reader.items():\n",
    "        print(f\"{k} - {v}\")\n",
    "    if plot:\n",
    "        draw_histogram(list(reader.keys()), list(reader.values()), \"Authors\", \"Amount of books\", \"Reader Diagram\")\n",
    "    \n",
    "interact(task1, reader=d);"
   ]
  },
  {
   "source": [
    "2. Рейтинг читачiв за загальною кiлькiстю замовлених книг за схемою:<br>\n",
    "прiзвище та iм’я читача i загальна кiлькiсть книг у всiх його замовленнях;<br>\n",
    "2а. задати за допомогою вiджета перiод часу, за який будується рейтинг;<br>\n",
    "2б.рейтинг студентiв iлюстувати дiаграмою.<br>"
   ],
   "cell_type": "markdown",
   "metadata": {}
  },
  {
   "cell_type": "code",
   "execution_count": 10,
   "metadata": {},
   "outputs": [
    {
     "output_type": "stream",
     "name": "stdout",
     "text": [
      "{'Sophia Shuvar': 2, 'Nastya Veres': 2, 'Valeria Mahdenko': 1, 'Max Stefankiv': 1, 'Volodya Konko': 1, 'Oksana Somar': 1}\n"
     ]
    },
    {
     "output_type": "display_data",
     "data": {
      "text/plain": "interactive(children=(SelectionRangeSlider(description='Dates', index=(0, 364), layout=Layout(width='500px'), …",
      "application/vnd.jupyter.widget-view+json": {
       "version_major": 2,
       "version_minor": 0,
       "model_id": "0107fbbf2de445cb860bf8f14bf9676c"
      }
     },
     "metadata": {}
    }
   ],
   "source": [
    "dd = {k: sum(list(v.values())) for k, v in d.items()}\n",
    "dd = dict(sorted(dd.items(), key=lambda x: x[1], reverse=True))\n",
    "print(dd)\n",
    "\n",
    "dates = pd.date_range(datetime(2020, 1, 1), datetime(2020, 12, 30), freq='D')\n",
    "options=[(date.strftime(' %d %b %Y '), date) for date in dates]\n",
    "\n",
    "selection_range_slider = widgets.SelectionRangeSlider(\n",
    "    options=options,\n",
    "    index=(0, len(options)-1),\n",
    "    description='Dates',\n",
    "    orientation='horizontal',\n",
    "    layout={'width': '500px', \"color\": 'red'}\n",
    ")\n",
    "\n",
    "def choose(dates, plot=False):\n",
    "    dates = datetime.strptime(str(dates[0]), '%Y-%m-%d %H:%M:%S'), datetime.strptime(str(dates[1]), '%Y-%m-%d %H:%M:%S')\n",
    "    ooo = list(filter(lambda k: k.data > dates[0] and k.data < dates[1], orders))\n",
    "    dd = {}\n",
    "    for reader in readers:\n",
    "        for o in ooo:\n",
    "            if reader.iden == o.iden:\n",
    "                dd.setdefault(reader.fullname(), 0)\n",
    "                dd[reader.fullname()] += 1\n",
    "    dd = dict(sorted(dd.items(), key=lambda x: x[1], reverse=True))\n",
    "    if plot:\n",
    "        draw_histogram(list(dd.keys()), list(dd.values()), \"Readers\", \"Amount of books\", \"Reader Diagram\")\n",
    "    \n",
    "interact(choose, dates=selection_range_slider);\n"
   ]
  },
  {
   "source": [
    "3. для кожної книги кiлькiсть замовлень;<br>\n",
    "3а.задати за допомогою вiджета перелiк книг, для яких шукають кiль-<br>\n",
    "кiсть замовлень;<br>\n",
    "3б. задати перелiк кних, в назвi яких зустрiчається заданий рядок сим-<br>\n",
    "волiв.<br>"
   ],
   "cell_type": "markdown",
   "metadata": {}
  },
  {
   "cell_type": "code",
   "execution_count": 11,
   "metadata": {},
   "outputs": [
    {
     "output_type": "stream",
     "name": "stdout",
     "text": [
      "book2  :  2\nbook4  :  1\nbook3  :  2\nbook1  :  1\nbook6  :  1\nbook5  :  1\n"
     ]
    }
   ],
   "source": [
    "d = {}\n",
    "for o in orders:\n",
    "    d.setdefault(o.book, 0)\n",
    "    d[o.book] += 1\n",
    "\n",
    "for (k, v) in d.items():\n",
    "    print(k, \" : \", v)"
   ]
  },
  {
   "cell_type": "code",
   "execution_count": 12,
   "metadata": {},
   "outputs": [
    {
     "output_type": "display_data",
     "data": {
      "text/plain": "interactive(children=(Dropdown(description='book', options={'book2': 2, 'book4': 1, 'book3': 2, 'book1': 1, 'b…",
      "application/vnd.jupyter.widget-view+json": {
       "version_major": 2,
       "version_minor": 0,
       "model_id": "87d4370d00a649958266e0330c40b92e"
      }
     },
     "metadata": {}
    }
   ],
   "source": [
    "def task3(book):\n",
    "    print(book)\n",
    "    \n",
    "interact(task3, book=d);"
   ]
  },
  {
   "cell_type": "code",
   "execution_count": 13,
   "metadata": {},
   "outputs": [
    {
     "output_type": "display_data",
     "data": {
      "text/plain": "interactive(children=(Textarea(value='', description='Books:', placeholder='Type something'), Output()), _dom_…",
      "application/vnd.jupyter.widget-view+json": {
       "version_major": 2,
       "version_minor": 0,
       "model_id": "7b20b47f1ffc43939125b800b587e509"
      }
     },
     "metadata": {}
    }
   ],
   "source": [
    "text=widgets.Textarea(\n",
    "    value='',\n",
    "    placeholder='Type something',\n",
    "    description='Books:',\n",
    "    disabled=False\n",
    ")\n",
    "def task3c(text):\n",
    "    l_b = list(filter(lambda k: text in k, list(d.keys())))\n",
    "    print(l_b)\n",
    "   \n",
    "interact(task3c, text=text);"
   ]
  },
  {
   "source": [
    "# With Pandas"
   ],
   "cell_type": "markdown",
   "metadata": {}
  },
  {
   "cell_type": "code",
   "execution_count": 14,
   "metadata": {},
   "outputs": [
    {
     "output_type": "display_data",
     "data": {
      "text/plain": "   iden         full_name        data   author   book\n0     1  Valeria Mahdenko  2020-12-11  author3  book2\n1     2     Sophia Shuvar  2020-11-09  author3  book6\n2     2     Sophia Shuvar  2020-09-09  author3  book2\n3     3      Nastya Veres  2020-11-12  author1  book4\n4     3      Nastya Veres  2020-10-09  author4  book1\n5     4     Max Stefankiv  2020-12-10  author2  book3\n6     5     Volodya Konko  2020-08-11  author2  book3\n7     6      Oksana Somar  2020-09-12  author1  book5",
      "text/html": "<div>\n<style scoped>\n    .dataframe tbody tr th:only-of-type {\n        vertical-align: middle;\n    }\n\n    .dataframe tbody tr th {\n        vertical-align: top;\n    }\n\n    .dataframe thead th {\n        text-align: right;\n    }\n</style>\n<table border=\"1\" class=\"dataframe\">\n  <thead>\n    <tr style=\"text-align: right;\">\n      <th></th>\n      <th>iden</th>\n      <th>full_name</th>\n      <th>data</th>\n      <th>author</th>\n      <th>book</th>\n    </tr>\n  </thead>\n  <tbody>\n    <tr>\n      <th>0</th>\n      <td>1</td>\n      <td>Valeria Mahdenko</td>\n      <td>2020-12-11</td>\n      <td>author3</td>\n      <td>book2</td>\n    </tr>\n    <tr>\n      <th>1</th>\n      <td>2</td>\n      <td>Sophia Shuvar</td>\n      <td>2020-11-09</td>\n      <td>author3</td>\n      <td>book6</td>\n    </tr>\n    <tr>\n      <th>2</th>\n      <td>2</td>\n      <td>Sophia Shuvar</td>\n      <td>2020-09-09</td>\n      <td>author3</td>\n      <td>book2</td>\n    </tr>\n    <tr>\n      <th>3</th>\n      <td>3</td>\n      <td>Nastya Veres</td>\n      <td>2020-11-12</td>\n      <td>author1</td>\n      <td>book4</td>\n    </tr>\n    <tr>\n      <th>4</th>\n      <td>3</td>\n      <td>Nastya Veres</td>\n      <td>2020-10-09</td>\n      <td>author4</td>\n      <td>book1</td>\n    </tr>\n    <tr>\n      <th>5</th>\n      <td>4</td>\n      <td>Max Stefankiv</td>\n      <td>2020-12-10</td>\n      <td>author2</td>\n      <td>book3</td>\n    </tr>\n    <tr>\n      <th>6</th>\n      <td>5</td>\n      <td>Volodya Konko</td>\n      <td>2020-08-11</td>\n      <td>author2</td>\n      <td>book3</td>\n    </tr>\n    <tr>\n      <th>7</th>\n      <td>6</td>\n      <td>Oksana Somar</td>\n      <td>2020-09-12</td>\n      <td>author1</td>\n      <td>book5</td>\n    </tr>\n  </tbody>\n</table>\n</div>"
     },
     "metadata": {}
    }
   ],
   "source": [
    "readers = pd.read_csv('reader.csv')\n",
    "cols = [\"name\", \"surname\"]\n",
    "readers['full_name'] = readers[cols].apply(lambda row: ' '.join(row.values.astype(str)), axis=1)\n",
    "readers = readers.drop(cols, axis=1)\n",
    "\n",
    "orders = pd.read_csv('order.csv')\n",
    "\n",
    "big_df = readers.merge(orders, on='iden')\n",
    "display(big_df)"
   ]
  },
  {
   "source": [
    "1. Для кожного читача ( за iменем i прiзвищем) повний перелiк (без<br>\n",
    "повторень) авторiв замовлених книг iз вказанням їх кiлькостi ( з усiх його<br>\n",
    "замовленнь);<br>\n",
    "1а. прiзвище читача вибирати з випадаючого списку;<br>\n",
    "1б. побудувати дiаграму популярностi авторiв.<br>"
   ],
   "cell_type": "markdown",
   "metadata": {}
  },
  {
   "cell_type": "code",
   "execution_count": 15,
   "metadata": {},
   "outputs": [
    {
     "output_type": "execute_result",
     "data": {
      "text/plain": [
       "          full_name   author  amount\n",
       "0  Valeria Mahdenko  author3       1\n",
       "1     Sophia Shuvar  author3       2\n",
       "3      Nastya Veres  author1       1\n",
       "4      Nastya Veres  author4       1\n",
       "5     Max Stefankiv  author2       1\n",
       "6     Volodya Konko  author2       1\n",
       "7      Oksana Somar  author1       1"
      ],
      "text/html": "<div>\n<style scoped>\n    .dataframe tbody tr th:only-of-type {\n        vertical-align: middle;\n    }\n\n    .dataframe tbody tr th {\n        vertical-align: top;\n    }\n\n    .dataframe thead th {\n        text-align: right;\n    }\n</style>\n<table border=\"1\" class=\"dataframe\">\n  <thead>\n    <tr style=\"text-align: right;\">\n      <th></th>\n      <th>full_name</th>\n      <th>author</th>\n      <th>amount</th>\n    </tr>\n  </thead>\n  <tbody>\n    <tr>\n      <th>0</th>\n      <td>Valeria Mahdenko</td>\n      <td>author3</td>\n      <td>1</td>\n    </tr>\n    <tr>\n      <th>1</th>\n      <td>Sophia Shuvar</td>\n      <td>author3</td>\n      <td>2</td>\n    </tr>\n    <tr>\n      <th>3</th>\n      <td>Nastya Veres</td>\n      <td>author1</td>\n      <td>1</td>\n    </tr>\n    <tr>\n      <th>4</th>\n      <td>Nastya Veres</td>\n      <td>author4</td>\n      <td>1</td>\n    </tr>\n    <tr>\n      <th>5</th>\n      <td>Max Stefankiv</td>\n      <td>author2</td>\n      <td>1</td>\n    </tr>\n    <tr>\n      <th>6</th>\n      <td>Volodya Konko</td>\n      <td>author2</td>\n      <td>1</td>\n    </tr>\n    <tr>\n      <th>7</th>\n      <td>Oksana Somar</td>\n      <td>author1</td>\n      <td>1</td>\n    </tr>\n  </tbody>\n</table>\n</div>"
     },
     "metadata": {},
     "execution_count": 15
    }
   ],
   "source": [
    "df1 = big_df.loc[:, ['full_name', 'author', 'book']]\n",
    "df1[\"amount\"] = 1\n",
    "df1[\"amount\"] = df1.groupby([\"full_name\", \"author\"])['amount'].transform('sum')\n",
    "df1 = df1.drop_duplicates(subset=['full_name', \"author\"])\n",
    "df1 = df1.drop(\"book\", axis=1)\n",
    "df1"
   ]
  },
  {
   "cell_type": "code",
   "execution_count": 16,
   "metadata": {},
   "outputs": [
    {
     "output_type": "display_data",
     "data": {
      "text/plain": "interactive(children=(Dropdown(description='reader', options=('Max Stefankiv', 'Oksana Somar', 'Sophia Shuvar'…",
      "application/vnd.jupyter.widget-view+json": {
       "version_major": 2,
       "version_minor": 0,
       "model_id": "4cd192dadd31465daab51dc07c2e84f1"
      }
     },
     "metadata": {}
    }
   ],
   "source": [
    "def task1(reader, plot=False):\n",
    "    df11 = df1[df1[\"full_name\"] == reader]\n",
    "    df11 = df11.loc[:, ['author', 'amount']]\n",
    "    display(df11)\n",
    "    if plot:\n",
    "        df11.plot(x='author', y=\"amount\", kind='bar', title=reader, figsize=(10, 5), rot=30, color='#73C6B6');\n",
    "    \n",
    "interact(task1, reader=set(df1[\"full_name\"]));"
   ]
  },
  {
   "source": [
    "2. Рейтинг читачiв за загальною кiлькiстю замовлених книг за схемою:<br>\n",
    "прiзвище та iм’я читача i загальна кiлькiсть книг у всiх його замовленнях;<br>\n",
    "2а. задати за допомогою вiджета перiод часу, за який будується рейтинг;<br>\n",
    "2б.рейтинг студентiв iлюстувати дiаграмою.<br>"
   ],
   "cell_type": "markdown",
   "metadata": {}
  },
  {
   "cell_type": "code",
   "execution_count": 17,
   "metadata": {},
   "outputs": [
    {
     "output_type": "execute_result",
     "data": {
      "text/plain": [
       "          full_name  amount\n",
       "1     Sophia Shuvar       2\n",
       "3      Nastya Veres       2\n",
       "0  Valeria Mahdenko       1\n",
       "5     Max Stefankiv       1\n",
       "6     Volodya Konko       1\n",
       "7      Oksana Somar       1"
      ],
      "text/html": "<div>\n<style scoped>\n    .dataframe tbody tr th:only-of-type {\n        vertical-align: middle;\n    }\n\n    .dataframe tbody tr th {\n        vertical-align: top;\n    }\n\n    .dataframe thead th {\n        text-align: right;\n    }\n</style>\n<table border=\"1\" class=\"dataframe\">\n  <thead>\n    <tr style=\"text-align: right;\">\n      <th></th>\n      <th>full_name</th>\n      <th>amount</th>\n    </tr>\n  </thead>\n  <tbody>\n    <tr>\n      <th>1</th>\n      <td>Sophia Shuvar</td>\n      <td>2</td>\n    </tr>\n    <tr>\n      <th>3</th>\n      <td>Nastya Veres</td>\n      <td>2</td>\n    </tr>\n    <tr>\n      <th>0</th>\n      <td>Valeria Mahdenko</td>\n      <td>1</td>\n    </tr>\n    <tr>\n      <th>5</th>\n      <td>Max Stefankiv</td>\n      <td>1</td>\n    </tr>\n    <tr>\n      <th>6</th>\n      <td>Volodya Konko</td>\n      <td>1</td>\n    </tr>\n    <tr>\n      <th>7</th>\n      <td>Oksana Somar</td>\n      <td>1</td>\n    </tr>\n  </tbody>\n</table>\n</div>"
     },
     "metadata": {},
     "execution_count": 17
    }
   ],
   "source": [
    "df2 = df1.copy()\n",
    "df2[\"amount\"] = df2.groupby([\"full_name\"])['amount'].transform('sum')\n",
    "df2 = df2.drop_duplicates(subset=['full_name'])\n",
    "df2 = df2.drop(\"author\", axis=1)\n",
    "df2 = df2.sort_values(\"amount\", ascending=False)\n",
    "df2"
   ]
  },
  {
   "cell_type": "code",
   "execution_count": 20,
   "metadata": {},
   "outputs": [
    {
     "output_type": "display_data",
     "data": {
      "text/plain": "interactive(children=(SelectionRangeSlider(description='Dates', index=(0, 122), layout=Layout(width='500px'), …",
      "application/vnd.jupyter.widget-view+json": {
       "version_major": 2,
       "version_minor": 0,
       "model_id": "934927ff414d4f70b56aa9610000929a"
      }
     },
     "metadata": {}
    }
   ],
   "source": [
    "d_min = np.min(big_df['data'])\n",
    "d_max = np.max(big_df['data'])\n",
    "dates = pd.date_range(d_min, d_max, freq='D')\n",
    "\n",
    "options=[(date.strftime(' %d %b %Y '), date) for date in dates]\n",
    "\n",
    "selection_range_slider = widgets.SelectionRangeSlider(\n",
    "    options=options,\n",
    "    index=(0, len(options)-1),\n",
    "    description='Dates',\n",
    "    orientation='horizontal',\n",
    "    layout={'width': '500px', \"color\": 'red'}\n",
    ")\n",
    "\n",
    "def choose(dates, plot=False):\n",
    "    dates = datetime.strptime(str(dates[0]), '%Y-%m-%d %H:%M:%S'), datetime.strptime(str(dates[1]), '%Y-%m-%d %H:%M:%S')\n",
    "    big_df['data'] = big_df['data'].apply(lambda x: datetime.strptime(str(x), '%Y-%m-%d %H:%M:%S'))\n",
    "    df2 = big_df[(big_df[\"data\"] > dates[0]) & (big_df[\"data\"] < dates[1])]\n",
    "    df2 = df2.loc[:, ['full_name', 'author', 'book']]\n",
    "    df2[\"amount\"] = 1\n",
    "    df2[\"amount\"] = df2.groupby([\"full_name\"])['amount'].transform('sum')\n",
    "    df2 = df2.drop_duplicates(subset=['full_name'])\n",
    "    df2 = df2.drop([\"book\", \"author\"], axis=1)\n",
    "    df2 = df2.sort_values(\"amount\", ascending=False)\n",
    "\n",
    "    display(df2)\n",
    "\n",
    "    if plot:\n",
    "        if df2.empty:\n",
    "             print('DataFrame is empty!')\n",
    "        else:\n",
    "            df2.plot(x='full_name', y=\"amount\", kind='bar', title=\"Reader Diagram\", figsize=(10, 5), rot=30, color='#73C6B6');\n",
    "    \n",
    "interact(choose, dates=selection_range_slider);"
   ]
  },
  {
   "cell_type": "code",
   "execution_count": null,
   "metadata": {},
   "outputs": [],
   "source": []
  }
 ]
}