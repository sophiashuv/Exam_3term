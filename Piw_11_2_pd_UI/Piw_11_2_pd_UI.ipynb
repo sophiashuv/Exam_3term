{
 "metadata": {
  "language_info": {
   "codemirror_mode": {
    "name": "ipython",
    "version": 3
   },
   "file_extension": ".py",
   "mimetype": "text/x-python",
   "name": "python",
   "nbconvert_exporter": "python",
   "pygments_lexer": "ipython3",
   "version": "3.8.5-final"
  },
  "orig_nbformat": 2,
  "kernelspec": {
   "name": "python3",
   "display_name": "Python 3",
   "language": "python"
  }
 },
 "nbformat": 4,
 "nbformat_minor": 2,
 "cells": [
  {
   "source": [
    "# Завдання 1.\n",
    "Розробити типи для облiку вiдпуску медикаментiв у аптечному складi.<br>\n",
    "Асортимент подано перелiком медикаментiв, якi характеризуються iденти-<br>\n",
    "фiкацiйним номером, назвою, категорiєю. Цiни медикаментiв визначаються<br>\n",
    "тарифiкацiйним перелiком, де кожному iдентифiкацiйному номеру постав-<br>\n",
    "лено у вiдповiднiсть цiну за одиницю лiкiв та вiдсоток знижки для корпо-<br>\n",
    "ративних клiєнтiв. При розрахунках для корпоративних клiєнтiв реальна<br>\n",
    "цiна лiкiв знижується на заданий у тарифi вiдсоток. Данi продаж характе-<br>\n",
    "ризуються iдентифiкацiйним номером проданого товару,кiлькiстю одиниць<br>\n",
    "та ознакою корпоративного клiєнта (так/нi). Асортимент та тарифи подано<br>\n",
    "окремими файлами. Продажi також подано кiлькома (> одного) окремими<br>\n",
    "файлами. Використовуючи pandas:<br>\n",
    "\n",
    "0. Побудувати датафрейм з iнформацiєю про усi вiдпущенi медикаменти.<br>\n",
    "\n",
    "1. Отримати у категорiї ПРОДАНИХ медикаментiв, яку вибирати з ви-<br>\n",
    "падаючого списку, для кожної назви виручену суму у форматi < назва лiкiв - сума >.<br>\n",
    "\n",
    "2. Отримати для кожної категорiї ПРОДАНИХ медикаментiв виручену<br>\n",
    "суму у форматi < категорiя - сума >.<br>\n",
    "2а. Побудувати дiаграму виручених сум по категорiях.<br>\n",
    "\n",
    "3. Визначити, за медикаменти якої групи отримали найбiльшу виручку<br>\n",
    "вiд корпоративних клiєнтiв i отримати перелiк цих медикаментiв у форматi<br>\n",
    "< назва лiкiв - сума >.<br>\n",
    "\n",
    "4. Отримати виручену суму для кожної категорiї медикаментiв, у яких<br>\n",
    "були продажi для корпоративних клiєнтiв(враховувати виручку лише вiд<br>\n",
    "таких продаж).<br>\n",
    "\n",
    "5. Отримати загальну суму медикаментiв, проданих для корпоративних<br>\n",
    "клiєнтiв.<br>\n",
    "\n",
    "6. Отримати у категорiї медикаментiв, яку вибирати з випадаючого спи-<br>\n",
    "ску, перелiк лiкiв, якi не купували корпоративнi клiєнти.<br>"
   ],
   "cell_type": "markdown",
   "metadata": {}
  },
  {
   "cell_type": "code",
   "execution_count": 172,
   "metadata": {},
   "outputs": [],
   "source": [
    "import pandas as pd\n",
    "from ipywidgets import interact, interactive, fixed, interact_manual\n",
    "import ipywidgets as widgets\n",
    "import csv\n",
    "from matplotlib import pyplot as plt"
   ]
  },
  {
   "source": [
    "medicine = pd.read_csv(\"medicine.csv\")\n",
    "prices = pd.read_csv(\"prices.csv\")\n",
    "sales = pd.concat([pd.read_csv(\"sales1.csv\"), pd.read_csv(\"sales2.csv\")], ignore_index=True)\n",
    "\n",
    "display(medicine)\n",
    "display(prices)\n",
    "display(sales)\n",
    "\n",
    "\n",
    "big_df = pd.merge(medicine, prices)\n",
    "big_df = big_df.merge(sales)\n",
    "display(big_df)"
   ],
   "cell_type": "code",
   "metadata": {},
   "execution_count": 173,
   "outputs": [
    {
     "output_type": "display_data",
     "data": {
      "text/plain": "    m_id     m_name m_category\n0  13944  Stephanie    Product\n1  16378      Orpha    Dynamic\n2  20061      Karli   National\n3  21804      Cleta    Product\n4  23281     Angelo   National\n5  77980    Blanche    Dynamic\n6  35839       Abby   National\n7  70495     Garret    Dynamic\n8  25730  Nathaniel    Dynamic\n9  25731       FFFF       CCCC",
      "text/html": "<div>\n<style scoped>\n    .dataframe tbody tr th:only-of-type {\n        vertical-align: middle;\n    }\n\n    .dataframe tbody tr th {\n        vertical-align: top;\n    }\n\n    .dataframe thead th {\n        text-align: right;\n    }\n</style>\n<table border=\"1\" class=\"dataframe\">\n  <thead>\n    <tr style=\"text-align: right;\">\n      <th></th>\n      <th>m_id</th>\n      <th>m_name</th>\n      <th>m_category</th>\n    </tr>\n  </thead>\n  <tbody>\n    <tr>\n      <th>0</th>\n      <td>13944</td>\n      <td>Stephanie</td>\n      <td>Product</td>\n    </tr>\n    <tr>\n      <th>1</th>\n      <td>16378</td>\n      <td>Orpha</td>\n      <td>Dynamic</td>\n    </tr>\n    <tr>\n      <th>2</th>\n      <td>20061</td>\n      <td>Karli</td>\n      <td>National</td>\n    </tr>\n    <tr>\n      <th>3</th>\n      <td>21804</td>\n      <td>Cleta</td>\n      <td>Product</td>\n    </tr>\n    <tr>\n      <th>4</th>\n      <td>23281</td>\n      <td>Angelo</td>\n      <td>National</td>\n    </tr>\n    <tr>\n      <th>5</th>\n      <td>77980</td>\n      <td>Blanche</td>\n      <td>Dynamic</td>\n    </tr>\n    <tr>\n      <th>6</th>\n      <td>35839</td>\n      <td>Abby</td>\n      <td>National</td>\n    </tr>\n    <tr>\n      <th>7</th>\n      <td>70495</td>\n      <td>Garret</td>\n      <td>Dynamic</td>\n    </tr>\n    <tr>\n      <th>8</th>\n      <td>25730</td>\n      <td>Nathaniel</td>\n      <td>Dynamic</td>\n    </tr>\n    <tr>\n      <th>9</th>\n      <td>25731</td>\n      <td>FFFF</td>\n      <td>CCCC</td>\n    </tr>\n  </tbody>\n</table>\n</div>"
     },
     "metadata": {}
    },
    {
     "output_type": "display_data",
     "data": {
      "text/plain": "    m_id   m_price  m_discount\n0  13944  10652.37          28\n1  16378  52016.28          97\n2  20061  73316.02          24\n3  21804  36596.99          40\n4  23281  42118.22          22\n5  77980  26258.65          39\n6  35839  47606.35           8\n7  70495   7434.15          79\n8  25730  32133.81          78",
      "text/html": "<div>\n<style scoped>\n    .dataframe tbody tr th:only-of-type {\n        vertical-align: middle;\n    }\n\n    .dataframe tbody tr th {\n        vertical-align: top;\n    }\n\n    .dataframe thead th {\n        text-align: right;\n    }\n</style>\n<table border=\"1\" class=\"dataframe\">\n  <thead>\n    <tr style=\"text-align: right;\">\n      <th></th>\n      <th>m_id</th>\n      <th>m_price</th>\n      <th>m_discount</th>\n    </tr>\n  </thead>\n  <tbody>\n    <tr>\n      <th>0</th>\n      <td>13944</td>\n      <td>10652.37</td>\n      <td>28</td>\n    </tr>\n    <tr>\n      <th>1</th>\n      <td>16378</td>\n      <td>52016.28</td>\n      <td>97</td>\n    </tr>\n    <tr>\n      <th>2</th>\n      <td>20061</td>\n      <td>73316.02</td>\n      <td>24</td>\n    </tr>\n    <tr>\n      <th>3</th>\n      <td>21804</td>\n      <td>36596.99</td>\n      <td>40</td>\n    </tr>\n    <tr>\n      <th>4</th>\n      <td>23281</td>\n      <td>42118.22</td>\n      <td>22</td>\n    </tr>\n    <tr>\n      <th>5</th>\n      <td>77980</td>\n      <td>26258.65</td>\n      <td>39</td>\n    </tr>\n    <tr>\n      <th>6</th>\n      <td>35839</td>\n      <td>47606.35</td>\n      <td>8</td>\n    </tr>\n    <tr>\n      <th>7</th>\n      <td>70495</td>\n      <td>7434.15</td>\n      <td>79</td>\n    </tr>\n    <tr>\n      <th>8</th>\n      <td>25730</td>\n      <td>32133.81</td>\n      <td>78</td>\n    </tr>\n  </tbody>\n</table>\n</div>"
     },
     "metadata": {}
    },
    {
     "output_type": "display_data",
     "data": {
      "text/plain": "     m_id  amount feature\n0   13944       2     yes\n1   16378      53     yes\n2   20061      88     yes\n3   21804      26      no\n4   23281      16      no\n5   77980      87     yes\n6   35839      11      no\n7   70495      30      no\n8   25730      43     yes\n9   23281      14     yes\n10  13944      74     yes\n11  16378       6      no\n12  20061       3      no\n13  21804      73     yes\n14  23281       5      no\n15  77980       9     yes\n16  35839      71     yes\n17  70495      65      no\n18  25730      61     yes\n19  77980       7      no",
      "text/html": "<div>\n<style scoped>\n    .dataframe tbody tr th:only-of-type {\n        vertical-align: middle;\n    }\n\n    .dataframe tbody tr th {\n        vertical-align: top;\n    }\n\n    .dataframe thead th {\n        text-align: right;\n    }\n</style>\n<table border=\"1\" class=\"dataframe\">\n  <thead>\n    <tr style=\"text-align: right;\">\n      <th></th>\n      <th>m_id</th>\n      <th>amount</th>\n      <th>feature</th>\n    </tr>\n  </thead>\n  <tbody>\n    <tr>\n      <th>0</th>\n      <td>13944</td>\n      <td>2</td>\n      <td>yes</td>\n    </tr>\n    <tr>\n      <th>1</th>\n      <td>16378</td>\n      <td>53</td>\n      <td>yes</td>\n    </tr>\n    <tr>\n      <th>2</th>\n      <td>20061</td>\n      <td>88</td>\n      <td>yes</td>\n    </tr>\n    <tr>\n      <th>3</th>\n      <td>21804</td>\n      <td>26</td>\n      <td>no</td>\n    </tr>\n    <tr>\n      <th>4</th>\n      <td>23281</td>\n      <td>16</td>\n      <td>no</td>\n    </tr>\n    <tr>\n      <th>5</th>\n      <td>77980</td>\n      <td>87</td>\n      <td>yes</td>\n    </tr>\n    <tr>\n      <th>6</th>\n      <td>35839</td>\n      <td>11</td>\n      <td>no</td>\n    </tr>\n    <tr>\n      <th>7</th>\n      <td>70495</td>\n      <td>30</td>\n      <td>no</td>\n    </tr>\n    <tr>\n      <th>8</th>\n      <td>25730</td>\n      <td>43</td>\n      <td>yes</td>\n    </tr>\n    <tr>\n      <th>9</th>\n      <td>23281</td>\n      <td>14</td>\n      <td>yes</td>\n    </tr>\n    <tr>\n      <th>10</th>\n      <td>13944</td>\n      <td>74</td>\n      <td>yes</td>\n    </tr>\n    <tr>\n      <th>11</th>\n      <td>16378</td>\n      <td>6</td>\n      <td>no</td>\n    </tr>\n    <tr>\n      <th>12</th>\n      <td>20061</td>\n      <td>3</td>\n      <td>no</td>\n    </tr>\n    <tr>\n      <th>13</th>\n      <td>21804</td>\n      <td>73</td>\n      <td>yes</td>\n    </tr>\n    <tr>\n      <th>14</th>\n      <td>23281</td>\n      <td>5</td>\n      <td>no</td>\n    </tr>\n    <tr>\n      <th>15</th>\n      <td>77980</td>\n      <td>9</td>\n      <td>yes</td>\n    </tr>\n    <tr>\n      <th>16</th>\n      <td>35839</td>\n      <td>71</td>\n      <td>yes</td>\n    </tr>\n    <tr>\n      <th>17</th>\n      <td>70495</td>\n      <td>65</td>\n      <td>no</td>\n    </tr>\n    <tr>\n      <th>18</th>\n      <td>25730</td>\n      <td>61</td>\n      <td>yes</td>\n    </tr>\n    <tr>\n      <th>19</th>\n      <td>77980</td>\n      <td>7</td>\n      <td>no</td>\n    </tr>\n  </tbody>\n</table>\n</div>"
     },
     "metadata": {}
    },
    {
     "output_type": "display_data",
     "data": {
      "text/plain": "     m_id     m_name m_category   m_price  m_discount  amount feature\n0   13944  Stephanie    Product  10652.37          28       2     yes\n1   13944  Stephanie    Product  10652.37          28      74     yes\n2   16378      Orpha    Dynamic  52016.28          97      53     yes\n3   16378      Orpha    Dynamic  52016.28          97       6      no\n4   20061      Karli   National  73316.02          24      88     yes\n5   20061      Karli   National  73316.02          24       3      no\n6   21804      Cleta    Product  36596.99          40      26      no\n7   21804      Cleta    Product  36596.99          40      73     yes\n8   23281     Angelo   National  42118.22          22      16      no\n9   23281     Angelo   National  42118.22          22      14     yes\n10  23281     Angelo   National  42118.22          22       5      no\n11  77980    Blanche    Dynamic  26258.65          39      87     yes\n12  77980    Blanche    Dynamic  26258.65          39       9     yes\n13  77980    Blanche    Dynamic  26258.65          39       7      no\n14  35839       Abby   National  47606.35           8      11      no\n15  35839       Abby   National  47606.35           8      71     yes\n16  70495     Garret    Dynamic   7434.15          79      30      no\n17  70495     Garret    Dynamic   7434.15          79      65      no\n18  25730  Nathaniel    Dynamic  32133.81          78      43     yes\n19  25730  Nathaniel    Dynamic  32133.81          78      61     yes",
      "text/html": "<div>\n<style scoped>\n    .dataframe tbody tr th:only-of-type {\n        vertical-align: middle;\n    }\n\n    .dataframe tbody tr th {\n        vertical-align: top;\n    }\n\n    .dataframe thead th {\n        text-align: right;\n    }\n</style>\n<table border=\"1\" class=\"dataframe\">\n  <thead>\n    <tr style=\"text-align: right;\">\n      <th></th>\n      <th>m_id</th>\n      <th>m_name</th>\n      <th>m_category</th>\n      <th>m_price</th>\n      <th>m_discount</th>\n      <th>amount</th>\n      <th>feature</th>\n    </tr>\n  </thead>\n  <tbody>\n    <tr>\n      <th>0</th>\n      <td>13944</td>\n      <td>Stephanie</td>\n      <td>Product</td>\n      <td>10652.37</td>\n      <td>28</td>\n      <td>2</td>\n      <td>yes</td>\n    </tr>\n    <tr>\n      <th>1</th>\n      <td>13944</td>\n      <td>Stephanie</td>\n      <td>Product</td>\n      <td>10652.37</td>\n      <td>28</td>\n      <td>74</td>\n      <td>yes</td>\n    </tr>\n    <tr>\n      <th>2</th>\n      <td>16378</td>\n      <td>Orpha</td>\n      <td>Dynamic</td>\n      <td>52016.28</td>\n      <td>97</td>\n      <td>53</td>\n      <td>yes</td>\n    </tr>\n    <tr>\n      <th>3</th>\n      <td>16378</td>\n      <td>Orpha</td>\n      <td>Dynamic</td>\n      <td>52016.28</td>\n      <td>97</td>\n      <td>6</td>\n      <td>no</td>\n    </tr>\n    <tr>\n      <th>4</th>\n      <td>20061</td>\n      <td>Karli</td>\n      <td>National</td>\n      <td>73316.02</td>\n      <td>24</td>\n      <td>88</td>\n      <td>yes</td>\n    </tr>\n    <tr>\n      <th>5</th>\n      <td>20061</td>\n      <td>Karli</td>\n      <td>National</td>\n      <td>73316.02</td>\n      <td>24</td>\n      <td>3</td>\n      <td>no</td>\n    </tr>\n    <tr>\n      <th>6</th>\n      <td>21804</td>\n      <td>Cleta</td>\n      <td>Product</td>\n      <td>36596.99</td>\n      <td>40</td>\n      <td>26</td>\n      <td>no</td>\n    </tr>\n    <tr>\n      <th>7</th>\n      <td>21804</td>\n      <td>Cleta</td>\n      <td>Product</td>\n      <td>36596.99</td>\n      <td>40</td>\n      <td>73</td>\n      <td>yes</td>\n    </tr>\n    <tr>\n      <th>8</th>\n      <td>23281</td>\n      <td>Angelo</td>\n      <td>National</td>\n      <td>42118.22</td>\n      <td>22</td>\n      <td>16</td>\n      <td>no</td>\n    </tr>\n    <tr>\n      <th>9</th>\n      <td>23281</td>\n      <td>Angelo</td>\n      <td>National</td>\n      <td>42118.22</td>\n      <td>22</td>\n      <td>14</td>\n      <td>yes</td>\n    </tr>\n    <tr>\n      <th>10</th>\n      <td>23281</td>\n      <td>Angelo</td>\n      <td>National</td>\n      <td>42118.22</td>\n      <td>22</td>\n      <td>5</td>\n      <td>no</td>\n    </tr>\n    <tr>\n      <th>11</th>\n      <td>77980</td>\n      <td>Blanche</td>\n      <td>Dynamic</td>\n      <td>26258.65</td>\n      <td>39</td>\n      <td>87</td>\n      <td>yes</td>\n    </tr>\n    <tr>\n      <th>12</th>\n      <td>77980</td>\n      <td>Blanche</td>\n      <td>Dynamic</td>\n      <td>26258.65</td>\n      <td>39</td>\n      <td>9</td>\n      <td>yes</td>\n    </tr>\n    <tr>\n      <th>13</th>\n      <td>77980</td>\n      <td>Blanche</td>\n      <td>Dynamic</td>\n      <td>26258.65</td>\n      <td>39</td>\n      <td>7</td>\n      <td>no</td>\n    </tr>\n    <tr>\n      <th>14</th>\n      <td>35839</td>\n      <td>Abby</td>\n      <td>National</td>\n      <td>47606.35</td>\n      <td>8</td>\n      <td>11</td>\n      <td>no</td>\n    </tr>\n    <tr>\n      <th>15</th>\n      <td>35839</td>\n      <td>Abby</td>\n      <td>National</td>\n      <td>47606.35</td>\n      <td>8</td>\n      <td>71</td>\n      <td>yes</td>\n    </tr>\n    <tr>\n      <th>16</th>\n      <td>70495</td>\n      <td>Garret</td>\n      <td>Dynamic</td>\n      <td>7434.15</td>\n      <td>79</td>\n      <td>30</td>\n      <td>no</td>\n    </tr>\n    <tr>\n      <th>17</th>\n      <td>70495</td>\n      <td>Garret</td>\n      <td>Dynamic</td>\n      <td>7434.15</td>\n      <td>79</td>\n      <td>65</td>\n      <td>no</td>\n    </tr>\n    <tr>\n      <th>18</th>\n      <td>25730</td>\n      <td>Nathaniel</td>\n      <td>Dynamic</td>\n      <td>32133.81</td>\n      <td>78</td>\n      <td>43</td>\n      <td>yes</td>\n    </tr>\n    <tr>\n      <th>19</th>\n      <td>25730</td>\n      <td>Nathaniel</td>\n      <td>Dynamic</td>\n      <td>32133.81</td>\n      <td>78</td>\n      <td>61</td>\n      <td>yes</td>\n    </tr>\n  </tbody>\n</table>\n</div>"
     },
     "metadata": {}
    }
   ]
  },
  {
   "source": [
    "1. Отримати у категорiї ПРОДАНИХ медикаментiв, яку вибирати з ви-<br>\n",
    "падаючого списку, для кожної назви виручену суму у форматi < назва лiкiв - сума >.<br>"
   ],
   "cell_type": "markdown",
   "metadata": {}
  },
  {
   "cell_type": "code",
   "execution_count": 174,
   "metadata": {},
   "outputs": [
    {
     "output_type": "display_data",
     "data": {
      "text/plain": "interactive(children=(Dropdown(description='Category', options=('Dynamic', 'Product', 'National'), value='Dyna…",
      "application/vnd.jupyter.widget-view+json": {
       "version_major": 2,
       "version_minor": 0,
       "model_id": "65823fbda6174f9898668980f1c75e92"
      }
     },
     "metadata": {}
    }
   ],
   "source": [
    "categories = set(big_df[\"m_category\"])\n",
    "\n",
    "def task1(Category):\n",
    "    df1 = big_df[big_df.m_category == Category]\n",
    "    df1.loc[(df1.feature == \"yes\"), \"m_price\"] = df1[\"m_price\"] * (1 - df1[\"m_discount\"]/100)\n",
    "    df1[\"m_price\"] = df1[\"m_price\"] * df1[\"amount\"]\n",
    "    df1 = df1.loc[:, ['m_name', 'm_price']]\n",
    "    df1 = df1.groupby([\"m_name\"]).sum().reset_index()\n",
    "    indexNames = df1[(df1['m_price'] == 0)].index \n",
    "    df1.drop(indexNames , inplace=True)\n",
    "    display(df1)\n",
    "\n",
    "interact(task1, Category=categories);"
   ]
  },
  {
   "source": [
    "2. Отримати для кожної категорiї ПРОДАНИХ медикаментiв виручену<br>\n",
    "суму у форматi < категорiя - сума >.<br>\n",
    "2а. Побудувати дiаграму виручених сум по категорiях.<br>\n"
   ],
   "cell_type": "markdown",
   "metadata": {}
  },
  {
   "cell_type": "code",
   "execution_count": 175,
   "metadata": {},
   "outputs": [
    {
     "output_type": "display_data",
     "data": {
      "text/plain": "  m_category       m_price\n0    Dynamic  3.557786e+06\n1   National  1.010105e+07\n2    Product  3.137368e+06",
      "text/html": "<div>\n<style scoped>\n    .dataframe tbody tr th:only-of-type {\n        vertical-align: middle;\n    }\n\n    .dataframe tbody tr th {\n        vertical-align: top;\n    }\n\n    .dataframe thead th {\n        text-align: right;\n    }\n</style>\n<table border=\"1\" class=\"dataframe\">\n  <thead>\n    <tr style=\"text-align: right;\">\n      <th></th>\n      <th>m_category</th>\n      <th>m_price</th>\n    </tr>\n  </thead>\n  <tbody>\n    <tr>\n      <th>0</th>\n      <td>Dynamic</td>\n      <td>3.557786e+06</td>\n    </tr>\n    <tr>\n      <th>1</th>\n      <td>National</td>\n      <td>1.010105e+07</td>\n    </tr>\n    <tr>\n      <th>2</th>\n      <td>Product</td>\n      <td>3.137368e+06</td>\n    </tr>\n  </tbody>\n</table>\n</div>"
     },
     "metadata": {}
    },
    {
     "output_type": "display_data",
     "data": {
      "text/plain": "<Figure size 720x360 with 1 Axes>",
      "image/svg+xml": "<?xml version=\"1.0\" encoding=\"utf-8\" standalone=\"no\"?>\n<!DOCTYPE svg PUBLIC \"-//W3C//DTD SVG 1.1//EN\"\n  \"http://www.w3.org/Graphics/SVG/1.1/DTD/svg11.dtd\">\n<!-- Created with matplotlib (https://matplotlib.org/) -->\n<svg height=\"352.428533pt\" version=\"1.1\" viewBox=\"0 0 595.303125 352.428533\" width=\"595.303125pt\" xmlns=\"http://www.w3.org/2000/svg\" xmlns:xlink=\"http://www.w3.org/1999/xlink\">\n <defs>\n  <style type=\"text/css\">\n*{stroke-linecap:butt;stroke-linejoin:round;}\n  </style>\n </defs>\n <g id=\"figure_1\">\n  <g id=\"patch_1\">\n   <path d=\"M -0 352.428533 \nL 595.303125 352.428533 \nL 595.303125 0 \nL -0 0 \nz\n\" style=\"fill:none;\"/>\n  </g>\n  <g id=\"axes_1\">\n   <g id=\"patch_2\">\n    <path d=\"M 30.103125 294.118125 \nL 588.103125 294.118125 \nL 588.103125 22.318125 \nL 30.103125 22.318125 \nz\n\" style=\"fill:#ffffff;\"/>\n   </g>\n   <g id=\"patch_3\">\n    <path clip-path=\"url(#pf50b80567a)\" d=\"M 76.603125 294.118125 \nL 169.603125 294.118125 \nL 169.603125 202.943633 \nL 76.603125 202.943633 \nz\n\" style=\"fill:#73c6b6;\"/>\n   </g>\n   <g id=\"patch_4\">\n    <path clip-path=\"url(#pf50b80567a)\" d=\"M 262.603125 294.118125 \nL 355.603125 294.118125 \nL 355.603125 35.260982 \nL 262.603125 35.260982 \nz\n\" style=\"fill:#73c6b6;\"/>\n   </g>\n   <g id=\"patch_5\">\n    <path clip-path=\"url(#pf50b80567a)\" d=\"M 448.603125 294.118125 \nL 541.603125 294.118125 \nL 541.603125 213.717601 \nL 448.603125 213.717601 \nz\n\" style=\"fill:#73c6b6;\"/>\n   </g>\n   <g id=\"matplotlib.axis_1\">\n    <g id=\"xtick_1\">\n     <g id=\"line2d_1\">\n      <defs>\n       <path d=\"M 0 0 \nL 0 3.5 \n\" id=\"mc639af4f44\" style=\"stroke:#000000;stroke-width:0.8;\"/>\n      </defs>\n      <g>\n       <use style=\"stroke:#000000;stroke-width:0.8;\" x=\"123.103125\" xlink:href=\"#mc639af4f44\" y=\"294.118125\"/>\n      </g>\n     </g>\n     <g id=\"text_1\">\n      <!-- Dynamic -->\n      <defs>\n       <path d=\"M 19.671875 64.796875 \nL 19.671875 8.109375 \nL 31.59375 8.109375 \nQ 46.6875 8.109375 53.6875 14.9375 \nQ 60.6875 21.78125 60.6875 36.53125 \nQ 60.6875 51.171875 53.6875 57.984375 \nQ 46.6875 64.796875 31.59375 64.796875 \nz\nM 9.8125 72.90625 \nL 30.078125 72.90625 \nQ 51.265625 72.90625 61.171875 64.09375 \nQ 71.09375 55.28125 71.09375 36.53125 \nQ 71.09375 17.671875 61.125 8.828125 \nQ 51.171875 0 30.078125 0 \nL 9.8125 0 \nz\n\" id=\"DejaVuSans-68\"/>\n       <path d=\"M 32.171875 -5.078125 \nQ 28.375 -14.84375 24.75 -17.8125 \nQ 21.140625 -20.796875 15.09375 -20.796875 \nL 7.90625 -20.796875 \nL 7.90625 -13.28125 \nL 13.1875 -13.28125 \nQ 16.890625 -13.28125 18.9375 -11.515625 \nQ 21 -9.765625 23.484375 -3.21875 \nL 25.09375 0.875 \nL 2.984375 54.6875 \nL 12.5 54.6875 \nL 29.59375 11.921875 \nL 46.6875 54.6875 \nL 56.203125 54.6875 \nz\n\" id=\"DejaVuSans-121\"/>\n       <path d=\"M 54.890625 33.015625 \nL 54.890625 0 \nL 45.90625 0 \nL 45.90625 32.71875 \nQ 45.90625 40.484375 42.875 44.328125 \nQ 39.84375 48.1875 33.796875 48.1875 \nQ 26.515625 48.1875 22.3125 43.546875 \nQ 18.109375 38.921875 18.109375 30.90625 \nL 18.109375 0 \nL 9.078125 0 \nL 9.078125 54.6875 \nL 18.109375 54.6875 \nL 18.109375 46.1875 \nQ 21.34375 51.125 25.703125 53.5625 \nQ 30.078125 56 35.796875 56 \nQ 45.21875 56 50.046875 50.171875 \nQ 54.890625 44.34375 54.890625 33.015625 \nz\n\" id=\"DejaVuSans-110\"/>\n       <path d=\"M 34.28125 27.484375 \nQ 23.390625 27.484375 19.1875 25 \nQ 14.984375 22.515625 14.984375 16.5 \nQ 14.984375 11.71875 18.140625 8.90625 \nQ 21.296875 6.109375 26.703125 6.109375 \nQ 34.1875 6.109375 38.703125 11.40625 \nQ 43.21875 16.703125 43.21875 25.484375 \nL 43.21875 27.484375 \nz\nM 52.203125 31.203125 \nL 52.203125 0 \nL 43.21875 0 \nL 43.21875 8.296875 \nQ 40.140625 3.328125 35.546875 0.953125 \nQ 30.953125 -1.421875 24.3125 -1.421875 \nQ 15.921875 -1.421875 10.953125 3.296875 \nQ 6 8.015625 6 15.921875 \nQ 6 25.140625 12.171875 29.828125 \nQ 18.359375 34.515625 30.609375 34.515625 \nL 43.21875 34.515625 \nL 43.21875 35.40625 \nQ 43.21875 41.609375 39.140625 45 \nQ 35.0625 48.390625 27.6875 48.390625 \nQ 23 48.390625 18.546875 47.265625 \nQ 14.109375 46.140625 10.015625 43.890625 \nL 10.015625 52.203125 \nQ 14.9375 54.109375 19.578125 55.046875 \nQ 24.21875 56 28.609375 56 \nQ 40.484375 56 46.34375 49.84375 \nQ 52.203125 43.703125 52.203125 31.203125 \nz\n\" id=\"DejaVuSans-97\"/>\n       <path d=\"M 52 44.1875 \nQ 55.375 50.25 60.0625 53.125 \nQ 64.75 56 71.09375 56 \nQ 79.640625 56 84.28125 50.015625 \nQ 88.921875 44.046875 88.921875 33.015625 \nL 88.921875 0 \nL 79.890625 0 \nL 79.890625 32.71875 \nQ 79.890625 40.578125 77.09375 44.375 \nQ 74.3125 48.1875 68.609375 48.1875 \nQ 61.625 48.1875 57.5625 43.546875 \nQ 53.515625 38.921875 53.515625 30.90625 \nL 53.515625 0 \nL 44.484375 0 \nL 44.484375 32.71875 \nQ 44.484375 40.625 41.703125 44.40625 \nQ 38.921875 48.1875 33.109375 48.1875 \nQ 26.21875 48.1875 22.15625 43.53125 \nQ 18.109375 38.875 18.109375 30.90625 \nL 18.109375 0 \nL 9.078125 0 \nL 9.078125 54.6875 \nL 18.109375 54.6875 \nL 18.109375 46.1875 \nQ 21.1875 51.21875 25.484375 53.609375 \nQ 29.78125 56 35.6875 56 \nQ 41.65625 56 45.828125 52.96875 \nQ 50 49.953125 52 44.1875 \nz\n\" id=\"DejaVuSans-109\"/>\n       <path d=\"M 9.421875 54.6875 \nL 18.40625 54.6875 \nL 18.40625 0 \nL 9.421875 0 \nz\nM 9.421875 75.984375 \nL 18.40625 75.984375 \nL 18.40625 64.59375 \nL 9.421875 64.59375 \nz\n\" id=\"DejaVuSans-105\"/>\n       <path d=\"M 48.78125 52.59375 \nL 48.78125 44.1875 \nQ 44.96875 46.296875 41.140625 47.34375 \nQ 37.3125 48.390625 33.40625 48.390625 \nQ 24.65625 48.390625 19.8125 42.84375 \nQ 14.984375 37.3125 14.984375 27.296875 \nQ 14.984375 17.28125 19.8125 11.734375 \nQ 24.65625 6.203125 33.40625 6.203125 \nQ 37.3125 6.203125 41.140625 7.25 \nQ 44.96875 8.296875 48.78125 10.40625 \nL 48.78125 2.09375 \nQ 45.015625 0.34375 40.984375 -0.53125 \nQ 36.96875 -1.421875 32.421875 -1.421875 \nQ 20.0625 -1.421875 12.78125 6.34375 \nQ 5.515625 14.109375 5.515625 27.296875 \nQ 5.515625 40.671875 12.859375 48.328125 \nQ 20.21875 56 33.015625 56 \nQ 37.15625 56 41.109375 55.140625 \nQ 45.0625 54.296875 48.78125 52.59375 \nz\n\" id=\"DejaVuSans-99\"/>\n      </defs>\n      <g transform=\"translate(105.386276 329.749346)rotate(-30)scale(0.1 -0.1)\">\n       <use xlink:href=\"#DejaVuSans-68\"/>\n       <use x=\"77.001953\" xlink:href=\"#DejaVuSans-121\"/>\n       <use x=\"136.181641\" xlink:href=\"#DejaVuSans-110\"/>\n       <use x=\"199.560547\" xlink:href=\"#DejaVuSans-97\"/>\n       <use x=\"260.839844\" xlink:href=\"#DejaVuSans-109\"/>\n       <use x=\"358.251953\" xlink:href=\"#DejaVuSans-105\"/>\n       <use x=\"386.035156\" xlink:href=\"#DejaVuSans-99\"/>\n      </g>\n     </g>\n    </g>\n    <g id=\"xtick_2\">\n     <g id=\"line2d_2\">\n      <g>\n       <use style=\"stroke:#000000;stroke-width:0.8;\" x=\"309.103125\" xlink:href=\"#mc639af4f44\" y=\"294.118125\"/>\n      </g>\n     </g>\n     <g id=\"text_2\">\n      <!-- National -->\n      <defs>\n       <path d=\"M 9.8125 72.90625 \nL 23.09375 72.90625 \nL 55.421875 11.921875 \nL 55.421875 72.90625 \nL 64.984375 72.90625 \nL 64.984375 0 \nL 51.703125 0 \nL 19.390625 60.984375 \nL 19.390625 0 \nL 9.8125 0 \nz\n\" id=\"DejaVuSans-78\"/>\n       <path d=\"M 18.3125 70.21875 \nL 18.3125 54.6875 \nL 36.8125 54.6875 \nL 36.8125 47.703125 \nL 18.3125 47.703125 \nL 18.3125 18.015625 \nQ 18.3125 11.328125 20.140625 9.421875 \nQ 21.96875 7.515625 27.59375 7.515625 \nL 36.8125 7.515625 \nL 36.8125 0 \nL 27.59375 0 \nQ 17.1875 0 13.234375 3.875 \nQ 9.28125 7.765625 9.28125 18.015625 \nL 9.28125 47.703125 \nL 2.6875 47.703125 \nL 2.6875 54.6875 \nL 9.28125 54.6875 \nL 9.28125 70.21875 \nz\n\" id=\"DejaVuSans-116\"/>\n       <path d=\"M 30.609375 48.390625 \nQ 23.390625 48.390625 19.1875 42.75 \nQ 14.984375 37.109375 14.984375 27.296875 \nQ 14.984375 17.484375 19.15625 11.84375 \nQ 23.34375 6.203125 30.609375 6.203125 \nQ 37.796875 6.203125 41.984375 11.859375 \nQ 46.1875 17.53125 46.1875 27.296875 \nQ 46.1875 37.015625 41.984375 42.703125 \nQ 37.796875 48.390625 30.609375 48.390625 \nz\nM 30.609375 56 \nQ 42.328125 56 49.015625 48.375 \nQ 55.71875 40.765625 55.71875 27.296875 \nQ 55.71875 13.875 49.015625 6.21875 \nQ 42.328125 -1.421875 30.609375 -1.421875 \nQ 18.84375 -1.421875 12.171875 6.21875 \nQ 5.515625 13.875 5.515625 27.296875 \nQ 5.515625 40.765625 12.171875 48.375 \nQ 18.84375 56 30.609375 56 \nz\n\" id=\"DejaVuSans-111\"/>\n       <path d=\"M 9.421875 75.984375 \nL 18.40625 75.984375 \nL 18.40625 0 \nL 9.421875 0 \nz\n\" id=\"DejaVuSans-108\"/>\n      </defs>\n      <g transform=\"translate(292.439038 328.533721)rotate(-30)scale(0.1 -0.1)\">\n       <use xlink:href=\"#DejaVuSans-78\"/>\n       <use x=\"74.804688\" xlink:href=\"#DejaVuSans-97\"/>\n       <use x=\"136.083984\" xlink:href=\"#DejaVuSans-116\"/>\n       <use x=\"175.292969\" xlink:href=\"#DejaVuSans-105\"/>\n       <use x=\"203.076172\" xlink:href=\"#DejaVuSans-111\"/>\n       <use x=\"264.257812\" xlink:href=\"#DejaVuSans-110\"/>\n       <use x=\"327.636719\" xlink:href=\"#DejaVuSans-97\"/>\n       <use x=\"388.916016\" xlink:href=\"#DejaVuSans-108\"/>\n      </g>\n     </g>\n    </g>\n    <g id=\"xtick_3\">\n     <g id=\"line2d_3\">\n      <g>\n       <use style=\"stroke:#000000;stroke-width:0.8;\" x=\"495.103125\" xlink:href=\"#mc639af4f44\" y=\"294.118125\"/>\n      </g>\n     </g>\n     <g id=\"text_3\">\n      <!-- Product -->\n      <defs>\n       <path d=\"M 19.671875 64.796875 \nL 19.671875 37.40625 \nL 32.078125 37.40625 \nQ 38.96875 37.40625 42.71875 40.96875 \nQ 46.484375 44.53125 46.484375 51.125 \nQ 46.484375 57.671875 42.71875 61.234375 \nQ 38.96875 64.796875 32.078125 64.796875 \nz\nM 9.8125 72.90625 \nL 32.078125 72.90625 \nQ 44.34375 72.90625 50.609375 67.359375 \nQ 56.890625 61.8125 56.890625 51.125 \nQ 56.890625 40.328125 50.609375 34.8125 \nQ 44.34375 29.296875 32.078125 29.296875 \nL 19.671875 29.296875 \nL 19.671875 0 \nL 9.8125 0 \nz\n\" id=\"DejaVuSans-80\"/>\n       <path d=\"M 41.109375 46.296875 \nQ 39.59375 47.171875 37.8125 47.578125 \nQ 36.03125 48 33.890625 48 \nQ 26.265625 48 22.1875 43.046875 \nQ 18.109375 38.09375 18.109375 28.8125 \nL 18.109375 0 \nL 9.078125 0 \nL 9.078125 54.6875 \nL 18.109375 54.6875 \nL 18.109375 46.1875 \nQ 20.953125 51.171875 25.484375 53.578125 \nQ 30.03125 56 36.53125 56 \nQ 37.453125 56 38.578125 55.875 \nQ 39.703125 55.765625 41.0625 55.515625 \nz\n\" id=\"DejaVuSans-114\"/>\n       <path d=\"M 45.40625 46.390625 \nL 45.40625 75.984375 \nL 54.390625 75.984375 \nL 54.390625 0 \nL 45.40625 0 \nL 45.40625 8.203125 \nQ 42.578125 3.328125 38.25 0.953125 \nQ 33.9375 -1.421875 27.875 -1.421875 \nQ 17.96875 -1.421875 11.734375 6.484375 \nQ 5.515625 14.40625 5.515625 27.296875 \nQ 5.515625 40.1875 11.734375 48.09375 \nQ 17.96875 56 27.875 56 \nQ 33.9375 56 38.25 53.625 \nQ 42.578125 51.265625 45.40625 46.390625 \nz\nM 14.796875 27.296875 \nQ 14.796875 17.390625 18.875 11.75 \nQ 22.953125 6.109375 30.078125 6.109375 \nQ 37.203125 6.109375 41.296875 11.75 \nQ 45.40625 17.390625 45.40625 27.296875 \nQ 45.40625 37.203125 41.296875 42.84375 \nQ 37.203125 48.484375 30.078125 48.484375 \nQ 22.953125 48.484375 18.875 42.84375 \nQ 14.796875 37.203125 14.796875 27.296875 \nz\n\" id=\"DejaVuSans-100\"/>\n       <path d=\"M 8.5 21.578125 \nL 8.5 54.6875 \nL 17.484375 54.6875 \nL 17.484375 21.921875 \nQ 17.484375 14.15625 20.5 10.265625 \nQ 23.53125 6.390625 29.59375 6.390625 \nQ 36.859375 6.390625 41.078125 11.03125 \nQ 45.3125 15.671875 45.3125 23.6875 \nL 45.3125 54.6875 \nL 54.296875 54.6875 \nL 54.296875 0 \nL 45.3125 0 \nL 45.3125 8.40625 \nQ 42.046875 3.421875 37.71875 1 \nQ 33.40625 -1.421875 27.6875 -1.421875 \nQ 18.265625 -1.421875 13.375 4.4375 \nQ 8.5 10.296875 8.5 21.578125 \nz\nM 31.109375 56 \nz\n\" id=\"DejaVuSans-117\"/>\n      </defs>\n      <g transform=\"translate(480.043891 326.680596)rotate(-30)scale(0.1 -0.1)\">\n       <use xlink:href=\"#DejaVuSans-80\"/>\n       <use x=\"58.552734\" xlink:href=\"#DejaVuSans-114\"/>\n       <use x=\"97.416016\" xlink:href=\"#DejaVuSans-111\"/>\n       <use x=\"158.597656\" xlink:href=\"#DejaVuSans-100\"/>\n       <use x=\"222.074219\" xlink:href=\"#DejaVuSans-117\"/>\n       <use x=\"285.453125\" xlink:href=\"#DejaVuSans-99\"/>\n       <use x=\"340.433594\" xlink:href=\"#DejaVuSans-116\"/>\n      </g>\n     </g>\n    </g>\n    <g id=\"text_4\">\n     <!-- m_category -->\n     <defs>\n      <path d=\"M 50.984375 -16.609375 \nL 50.984375 -23.578125 \nL -0.984375 -23.578125 \nL -0.984375 -16.609375 \nz\n\" id=\"DejaVuSans-95\"/>\n      <path d=\"M 56.203125 29.59375 \nL 56.203125 25.203125 \nL 14.890625 25.203125 \nQ 15.484375 15.921875 20.484375 11.0625 \nQ 25.484375 6.203125 34.421875 6.203125 \nQ 39.59375 6.203125 44.453125 7.46875 \nQ 49.3125 8.734375 54.109375 11.28125 \nL 54.109375 2.78125 \nQ 49.265625 0.734375 44.1875 -0.34375 \nQ 39.109375 -1.421875 33.890625 -1.421875 \nQ 20.796875 -1.421875 13.15625 6.1875 \nQ 5.515625 13.8125 5.515625 26.8125 \nQ 5.515625 40.234375 12.765625 48.109375 \nQ 20.015625 56 32.328125 56 \nQ 43.359375 56 49.78125 48.890625 \nQ 56.203125 41.796875 56.203125 29.59375 \nz\nM 47.21875 32.234375 \nQ 47.125 39.59375 43.09375 43.984375 \nQ 39.0625 48.390625 32.421875 48.390625 \nQ 24.90625 48.390625 20.390625 44.140625 \nQ 15.875 39.890625 15.1875 32.171875 \nz\n\" id=\"DejaVuSans-101\"/>\n      <path d=\"M 45.40625 27.984375 \nQ 45.40625 37.75 41.375 43.109375 \nQ 37.359375 48.484375 30.078125 48.484375 \nQ 22.859375 48.484375 18.828125 43.109375 \nQ 14.796875 37.75 14.796875 27.984375 \nQ 14.796875 18.265625 18.828125 12.890625 \nQ 22.859375 7.515625 30.078125 7.515625 \nQ 37.359375 7.515625 41.375 12.890625 \nQ 45.40625 18.265625 45.40625 27.984375 \nz\nM 54.390625 6.78125 \nQ 54.390625 -7.171875 48.1875 -13.984375 \nQ 42 -20.796875 29.203125 -20.796875 \nQ 24.46875 -20.796875 20.265625 -20.09375 \nQ 16.0625 -19.390625 12.109375 -17.921875 \nL 12.109375 -9.1875 \nQ 16.0625 -11.328125 19.921875 -12.34375 \nQ 23.78125 -13.375 27.78125 -13.375 \nQ 36.625 -13.375 41.015625 -8.765625 \nQ 45.40625 -4.15625 45.40625 5.171875 \nL 45.40625 9.625 \nQ 42.625 4.78125 38.28125 2.390625 \nQ 33.9375 0 27.875 0 \nQ 17.828125 0 11.671875 7.65625 \nQ 5.515625 15.328125 5.515625 27.984375 \nQ 5.515625 40.671875 11.671875 48.328125 \nQ 17.828125 56 27.875 56 \nQ 33.9375 56 38.28125 53.609375 \nQ 42.625 51.21875 45.40625 46.390625 \nL 45.40625 54.6875 \nL 54.390625 54.6875 \nz\n\" id=\"DejaVuSans-103\"/>\n     </defs>\n     <g transform=\"translate(279.634375 342.870721)scale(0.1 -0.1)\">\n      <use xlink:href=\"#DejaVuSans-109\"/>\n      <use x=\"97.412109\" xlink:href=\"#DejaVuSans-95\"/>\n      <use x=\"147.412109\" xlink:href=\"#DejaVuSans-99\"/>\n      <use x=\"202.392578\" xlink:href=\"#DejaVuSans-97\"/>\n      <use x=\"263.671875\" xlink:href=\"#DejaVuSans-116\"/>\n      <use x=\"302.880859\" xlink:href=\"#DejaVuSans-101\"/>\n      <use x=\"364.404297\" xlink:href=\"#DejaVuSans-103\"/>\n      <use x=\"427.880859\" xlink:href=\"#DejaVuSans-111\"/>\n      <use x=\"489.0625\" xlink:href=\"#DejaVuSans-114\"/>\n      <use x=\"530.175781\" xlink:href=\"#DejaVuSans-121\"/>\n     </g>\n    </g>\n   </g>\n   <g id=\"matplotlib.axis_2\">\n    <g id=\"ytick_1\">\n     <g id=\"line2d_4\">\n      <defs>\n       <path d=\"M 0 0 \nL -3.5 0 \n\" id=\"mda0f842df7\" style=\"stroke:#000000;stroke-width:0.8;\"/>\n      </defs>\n      <g>\n       <use style=\"stroke:#000000;stroke-width:0.8;\" x=\"30.103125\" xlink:href=\"#mda0f842df7\" y=\"294.118125\"/>\n      </g>\n     </g>\n     <g id=\"text_5\">\n      <!-- 0.0 -->\n      <defs>\n       <path d=\"M 31.78125 66.40625 \nQ 24.171875 66.40625 20.328125 58.90625 \nQ 16.5 51.421875 16.5 36.375 \nQ 16.5 21.390625 20.328125 13.890625 \nQ 24.171875 6.390625 31.78125 6.390625 \nQ 39.453125 6.390625 43.28125 13.890625 \nQ 47.125 21.390625 47.125 36.375 \nQ 47.125 51.421875 43.28125 58.90625 \nQ 39.453125 66.40625 31.78125 66.40625 \nz\nM 31.78125 74.21875 \nQ 44.046875 74.21875 50.515625 64.515625 \nQ 56.984375 54.828125 56.984375 36.375 \nQ 56.984375 17.96875 50.515625 8.265625 \nQ 44.046875 -1.421875 31.78125 -1.421875 \nQ 19.53125 -1.421875 13.0625 8.265625 \nQ 6.59375 17.96875 6.59375 36.375 \nQ 6.59375 54.828125 13.0625 64.515625 \nQ 19.53125 74.21875 31.78125 74.21875 \nz\n\" id=\"DejaVuSans-48\"/>\n       <path d=\"M 10.6875 12.40625 \nL 21 12.40625 \nL 21 0 \nL 10.6875 0 \nz\n\" id=\"DejaVuSans-46\"/>\n      </defs>\n      <g transform=\"translate(7.2 297.917344)scale(0.1 -0.1)\">\n       <use xlink:href=\"#DejaVuSans-48\"/>\n       <use x=\"63.623047\" xlink:href=\"#DejaVuSans-46\"/>\n       <use x=\"95.410156\" xlink:href=\"#DejaVuSans-48\"/>\n      </g>\n     </g>\n    </g>\n    <g id=\"ytick_2\">\n     <g id=\"line2d_5\">\n      <g>\n       <use style=\"stroke:#000000;stroke-width:0.8;\" x=\"30.103125\" xlink:href=\"#mda0f842df7\" y=\"242.864632\"/>\n      </g>\n     </g>\n     <g id=\"text_6\">\n      <!-- 0.2 -->\n      <defs>\n       <path d=\"M 19.1875 8.296875 \nL 53.609375 8.296875 \nL 53.609375 0 \nL 7.328125 0 \nL 7.328125 8.296875 \nQ 12.9375 14.109375 22.625 23.890625 \nQ 32.328125 33.6875 34.8125 36.53125 \nQ 39.546875 41.84375 41.421875 45.53125 \nQ 43.3125 49.21875 43.3125 52.78125 \nQ 43.3125 58.59375 39.234375 62.25 \nQ 35.15625 65.921875 28.609375 65.921875 \nQ 23.96875 65.921875 18.8125 64.3125 \nQ 13.671875 62.703125 7.8125 59.421875 \nL 7.8125 69.390625 \nQ 13.765625 71.78125 18.9375 73 \nQ 24.125 74.21875 28.421875 74.21875 \nQ 39.75 74.21875 46.484375 68.546875 \nQ 53.21875 62.890625 53.21875 53.421875 \nQ 53.21875 48.921875 51.53125 44.890625 \nQ 49.859375 40.875 45.40625 35.40625 \nQ 44.1875 33.984375 37.640625 27.21875 \nQ 31.109375 20.453125 19.1875 8.296875 \nz\n\" id=\"DejaVuSans-50\"/>\n      </defs>\n      <g transform=\"translate(7.2 246.663851)scale(0.1 -0.1)\">\n       <use xlink:href=\"#DejaVuSans-48\"/>\n       <use x=\"63.623047\" xlink:href=\"#DejaVuSans-46\"/>\n       <use x=\"95.410156\" xlink:href=\"#DejaVuSans-50\"/>\n      </g>\n     </g>\n    </g>\n    <g id=\"ytick_3\">\n     <g id=\"line2d_6\">\n      <g>\n       <use style=\"stroke:#000000;stroke-width:0.8;\" x=\"30.103125\" xlink:href=\"#mda0f842df7\" y=\"191.611139\"/>\n      </g>\n     </g>\n     <g id=\"text_7\">\n      <!-- 0.4 -->\n      <defs>\n       <path d=\"M 37.796875 64.3125 \nL 12.890625 25.390625 \nL 37.796875 25.390625 \nz\nM 35.203125 72.90625 \nL 47.609375 72.90625 \nL 47.609375 25.390625 \nL 58.015625 25.390625 \nL 58.015625 17.1875 \nL 47.609375 17.1875 \nL 47.609375 0 \nL 37.796875 0 \nL 37.796875 17.1875 \nL 4.890625 17.1875 \nL 4.890625 26.703125 \nz\n\" id=\"DejaVuSans-52\"/>\n      </defs>\n      <g transform=\"translate(7.2 195.410358)scale(0.1 -0.1)\">\n       <use xlink:href=\"#DejaVuSans-48\"/>\n       <use x=\"63.623047\" xlink:href=\"#DejaVuSans-46\"/>\n       <use x=\"95.410156\" xlink:href=\"#DejaVuSans-52\"/>\n      </g>\n     </g>\n    </g>\n    <g id=\"ytick_4\">\n     <g id=\"line2d_7\">\n      <g>\n       <use style=\"stroke:#000000;stroke-width:0.8;\" x=\"30.103125\" xlink:href=\"#mda0f842df7\" y=\"140.357646\"/>\n      </g>\n     </g>\n     <g id=\"text_8\">\n      <!-- 0.6 -->\n      <defs>\n       <path d=\"M 33.015625 40.375 \nQ 26.375 40.375 22.484375 35.828125 \nQ 18.609375 31.296875 18.609375 23.390625 \nQ 18.609375 15.53125 22.484375 10.953125 \nQ 26.375 6.390625 33.015625 6.390625 \nQ 39.65625 6.390625 43.53125 10.953125 \nQ 47.40625 15.53125 47.40625 23.390625 \nQ 47.40625 31.296875 43.53125 35.828125 \nQ 39.65625 40.375 33.015625 40.375 \nz\nM 52.59375 71.296875 \nL 52.59375 62.3125 \nQ 48.875 64.0625 45.09375 64.984375 \nQ 41.3125 65.921875 37.59375 65.921875 \nQ 27.828125 65.921875 22.671875 59.328125 \nQ 17.53125 52.734375 16.796875 39.40625 \nQ 19.671875 43.65625 24.015625 45.921875 \nQ 28.375 48.1875 33.59375 48.1875 \nQ 44.578125 48.1875 50.953125 41.515625 \nQ 57.328125 34.859375 57.328125 23.390625 \nQ 57.328125 12.15625 50.6875 5.359375 \nQ 44.046875 -1.421875 33.015625 -1.421875 \nQ 20.359375 -1.421875 13.671875 8.265625 \nQ 6.984375 17.96875 6.984375 36.375 \nQ 6.984375 53.65625 15.1875 63.9375 \nQ 23.390625 74.21875 37.203125 74.21875 \nQ 40.921875 74.21875 44.703125 73.484375 \nQ 48.484375 72.75 52.59375 71.296875 \nz\n\" id=\"DejaVuSans-54\"/>\n      </defs>\n      <g transform=\"translate(7.2 144.156864)scale(0.1 -0.1)\">\n       <use xlink:href=\"#DejaVuSans-48\"/>\n       <use x=\"63.623047\" xlink:href=\"#DejaVuSans-46\"/>\n       <use x=\"95.410156\" xlink:href=\"#DejaVuSans-54\"/>\n      </g>\n     </g>\n    </g>\n    <g id=\"ytick_5\">\n     <g id=\"line2d_8\">\n      <g>\n       <use style=\"stroke:#000000;stroke-width:0.8;\" x=\"30.103125\" xlink:href=\"#mda0f842df7\" y=\"89.104153\"/>\n      </g>\n     </g>\n     <g id=\"text_9\">\n      <!-- 0.8 -->\n      <defs>\n       <path d=\"M 31.78125 34.625 \nQ 24.75 34.625 20.71875 30.859375 \nQ 16.703125 27.09375 16.703125 20.515625 \nQ 16.703125 13.921875 20.71875 10.15625 \nQ 24.75 6.390625 31.78125 6.390625 \nQ 38.8125 6.390625 42.859375 10.171875 \nQ 46.921875 13.96875 46.921875 20.515625 \nQ 46.921875 27.09375 42.890625 30.859375 \nQ 38.875 34.625 31.78125 34.625 \nz\nM 21.921875 38.8125 \nQ 15.578125 40.375 12.03125 44.71875 \nQ 8.5 49.078125 8.5 55.328125 \nQ 8.5 64.0625 14.71875 69.140625 \nQ 20.953125 74.21875 31.78125 74.21875 \nQ 42.671875 74.21875 48.875 69.140625 \nQ 55.078125 64.0625 55.078125 55.328125 \nQ 55.078125 49.078125 51.53125 44.71875 \nQ 48 40.375 41.703125 38.8125 \nQ 48.828125 37.15625 52.796875 32.3125 \nQ 56.78125 27.484375 56.78125 20.515625 \nQ 56.78125 9.90625 50.3125 4.234375 \nQ 43.84375 -1.421875 31.78125 -1.421875 \nQ 19.734375 -1.421875 13.25 4.234375 \nQ 6.78125 9.90625 6.78125 20.515625 \nQ 6.78125 27.484375 10.78125 32.3125 \nQ 14.796875 37.15625 21.921875 38.8125 \nz\nM 18.3125 54.390625 \nQ 18.3125 48.734375 21.84375 45.5625 \nQ 25.390625 42.390625 31.78125 42.390625 \nQ 38.140625 42.390625 41.71875 45.5625 \nQ 45.3125 48.734375 45.3125 54.390625 \nQ 45.3125 60.0625 41.71875 63.234375 \nQ 38.140625 66.40625 31.78125 66.40625 \nQ 25.390625 66.40625 21.84375 63.234375 \nQ 18.3125 60.0625 18.3125 54.390625 \nz\n\" id=\"DejaVuSans-56\"/>\n      </defs>\n      <g transform=\"translate(7.2 92.903371)scale(0.1 -0.1)\">\n       <use xlink:href=\"#DejaVuSans-48\"/>\n       <use x=\"63.623047\" xlink:href=\"#DejaVuSans-46\"/>\n       <use x=\"95.410156\" xlink:href=\"#DejaVuSans-56\"/>\n      </g>\n     </g>\n    </g>\n    <g id=\"ytick_6\">\n     <g id=\"line2d_9\">\n      <g>\n       <use style=\"stroke:#000000;stroke-width:0.8;\" x=\"30.103125\" xlink:href=\"#mda0f842df7\" y=\"37.850659\"/>\n      </g>\n     </g>\n     <g id=\"text_10\">\n      <!-- 1.0 -->\n      <defs>\n       <path d=\"M 12.40625 8.296875 \nL 28.515625 8.296875 \nL 28.515625 63.921875 \nL 10.984375 60.40625 \nL 10.984375 69.390625 \nL 28.421875 72.90625 \nL 38.28125 72.90625 \nL 38.28125 8.296875 \nL 54.390625 8.296875 \nL 54.390625 0 \nL 12.40625 0 \nz\n\" id=\"DejaVuSans-49\"/>\n      </defs>\n      <g transform=\"translate(7.2 41.649878)scale(0.1 -0.1)\">\n       <use xlink:href=\"#DejaVuSans-49\"/>\n       <use x=\"63.623047\" xlink:href=\"#DejaVuSans-46\"/>\n       <use x=\"95.410156\" xlink:href=\"#DejaVuSans-48\"/>\n      </g>\n     </g>\n    </g>\n    <g id=\"text_11\">\n     <!-- 1e7 -->\n     <defs>\n      <path d=\"M 8.203125 72.90625 \nL 55.078125 72.90625 \nL 55.078125 68.703125 \nL 28.609375 0 \nL 18.3125 0 \nL 43.21875 64.59375 \nL 8.203125 64.59375 \nz\n\" id=\"DejaVuSans-55\"/>\n     </defs>\n     <g transform=\"translate(30.103125 19.318125)scale(0.1 -0.1)\">\n      <use xlink:href=\"#DejaVuSans-49\"/>\n      <use x=\"63.623047\" xlink:href=\"#DejaVuSans-101\"/>\n      <use x=\"125.146484\" xlink:href=\"#DejaVuSans-55\"/>\n     </g>\n    </g>\n   </g>\n   <g id=\"patch_6\">\n    <path d=\"M 30.103125 294.118125 \nL 30.103125 22.318125 \n\" style=\"fill:none;stroke:#000000;stroke-linecap:square;stroke-linejoin:miter;stroke-width:0.8;\"/>\n   </g>\n   <g id=\"patch_7\">\n    <path d=\"M 588.103125 294.118125 \nL 588.103125 22.318125 \n\" style=\"fill:none;stroke:#000000;stroke-linecap:square;stroke-linejoin:miter;stroke-width:0.8;\"/>\n   </g>\n   <g id=\"patch_8\">\n    <path d=\"M 30.103125 294.118125 \nL 588.103125 294.118125 \n\" style=\"fill:none;stroke:#000000;stroke-linecap:square;stroke-linejoin:miter;stroke-width:0.8;\"/>\n   </g>\n   <g id=\"patch_9\">\n    <path d=\"M 30.103125 22.318125 \nL 588.103125 22.318125 \n\" style=\"fill:none;stroke:#000000;stroke-linecap:square;stroke-linejoin:miter;stroke-width:0.8;\"/>\n   </g>\n   <g id=\"text_12\">\n    <!-- sum diagram -->\n    <defs>\n     <path d=\"M 44.28125 53.078125 \nL 44.28125 44.578125 \nQ 40.484375 46.53125 36.375 47.5 \nQ 32.28125 48.484375 27.875 48.484375 \nQ 21.1875 48.484375 17.84375 46.4375 \nQ 14.5 44.390625 14.5 40.28125 \nQ 14.5 37.15625 16.890625 35.375 \nQ 19.28125 33.59375 26.515625 31.984375 \nL 29.59375 31.296875 \nQ 39.15625 29.25 43.1875 25.515625 \nQ 47.21875 21.78125 47.21875 15.09375 \nQ 47.21875 7.46875 41.1875 3.015625 \nQ 35.15625 -1.421875 24.609375 -1.421875 \nQ 20.21875 -1.421875 15.453125 -0.5625 \nQ 10.6875 0.296875 5.421875 2 \nL 5.421875 11.28125 \nQ 10.40625 8.6875 15.234375 7.390625 \nQ 20.0625 6.109375 24.8125 6.109375 \nQ 31.15625 6.109375 34.5625 8.28125 \nQ 37.984375 10.453125 37.984375 14.40625 \nQ 37.984375 18.0625 35.515625 20.015625 \nQ 33.0625 21.96875 24.703125 23.78125 \nL 21.578125 24.515625 \nQ 13.234375 26.265625 9.515625 29.90625 \nQ 5.8125 33.546875 5.8125 39.890625 \nQ 5.8125 47.609375 11.28125 51.796875 \nQ 16.75 56 26.8125 56 \nQ 31.78125 56 36.171875 55.265625 \nQ 40.578125 54.546875 44.28125 53.078125 \nz\n\" id=\"DejaVuSans-115\"/>\n     <path id=\"DejaVuSans-32\"/>\n    </defs>\n    <g transform=\"translate(269.474063 16.318125)scale(0.12 -0.12)\">\n     <use xlink:href=\"#DejaVuSans-115\"/>\n     <use x=\"52.099609\" xlink:href=\"#DejaVuSans-117\"/>\n     <use x=\"115.478516\" xlink:href=\"#DejaVuSans-109\"/>\n     <use x=\"212.890625\" xlink:href=\"#DejaVuSans-32\"/>\n     <use x=\"244.677734\" xlink:href=\"#DejaVuSans-100\"/>\n     <use x=\"308.154297\" xlink:href=\"#DejaVuSans-105\"/>\n     <use x=\"335.9375\" xlink:href=\"#DejaVuSans-97\"/>\n     <use x=\"397.216797\" xlink:href=\"#DejaVuSans-103\"/>\n     <use x=\"460.693359\" xlink:href=\"#DejaVuSans-114\"/>\n     <use x=\"501.806641\" xlink:href=\"#DejaVuSans-97\"/>\n     <use x=\"563.085938\" xlink:href=\"#DejaVuSans-109\"/>\n    </g>\n   </g>\n   <g id=\"legend_1\">\n    <g id=\"patch_10\">\n     <path d=\"M 509.473438 45.274375 \nL 581.103125 45.274375 \nQ 583.103125 45.274375 583.103125 43.274375 \nL 583.103125 29.318125 \nQ 583.103125 27.318125 581.103125 27.318125 \nL 509.473438 27.318125 \nQ 507.473438 27.318125 507.473438 29.318125 \nL 507.473438 43.274375 \nQ 507.473438 45.274375 509.473438 45.274375 \nz\n\" style=\"fill:#ffffff;opacity:0.8;stroke:#cccccc;stroke-linejoin:miter;\"/>\n    </g>\n    <g id=\"patch_11\">\n     <path d=\"M 511.473438 38.916562 \nL 531.473438 38.916562 \nL 531.473438 31.916562 \nL 511.473438 31.916562 \nz\n\" style=\"fill:#73c6b6;\"/>\n    </g>\n    <g id=\"text_13\">\n     <!-- m_price -->\n     <defs>\n      <path d=\"M 18.109375 8.203125 \nL 18.109375 -20.796875 \nL 9.078125 -20.796875 \nL 9.078125 54.6875 \nL 18.109375 54.6875 \nL 18.109375 46.390625 \nQ 20.953125 51.265625 25.265625 53.625 \nQ 29.59375 56 35.59375 56 \nQ 45.5625 56 51.78125 48.09375 \nQ 58.015625 40.1875 58.015625 27.296875 \nQ 58.015625 14.40625 51.78125 6.484375 \nQ 45.5625 -1.421875 35.59375 -1.421875 \nQ 29.59375 -1.421875 25.265625 0.953125 \nQ 20.953125 3.328125 18.109375 8.203125 \nz\nM 48.6875 27.296875 \nQ 48.6875 37.203125 44.609375 42.84375 \nQ 40.53125 48.484375 33.40625 48.484375 \nQ 26.265625 48.484375 22.1875 42.84375 \nQ 18.109375 37.203125 18.109375 27.296875 \nQ 18.109375 17.390625 22.1875 11.75 \nQ 26.265625 6.109375 33.40625 6.109375 \nQ 40.53125 6.109375 44.609375 11.75 \nQ 48.6875 17.390625 48.6875 27.296875 \nz\n\" id=\"DejaVuSans-112\"/>\n     </defs>\n     <g transform=\"translate(539.473438 38.916562)scale(0.1 -0.1)\">\n      <use xlink:href=\"#DejaVuSans-109\"/>\n      <use x=\"97.412109\" xlink:href=\"#DejaVuSans-95\"/>\n      <use x=\"147.412109\" xlink:href=\"#DejaVuSans-112\"/>\n      <use x=\"210.888672\" xlink:href=\"#DejaVuSans-114\"/>\n      <use x=\"252.001953\" xlink:href=\"#DejaVuSans-105\"/>\n      <use x=\"279.785156\" xlink:href=\"#DejaVuSans-99\"/>\n      <use x=\"334.765625\" xlink:href=\"#DejaVuSans-101\"/>\n     </g>\n    </g>\n   </g>\n  </g>\n </g>\n <defs>\n  <clipPath id=\"pf50b80567a\">\n   <rect height=\"271.8\" width=\"558\" x=\"30.103125\" y=\"22.318125\"/>\n  </clipPath>\n </defs>\n</svg>\n",
      "image/png": "[encoded data removed]"
     },
     "metadata": {
      "needs_background": "light"
     }
    }
   ],
   "source": [
    "df2 = big_df.copy()\n",
    "df2.loc[(df2.feature == \"yes\"), \"m_price\"] = df2[\"m_price\"] * (1 - df2[\"m_discount\"]/100)\n",
    "df2[\"m_price\"] = df2[\"m_price\"] * df2[\"amount\"]\n",
    "df2 = df2.loc[:, ['m_category', 'm_price']]\n",
    "df2 = df2.groupby([\"m_category\"]).sum().reset_index()\n",
    "display(df2)\n",
    "df2.plot(x=\"m_category\", y=\"m_price\", kind='bar', title=\"sum diagram\", figsize=(10, 5), rot=30, color= '#73C6B6');"
   ]
  },
  {
   "source": [
    "3. Визначити, за медикаменти якої групи отримали найбiльшу виручку<br>\n",
    "вiд корпоративних клiєнтiв i отримати перелiк цих медикаментiв у форматi<br>\n",
    "< назва лiкiв - сума >.<br>"
   ],
   "cell_type": "markdown",
   "metadata": {}
  },
  {
   "cell_type": "code",
   "execution_count": 176,
   "metadata": {},
   "outputs": [
    {
     "output_type": "display_data",
     "data": {
      "text/plain": "  m_category       m_price\n0    Dynamic  3.557786e+06\n1   National  1.010105e+07\n2    Product  3.137368e+06",
      "text/html": "<div>\n<style scoped>\n    .dataframe tbody tr th:only-of-type {\n        vertical-align: middle;\n    }\n\n    .dataframe tbody tr th {\n        vertical-align: top;\n    }\n\n    .dataframe thead th {\n        text-align: right;\n    }\n</style>\n<table border=\"1\" class=\"dataframe\">\n  <thead>\n    <tr style=\"text-align: right;\">\n      <th></th>\n      <th>m_category</th>\n      <th>m_price</th>\n    </tr>\n  </thead>\n  <tbody>\n    <tr>\n      <th>0</th>\n      <td>Dynamic</td>\n      <td>3.557786e+06</td>\n    </tr>\n    <tr>\n      <th>1</th>\n      <td>National</td>\n      <td>1.010105e+07</td>\n    </tr>\n    <tr>\n      <th>2</th>\n      <td>Product</td>\n      <td>3.137368e+06</td>\n    </tr>\n  </tbody>\n</table>\n</div>"
     },
     "metadata": {}
    },
    {
     "output_type": "error",
     "ename": "ValueError",
     "evalue": "Can only compare identically-labeled Series objects",
     "traceback": [
      "\u001b[0;31m---------------------------------------------------------------------------\u001b[0m",
      "\u001b[0;31mValueError\u001b[0m                                Traceback (most recent call last)",
      "\u001b[0;32m<ipython-input-176-cc96f460568d>\u001b[0m in \u001b[0;36m<module>\u001b[0;34m\u001b[0m\n\u001b[1;32m      6\u001b[0m \u001b[0mhelp_df\u001b[0m \u001b[0;34m=\u001b[0m \u001b[0mdf3\u001b[0m\u001b[0;34m.\u001b[0m\u001b[0mgroupby\u001b[0m\u001b[0;34m(\u001b[0m\u001b[0;34m[\u001b[0m\u001b[0;34m\"m_category\"\u001b[0m\u001b[0;34m]\u001b[0m\u001b[0;34m)\u001b[0m\u001b[0;34m.\u001b[0m\u001b[0msum\u001b[0m\u001b[0;34m(\u001b[0m\u001b[0;34m)\u001b[0m\u001b[0;34m.\u001b[0m\u001b[0mreset_index\u001b[0m\u001b[0;34m(\u001b[0m\u001b[0;34m)\u001b[0m\u001b[0;34m\u001b[0m\u001b[0;34m\u001b[0m\u001b[0m\n\u001b[1;32m      7\u001b[0m \u001b[0mdisplay\u001b[0m\u001b[0;34m(\u001b[0m\u001b[0mhelp_df\u001b[0m\u001b[0;34m)\u001b[0m\u001b[0;34m\u001b[0m\u001b[0;34m\u001b[0m\u001b[0m\n\u001b[0;32m----> 8\u001b[0;31m \u001b[0mdf3\u001b[0m \u001b[0;34m=\u001b[0m \u001b[0mdf3\u001b[0m\u001b[0;34m[\u001b[0m\u001b[0mdf3\u001b[0m\u001b[0;34m[\u001b[0m\u001b[0;34m\"m_category\"\u001b[0m\u001b[0;34m]\u001b[0m \u001b[0;34m==\u001b[0m \u001b[0mhelp_df\u001b[0m\u001b[0;34m[\u001b[0m\u001b[0;34m\"m_category\"\u001b[0m\u001b[0;34m]\u001b[0m\u001b[0;34m]\u001b[0m\u001b[0;34m\u001b[0m\u001b[0;34m\u001b[0m\u001b[0m\n\u001b[0m\u001b[1;32m      9\u001b[0m \u001b[0mdf3\u001b[0m \u001b[0;34m=\u001b[0m \u001b[0mdf3\u001b[0m\u001b[0;34m.\u001b[0m\u001b[0mloc\u001b[0m\u001b[0;34m[\u001b[0m\u001b[0;34m:\u001b[0m\u001b[0;34m,\u001b[0m \u001b[0;34m[\u001b[0m\u001b[0;34m'm_name'\u001b[0m\u001b[0;34m,\u001b[0m \u001b[0;34m'm_price'\u001b[0m\u001b[0;34m]\u001b[0m\u001b[0;34m]\u001b[0m\u001b[0;34m\u001b[0m\u001b[0;34m\u001b[0m\u001b[0m\n\u001b[1;32m     10\u001b[0m \u001b[0mdisplay\u001b[0m\u001b[0;34m(\u001b[0m\u001b[0mdf3\u001b[0m\u001b[0;34m)\u001b[0m\u001b[0;34m\u001b[0m\u001b[0;34m\u001b[0m\u001b[0m\n",
      "\u001b[0;32m~/miniconda3/lib/python3.8/site-packages/pandas/core/ops/common.py\u001b[0m in \u001b[0;36mnew_method\u001b[0;34m(self, other)\u001b[0m\n\u001b[1;32m     63\u001b[0m         \u001b[0mother\u001b[0m \u001b[0;34m=\u001b[0m \u001b[0mitem_from_zerodim\u001b[0m\u001b[0;34m(\u001b[0m\u001b[0mother\u001b[0m\u001b[0;34m)\u001b[0m\u001b[0;34m\u001b[0m\u001b[0;34m\u001b[0m\u001b[0m\n\u001b[1;32m     64\u001b[0m \u001b[0;34m\u001b[0m\u001b[0m\n\u001b[0;32m---> 65\u001b[0;31m         \u001b[0;32mreturn\u001b[0m \u001b[0mmethod\u001b[0m\u001b[0;34m(\u001b[0m\u001b[0mself\u001b[0m\u001b[0;34m,\u001b[0m \u001b[0mother\u001b[0m\u001b[0;34m)\u001b[0m\u001b[0;34m\u001b[0m\u001b[0;34m\u001b[0m\u001b[0m\n\u001b[0m\u001b[1;32m     66\u001b[0m \u001b[0;34m\u001b[0m\u001b[0m\n\u001b[1;32m     67\u001b[0m     \u001b[0;32mreturn\u001b[0m \u001b[0mnew_method\u001b[0m\u001b[0;34m\u001b[0m\u001b[0;34m\u001b[0m\u001b[0m\n",
      "\u001b[0;32m~/miniconda3/lib/python3.8/site-packages/pandas/core/ops/__init__.py\u001b[0m in \u001b[0;36mwrapper\u001b[0;34m(self, other)\u001b[0m\n\u001b[1;32m    363\u001b[0m \u001b[0;34m\u001b[0m\u001b[0m\n\u001b[1;32m    364\u001b[0m         \u001b[0;32mif\u001b[0m \u001b[0misinstance\u001b[0m\u001b[0;34m(\u001b[0m\u001b[0mother\u001b[0m\u001b[0;34m,\u001b[0m \u001b[0mABCSeries\u001b[0m\u001b[0;34m)\u001b[0m \u001b[0;32mand\u001b[0m \u001b[0;32mnot\u001b[0m \u001b[0mself\u001b[0m\u001b[0;34m.\u001b[0m\u001b[0m_indexed_same\u001b[0m\u001b[0;34m(\u001b[0m\u001b[0mother\u001b[0m\u001b[0;34m)\u001b[0m\u001b[0;34m:\u001b[0m\u001b[0;34m\u001b[0m\u001b[0;34m\u001b[0m\u001b[0m\n\u001b[0;32m--> 365\u001b[0;31m             \u001b[0;32mraise\u001b[0m \u001b[0mValueError\u001b[0m\u001b[0;34m(\u001b[0m\u001b[0;34m\"Can only compare identically-labeled Series objects\"\u001b[0m\u001b[0;34m)\u001b[0m\u001b[0;34m\u001b[0m\u001b[0;34m\u001b[0m\u001b[0m\n\u001b[0m\u001b[1;32m    366\u001b[0m \u001b[0;34m\u001b[0m\u001b[0m\n\u001b[1;32m    367\u001b[0m         \u001b[0mlvalues\u001b[0m \u001b[0;34m=\u001b[0m \u001b[0mextract_array\u001b[0m\u001b[0;34m(\u001b[0m\u001b[0mself\u001b[0m\u001b[0;34m,\u001b[0m \u001b[0mextract_numpy\u001b[0m\u001b[0;34m=\u001b[0m\u001b[0;32mTrue\u001b[0m\u001b[0;34m)\u001b[0m\u001b[0;34m\u001b[0m\u001b[0;34m\u001b[0m\u001b[0m\n",
      "\u001b[0;31mValueError\u001b[0m: Can only compare identically-labeled Series objects"
     ]
    }
   ],
   "source": [
    "df3 = big_df.copy()\n",
    "df3.loc[(df3.feature == \"yes\"), \"m_price\"] = df3[\"m_price\"] * (1 - df3[\"m_discount\"]/100)\n",
    "df3[\"m_price\"] = df3[\"m_price\"] * df3[\"amount\"]\n",
    "df3 = df3.loc[:, ['m_category', 'm_name', 'm_price']]\n",
    "df3 = df3.groupby([\"m_category\", 'm_name']).sum().reset_index()\n",
    "help_df = df3.groupby([\"m_category\"]).sum().reset_index()\n",
    "display(help_df)\n",
    "df3 = df3[df3[\"m_category\"] == help_df[\"m_category\"]]\n",
    "df3 = df3.loc[:, ['m_name', 'm_price']]\n",
    "display(df3)"
   ]
  },
  {
   "source": [
    "4. Отримати виручену суму для кожної категорiї медикаментiв, у яких<br>\n",
    "були продажi для корпоративних клiєнтiв(враховувати виручку лише вiд<br>\n",
    "таких продаж).<br>"
   ],
   "cell_type": "markdown",
   "metadata": {}
  },
  {
   "cell_type": "code",
   "execution_count": 139,
   "metadata": {},
   "outputs": [
    {
     "output_type": "display_data",
     "data": {
      "text/plain": "  m_category       m_price\n0    Dynamic  2.355634e+06\n1   National  8.472953e+06\n2    Product  2.185846e+06",
      "text/html": "<div>\n<style scoped>\n    .dataframe tbody tr th:only-of-type {\n        vertical-align: middle;\n    }\n\n    .dataframe tbody tr th {\n        vertical-align: top;\n    }\n\n    .dataframe thead th {\n        text-align: right;\n    }\n</style>\n<table border=\"1\" class=\"dataframe\">\n  <thead>\n    <tr style=\"text-align: right;\">\n      <th></th>\n      <th>m_category</th>\n      <th>m_price</th>\n    </tr>\n  </thead>\n  <tbody>\n    <tr>\n      <th>0</th>\n      <td>Dynamic</td>\n      <td>2.355634e+06</td>\n    </tr>\n    <tr>\n      <th>1</th>\n      <td>National</td>\n      <td>8.472953e+06</td>\n    </tr>\n    <tr>\n      <th>2</th>\n      <td>Product</td>\n      <td>2.185846e+06</td>\n    </tr>\n  </tbody>\n</table>\n</div>"
     },
     "metadata": {}
    }
   ],
   "source": [
    "df4 = big_df.copy()\n",
    "df4.loc[(df4.feature == \"yes\"), \"m_price\"] = df4[\"m_price\"] * (1 - df4[\"m_discount\"]/100)\n",
    "df4[\"m_price\"] = df4[\"m_price\"] * df4[\"amount\"]\n",
    "df4 = df4[df4[\"feature\"] == \"yes\"]\n",
    "df4 = df4.loc[:, ['m_category', 'm_price']]\n",
    "df4 = df4.groupby([\"m_category\"]).sum().reset_index()\n",
    "indexNames = df4[(df4['m_price'] == 0)].index \n",
    "df4.drop(indexNames , inplace=True)\n",
    "display(df4)"
   ]
  },
  {
   "source": [
    "5. Отримати загальну суму медикаментiв, проданих для корпоративних<br>\n",
    "клiєнтiв.<br>"
   ],
   "cell_type": "markdown",
   "metadata": {}
  },
  {
   "cell_type": "code",
   "execution_count": 140,
   "metadata": {},
   "outputs": [
    {
     "output_type": "stream",
     "name": "stdout",
     "text": [
      "13014433.012400001\n"
     ]
    }
   ],
   "source": [
    "print(df4.sum().m_price)"
   ]
  },
  {
   "source": [
    "6. Отримати у категорiї медикаментiв, яку вибирати з випадаючого спи-<br>\n",
    "ску, перелiк лiкiв, якi не купували корпоративнi клiєнти.<br>"
   ],
   "cell_type": "markdown",
   "metadata": {}
  },
  {
   "cell_type": "code",
   "execution_count": 171,
   "metadata": {},
   "outputs": [
    {
     "output_type": "display_data",
     "data": {
      "text/plain": "interactive(children=(Dropdown(description='Category', options=('Dynamic', 'Product', 'National'), value='Dyna…",
      "application/vnd.jupyter.widget-view+json": {
       "version_major": 2,
       "version_minor": 0,
       "model_id": "c562deb6600847baa8f527cb2d0745d0"
      }
     },
     "metadata": {}
    }
   ],
   "source": [
    "categories = set(big_df[\"m_category\"])\n",
    "\n",
    "def task1(Category):\n",
    "    df6 = big_df[big_df.m_category == Category]\n",
    "    df6 = df6[df6[\"feature\"] == \"yes\"]\n",
    "    df6 = df6.loc[:, ['m_name']]\n",
    "    df6 = df6.drop_duplicates()\n",
    "    display(df6)\n",
    "\n",
    "interact(task1, Category=categories);"
   ]
  },
  {
   "source": [
    "# without Pandas"
   ],
   "cell_type": "markdown",
   "metadata": {}
  },
  {
   "cell_type": "code",
   "execution_count": 142,
   "metadata": {},
   "outputs": [],
   "source": [
    "class Validation:\n",
    "    \"\"\"Class for Validation representation.\"\"\"\n",
    "\n",
    "    @staticmethod\n",
    "    def validateStr(func):\n",
    "        def validateStrWrapper(w, value):\n",
    "            if not(isinstance(value, str)):\n",
    "                raise TypeError('must be an str')\n",
    "            return func(w, value)\n",
    "        return validateStrWrapper\n",
    "\n",
    "    @staticmethod\n",
    "    def validateFloat(func):\n",
    "        def validateFloatWrapper(w, value):\n",
    "            if not(isinstance(value, float)) and not(isinstance(value, int)):\n",
    "                try:\n",
    "                    value = float(value)\n",
    "                except TypeError:\n",
    "                    raise TypeError('must be an float')\n",
    "            return func(w, value)\n",
    "        return validateFloatWrapper\n",
    "\n",
    "    @staticmethod\n",
    "    def validateInt(func):\n",
    "        def validateIntWrapper(w, value):\n",
    "            if not(isinstance(value, int)):\n",
    "                try:\n",
    "                    value = int(value)\n",
    "                except TypeError:\n",
    "                    raise TypeError('must be an int')\n",
    "            return func(w, value)\n",
    "        return validateIntWrapper\n",
    "\n",
    "    @staticmethod\n",
    "    def validateSize(func):\n",
    "        def validateSizeWrapper(w, value):\n",
    "            if not(isinstance(value, int)) and not(isinstance(value, float)):\n",
    "                try:\n",
    "                    value = float(value)\n",
    "                except TypeError:\n",
    "                    raise TypeError('must be an float')\n",
    "            if value < 0:\n",
    "                raise ValueError(\"mast be positive\")\n",
    "            return func(w, value)\n",
    "        return validateSizeWrapper\n",
    "\n",
    "    @staticmethod\n",
    "    def validateAmount(func):\n",
    "        def validateAmountWrapper(w, value):\n",
    "            if not(isinstance(value, int)):\n",
    "                try:\n",
    "                    value = int(value)\n",
    "                except TypeError:\n",
    "                    raise TypeError('must be an int')\n",
    "            if value < 0:\n",
    "                raise ValueError(\"mast be positive\")\n",
    "            return func(w, value)\n",
    "        return validateAmountWrapper\n",
    "\n",
    "    @staticmethod\n",
    "    def validateDate(func):\n",
    "        def validateDateWrapper(w, date):\n",
    "            datetime.strptime(date, '%Y-%m-%d')\n",
    "            return func(w, date)\n",
    "        return validateDateWrapper\n",
    "    \n",
    "    @staticmethod\n",
    "    def validateBool(func):\n",
    "        def validateBoolWrapper(w, value):\n",
    "            bools = ['yes', 'no', 'Yes', 'No', '0', '1', 0, 1, True, False, 'True', 'False']\n",
    "            if value not in bools:\n",
    "                raise ValueError(\"mast be boolean\")\n",
    "            return func(w, value)\n",
    "        return validateBoolWrapper\n"
   ]
  },
  {
   "cell_type": "code",
   "execution_count": 143,
   "metadata": {},
   "outputs": [],
   "source": [
    "class Medicine:\n",
    "    \"\"\"Class for Medicine representation.\"\"\"\n",
    "    \n",
    "    def __init__(self, m_id, m_name, m_category):\n",
    "        self.m_id = m_id\n",
    "        self.m_name = m_name\n",
    "        self.m_category = m_category\n",
    "        \n",
    "    @property\n",
    "    def m_id(self):\n",
    "        return self._m_id\n",
    "\n",
    "    @m_id.setter\n",
    "    @Validation.validateAmount\n",
    "    def m_id(self, value):\n",
    "        self._m_id = value\n",
    "        \n",
    "    @property\n",
    "    def m_name(self):\n",
    "        return self._m_name\n",
    "\n",
    "    @m_name.setter\n",
    "    @Validation.validateStr\n",
    "    def m_name(self, value):\n",
    "        self._m_name = value\n",
    "        \n",
    "    @property\n",
    "    def m_category(self):\n",
    "        return self._m_category\n",
    "\n",
    "    @m_category.setter\n",
    "    @Validation.validateStr\n",
    "    def m_category(self, value):\n",
    "        self._m_category = value\n",
    "        \n",
    "    def __str__(self):\n",
    "        return f\"\\nm_id: {self.m_id}\\\n",
    "                 \\nm_category: {self.m_category}\\\n",
    "                 \\nm_name: {self.m_name}\"\n",
    "\n",
    "    def __repr__(self):\n",
    "        return f\"\\nm_id: {self.m_id}\\\n",
    "                 \\nm_category: {self.m_category}\\\n",
    "                 \\nm_name: {self.m_name}\""
   ]
  },
  {
   "cell_type": "code",
   "execution_count": 144,
   "metadata": {},
   "outputs": [],
   "source": [
    "class Price:\n",
    "    \"\"\"Class for Price representation.\"\"\"\n",
    "        \n",
    "    def __init__(self, m_id, m_price, m_discount):\n",
    "        self.m_id = m_id\n",
    "        self.m_price = m_price\n",
    "        self.m_discount = m_discount\n",
    "        \n",
    "    @property\n",
    "    def m_id(self):\n",
    "        return self._m_id\n",
    "\n",
    "    @m_id.setter\n",
    "    @Validation.validateAmount\n",
    "    def m_id(self, value):\n",
    "        self._m_id = value\n",
    "        \n",
    "    @property\n",
    "    def m_price(self):\n",
    "        return self._m_price\n",
    "\n",
    "    @m_price.setter\n",
    "    @Validation.validateFloat\n",
    "    def m_price(self, value):\n",
    "        self._m_price = value\n",
    "    \n",
    "    @property\n",
    "    def m_discount(self):\n",
    "        return self._m_discount\n",
    "\n",
    "    @m_discount.setter\n",
    "    @Validation.validateAmount\n",
    "    def m_discount(self, value):\n",
    "        self._m_discount = value\n",
    "        \n",
    "    def __str__(self):\n",
    "        return f\"\\nm_id: {self.m_id}\\\n",
    "                 \\nm_price: {self.m_price}\\\n",
    "                 \\nm_discount: {self.m_discount}\"\n",
    "\n",
    "    def __repr__(self):\n",
    "        return f\"\\nm_id: {self.m_id}\\\n",
    "                 \\nm_price: {self.m_price}\\\n",
    "                 \\nm_discount: {self.m_discount}\""
   ]
  },
  {
   "cell_type": "code",
   "execution_count": 145,
   "metadata": {},
   "outputs": [],
   "source": [
    "class Sale:\n",
    "    \"\"\"Class for Sale representation.\"\"\"\n",
    "        \n",
    "    def __init__(self, m_id, amount, feature):\n",
    "        self.m_id = m_id\n",
    "        self.amount = amount\n",
    "        self.feature = feature\n",
    "        \n",
    "    @property\n",
    "    def m_id(self):\n",
    "        return self._m_id\n",
    "\n",
    "    @m_id.setter\n",
    "    @Validation.validateAmount\n",
    "    def m_id(self, value):\n",
    "        self._m_id = value\n",
    "        \n",
    "    @property\n",
    "    def amount(self):\n",
    "        return self._amount\n",
    "\n",
    "    @amount.setter\n",
    "    @Validation.validateAmount\n",
    "    def amount(self, value):\n",
    "        self._amount = value\n",
    "\n",
    "    @property\n",
    "    def feature(self):\n",
    "        return self._feature\n",
    "\n",
    "    @feature.setter\n",
    "    @Validation.validateBool\n",
    "    def feature(self, value):\n",
    "        self._feature = value\n",
    "        \n",
    "    def __str__(self):\n",
    "        return f\"\\nm_id: {self.m_id}\\\n",
    "                 \\nAmount: {self.amount}\\\n",
    "                 \\nfeature: {self.feature}\"\n",
    "\n",
    "    def __repr__(self):\n",
    "        return f\"\\nm_id: {self.m_id}\\\n",
    "                 \\nAmount: {self.amount}\\\n",
    "                 \\nfeature: {self.feature}\""
   ]
  },
  {
   "cell_type": "code",
   "execution_count": 146,
   "metadata": {},
   "outputs": [],
   "source": [
    "def read_csv_file(file_name, t, objects):  \n",
    "    with open(file_name, 'r') as v:\n",
    "        r = csv.reader(v)\n",
    "        next(r)\n",
    "        for row in r:\n",
    "            try:\n",
    "                objects.append(t(*row))\n",
    "            except Exception as e:\n",
    "                print(f'{file_name}:\\nline - {len(objects)}: {e}')\n",
    "                continue"
   ]
  },
  {
   "cell_type": "code",
   "execution_count": 147,
   "metadata": {},
   "outputs": [
    {
     "output_type": "execute_result",
     "data": {
      "text/plain": [
       "([\n",
       "  m_id: 13944                 \n",
       "  m_category: Product                 \n",
       "  m_name: Stephanie,\n",
       "  \n",
       "  m_id: 16378                 \n",
       "  m_category: Dynamic                 \n",
       "  m_name: Orpha,\n",
       "  \n",
       "  m_id: 20061                 \n",
       "  m_category: National                 \n",
       "  m_name: Karli,\n",
       "  \n",
       "  m_id: 21804                 \n",
       "  m_category: Product                 \n",
       "  m_name: Cleta,\n",
       "  \n",
       "  m_id: 23281                 \n",
       "  m_category: National                 \n",
       "  m_name: Angelo,\n",
       "  \n",
       "  m_id: 77980                 \n",
       "  m_category: Dynamic                 \n",
       "  m_name: Blanche,\n",
       "  \n",
       "  m_id: 35839                 \n",
       "  m_category: National                 \n",
       "  m_name: Abby,\n",
       "  \n",
       "  m_id: 70495                 \n",
       "  m_category: Dynamic                 \n",
       "  m_name: Garret,\n",
       "  \n",
       "  m_id: 25730                 \n",
       "  m_category: Dynamic                 \n",
       "  m_name: Nathaniel,\n",
       "  \n",
       "  m_id: 25731                 \n",
       "  m_category: CCCC                 \n",
       "  m_name: FFFF],\n",
       " [\n",
       "  m_id: 13944                 \n",
       "  m_price: 10652.37                 \n",
       "  m_discount: 28,\n",
       "  \n",
       "  m_id: 16378                 \n",
       "  m_price: 52016.28                 \n",
       "  m_discount: 97,\n",
       "  \n",
       "  m_id: 20061                 \n",
       "  m_price: 73316.02                 \n",
       "  m_discount: 24,\n",
       "  \n",
       "  m_id: 21804                 \n",
       "  m_price: 36596.99                 \n",
       "  m_discount: 40,\n",
       "  \n",
       "  m_id: 23281                 \n",
       "  m_price: 42118.22                 \n",
       "  m_discount: 22,\n",
       "  \n",
       "  m_id: 77980                 \n",
       "  m_price: 26258.65                 \n",
       "  m_discount: 39,\n",
       "  \n",
       "  m_id: 35839                 \n",
       "  m_price: 47606.35                 \n",
       "  m_discount: 8,\n",
       "  \n",
       "  m_id: 70495                 \n",
       "  m_price: 7434.15                 \n",
       "  m_discount: 79,\n",
       "  \n",
       "  m_id: 25730                 \n",
       "  m_price: 32133.81                 \n",
       "  m_discount: 78],\n",
       " [\n",
       "  m_id: 13944                 \n",
       "  Amount: 2                 \n",
       "  feature: yes,\n",
       "  \n",
       "  m_id: 16378                 \n",
       "  Amount: 53                 \n",
       "  feature: yes,\n",
       "  \n",
       "  m_id: 20061                 \n",
       "  Amount: 88                 \n",
       "  feature: yes,\n",
       "  \n",
       "  m_id: 21804                 \n",
       "  Amount: 26                 \n",
       "  feature: no,\n",
       "  \n",
       "  m_id: 23281                 \n",
       "  Amount: 16                 \n",
       "  feature: no,\n",
       "  \n",
       "  m_id: 77980                 \n",
       "  Amount: 87                 \n",
       "  feature: yes,\n",
       "  \n",
       "  m_id: 35839                 \n",
       "  Amount: 11                 \n",
       "  feature: no,\n",
       "  \n",
       "  m_id: 70495                 \n",
       "  Amount: 30                 \n",
       "  feature: no,\n",
       "  \n",
       "  m_id: 25730                 \n",
       "  Amount: 43                 \n",
       "  feature: yes,\n",
       "  \n",
       "  m_id: 23281                 \n",
       "  Amount: 14                 \n",
       "  feature: yes,\n",
       "  \n",
       "  m_id: 13944                 \n",
       "  Amount: 74                 \n",
       "  feature: yes,\n",
       "  \n",
       "  m_id: 16378                 \n",
       "  Amount: 6                 \n",
       "  feature: no,\n",
       "  \n",
       "  m_id: 20061                 \n",
       "  Amount: 3                 \n",
       "  feature: no,\n",
       "  \n",
       "  m_id: 21804                 \n",
       "  Amount: 73                 \n",
       "  feature: yes,\n",
       "  \n",
       "  m_id: 23281                 \n",
       "  Amount: 5                 \n",
       "  feature: no,\n",
       "  \n",
       "  m_id: 77980                 \n",
       "  Amount: 9                 \n",
       "  feature: yes,\n",
       "  \n",
       "  m_id: 35839                 \n",
       "  Amount: 71                 \n",
       "  feature: yes,\n",
       "  \n",
       "  m_id: 70495                 \n",
       "  Amount: 65                 \n",
       "  feature: no,\n",
       "  \n",
       "  m_id: 25730                 \n",
       "  Amount: 61                 \n",
       "  feature: yes,\n",
       "  \n",
       "  m_id: 77980                 \n",
       "  Amount: 7                 \n",
       "  feature: no])"
      ]
     },
     "metadata": {},
     "execution_count": 147
    }
   ],
   "source": [
    "medicine = []\n",
    "prices = []\n",
    "sales = []\n",
    "\n",
    "read_csv_file(\"medicine.csv\", Medicine, medicine)\n",
    "read_csv_file(\"prices.csv\", Price, prices)\n",
    "read_csv_file(\"sales1.csv\", Sale, sales)\n",
    "read_csv_file(\"sales2.csv\", Sale, sales)\n",
    "\n",
    "medicine, prices, sales"
   ]
  },
  {
   "cell_type": "code",
   "execution_count": 148,
   "metadata": {},
   "outputs": [
    {
     "output_type": "display_data",
     "data": {
      "text/plain": "interactive(children=(Dropdown(description='Category', options={'Product': [\nm_id: 13944                 \nm_ca…",
      "application/vnd.jupyter.widget-view+json": {
       "version_major": 2,
       "version_minor": 0,
       "model_id": "8247467a69084bbe9ef7664c28807b62"
      }
     },
     "metadata": {}
    }
   ],
   "source": [
    "categories = {}\n",
    "for a in medicine:\n",
    "    categories.setdefault(a.m_category, []).append(a)\n",
    "\n",
    "def choose1(Category):\n",
    "    for cat in Category:\n",
    "        pr = 0\n",
    "        for price in prices:\n",
    "            for sale in sales:\n",
    "                if price.m_id == cat.m_id:\n",
    "                    if sale.feature == 'yes':\n",
    "                        p = price.m_price*(1-price.m_discount/100)\n",
    "                    else:\n",
    "                        p = price.m_price\n",
    "                        pr += sale.amount*p\n",
    "        print(f\"{cat.m_name} - {pr}\")\n",
    "\n",
    "interact(choose1, Category=categories);"
   ]
  },
  {
   "source": [
    "2. Отримати для кожної категорiї ПРОДАНИХ медикаментiв виручену<br>\n",
    "суму у форматi < категорiя - сума >.<br>\n",
    "2а. Побудувати дiаграму виручених сум по категорiях.<br>\n"
   ],
   "cell_type": "markdown",
   "metadata": {}
  },
  {
   "cell_type": "code",
   "execution_count": 149,
   "metadata": {},
   "outputs": [],
   "source": [
    "def draw_histogram(x, y, x_label, y_label, title): \n",
    "    fig, ax = plt.subplots(figsize=(10, 7))\n",
    "    ax.bar(x, y, color='#EB984E', width=0.5, edgecolor='#154360')\n",
    "    ax.set_title(title, color='black', size=50, fontweight='bold', pad=30)\n",
    "    ax.set_ylabel(y_label, size=25, fontweight='bold')\n",
    "    ax.set_xlabel(x_label, size=24, fontweight='bold')\n",
    "    ax.tick_params(axis='x', rotation=70, direction='inout', pad=10, labelsize='large', length=10, width=2)\n",
    "    ax.tick_params(axis='y', direction='inout', pad=10, labelsize='large', length=10, width=2)\n",
    "    ax.patch.set_facecolor('#FCF3CF')\n",
    "    fig.patch.set_facecolor('#73C6B6')         \n",
    "    plt.show()"
   ]
  },
  {
   "cell_type": "code",
   "execution_count": 150,
   "metadata": {},
   "outputs": [
    {
     "output_type": "stream",
     "name": "stdout",
     "text": [
      "Product - 3137367.5884\nDynamic - 3557786.4820000003\nNational - 10101053.692\n"
     ]
    },
    {
     "output_type": "display_data",
     "data": {
      "text/plain": "<Figure size 720x504 with 1 Axes>",
      "image/svg+xml": "<?xml version=\"1.0\" encoding=\"utf-8\" standalone=\"no\"?>\n<!DOCTYPE svg PUBLIC \"-//W3C//DTD SVG 1.1//EN\"\n  \"http://www.w3.org/Graphics/SVG/1.1/DTD/svg11.dtd\">\n<!-- Created with matplotlib (https://matplotlib.org/) -->\n<svg height=\"558.842119pt\" version=\"1.1\" viewBox=\"0 0 634.679062 558.842119\" width=\"634.679062pt\" xmlns=\"http://www.w3.org/2000/svg\" xmlns:xlink=\"http://www.w3.org/1999/xlink\">\n <defs>\n  <style type=\"text/css\">\n*{stroke-linecap:butt;stroke-linejoin:round;}\n  </style>\n </defs>\n <g id=\"figure_1\">\n  <g id=\"patch_1\">\n   <path d=\"M 0 558.842119 \nL 634.679062 558.842119 \nL 634.679062 0 \nL 0 0 \nz\n\" style=\"fill:#73c6b6;\"/>\n  </g>\n  <g id=\"axes_1\">\n   <g id=\"patch_2\">\n    <path d=\"M 69.479062 455.712187 \nL 627.479063 455.712187 \nL 627.479063 75.192187 \nL 69.479062 75.192187 \nz\n\" style=\"fill:#fcf3cf;\"/>\n   </g>\n   <g id=\"patch_3\">\n    <path clip-path=\"url(#p073228e3b9)\" d=\"M 94.842699 455.712187 \nL 196.297244 455.712187 \nL 196.297244 343.151454 \nL 94.842699 343.151454 \nz\n\" style=\"fill:#eb984e;stroke:#154360;stroke-linejoin:miter;\"/>\n   </g>\n   <g id=\"patch_4\">\n    <path clip-path=\"url(#p073228e3b9)\" d=\"M 297.75179 455.712187 \nL 399.206335 455.712187 \nL 399.206335 328.067898 \nL 297.75179 328.067898 \nz\n\" style=\"fill:#eb984e;stroke:#154360;stroke-linejoin:miter;\"/>\n   </g>\n   <g id=\"patch_5\">\n    <path clip-path=\"url(#p073228e3b9)\" d=\"M 500.660881 455.712187 \nL 602.115426 455.712187 \nL 602.115426 93.312187 \nL 500.660881 93.312187 \nz\n\" style=\"fill:#eb984e;stroke:#154360;stroke-linejoin:miter;\"/>\n   </g>\n   <g id=\"matplotlib.axis_1\">\n    <g id=\"xtick_1\">\n     <g id=\"line2d_1\">\n      <defs>\n       <path d=\"M 0 5 \nL 0 -5 \n\" id=\"m906cc82033\" style=\"stroke:#000000;stroke-width:2;\"/>\n      </defs>\n      <g>\n       <use style=\"stroke:#000000;stroke-width:2;\" x=\"145.569972\" xlink:href=\"#m906cc82033\" y=\"455.712187\"/>\n      </g>\n     </g>\n     <g id=\"text_1\">\n      <!-- Product -->\n      <defs>\n       <path d=\"M 19.671875 64.796875 \nL 19.671875 37.40625 \nL 32.078125 37.40625 \nQ 38.96875 37.40625 42.71875 40.96875 \nQ 46.484375 44.53125 46.484375 51.125 \nQ 46.484375 57.671875 42.71875 61.234375 \nQ 38.96875 64.796875 32.078125 64.796875 \nz\nM 9.8125 72.90625 \nL 32.078125 72.90625 \nQ 44.34375 72.90625 50.609375 67.359375 \nQ 56.890625 61.8125 56.890625 51.125 \nQ 56.890625 40.328125 50.609375 34.8125 \nQ 44.34375 29.296875 32.078125 29.296875 \nL 19.671875 29.296875 \nL 19.671875 0 \nL 9.8125 0 \nz\n\" id=\"DejaVuSans-80\"/>\n       <path d=\"M 41.109375 46.296875 \nQ 39.59375 47.171875 37.8125 47.578125 \nQ 36.03125 48 33.890625 48 \nQ 26.265625 48 22.1875 43.046875 \nQ 18.109375 38.09375 18.109375 28.8125 \nL 18.109375 0 \nL 9.078125 0 \nL 9.078125 54.6875 \nL 18.109375 54.6875 \nL 18.109375 46.1875 \nQ 20.953125 51.171875 25.484375 53.578125 \nQ 30.03125 56 36.53125 56 \nQ 37.453125 56 38.578125 55.875 \nQ 39.703125 55.765625 41.0625 55.515625 \nz\n\" id=\"DejaVuSans-114\"/>\n       <path d=\"M 30.609375 48.390625 \nQ 23.390625 48.390625 19.1875 42.75 \nQ 14.984375 37.109375 14.984375 27.296875 \nQ 14.984375 17.484375 19.15625 11.84375 \nQ 23.34375 6.203125 30.609375 6.203125 \nQ 37.796875 6.203125 41.984375 11.859375 \nQ 46.1875 17.53125 46.1875 27.296875 \nQ 46.1875 37.015625 41.984375 42.703125 \nQ 37.796875 48.390625 30.609375 48.390625 \nz\nM 30.609375 56 \nQ 42.328125 56 49.015625 48.375 \nQ 55.71875 40.765625 55.71875 27.296875 \nQ 55.71875 13.875 49.015625 6.21875 \nQ 42.328125 -1.421875 30.609375 -1.421875 \nQ 18.84375 -1.421875 12.171875 6.21875 \nQ 5.515625 13.875 5.515625 27.296875 \nQ 5.515625 40.765625 12.171875 48.375 \nQ 18.84375 56 30.609375 56 \nz\n\" id=\"DejaVuSans-111\"/>\n       <path d=\"M 45.40625 46.390625 \nL 45.40625 75.984375 \nL 54.390625 75.984375 \nL 54.390625 0 \nL 45.40625 0 \nL 45.40625 8.203125 \nQ 42.578125 3.328125 38.25 0.953125 \nQ 33.9375 -1.421875 27.875 -1.421875 \nQ 17.96875 -1.421875 11.734375 6.484375 \nQ 5.515625 14.40625 5.515625 27.296875 \nQ 5.515625 40.1875 11.734375 48.09375 \nQ 17.96875 56 27.875 56 \nQ 33.9375 56 38.25 53.625 \nQ 42.578125 51.265625 45.40625 46.390625 \nz\nM 14.796875 27.296875 \nQ 14.796875 17.390625 18.875 11.75 \nQ 22.953125 6.109375 30.078125 6.109375 \nQ 37.203125 6.109375 41.296875 11.75 \nQ 45.40625 17.390625 45.40625 27.296875 \nQ 45.40625 37.203125 41.296875 42.84375 \nQ 37.203125 48.484375 30.078125 48.484375 \nQ 22.953125 48.484375 18.875 42.84375 \nQ 14.796875 37.203125 14.796875 27.296875 \nz\n\" id=\"DejaVuSans-100\"/>\n       <path d=\"M 8.5 21.578125 \nL 8.5 54.6875 \nL 17.484375 54.6875 \nL 17.484375 21.921875 \nQ 17.484375 14.15625 20.5 10.265625 \nQ 23.53125 6.390625 29.59375 6.390625 \nQ 36.859375 6.390625 41.078125 11.03125 \nQ 45.3125 15.671875 45.3125 23.6875 \nL 45.3125 54.6875 \nL 54.296875 54.6875 \nL 54.296875 0 \nL 45.3125 0 \nL 45.3125 8.40625 \nQ 42.046875 3.421875 37.71875 1 \nQ 33.40625 -1.421875 27.6875 -1.421875 \nQ 18.265625 -1.421875 13.375 4.4375 \nQ 8.5 10.296875 8.5 21.578125 \nz\nM 31.109375 56 \nz\n\" id=\"DejaVuSans-117\"/>\n       <path d=\"M 48.78125 52.59375 \nL 48.78125 44.1875 \nQ 44.96875 46.296875 41.140625 47.34375 \nQ 37.3125 48.390625 33.40625 48.390625 \nQ 24.65625 48.390625 19.8125 42.84375 \nQ 14.984375 37.3125 14.984375 27.296875 \nQ 14.984375 17.28125 19.8125 11.734375 \nQ 24.65625 6.203125 33.40625 6.203125 \nQ 37.3125 6.203125 41.140625 7.25 \nQ 44.96875 8.296875 48.78125 10.40625 \nL 48.78125 2.09375 \nQ 45.015625 0.34375 40.984375 -0.53125 \nQ 36.96875 -1.421875 32.421875 -1.421875 \nQ 20.0625 -1.421875 12.78125 6.34375 \nQ 5.515625 14.109375 5.515625 27.296875 \nQ 5.515625 40.671875 12.859375 48.328125 \nQ 20.21875 56 33.015625 56 \nQ 37.15625 56 41.109375 55.140625 \nQ 45.0625 54.296875 48.78125 52.59375 \nz\n\" id=\"DejaVuSans-99\"/>\n       <path d=\"M 18.3125 70.21875 \nL 18.3125 54.6875 \nL 36.8125 54.6875 \nL 36.8125 47.703125 \nL 18.3125 47.703125 \nL 18.3125 18.015625 \nQ 18.3125 11.328125 20.140625 9.421875 \nQ 21.96875 7.515625 27.59375 7.515625 \nL 36.8125 7.515625 \nL 36.8125 0 \nL 27.59375 0 \nQ 17.1875 0 13.234375 3.875 \nQ 9.28125 7.765625 9.28125 18.015625 \nL 9.28125 47.703125 \nL 2.6875 47.703125 \nL 2.6875 54.6875 \nL 9.28125 54.6875 \nL 9.28125 70.21875 \nz\n\" id=\"DejaVuSans-116\"/>\n      </defs>\n      <g transform=\"translate(140.890844 516.640229)rotate(-70)scale(0.12 -0.12)\">\n       <use xlink:href=\"#DejaVuSans-80\"/>\n       <use x=\"58.552734\" xlink:href=\"#DejaVuSans-114\"/>\n       <use x=\"97.416016\" xlink:href=\"#DejaVuSans-111\"/>\n       <use x=\"158.597656\" xlink:href=\"#DejaVuSans-100\"/>\n       <use x=\"222.074219\" xlink:href=\"#DejaVuSans-117\"/>\n       <use x=\"285.453125\" xlink:href=\"#DejaVuSans-99\"/>\n       <use x=\"340.433594\" xlink:href=\"#DejaVuSans-116\"/>\n      </g>\n     </g>\n    </g>\n    <g id=\"xtick_2\">\n     <g id=\"line2d_2\">\n      <g>\n       <use style=\"stroke:#000000;stroke-width:2;\" x=\"348.479062\" xlink:href=\"#m906cc82033\" y=\"455.712187\"/>\n      </g>\n     </g>\n     <g id=\"text_2\">\n      <!-- Dynamic -->\n      <defs>\n       <path d=\"M 19.671875 64.796875 \nL 19.671875 8.109375 \nL 31.59375 8.109375 \nQ 46.6875 8.109375 53.6875 14.9375 \nQ 60.6875 21.78125 60.6875 36.53125 \nQ 60.6875 51.171875 53.6875 57.984375 \nQ 46.6875 64.796875 31.59375 64.796875 \nz\nM 9.8125 72.90625 \nL 30.078125 72.90625 \nQ 51.265625 72.90625 61.171875 64.09375 \nQ 71.09375 55.28125 71.09375 36.53125 \nQ 71.09375 17.671875 61.125 8.828125 \nQ 51.171875 0 30.078125 0 \nL 9.8125 0 \nz\n\" id=\"DejaVuSans-68\"/>\n       <path d=\"M 32.171875 -5.078125 \nQ 28.375 -14.84375 24.75 -17.8125 \nQ 21.140625 -20.796875 15.09375 -20.796875 \nL 7.90625 -20.796875 \nL 7.90625 -13.28125 \nL 13.1875 -13.28125 \nQ 16.890625 -13.28125 18.9375 -11.515625 \nQ 21 -9.765625 23.484375 -3.21875 \nL 25.09375 0.875 \nL 2.984375 54.6875 \nL 12.5 54.6875 \nL 29.59375 11.921875 \nL 46.6875 54.6875 \nL 56.203125 54.6875 \nz\n\" id=\"DejaVuSans-121\"/>\n       <path d=\"M 54.890625 33.015625 \nL 54.890625 0 \nL 45.90625 0 \nL 45.90625 32.71875 \nQ 45.90625 40.484375 42.875 44.328125 \nQ 39.84375 48.1875 33.796875 48.1875 \nQ 26.515625 48.1875 22.3125 43.546875 \nQ 18.109375 38.921875 18.109375 30.90625 \nL 18.109375 0 \nL 9.078125 0 \nL 9.078125 54.6875 \nL 18.109375 54.6875 \nL 18.109375 46.1875 \nQ 21.34375 51.125 25.703125 53.5625 \nQ 30.078125 56 35.796875 56 \nQ 45.21875 56 50.046875 50.171875 \nQ 54.890625 44.34375 54.890625 33.015625 \nz\n\" id=\"DejaVuSans-110\"/>\n       <path d=\"M 34.28125 27.484375 \nQ 23.390625 27.484375 19.1875 25 \nQ 14.984375 22.515625 14.984375 16.5 \nQ 14.984375 11.71875 18.140625 8.90625 \nQ 21.296875 6.109375 26.703125 6.109375 \nQ 34.1875 6.109375 38.703125 11.40625 \nQ 43.21875 16.703125 43.21875 25.484375 \nL 43.21875 27.484375 \nz\nM 52.203125 31.203125 \nL 52.203125 0 \nL 43.21875 0 \nL 43.21875 8.296875 \nQ 40.140625 3.328125 35.546875 0.953125 \nQ 30.953125 -1.421875 24.3125 -1.421875 \nQ 15.921875 -1.421875 10.953125 3.296875 \nQ 6 8.015625 6 15.921875 \nQ 6 25.140625 12.171875 29.828125 \nQ 18.359375 34.515625 30.609375 34.515625 \nL 43.21875 34.515625 \nL 43.21875 35.40625 \nQ 43.21875 41.609375 39.140625 45 \nQ 35.0625 48.390625 27.6875 48.390625 \nQ 23 48.390625 18.546875 47.265625 \nQ 14.109375 46.140625 10.015625 43.890625 \nL 10.015625 52.203125 \nQ 14.9375 54.109375 19.578125 55.046875 \nQ 24.21875 56 28.609375 56 \nQ 40.484375 56 46.34375 49.84375 \nQ 52.203125 43.703125 52.203125 31.203125 \nz\n\" id=\"DejaVuSans-97\"/>\n       <path d=\"M 52 44.1875 \nQ 55.375 50.25 60.0625 53.125 \nQ 64.75 56 71.09375 56 \nQ 79.640625 56 84.28125 50.015625 \nQ 88.921875 44.046875 88.921875 33.015625 \nL 88.921875 0 \nL 79.890625 0 \nL 79.890625 32.71875 \nQ 79.890625 40.578125 77.09375 44.375 \nQ 74.3125 48.1875 68.609375 48.1875 \nQ 61.625 48.1875 57.5625 43.546875 \nQ 53.515625 38.921875 53.515625 30.90625 \nL 53.515625 0 \nL 44.484375 0 \nL 44.484375 32.71875 \nQ 44.484375 40.625 41.703125 44.40625 \nQ 38.921875 48.1875 33.109375 48.1875 \nQ 26.21875 48.1875 22.15625 43.53125 \nQ 18.109375 38.875 18.109375 30.90625 \nL 18.109375 0 \nL 9.078125 0 \nL 9.078125 54.6875 \nL 18.109375 54.6875 \nL 18.109375 46.1875 \nQ 21.1875 51.21875 25.484375 53.609375 \nQ 29.78125 56 35.6875 56 \nQ 41.65625 56 45.828125 52.96875 \nQ 50 49.953125 52 44.1875 \nz\n\" id=\"DejaVuSans-109\"/>\n       <path d=\"M 9.421875 54.6875 \nL 18.40625 54.6875 \nL 18.40625 0 \nL 9.421875 0 \nz\nM 9.421875 75.984375 \nL 18.40625 75.984375 \nL 18.40625 64.59375 \nL 9.421875 64.59375 \nz\n\" id=\"DejaVuSans-105\"/>\n      </defs>\n      <g transform=\"translate(342.540446 523.561065)rotate(-70)scale(0.12 -0.12)\">\n       <use xlink:href=\"#DejaVuSans-68\"/>\n       <use x=\"77.001953\" xlink:href=\"#DejaVuSans-121\"/>\n       <use x=\"136.181641\" xlink:href=\"#DejaVuSans-110\"/>\n       <use x=\"199.560547\" xlink:href=\"#DejaVuSans-97\"/>\n       <use x=\"260.839844\" xlink:href=\"#DejaVuSans-109\"/>\n       <use x=\"358.251953\" xlink:href=\"#DejaVuSans-105\"/>\n       <use x=\"386.035156\" xlink:href=\"#DejaVuSans-99\"/>\n      </g>\n     </g>\n    </g>\n    <g id=\"xtick_3\">\n     <g id=\"line2d_3\">\n      <g>\n       <use style=\"stroke:#000000;stroke-width:2;\" x=\"551.388153\" xlink:href=\"#m906cc82033\" y=\"455.712187\"/>\n      </g>\n     </g>\n     <g id=\"text_3\">\n      <!-- National -->\n      <defs>\n       <path d=\"M 9.8125 72.90625 \nL 23.09375 72.90625 \nL 55.421875 11.921875 \nL 55.421875 72.90625 \nL 64.984375 72.90625 \nL 64.984375 0 \nL 51.703125 0 \nL 19.390625 60.984375 \nL 19.390625 0 \nL 9.8125 0 \nz\n\" id=\"DejaVuSans-78\"/>\n       <path d=\"M 9.421875 75.984375 \nL 18.40625 75.984375 \nL 18.40625 0 \nL 9.421875 0 \nz\n\" id=\"DejaVuSans-108\"/>\n      </defs>\n      <g transform=\"translate(545.948459 520.819512)rotate(-70)scale(0.12 -0.12)\">\n       <use xlink:href=\"#DejaVuSans-78\"/>\n       <use x=\"74.804688\" xlink:href=\"#DejaVuSans-97\"/>\n       <use x=\"136.083984\" xlink:href=\"#DejaVuSans-116\"/>\n       <use x=\"175.292969\" xlink:href=\"#DejaVuSans-105\"/>\n       <use x=\"203.076172\" xlink:href=\"#DejaVuSans-111\"/>\n       <use x=\"264.257812\" xlink:href=\"#DejaVuSans-110\"/>\n       <use x=\"327.636719\" xlink:href=\"#DejaVuSans-97\"/>\n       <use x=\"388.916016\" xlink:href=\"#DejaVuSans-108\"/>\n      </g>\n     </g>\n    </g>\n    <g id=\"text_4\">\n     <!-- category -->\n     <defs>\n      <path d=\"M 52.59375 52.984375 \nL 52.59375 38.71875 \nQ 49.03125 41.15625 45.4375 42.328125 \nQ 41.84375 43.5 37.984375 43.5 \nQ 30.671875 43.5 26.59375 39.234375 \nQ 22.515625 34.96875 22.515625 27.296875 \nQ 22.515625 19.625 26.59375 15.34375 \nQ 30.671875 11.078125 37.984375 11.078125 \nQ 42.09375 11.078125 45.78125 12.296875 \nQ 49.46875 13.53125 52.59375 15.921875 \nL 52.59375 1.609375 \nQ 48.484375 0.09375 44.265625 -0.65625 \nQ 40.046875 -1.421875 35.796875 -1.421875 \nQ 21 -1.421875 12.640625 6.171875 \nQ 4.296875 13.765625 4.296875 27.296875 \nQ 4.296875 40.828125 12.640625 48.40625 \nQ 21 56 35.796875 56 \nQ 40.09375 56 44.265625 55.25 \nQ 48.4375 54.5 52.59375 52.984375 \nz\n\" id=\"DejaVuSans-Bold-99\"/>\n      <path d=\"M 32.90625 24.609375 \nQ 27.4375 24.609375 24.671875 22.75 \nQ 21.921875 20.90625 21.921875 17.28125 \nQ 21.921875 13.96875 24.140625 12.078125 \nQ 26.375 10.203125 30.328125 10.203125 \nQ 35.25 10.203125 38.625 13.734375 \nQ 42 17.28125 42 22.609375 \nL 42 24.609375 \nz\nM 59.625 31.203125 \nL 59.625 0 \nL 42 0 \nL 42 8.109375 \nQ 38.484375 3.125 34.078125 0.84375 \nQ 29.6875 -1.421875 23.390625 -1.421875 \nQ 14.890625 -1.421875 9.59375 3.53125 \nQ 4.296875 8.5 4.296875 16.40625 \nQ 4.296875 26.03125 10.90625 30.515625 \nQ 17.53125 35.015625 31.6875 35.015625 \nL 42 35.015625 \nL 42 36.375 \nQ 42 40.53125 38.71875 42.453125 \nQ 35.453125 44.390625 28.515625 44.390625 \nQ 22.90625 44.390625 18.0625 43.265625 \nQ 13.234375 42.140625 9.078125 39.890625 \nL 9.078125 53.21875 \nQ 14.703125 54.59375 20.359375 55.296875 \nQ 26.03125 56 31.6875 56 \nQ 46.484375 56 53.046875 50.171875 \nQ 59.625 44.34375 59.625 31.203125 \nz\n\" id=\"DejaVuSans-Bold-97\"/>\n      <path d=\"M 27.484375 70.21875 \nL 27.484375 54.6875 \nL 45.515625 54.6875 \nL 45.515625 42.1875 \nL 27.484375 42.1875 \nL 27.484375 19 \nQ 27.484375 15.1875 29 13.84375 \nQ 30.515625 12.5 35.015625 12.5 \nL 44 12.5 \nL 44 0 \nL 29 0 \nQ 18.65625 0 14.328125 4.3125 \nQ 10.015625 8.640625 10.015625 19 \nL 10.015625 42.1875 \nL 1.3125 42.1875 \nL 1.3125 54.6875 \nL 10.015625 54.6875 \nL 10.015625 70.21875 \nz\n\" id=\"DejaVuSans-Bold-116\"/>\n      <path d=\"M 62.984375 27.484375 \nL 62.984375 22.515625 \nL 22.125 22.515625 \nQ 22.75 16.359375 26.5625 13.28125 \nQ 30.375 10.203125 37.203125 10.203125 \nQ 42.71875 10.203125 48.5 11.84375 \nQ 54.296875 13.484375 60.40625 16.796875 \nL 60.40625 3.328125 \nQ 54.203125 0.984375 48 -0.21875 \nQ 41.796875 -1.421875 35.59375 -1.421875 \nQ 20.75 -1.421875 12.515625 6.125 \nQ 4.296875 13.671875 4.296875 27.296875 \nQ 4.296875 40.671875 12.375 48.328125 \nQ 20.453125 56 34.625 56 \nQ 47.515625 56 55.25 48.234375 \nQ 62.984375 40.484375 62.984375 27.484375 \nz\nM 45.015625 33.296875 \nQ 45.015625 38.28125 42.109375 41.328125 \nQ 39.203125 44.390625 34.515625 44.390625 \nQ 29.4375 44.390625 26.265625 41.53125 \nQ 23.09375 38.671875 22.3125 33.296875 \nz\n\" id=\"DejaVuSans-Bold-101\"/>\n      <path d=\"M 45.609375 9.28125 \nQ 42 4.5 37.640625 2.25 \nQ 33.296875 0 27.59375 0 \nQ 17.578125 0 11.03125 7.875 \nQ 4.5 15.765625 4.5 27.984375 \nQ 4.5 40.234375 11.03125 48.0625 \nQ 17.578125 55.90625 27.59375 55.90625 \nQ 33.296875 55.90625 37.640625 53.65625 \nQ 42 51.421875 45.609375 46.578125 \nL 45.609375 54.6875 \nL 63.1875 54.6875 \nL 63.1875 5.515625 \nQ 63.1875 -7.671875 54.859375 -14.625 \nQ 46.53125 -21.578125 30.71875 -21.578125 \nQ 25.59375 -21.578125 20.796875 -20.796875 \nQ 16.015625 -20.015625 11.1875 -18.40625 \nL 11.1875 -4.78125 \nQ 15.765625 -7.421875 20.15625 -8.71875 \nQ 24.5625 -10.015625 29 -10.015625 \nQ 37.59375 -10.015625 41.59375 -6.25 \nQ 45.609375 -2.484375 45.609375 5.515625 \nz\nM 34.078125 43.3125 \nQ 28.65625 43.3125 25.625 39.296875 \nQ 22.609375 35.296875 22.609375 27.984375 \nQ 22.609375 20.453125 25.53125 16.578125 \nQ 28.46875 12.703125 34.078125 12.703125 \nQ 39.546875 12.703125 42.578125 16.703125 \nQ 45.609375 20.703125 45.609375 27.984375 \nQ 45.609375 35.296875 42.578125 39.296875 \nQ 39.546875 43.3125 34.078125 43.3125 \nz\n\" id=\"DejaVuSans-Bold-103\"/>\n      <path d=\"M 34.421875 43.5 \nQ 28.609375 43.5 25.5625 39.328125 \nQ 22.515625 35.15625 22.515625 27.296875 \nQ 22.515625 19.4375 25.5625 15.25 \nQ 28.609375 11.078125 34.421875 11.078125 \nQ 40.140625 11.078125 43.15625 15.25 \nQ 46.1875 19.4375 46.1875 27.296875 \nQ 46.1875 35.15625 43.15625 39.328125 \nQ 40.140625 43.5 34.421875 43.5 \nz\nM 34.421875 56 \nQ 48.53125 56 56.46875 48.375 \nQ 64.40625 40.765625 64.40625 27.296875 \nQ 64.40625 13.8125 56.46875 6.1875 \nQ 48.53125 -1.421875 34.421875 -1.421875 \nQ 20.265625 -1.421875 12.28125 6.1875 \nQ 4.296875 13.8125 4.296875 27.296875 \nQ 4.296875 40.765625 12.28125 48.375 \nQ 20.265625 56 34.421875 56 \nz\n\" id=\"DejaVuSans-Bold-111\"/>\n      <path d=\"M 49.03125 39.796875 \nQ 46.734375 40.875 44.453125 41.375 \nQ 42.1875 41.890625 39.890625 41.890625 \nQ 33.15625 41.890625 29.515625 37.5625 \nQ 25.875 33.25 25.875 25.203125 \nL 25.875 0 \nL 8.40625 0 \nL 8.40625 54.6875 \nL 25.875 54.6875 \nL 25.875 45.703125 \nQ 29.25 51.078125 33.609375 53.53125 \nQ 37.984375 56 44.09375 56 \nQ 44.96875 56 45.984375 55.921875 \nQ 47.015625 55.859375 48.96875 55.609375 \nz\n\" id=\"DejaVuSans-Bold-114\"/>\n      <path d=\"M 1.21875 54.6875 \nL 18.703125 54.6875 \nL 33.40625 17.578125 \nL 45.90625 54.6875 \nL 63.375 54.6875 \nL 40.375 -5.171875 \nQ 36.921875 -14.3125 32.296875 -17.9375 \nQ 27.6875 -21.578125 20.125 -21.578125 \nL 10.015625 -21.578125 \nL 10.015625 -10.109375 \nL 15.484375 -10.109375 \nQ 19.921875 -10.109375 21.9375 -8.6875 \nQ 23.96875 -7.28125 25.09375 -3.609375 \nL 25.59375 -2.09375 \nz\n\" id=\"DejaVuSans-Bold-121\"/>\n     </defs>\n     <g transform=\"translate(288.818438 546.463369)scale(0.24 -0.24)\">\n      <use xlink:href=\"#DejaVuSans-Bold-99\"/>\n      <use x=\"59.277344\" xlink:href=\"#DejaVuSans-Bold-97\"/>\n      <use x=\"126.757812\" xlink:href=\"#DejaVuSans-Bold-116\"/>\n      <use x=\"174.560547\" xlink:href=\"#DejaVuSans-Bold-101\"/>\n      <use x=\"242.382812\" xlink:href=\"#DejaVuSans-Bold-103\"/>\n      <use x=\"313.964844\" xlink:href=\"#DejaVuSans-Bold-111\"/>\n      <use x=\"382.666016\" xlink:href=\"#DejaVuSans-Bold-114\"/>\n      <use x=\"431.982422\" xlink:href=\"#DejaVuSans-Bold-121\"/>\n     </g>\n    </g>\n   </g>\n   <g id=\"matplotlib.axis_2\">\n    <g id=\"ytick_1\">\n     <g id=\"line2d_4\">\n      <defs>\n       <path d=\"M 5 0 \nL -5 -0 \n\" id=\"me943960668\" style=\"stroke:#000000;stroke-width:2;\"/>\n      </defs>\n      <g>\n       <use style=\"stroke:#000000;stroke-width:2;\" x=\"69.479062\" xlink:href=\"#me943960668\" y=\"455.712187\"/>\n      </g>\n     </g>\n     <g id=\"text_5\">\n      <!-- 0.0 -->\n      <defs>\n       <path d=\"M 31.78125 66.40625 \nQ 24.171875 66.40625 20.328125 58.90625 \nQ 16.5 51.421875 16.5 36.375 \nQ 16.5 21.390625 20.328125 13.890625 \nQ 24.171875 6.390625 31.78125 6.390625 \nQ 39.453125 6.390625 43.28125 13.890625 \nQ 47.125 21.390625 47.125 36.375 \nQ 47.125 51.421875 43.28125 58.90625 \nQ 39.453125 66.40625 31.78125 66.40625 \nz\nM 31.78125 74.21875 \nQ 44.046875 74.21875 50.515625 64.515625 \nQ 56.984375 54.828125 56.984375 36.375 \nQ 56.984375 17.96875 50.515625 8.265625 \nQ 44.046875 -1.421875 31.78125 -1.421875 \nQ 19.53125 -1.421875 13.0625 8.265625 \nQ 6.59375 17.96875 6.59375 36.375 \nQ 6.59375 54.828125 13.0625 64.515625 \nQ 19.53125 74.21875 31.78125 74.21875 \nz\n\" id=\"DejaVuSans-48\"/>\n       <path d=\"M 10.6875 12.40625 \nL 21 12.40625 \nL 21 0 \nL 10.6875 0 \nz\n\" id=\"DejaVuSans-46\"/>\n      </defs>\n      <g transform=\"translate(35.395313 460.27125)scale(0.12 -0.12)\">\n       <use xlink:href=\"#DejaVuSans-48\"/>\n       <use x=\"63.623047\" xlink:href=\"#DejaVuSans-46\"/>\n       <use x=\"95.410156\" xlink:href=\"#DejaVuSans-48\"/>\n      </g>\n     </g>\n    </g>\n    <g id=\"ytick_2\">\n     <g id=\"line2d_5\">\n      <g>\n       <use style=\"stroke:#000000;stroke-width:2;\" x=\"69.479062\" xlink:href=\"#me943960668\" y=\"383.957297\"/>\n      </g>\n     </g>\n     <g id=\"text_6\">\n      <!-- 0.2 -->\n      <defs>\n       <path d=\"M 19.1875 8.296875 \nL 53.609375 8.296875 \nL 53.609375 0 \nL 7.328125 0 \nL 7.328125 8.296875 \nQ 12.9375 14.109375 22.625 23.890625 \nQ 32.328125 33.6875 34.8125 36.53125 \nQ 39.546875 41.84375 41.421875 45.53125 \nQ 43.3125 49.21875 43.3125 52.78125 \nQ 43.3125 58.59375 39.234375 62.25 \nQ 35.15625 65.921875 28.609375 65.921875 \nQ 23.96875 65.921875 18.8125 64.3125 \nQ 13.671875 62.703125 7.8125 59.421875 \nL 7.8125 69.390625 \nQ 13.765625 71.78125 18.9375 73 \nQ 24.125 74.21875 28.421875 74.21875 \nQ 39.75 74.21875 46.484375 68.546875 \nQ 53.21875 62.890625 53.21875 53.421875 \nQ 53.21875 48.921875 51.53125 44.890625 \nQ 49.859375 40.875 45.40625 35.40625 \nQ 44.1875 33.984375 37.640625 27.21875 \nQ 31.109375 20.453125 19.1875 8.296875 \nz\n\" id=\"DejaVuSans-50\"/>\n      </defs>\n      <g transform=\"translate(35.395313 388.51636)scale(0.12 -0.12)\">\n       <use xlink:href=\"#DejaVuSans-48\"/>\n       <use x=\"63.623047\" xlink:href=\"#DejaVuSans-46\"/>\n       <use x=\"95.410156\" xlink:href=\"#DejaVuSans-50\"/>\n      </g>\n     </g>\n    </g>\n    <g id=\"ytick_3\">\n     <g id=\"line2d_6\">\n      <g>\n       <use style=\"stroke:#000000;stroke-width:2;\" x=\"69.479062\" xlink:href=\"#me943960668\" y=\"312.202407\"/>\n      </g>\n     </g>\n     <g id=\"text_7\">\n      <!-- 0.4 -->\n      <defs>\n       <path d=\"M 37.796875 64.3125 \nL 12.890625 25.390625 \nL 37.796875 25.390625 \nz\nM 35.203125 72.90625 \nL 47.609375 72.90625 \nL 47.609375 25.390625 \nL 58.015625 25.390625 \nL 58.015625 17.1875 \nL 47.609375 17.1875 \nL 47.609375 0 \nL 37.796875 0 \nL 37.796875 17.1875 \nL 4.890625 17.1875 \nL 4.890625 26.703125 \nz\n\" id=\"DejaVuSans-52\"/>\n      </defs>\n      <g transform=\"translate(35.395313 316.761469)scale(0.12 -0.12)\">\n       <use xlink:href=\"#DejaVuSans-48\"/>\n       <use x=\"63.623047\" xlink:href=\"#DejaVuSans-46\"/>\n       <use x=\"95.410156\" xlink:href=\"#DejaVuSans-52\"/>\n      </g>\n     </g>\n    </g>\n    <g id=\"ytick_4\">\n     <g id=\"line2d_7\">\n      <g>\n       <use style=\"stroke:#000000;stroke-width:2;\" x=\"69.479062\" xlink:href=\"#me943960668\" y=\"240.447516\"/>\n      </g>\n     </g>\n     <g id=\"text_8\">\n      <!-- 0.6 -->\n      <defs>\n       <path d=\"M 33.015625 40.375 \nQ 26.375 40.375 22.484375 35.828125 \nQ 18.609375 31.296875 18.609375 23.390625 \nQ 18.609375 15.53125 22.484375 10.953125 \nQ 26.375 6.390625 33.015625 6.390625 \nQ 39.65625 6.390625 43.53125 10.953125 \nQ 47.40625 15.53125 47.40625 23.390625 \nQ 47.40625 31.296875 43.53125 35.828125 \nQ 39.65625 40.375 33.015625 40.375 \nz\nM 52.59375 71.296875 \nL 52.59375 62.3125 \nQ 48.875 64.0625 45.09375 64.984375 \nQ 41.3125 65.921875 37.59375 65.921875 \nQ 27.828125 65.921875 22.671875 59.328125 \nQ 17.53125 52.734375 16.796875 39.40625 \nQ 19.671875 43.65625 24.015625 45.921875 \nQ 28.375 48.1875 33.59375 48.1875 \nQ 44.578125 48.1875 50.953125 41.515625 \nQ 57.328125 34.859375 57.328125 23.390625 \nQ 57.328125 12.15625 50.6875 5.359375 \nQ 44.046875 -1.421875 33.015625 -1.421875 \nQ 20.359375 -1.421875 13.671875 8.265625 \nQ 6.984375 17.96875 6.984375 36.375 \nQ 6.984375 53.65625 15.1875 63.9375 \nQ 23.390625 74.21875 37.203125 74.21875 \nQ 40.921875 74.21875 44.703125 73.484375 \nQ 48.484375 72.75 52.59375 71.296875 \nz\n\" id=\"DejaVuSans-54\"/>\n      </defs>\n      <g transform=\"translate(35.395313 245.006579)scale(0.12 -0.12)\">\n       <use xlink:href=\"#DejaVuSans-48\"/>\n       <use x=\"63.623047\" xlink:href=\"#DejaVuSans-46\"/>\n       <use x=\"95.410156\" xlink:href=\"#DejaVuSans-54\"/>\n      </g>\n     </g>\n    </g>\n    <g id=\"ytick_5\">\n     <g id=\"line2d_8\">\n      <g>\n       <use style=\"stroke:#000000;stroke-width:2;\" x=\"69.479062\" xlink:href=\"#me943960668\" y=\"168.692626\"/>\n      </g>\n     </g>\n     <g id=\"text_9\">\n      <!-- 0.8 -->\n      <defs>\n       <path d=\"M 31.78125 34.625 \nQ 24.75 34.625 20.71875 30.859375 \nQ 16.703125 27.09375 16.703125 20.515625 \nQ 16.703125 13.921875 20.71875 10.15625 \nQ 24.75 6.390625 31.78125 6.390625 \nQ 38.8125 6.390625 42.859375 10.171875 \nQ 46.921875 13.96875 46.921875 20.515625 \nQ 46.921875 27.09375 42.890625 30.859375 \nQ 38.875 34.625 31.78125 34.625 \nz\nM 21.921875 38.8125 \nQ 15.578125 40.375 12.03125 44.71875 \nQ 8.5 49.078125 8.5 55.328125 \nQ 8.5 64.0625 14.71875 69.140625 \nQ 20.953125 74.21875 31.78125 74.21875 \nQ 42.671875 74.21875 48.875 69.140625 \nQ 55.078125 64.0625 55.078125 55.328125 \nQ 55.078125 49.078125 51.53125 44.71875 \nQ 48 40.375 41.703125 38.8125 \nQ 48.828125 37.15625 52.796875 32.3125 \nQ 56.78125 27.484375 56.78125 20.515625 \nQ 56.78125 9.90625 50.3125 4.234375 \nQ 43.84375 -1.421875 31.78125 -1.421875 \nQ 19.734375 -1.421875 13.25 4.234375 \nQ 6.78125 9.90625 6.78125 20.515625 \nQ 6.78125 27.484375 10.78125 32.3125 \nQ 14.796875 37.15625 21.921875 38.8125 \nz\nM 18.3125 54.390625 \nQ 18.3125 48.734375 21.84375 45.5625 \nQ 25.390625 42.390625 31.78125 42.390625 \nQ 38.140625 42.390625 41.71875 45.5625 \nQ 45.3125 48.734375 45.3125 54.390625 \nQ 45.3125 60.0625 41.71875 63.234375 \nQ 38.140625 66.40625 31.78125 66.40625 \nQ 25.390625 66.40625 21.84375 63.234375 \nQ 18.3125 60.0625 18.3125 54.390625 \nz\n\" id=\"DejaVuSans-56\"/>\n      </defs>\n      <g transform=\"translate(35.395313 173.251689)scale(0.12 -0.12)\">\n       <use xlink:href=\"#DejaVuSans-48\"/>\n       <use x=\"63.623047\" xlink:href=\"#DejaVuSans-46\"/>\n       <use x=\"95.410156\" xlink:href=\"#DejaVuSans-56\"/>\n      </g>\n     </g>\n    </g>\n    <g id=\"ytick_6\">\n     <g id=\"line2d_9\">\n      <g>\n       <use style=\"stroke:#000000;stroke-width:2;\" x=\"69.479062\" xlink:href=\"#me943960668\" y=\"96.937736\"/>\n      </g>\n     </g>\n     <g id=\"text_10\">\n      <!-- 1.0 -->\n      <defs>\n       <path d=\"M 12.40625 8.296875 \nL 28.515625 8.296875 \nL 28.515625 63.921875 \nL 10.984375 60.40625 \nL 10.984375 69.390625 \nL 28.421875 72.90625 \nL 38.28125 72.90625 \nL 38.28125 8.296875 \nL 54.390625 8.296875 \nL 54.390625 0 \nL 12.40625 0 \nz\n\" id=\"DejaVuSans-49\"/>\n      </defs>\n      <g transform=\"translate(35.395313 101.496798)scale(0.12 -0.12)\">\n       <use xlink:href=\"#DejaVuSans-49\"/>\n       <use x=\"63.623047\" xlink:href=\"#DejaVuSans-46\"/>\n       <use x=\"95.410156\" xlink:href=\"#DejaVuSans-48\"/>\n      </g>\n     </g>\n    </g>\n    <g id=\"text_11\">\n     <!-- sum -->\n     <defs>\n      <path d=\"M 51.125 52.984375 \nL 51.125 39.703125 \nQ 45.515625 42.046875 40.28125 43.21875 \nQ 35.0625 44.390625 30.421875 44.390625 \nQ 25.4375 44.390625 23.015625 43.140625 \nQ 20.609375 41.890625 20.609375 39.3125 \nQ 20.609375 37.203125 22.4375 36.078125 \nQ 24.265625 34.96875 29 34.421875 \nL 32.078125 33.984375 \nQ 45.515625 32.28125 50.140625 28.375 \nQ 54.78125 24.46875 54.78125 16.109375 \nQ 54.78125 7.375 48.328125 2.96875 \nQ 41.890625 -1.421875 29.109375 -1.421875 \nQ 23.6875 -1.421875 17.890625 -0.5625 \nQ 12.109375 0.296875 6 2 \nL 6 15.28125 \nQ 11.234375 12.75 16.71875 11.46875 \nQ 22.21875 10.203125 27.875 10.203125 \nQ 33.015625 10.203125 35.59375 11.609375 \nQ 38.1875 13.03125 38.1875 15.828125 \nQ 38.1875 18.171875 36.40625 19.3125 \nQ 34.625 20.453125 29.296875 21.09375 \nL 26.21875 21.484375 \nQ 14.546875 22.953125 9.859375 26.90625 \nQ 5.171875 30.859375 5.171875 38.921875 \nQ 5.171875 47.609375 11.125 51.796875 \nQ 17.09375 56 29.390625 56 \nQ 34.234375 56 39.546875 55.265625 \nQ 44.875 54.546875 51.125 52.984375 \nz\n\" id=\"DejaVuSans-Bold-115\"/>\n      <path d=\"M 7.8125 21.296875 \nL 7.8125 54.6875 \nL 25.390625 54.6875 \nL 25.390625 49.21875 \nQ 25.390625 44.78125 25.34375 38.0625 \nQ 25.296875 31.34375 25.296875 29.109375 \nQ 25.296875 22.515625 25.640625 19.609375 \nQ 25.984375 16.703125 26.8125 15.375 \nQ 27.875 13.671875 29.609375 12.734375 \nQ 31.34375 11.8125 33.59375 11.8125 \nQ 39.0625 11.8125 42.1875 16.015625 \nQ 45.3125 20.21875 45.3125 27.6875 \nL 45.3125 54.6875 \nL 62.796875 54.6875 \nL 62.796875 0 \nL 45.3125 0 \nL 45.3125 7.90625 \nQ 41.359375 3.125 36.9375 0.84375 \nQ 32.515625 -1.421875 27.203125 -1.421875 \nQ 17.71875 -1.421875 12.765625 4.390625 \nQ 7.8125 10.203125 7.8125 21.296875 \nz\n\" id=\"DejaVuSans-Bold-117\"/>\n      <path d=\"M 59.078125 45.609375 \nQ 62.40625 50.6875 66.96875 53.34375 \nQ 71.53125 56 77 56 \nQ 86.421875 56 91.359375 50.1875 \nQ 96.296875 44.390625 96.296875 33.296875 \nL 96.296875 0 \nL 78.71875 0 \nL 78.71875 28.515625 \nQ 78.765625 29.15625 78.78125 29.828125 \nQ 78.8125 30.515625 78.8125 31.78125 \nQ 78.8125 37.59375 77.09375 40.203125 \nQ 75.390625 42.828125 71.578125 42.828125 \nQ 66.609375 42.828125 63.890625 38.71875 \nQ 61.1875 34.625 61.078125 26.859375 \nL 61.078125 0 \nL 43.5 0 \nL 43.5 28.515625 \nQ 43.5 37.59375 41.9375 40.203125 \nQ 40.375 42.828125 36.375 42.828125 \nQ 31.34375 42.828125 28.609375 38.703125 \nQ 25.875 34.578125 25.875 26.90625 \nL 25.875 0 \nL 8.296875 0 \nL 8.296875 54.6875 \nL 25.875 54.6875 \nL 25.875 46.6875 \nQ 29.109375 51.3125 33.28125 53.65625 \nQ 37.453125 56 42.484375 56 \nQ 48.140625 56 52.484375 53.265625 \nQ 56.84375 50.53125 59.078125 45.609375 \nz\n\" id=\"DejaVuSans-Bold-109\"/>\n     </defs>\n     <g transform=\"translate(26.196094 294.815469)rotate(-90)scale(0.25 -0.25)\">\n      <use xlink:href=\"#DejaVuSans-Bold-115\"/>\n      <use x=\"59.521484\" xlink:href=\"#DejaVuSans-Bold-117\"/>\n      <use x=\"130.712891\" xlink:href=\"#DejaVuSans-Bold-109\"/>\n     </g>\n    </g>\n    <g id=\"text_12\">\n     <!-- 1e7 -->\n     <defs>\n      <path d=\"M 56.203125 29.59375 \nL 56.203125 25.203125 \nL 14.890625 25.203125 \nQ 15.484375 15.921875 20.484375 11.0625 \nQ 25.484375 6.203125 34.421875 6.203125 \nQ 39.59375 6.203125 44.453125 7.46875 \nQ 49.3125 8.734375 54.109375 11.28125 \nL 54.109375 2.78125 \nQ 49.265625 0.734375 44.1875 -0.34375 \nQ 39.109375 -1.421875 33.890625 -1.421875 \nQ 20.796875 -1.421875 13.15625 6.1875 \nQ 5.515625 13.8125 5.515625 26.8125 \nQ 5.515625 40.234375 12.765625 48.109375 \nQ 20.015625 56 32.328125 56 \nQ 43.359375 56 49.78125 48.890625 \nQ 56.203125 41.796875 56.203125 29.59375 \nz\nM 47.21875 32.234375 \nQ 47.125 39.59375 43.09375 43.984375 \nQ 39.0625 48.390625 32.421875 48.390625 \nQ 24.90625 48.390625 20.390625 44.140625 \nQ 15.875 39.890625 15.1875 32.171875 \nz\n\" id=\"DejaVuSans-101\"/>\n      <path d=\"M 8.203125 72.90625 \nL 55.078125 72.90625 \nL 55.078125 68.703125 \nL 28.609375 0 \nL 18.3125 0 \nL 43.21875 64.59375 \nL 8.203125 64.59375 \nz\n\" id=\"DejaVuSans-55\"/>\n     </defs>\n     <g transform=\"translate(69.479062 72.192187)scale(0.1 -0.1)\">\n      <use xlink:href=\"#DejaVuSans-49\"/>\n      <use x=\"63.623047\" xlink:href=\"#DejaVuSans-101\"/>\n      <use x=\"125.146484\" xlink:href=\"#DejaVuSans-55\"/>\n     </g>\n    </g>\n   </g>\n   <g id=\"patch_6\">\n    <path d=\"M 69.479062 455.712187 \nL 69.479062 75.192187 \n\" style=\"fill:none;stroke:#000000;stroke-linecap:square;stroke-linejoin:miter;stroke-width:0.8;\"/>\n   </g>\n   <g id=\"patch_7\">\n    <path d=\"M 627.479063 455.712187 \nL 627.479063 75.192187 \n\" style=\"fill:none;stroke:#000000;stroke-linecap:square;stroke-linejoin:miter;stroke-width:0.8;\"/>\n   </g>\n   <g id=\"patch_8\">\n    <path d=\"M 69.479062 455.712187 \nL 627.479062 455.712187 \n\" style=\"fill:none;stroke:#000000;stroke-linecap:square;stroke-linejoin:miter;stroke-width:0.8;\"/>\n   </g>\n   <g id=\"patch_9\">\n    <path d=\"M 69.479062 75.192187 \nL 627.479062 75.192187 \n\" style=\"fill:none;stroke:#000000;stroke-linecap:square;stroke-linejoin:miter;stroke-width:0.8;\"/>\n   </g>\n   <g id=\"text_13\">\n    <!-- sum diagram -->\n    <defs>\n     <path id=\"DejaVuSans-Bold-32\"/>\n     <path d=\"M 45.609375 46.6875 \nL 45.609375 75.984375 \nL 63.1875 75.984375 \nL 63.1875 0 \nL 45.609375 0 \nL 45.609375 7.90625 \nQ 42 3.078125 37.640625 0.828125 \nQ 33.296875 -1.421875 27.59375 -1.421875 \nQ 17.484375 -1.421875 10.984375 6.609375 \nQ 4.5 14.65625 4.5 27.296875 \nQ 4.5 39.9375 10.984375 47.96875 \nQ 17.484375 56 27.59375 56 \nQ 33.25 56 37.625 53.734375 \nQ 42 51.46875 45.609375 46.6875 \nz\nM 34.078125 11.28125 \nQ 39.703125 11.28125 42.65625 15.375 \nQ 45.609375 19.484375 45.609375 27.296875 \nQ 45.609375 35.109375 42.65625 39.203125 \nQ 39.703125 43.3125 34.078125 43.3125 \nQ 28.515625 43.3125 25.5625 39.203125 \nQ 22.609375 35.109375 22.609375 27.296875 \nQ 22.609375 19.484375 25.5625 15.375 \nQ 28.515625 11.28125 34.078125 11.28125 \nz\n\" id=\"DejaVuSans-Bold-100\"/>\n     <path d=\"M 8.40625 54.6875 \nL 25.875 54.6875 \nL 25.875 0 \nL 8.40625 0 \nz\nM 8.40625 75.984375 \nL 25.875 75.984375 \nL 25.875 61.71875 \nL 8.40625 61.71875 \nz\n\" id=\"DejaVuSans-Bold-105\"/>\n    </defs>\n    <g transform=\"translate(164.568906 45.192187)scale(0.5 -0.5)\">\n     <use xlink:href=\"#DejaVuSans-Bold-115\"/>\n     <use x=\"59.521484\" xlink:href=\"#DejaVuSans-Bold-117\"/>\n     <use x=\"130.712891\" xlink:href=\"#DejaVuSans-Bold-109\"/>\n     <use x=\"234.912109\" xlink:href=\"#DejaVuSans-Bold-32\"/>\n     <use x=\"269.726562\" xlink:href=\"#DejaVuSans-Bold-100\"/>\n     <use x=\"341.308594\" xlink:href=\"#DejaVuSans-Bold-105\"/>\n     <use x=\"375.585938\" xlink:href=\"#DejaVuSans-Bold-97\"/>\n     <use x=\"443.066406\" xlink:href=\"#DejaVuSans-Bold-103\"/>\n     <use x=\"514.648438\" xlink:href=\"#DejaVuSans-Bold-114\"/>\n     <use x=\"563.964844\" xlink:href=\"#DejaVuSans-Bold-97\"/>\n     <use x=\"631.445312\" xlink:href=\"#DejaVuSans-Bold-109\"/>\n    </g>\n   </g>\n  </g>\n </g>\n <defs>\n  <clipPath id=\"p073228e3b9\">\n   <rect height=\"380.52\" width=\"558\" x=\"69.479062\" y=\"75.192187\"/>\n  </clipPath>\n </defs>\n</svg>\n",
      "image/png": "[encoded data removed]"
     },
     "metadata": {}
    }
   ],
   "source": [
    "d = {}\n",
    "\n",
    "for m in medicine:\n",
    "    for p in prices:\n",
    "        for s in sales:\n",
    "            if m.m_id == p.m_id == s.m_id:\n",
    "                d.setdefault(m.m_category, 0)\n",
    "                if s.feature == 'yes':\n",
    "                    pr = p.m_price * (1 - p.m_discount/100) * s.amount\n",
    "                else:\n",
    "                    pr = p.m_price * s.amount\n",
    "                d[m.m_category] += pr\n",
    "for (k, v) in d.items():\n",
    "    print(f\"{k} - {v}\")\n",
    "\n",
    "draw_histogram(list(d.keys()), list(d.values()), \"category\", \"sum\", \"sum diagram\")"
   ]
  },
  {
   "source": [
    "3. Визначити, за медикаменти якої групи отримали найбiльшу виручку<br>\n",
    "вiд корпоративних клiєнтiв i отримати перелiк цих медикаментiв у форматi<br>\n",
    "< назва лiкiв - сума >.<br>"
   ],
   "cell_type": "markdown",
   "metadata": {}
  },
  {
   "cell_type": "code",
   "execution_count": 158,
   "metadata": {},
   "outputs": [
    {
     "output_type": "stream",
     "name": "stdout",
     "text": [
      "('National', 10101053.692)\nKarli - 5123323.4776\nAngelo - 1344413.5824000002\nAbby - 3633316.632\n"
     ]
    }
   ],
   "source": [
    "max_c = max(d.items(), key=lambda k: k[1])\n",
    "print(max_c)\n",
    "med = list(filter(lambda k: k.m_category == max_c[0], medicine))\n",
    "d = {}\n",
    "for m in med:\n",
    "    for p in prices:\n",
    "        for s in sales:\n",
    "            if m.m_id == p.m_id == s.m_id:\n",
    "                d.setdefault(m.m_name, 0)\n",
    "                if s.feature == 'yes':\n",
    "                    pr = p.m_price * (1 - p.m_discount/100) * s.amount\n",
    "                else:\n",
    "                    pr = p.m_price * s.amount\n",
    "                d[m.m_name] += pr\n",
    "    \n",
    "for (k, v) in d.items():\n",
    "    print(f\"{k} - {v}\")\n",
    "\n"
   ]
  },
  {
   "source": [
    "4. Отримати виручену суму для кожної категорiї медикаментiв, у яких<br>\n",
    "були продажi для корпоративних клiєнтiв(враховувати виручку лише вiд<br>\n",
    "таких продаж).<br>"
   ],
   "cell_type": "markdown",
   "metadata": {}
  },
  {
   "cell_type": "code",
   "execution_count": 166,
   "metadata": {},
   "outputs": [
    {
     "output_type": "stream",
     "name": "stdout",
     "text": [
      "Product - 2185845.8484\nDynamic - 2355634.0020000003\nNational - 8472953.162\n"
     ]
    }
   ],
   "source": [
    "d = {}\n",
    "\n",
    "for m in medicine:\n",
    "    for p in prices:\n",
    "        for s in sales:\n",
    "            if m.m_id == p.m_id == s.m_id:\n",
    "                d.setdefault(m.m_category, 0)\n",
    "                if s.feature == 'yes':\n",
    "                    pr = p.m_price * (1 - p.m_discount/100) * s.amount\n",
    "                    d[m.m_category] += pr\n",
    "for (k, v) in d.items():\n",
    "    print(f\"{k} - {v}\")"
   ]
  },
  {
   "cell_type": "code",
   "execution_count": 167,
   "metadata": {},
   "outputs": [
    {
     "output_type": "stream",
     "name": "stdout",
     "text": [
      "13014433.012400001\n"
     ]
    }
   ],
   "source": [
    "print(sum(list(d.values())))"
   ]
  },
  {
   "source": [
    "6. Отримати у категорiї медикаментiв, яку вибирати з випадаючого спи-<br>\n",
    "ску, перелiк лiкiв, якi не купували корпоративнi клiєнти.<br>"
   ],
   "cell_type": "markdown",
   "metadata": {}
  },
  {
   "cell_type": "code",
   "execution_count": 170,
   "metadata": {},
   "outputs": [
    {
     "output_type": "display_data",
     "data": {
      "text/plain": "interactive(children=(Dropdown(description='Category', options={'Product': [\nm_id: 13944                 \nm_ca…",
      "application/vnd.jupyter.widget-view+json": {
       "version_major": 2,
       "version_minor": 0,
       "model_id": "aaf641f3aa7645d89edcd098bb568d4c"
      }
     },
     "metadata": {}
    }
   ],
   "source": [
    "categories = {}\n",
    "for a in medicine:\n",
    "    categories.setdefault(a.m_category, []).append(a)\n",
    "\n",
    "def choose6(Category):\n",
    "    s = set()\n",
    "    for cat in Category:\n",
    "        for sale in sales:\n",
    "            if sale.m_id == cat.m_id and sale.feature == 'yes':\n",
    "                s.add(cat.m_name)\n",
    "    for ss in s:\n",
    "        print(ss)\n",
    "                    \n",
    "interact(choose6, Category=categories);"
   ]
  },
  {
   "cell_type": "code",
   "execution_count": null,
   "metadata": {},
   "outputs": [],
   "source": []
  }
 ]
}