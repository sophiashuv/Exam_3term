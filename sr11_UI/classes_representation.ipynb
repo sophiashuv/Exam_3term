{
 "metadata": {
  "language_info": {
   "codemirror_mode": {
    "name": "ipython",
    "version": 3
   },
   "file_extension": ".py",
   "mimetype": "text/x-python",
   "name": "python",
   "nbconvert_exporter": "python",
   "pygments_lexer": "ipython3",
   "version": "3.8.5-final"
  },
  "orig_nbformat": 2,
  "kernelspec": {
   "name": "python3",
   "display_name": "Python 3",
   "language": "python"
  }
 },
 "nbformat": 4,
 "nbformat_minor": 2,
 "cells": [
  {
   "source": [
    "Розробити типи для облiку продаж товарiв у супермаркетi. Асортимент подано перелiком товарiв, якi характеризуються iдентифiкацiйним номе- ром, назвою, категорiєю та належнiстю до акцiйної групи (так/нi). Цiни товарiв визначаються тарифiкацiйним перелiком, де кожному iдентифiка- цiйному номеру поставлено у вiдповiднiсть цiну за одиницю товару. При розрахунках реальна цiна акцiйного товару становить половину тарифної. Данi продаж характеризуються iдентифiкацiйним номером проданого това- ру та кiлькiстю одиниць. Асортимент та тарифи подано окремими файлами. Продажi також подано кiлькома (> одного) окремими файлами. Викори- стовуючи pandas:\n",
    "0. Побудувати датафрейм з iнформацiєю про усi проданi товари.<br>\n",
    "1. Отримати у категорiї ПРОДАНИХ товарiв, яку вибирати з випадаю- чого списку, для кожної назви виручену суму у форматi < назва товару - сума >.\n",
    "2. Отримати для кожної категорiї ПРОДАНИХ товарiв виручену суму у форматi < категорiя - сума >.<br>\n",
    "2а. Побудувати дiаграму виручених сум по категорiях.<br>\n",
    "3. Отримати у кожнiй категорiї ПРОДАНИХ товарiв назви товарiв з найбiльшою вирученою сумою у форматi < назва товару - сума >.<br>\n",
    "4. У категорiї ПРОДАНИХ товарiв, яку вибирати з випадаючого списку, для кожного з проданих товарiв акцiйної групи отримати кiлькiсть продаж та виручену суму.<br>\n",
    "5. Отримати загальну суму ПРОДАНИХ товарiв.<br>\n",
    "6. Отримати перелiк товарiв для кожної категорiї, якi не продавалися. <br>"
   ],
   "cell_type": "markdown",
   "metadata": {}
  },
  {
   "cell_type": "code",
   "execution_count": 474,
   "metadata": {},
   "outputs": [],
   "source": [
    "import pandas as pd\n",
    "from ipywidgets import interact, interactive, fixed, interact_manual\n",
    "import ipywidgets as widgets\n",
    "import csv\n",
    "from matplotlib import pyplot as plt"
   ]
  },
  {
   "cell_type": "code",
   "execution_count": 475,
   "metadata": {},
   "outputs": [
    {
     "output_type": "execute_result",
     "data": {
      "text/plain": [
       "   Number   Title   Category Promotional\n",
       "0   12345  title1  category1         yes\n",
       "1   34567  title2  category1         yes\n",
       "2   56789  title3  category2          no\n",
       "3   78912  title4  category3         yes\n",
       "4   91234  title5  category3          no\n",
       "5   23456  title6  category2         yes"
      ],
      "text/html": "<div>\n<style scoped>\n    .dataframe tbody tr th:only-of-type {\n        vertical-align: middle;\n    }\n\n    .dataframe tbody tr th {\n        vertical-align: top;\n    }\n\n    .dataframe thead th {\n        text-align: right;\n    }\n</style>\n<table border=\"1\" class=\"dataframe\">\n  <thead>\n    <tr style=\"text-align: right;\">\n      <th></th>\n      <th>Number</th>\n      <th>Title</th>\n      <th>Category</th>\n      <th>Promotional</th>\n    </tr>\n  </thead>\n  <tbody>\n    <tr>\n      <th>0</th>\n      <td>12345</td>\n      <td>title1</td>\n      <td>category1</td>\n      <td>yes</td>\n    </tr>\n    <tr>\n      <th>1</th>\n      <td>34567</td>\n      <td>title2</td>\n      <td>category1</td>\n      <td>yes</td>\n    </tr>\n    <tr>\n      <th>2</th>\n      <td>56789</td>\n      <td>title3</td>\n      <td>category2</td>\n      <td>no</td>\n    </tr>\n    <tr>\n      <th>3</th>\n      <td>78912</td>\n      <td>title4</td>\n      <td>category3</td>\n      <td>yes</td>\n    </tr>\n    <tr>\n      <th>4</th>\n      <td>91234</td>\n      <td>title5</td>\n      <td>category3</td>\n      <td>no</td>\n    </tr>\n    <tr>\n      <th>5</th>\n      <td>23456</td>\n      <td>title6</td>\n      <td>category2</td>\n      <td>yes</td>\n    </tr>\n  </tbody>\n</table>\n</div>"
     },
     "metadata": {},
     "execution_count": 475
    }
   ],
   "source": [
    "assortment = pd.read_csv(\"assortment.csv\")\n",
    "assortment"
   ]
  },
  {
   "cell_type": "code",
   "execution_count": 476,
   "metadata": {},
   "outputs": [
    {
     "output_type": "execute_result",
     "data": {
      "text/plain": [
       "   Number  Price\n",
       "0   12345    100\n",
       "1   34567    150\n",
       "2   56789     75\n",
       "3   78912    200\n",
       "4   91234    125\n",
       "5   23456    300"
      ],
      "text/html": "<div>\n<style scoped>\n    .dataframe tbody tr th:only-of-type {\n        vertical-align: middle;\n    }\n\n    .dataframe tbody tr th {\n        vertical-align: top;\n    }\n\n    .dataframe thead th {\n        text-align: right;\n    }\n</style>\n<table border=\"1\" class=\"dataframe\">\n  <thead>\n    <tr style=\"text-align: right;\">\n      <th></th>\n      <th>Number</th>\n      <th>Price</th>\n    </tr>\n  </thead>\n  <tbody>\n    <tr>\n      <th>0</th>\n      <td>12345</td>\n      <td>100</td>\n    </tr>\n    <tr>\n      <th>1</th>\n      <td>34567</td>\n      <td>150</td>\n    </tr>\n    <tr>\n      <th>2</th>\n      <td>56789</td>\n      <td>75</td>\n    </tr>\n    <tr>\n      <th>3</th>\n      <td>78912</td>\n      <td>200</td>\n    </tr>\n    <tr>\n      <th>4</th>\n      <td>91234</td>\n      <td>125</td>\n    </tr>\n    <tr>\n      <th>5</th>\n      <td>23456</td>\n      <td>300</td>\n    </tr>\n  </tbody>\n</table>\n</div>"
     },
     "metadata": {},
     "execution_count": 476
    }
   ],
   "source": [
    "tarifs = pd.read_csv(\"tarifs.csv\")\n",
    "tarifs"
   ]
  },
  {
   "cell_type": "code",
   "execution_count": 477,
   "metadata": {},
   "outputs": [
    {
     "output_type": "execute_result",
     "data": {
      "text/plain": [
       "   Number  Amount\n",
       "0   12345       5\n",
       "1   34567       4\n",
       "2   56789       2\n",
       "3   12345       3\n",
       "4   78912       1\n",
       "5   12345       1\n",
       "6   91234       3\n",
       "7   34567       2"
      ],
      "text/html": "<div>\n<style scoped>\n    .dataframe tbody tr th:only-of-type {\n        vertical-align: middle;\n    }\n\n    .dataframe tbody tr th {\n        vertical-align: top;\n    }\n\n    .dataframe thead th {\n        text-align: right;\n    }\n</style>\n<table border=\"1\" class=\"dataframe\">\n  <thead>\n    <tr style=\"text-align: right;\">\n      <th></th>\n      <th>Number</th>\n      <th>Amount</th>\n    </tr>\n  </thead>\n  <tbody>\n    <tr>\n      <th>0</th>\n      <td>12345</td>\n      <td>5</td>\n    </tr>\n    <tr>\n      <th>1</th>\n      <td>34567</td>\n      <td>4</td>\n    </tr>\n    <tr>\n      <th>2</th>\n      <td>56789</td>\n      <td>2</td>\n    </tr>\n    <tr>\n      <th>3</th>\n      <td>12345</td>\n      <td>3</td>\n    </tr>\n    <tr>\n      <th>4</th>\n      <td>78912</td>\n      <td>1</td>\n    </tr>\n    <tr>\n      <th>5</th>\n      <td>12345</td>\n      <td>1</td>\n    </tr>\n    <tr>\n      <th>6</th>\n      <td>91234</td>\n      <td>3</td>\n    </tr>\n    <tr>\n      <th>7</th>\n      <td>34567</td>\n      <td>2</td>\n    </tr>\n  </tbody>\n</table>\n</div>"
     },
     "metadata": {},
     "execution_count": 477
    }
   ],
   "source": [
    "sales1 = pd.read_csv(\"sales1.csv\")\n",
    "sales1"
   ]
  },
  {
   "cell_type": "code",
   "execution_count": 478,
   "metadata": {},
   "outputs": [
    {
     "output_type": "execute_result",
     "data": {
      "text/plain": [
       "   Number  Amount\n",
       "0   91234       3\n",
       "1   91234       2\n",
       "2   78912       1\n",
       "3   12345       1\n",
       "4   78912       5\n",
       "5   34567       5\n",
       "6   56789       7"
      ],
      "text/html": "<div>\n<style scoped>\n    .dataframe tbody tr th:only-of-type {\n        vertical-align: middle;\n    }\n\n    .dataframe tbody tr th {\n        vertical-align: top;\n    }\n\n    .dataframe thead th {\n        text-align: right;\n    }\n</style>\n<table border=\"1\" class=\"dataframe\">\n  <thead>\n    <tr style=\"text-align: right;\">\n      <th></th>\n      <th>Number</th>\n      <th>Amount</th>\n    </tr>\n  </thead>\n  <tbody>\n    <tr>\n      <th>0</th>\n      <td>91234</td>\n      <td>3</td>\n    </tr>\n    <tr>\n      <th>1</th>\n      <td>91234</td>\n      <td>2</td>\n    </tr>\n    <tr>\n      <th>2</th>\n      <td>78912</td>\n      <td>1</td>\n    </tr>\n    <tr>\n      <th>3</th>\n      <td>12345</td>\n      <td>1</td>\n    </tr>\n    <tr>\n      <th>4</th>\n      <td>78912</td>\n      <td>5</td>\n    </tr>\n    <tr>\n      <th>5</th>\n      <td>34567</td>\n      <td>5</td>\n    </tr>\n    <tr>\n      <th>6</th>\n      <td>56789</td>\n      <td>7</td>\n    </tr>\n  </tbody>\n</table>\n</div>"
     },
     "metadata": {},
     "execution_count": 478
    }
   ],
   "source": [
    "sales2 = pd.read_csv(\"sales2.csv\")\n",
    "sales2"
   ]
  },
  {
   "cell_type": "code",
   "execution_count": 479,
   "metadata": {},
   "outputs": [
    {
     "output_type": "execute_result",
     "data": {
      "text/plain": [
       "    Number  Amount\n",
       "0    12345       5\n",
       "1    34567       4\n",
       "2    56789       2\n",
       "3    12345       3\n",
       "4    78912       1\n",
       "5    12345       1\n",
       "6    91234       3\n",
       "7    34567       2\n",
       "8    91234       3\n",
       "9    91234       2\n",
       "10   78912       1\n",
       "11   12345       1\n",
       "12   78912       5\n",
       "13   34567       5\n",
       "14   56789       7"
      ],
      "text/html": "<div>\n<style scoped>\n    .dataframe tbody tr th:only-of-type {\n        vertical-align: middle;\n    }\n\n    .dataframe tbody tr th {\n        vertical-align: top;\n    }\n\n    .dataframe thead th {\n        text-align: right;\n    }\n</style>\n<table border=\"1\" class=\"dataframe\">\n  <thead>\n    <tr style=\"text-align: right;\">\n      <th></th>\n      <th>Number</th>\n      <th>Amount</th>\n    </tr>\n  </thead>\n  <tbody>\n    <tr>\n      <th>0</th>\n      <td>12345</td>\n      <td>5</td>\n    </tr>\n    <tr>\n      <th>1</th>\n      <td>34567</td>\n      <td>4</td>\n    </tr>\n    <tr>\n      <th>2</th>\n      <td>56789</td>\n      <td>2</td>\n    </tr>\n    <tr>\n      <th>3</th>\n      <td>12345</td>\n      <td>3</td>\n    </tr>\n    <tr>\n      <th>4</th>\n      <td>78912</td>\n      <td>1</td>\n    </tr>\n    <tr>\n      <th>5</th>\n      <td>12345</td>\n      <td>1</td>\n    </tr>\n    <tr>\n      <th>6</th>\n      <td>91234</td>\n      <td>3</td>\n    </tr>\n    <tr>\n      <th>7</th>\n      <td>34567</td>\n      <td>2</td>\n    </tr>\n    <tr>\n      <th>8</th>\n      <td>91234</td>\n      <td>3</td>\n    </tr>\n    <tr>\n      <th>9</th>\n      <td>91234</td>\n      <td>2</td>\n    </tr>\n    <tr>\n      <th>10</th>\n      <td>78912</td>\n      <td>1</td>\n    </tr>\n    <tr>\n      <th>11</th>\n      <td>12345</td>\n      <td>1</td>\n    </tr>\n    <tr>\n      <th>12</th>\n      <td>78912</td>\n      <td>5</td>\n    </tr>\n    <tr>\n      <th>13</th>\n      <td>34567</td>\n      <td>5</td>\n    </tr>\n    <tr>\n      <th>14</th>\n      <td>56789</td>\n      <td>7</td>\n    </tr>\n  </tbody>\n</table>\n</div>"
     },
     "metadata": {},
     "execution_count": 479
    }
   ],
   "source": [
    "sales = [sales1, sales2]\n",
    "sales = pd.concat(sales, ignore_index=True)\n",
    "sales"
   ]
  },
  {
   "source": [
    "### 0.\n",
    "Побудувати датафрейм з iнформацiєю про усi проданi товари."
   ],
   "cell_type": "markdown",
   "metadata": {}
  },
  {
   "cell_type": "code",
   "execution_count": 480,
   "metadata": {},
   "outputs": [
    {
     "output_type": "execute_result",
     "data": {
      "text/plain": [
       "    Number  Amount   Title   Category Promotional  Price\n",
       "0    12345       5  title1  category1         yes    100\n",
       "1    12345       3  title1  category1         yes    100\n",
       "2    12345       1  title1  category1         yes    100\n",
       "3    12345       1  title1  category1         yes    100\n",
       "4    34567       4  title2  category1         yes    150\n",
       "5    34567       2  title2  category1         yes    150\n",
       "6    34567       5  title2  category1         yes    150\n",
       "7    56789       2  title3  category2          no     75\n",
       "8    56789       7  title3  category2          no     75\n",
       "9    78912       1  title4  category3         yes    200\n",
       "10   78912       1  title4  category3         yes    200\n",
       "11   78912       5  title4  category3         yes    200\n",
       "12   91234       3  title5  category3          no    125\n",
       "13   91234       3  title5  category3          no    125\n",
       "14   91234       2  title5  category3          no    125"
      ],
      "text/html": "<div>\n<style scoped>\n    .dataframe tbody tr th:only-of-type {\n        vertical-align: middle;\n    }\n\n    .dataframe tbody tr th {\n        vertical-align: top;\n    }\n\n    .dataframe thead th {\n        text-align: right;\n    }\n</style>\n<table border=\"1\" class=\"dataframe\">\n  <thead>\n    <tr style=\"text-align: right;\">\n      <th></th>\n      <th>Number</th>\n      <th>Amount</th>\n      <th>Title</th>\n      <th>Category</th>\n      <th>Promotional</th>\n      <th>Price</th>\n    </tr>\n  </thead>\n  <tbody>\n    <tr>\n      <th>0</th>\n      <td>12345</td>\n      <td>5</td>\n      <td>title1</td>\n      <td>category1</td>\n      <td>yes</td>\n      <td>100</td>\n    </tr>\n    <tr>\n      <th>1</th>\n      <td>12345</td>\n      <td>3</td>\n      <td>title1</td>\n      <td>category1</td>\n      <td>yes</td>\n      <td>100</td>\n    </tr>\n    <tr>\n      <th>2</th>\n      <td>12345</td>\n      <td>1</td>\n      <td>title1</td>\n      <td>category1</td>\n      <td>yes</td>\n      <td>100</td>\n    </tr>\n    <tr>\n      <th>3</th>\n      <td>12345</td>\n      <td>1</td>\n      <td>title1</td>\n      <td>category1</td>\n      <td>yes</td>\n      <td>100</td>\n    </tr>\n    <tr>\n      <th>4</th>\n      <td>34567</td>\n      <td>4</td>\n      <td>title2</td>\n      <td>category1</td>\n      <td>yes</td>\n      <td>150</td>\n    </tr>\n    <tr>\n      <th>5</th>\n      <td>34567</td>\n      <td>2</td>\n      <td>title2</td>\n      <td>category1</td>\n      <td>yes</td>\n      <td>150</td>\n    </tr>\n    <tr>\n      <th>6</th>\n      <td>34567</td>\n      <td>5</td>\n      <td>title2</td>\n      <td>category1</td>\n      <td>yes</td>\n      <td>150</td>\n    </tr>\n    <tr>\n      <th>7</th>\n      <td>56789</td>\n      <td>2</td>\n      <td>title3</td>\n      <td>category2</td>\n      <td>no</td>\n      <td>75</td>\n    </tr>\n    <tr>\n      <th>8</th>\n      <td>56789</td>\n      <td>7</td>\n      <td>title3</td>\n      <td>category2</td>\n      <td>no</td>\n      <td>75</td>\n    </tr>\n    <tr>\n      <th>9</th>\n      <td>78912</td>\n      <td>1</td>\n      <td>title4</td>\n      <td>category3</td>\n      <td>yes</td>\n      <td>200</td>\n    </tr>\n    <tr>\n      <th>10</th>\n      <td>78912</td>\n      <td>1</td>\n      <td>title4</td>\n      <td>category3</td>\n      <td>yes</td>\n      <td>200</td>\n    </tr>\n    <tr>\n      <th>11</th>\n      <td>78912</td>\n      <td>5</td>\n      <td>title4</td>\n      <td>category3</td>\n      <td>yes</td>\n      <td>200</td>\n    </tr>\n    <tr>\n      <th>12</th>\n      <td>91234</td>\n      <td>3</td>\n      <td>title5</td>\n      <td>category3</td>\n      <td>no</td>\n      <td>125</td>\n    </tr>\n    <tr>\n      <th>13</th>\n      <td>91234</td>\n      <td>3</td>\n      <td>title5</td>\n      <td>category3</td>\n      <td>no</td>\n      <td>125</td>\n    </tr>\n    <tr>\n      <th>14</th>\n      <td>91234</td>\n      <td>2</td>\n      <td>title5</td>\n      <td>category3</td>\n      <td>no</td>\n      <td>125</td>\n    </tr>\n  </tbody>\n</table>\n</div>"
     },
     "metadata": {},
     "execution_count": 480
    }
   ],
   "source": [
    "df = pd.merge(sales, assortment)\n",
    "df = df.merge(tarifs)\n",
    "df"
   ]
  },
  {
   "source": [
    "### 1.\n",
    "Отримати у категорiї ПРОДАНИХ товарiв, яку вибирати з випадаю-чого списку, для кожної назви виручену суму у форматi < назва товару -сума >."
   ],
   "cell_type": "markdown",
   "metadata": {}
  },
  {
   "cell_type": "code",
   "execution_count": 481,
   "metadata": {},
   "outputs": [
    {
     "output_type": "display_data",
     "data": {
      "text/plain": "interactive(children=(Dropdown(description='Category', options=('category1', 'category2', 'category3'), value=…",
      "application/vnd.jupyter.widget-view+json": {
       "version_major": 2,
       "version_minor": 0,
       "model_id": "12eb381df9c5437382179d24e7cf1a51"
      }
     },
     "metadata": {}
    }
   ],
   "source": [
    "categories = set(df[\"Category\"])\n",
    "\n",
    "def choose1(Category):\n",
    "    df1 = df.copy()\n",
    "    df1 = df1[df.Category == Category]\n",
    "    df1.loc[(df1.Promotional == \"yes\"), \"Price\"] = df1[\"Price\"] / 2\n",
    "    df1[\"Price\"] = df1[\"Price\"] * df1[\"Amount\"]\n",
    "    df1 = df1.loc[:, ['Title', 'Price']]\n",
    "    df1 = df1.groupby([\"Title\"]).sum()\n",
    "    display(df1)\n",
    "\n",
    "interact(choose1, Category=categories);"
   ]
  },
  {
   "source": [
    "### 2. \n",
    "Отримати для кожної категорiї ПРОДАНИХ товарiв виручену суму у форматi < категорiя - сума >.<br>\n",
    "2а. Побудувати дiаграму виручених сум по категорiях."
   ],
   "cell_type": "markdown",
   "metadata": {}
  },
  {
   "cell_type": "code",
   "execution_count": 482,
   "metadata": {},
   "outputs": [
    {
     "output_type": "display_data",
     "data": {
      "text/plain": "            Price\nCategory         \ncategory1  1325.0\ncategory2   675.0\ncategory3  1700.0",
      "text/html": "<div>\n<style scoped>\n    .dataframe tbody tr th:only-of-type {\n        vertical-align: middle;\n    }\n\n    .dataframe tbody tr th {\n        vertical-align: top;\n    }\n\n    .dataframe thead th {\n        text-align: right;\n    }\n</style>\n<table border=\"1\" class=\"dataframe\">\n  <thead>\n    <tr style=\"text-align: right;\">\n      <th></th>\n      <th>Price</th>\n    </tr>\n    <tr>\n      <th>Category</th>\n      <th></th>\n    </tr>\n  </thead>\n  <tbody>\n    <tr>\n      <th>category1</th>\n      <td>1325.0</td>\n    </tr>\n    <tr>\n      <th>category2</th>\n      <td>675.0</td>\n    </tr>\n    <tr>\n      <th>category3</th>\n      <td>1700.0</td>\n    </tr>\n  </tbody>\n</table>\n</div>"
     },
     "metadata": {}
    },
    {
     "output_type": "execute_result",
     "data": {
      "text/plain": [
       "<matplotlib.axes._subplots.AxesSubplot at 0x12a372eb0>"
      ]
     },
     "metadata": {},
     "execution_count": 482
    },
    {
     "output_type": "display_data",
     "data": {
      "text/plain": "<Figure size 432x288 with 1 Axes>",
      "image/svg+xml": "<?xml version=\"1.0\" encoding=\"utf-8\" standalone=\"no\"?>\n<!DOCTYPE svg PUBLIC \"-//W3C//DTD SVG 1.1//EN\"\n  \"http://www.w3.org/Graphics/SVG/1.1/DTD/svg11.dtd\">\n<!-- Created with matplotlib (https://matplotlib.org/) -->\n<svg height=\"303.0775pt\" version=\"1.1\" viewBox=\"0 0 381.65 303.0775\" width=\"381.65pt\" xmlns=\"http://www.w3.org/2000/svg\" xmlns:xlink=\"http://www.w3.org/1999/xlink\">\n <defs>\n  <style type=\"text/css\">\n*{stroke-linecap:butt;stroke-linejoin:round;}\n  </style>\n </defs>\n <g id=\"figure_1\">\n  <g id=\"patch_1\">\n   <path d=\"M -0 303.0775 \nL 381.65 303.0775 \nL 381.65 0 \nL -0 0 \nz\n\" style=\"fill:none;\"/>\n  </g>\n  <g id=\"axes_1\">\n   <g id=\"patch_2\">\n    <path d=\"M 39.65 224.64 \nL 374.45 224.64 \nL 374.45 7.2 \nL 39.65 7.2 \nz\n\" style=\"fill:#ffffff;\"/>\n   </g>\n   <g id=\"patch_3\">\n    <path clip-path=\"url(#p997204ba78)\" d=\"M 67.55 224.64 \nL 123.35 224.64 \nL 123.35 63.234958 \nL 67.55 63.234958 \nz\n\" style=\"fill:#1f77b4;\"/>\n   </g>\n   <g id=\"patch_4\">\n    <path clip-path=\"url(#p997204ba78)\" d=\"M 179.15 224.64 \nL 234.95 224.64 \nL 234.95 142.41479 \nL 179.15 142.41479 \nz\n\" style=\"fill:#1f77b4;\"/>\n   </g>\n   <g id=\"patch_5\">\n    <path clip-path=\"url(#p997204ba78)\" d=\"M 290.75 224.64 \nL 346.55 224.64 \nL 346.55 17.554286 \nL 290.75 17.554286 \nz\n\" style=\"fill:#1f77b4;\"/>\n   </g>\n   <g id=\"matplotlib.axis_1\">\n    <g id=\"xtick_1\">\n     <g id=\"line2d_1\">\n      <defs>\n       <path d=\"M 0 0 \nL 0 3.5 \n\" id=\"m01a0132637\" style=\"stroke:#000000;stroke-width:0.8;\"/>\n      </defs>\n      <g>\n       <use style=\"stroke:#000000;stroke-width:0.8;\" x=\"95.45\" xlink:href=\"#m01a0132637\" y=\"224.64\"/>\n      </g>\n     </g>\n     <g id=\"text_1\">\n      <!-- category1 -->\n      <defs>\n       <path d=\"M 48.78125 52.59375 \nL 48.78125 44.1875 \nQ 44.96875 46.296875 41.140625 47.34375 \nQ 37.3125 48.390625 33.40625 48.390625 \nQ 24.65625 48.390625 19.8125 42.84375 \nQ 14.984375 37.3125 14.984375 27.296875 \nQ 14.984375 17.28125 19.8125 11.734375 \nQ 24.65625 6.203125 33.40625 6.203125 \nQ 37.3125 6.203125 41.140625 7.25 \nQ 44.96875 8.296875 48.78125 10.40625 \nL 48.78125 2.09375 \nQ 45.015625 0.34375 40.984375 -0.53125 \nQ 36.96875 -1.421875 32.421875 -1.421875 \nQ 20.0625 -1.421875 12.78125 6.34375 \nQ 5.515625 14.109375 5.515625 27.296875 \nQ 5.515625 40.671875 12.859375 48.328125 \nQ 20.21875 56 33.015625 56 \nQ 37.15625 56 41.109375 55.140625 \nQ 45.0625 54.296875 48.78125 52.59375 \nz\n\" id=\"DejaVuSans-99\"/>\n       <path d=\"M 34.28125 27.484375 \nQ 23.390625 27.484375 19.1875 25 \nQ 14.984375 22.515625 14.984375 16.5 \nQ 14.984375 11.71875 18.140625 8.90625 \nQ 21.296875 6.109375 26.703125 6.109375 \nQ 34.1875 6.109375 38.703125 11.40625 \nQ 43.21875 16.703125 43.21875 25.484375 \nL 43.21875 27.484375 \nz\nM 52.203125 31.203125 \nL 52.203125 0 \nL 43.21875 0 \nL 43.21875 8.296875 \nQ 40.140625 3.328125 35.546875 0.953125 \nQ 30.953125 -1.421875 24.3125 -1.421875 \nQ 15.921875 -1.421875 10.953125 3.296875 \nQ 6 8.015625 6 15.921875 \nQ 6 25.140625 12.171875 29.828125 \nQ 18.359375 34.515625 30.609375 34.515625 \nL 43.21875 34.515625 \nL 43.21875 35.40625 \nQ 43.21875 41.609375 39.140625 45 \nQ 35.0625 48.390625 27.6875 48.390625 \nQ 23 48.390625 18.546875 47.265625 \nQ 14.109375 46.140625 10.015625 43.890625 \nL 10.015625 52.203125 \nQ 14.9375 54.109375 19.578125 55.046875 \nQ 24.21875 56 28.609375 56 \nQ 40.484375 56 46.34375 49.84375 \nQ 52.203125 43.703125 52.203125 31.203125 \nz\n\" id=\"DejaVuSans-97\"/>\n       <path d=\"M 18.3125 70.21875 \nL 18.3125 54.6875 \nL 36.8125 54.6875 \nL 36.8125 47.703125 \nL 18.3125 47.703125 \nL 18.3125 18.015625 \nQ 18.3125 11.328125 20.140625 9.421875 \nQ 21.96875 7.515625 27.59375 7.515625 \nL 36.8125 7.515625 \nL 36.8125 0 \nL 27.59375 0 \nQ 17.1875 0 13.234375 3.875 \nQ 9.28125 7.765625 9.28125 18.015625 \nL 9.28125 47.703125 \nL 2.6875 47.703125 \nL 2.6875 54.6875 \nL 9.28125 54.6875 \nL 9.28125 70.21875 \nz\n\" id=\"DejaVuSans-116\"/>\n       <path d=\"M 56.203125 29.59375 \nL 56.203125 25.203125 \nL 14.890625 25.203125 \nQ 15.484375 15.921875 20.484375 11.0625 \nQ 25.484375 6.203125 34.421875 6.203125 \nQ 39.59375 6.203125 44.453125 7.46875 \nQ 49.3125 8.734375 54.109375 11.28125 \nL 54.109375 2.78125 \nQ 49.265625 0.734375 44.1875 -0.34375 \nQ 39.109375 -1.421875 33.890625 -1.421875 \nQ 20.796875 -1.421875 13.15625 6.1875 \nQ 5.515625 13.8125 5.515625 26.8125 \nQ 5.515625 40.234375 12.765625 48.109375 \nQ 20.015625 56 32.328125 56 \nQ 43.359375 56 49.78125 48.890625 \nQ 56.203125 41.796875 56.203125 29.59375 \nz\nM 47.21875 32.234375 \nQ 47.125 39.59375 43.09375 43.984375 \nQ 39.0625 48.390625 32.421875 48.390625 \nQ 24.90625 48.390625 20.390625 44.140625 \nQ 15.875 39.890625 15.1875 32.171875 \nz\n\" id=\"DejaVuSans-101\"/>\n       <path d=\"M 45.40625 27.984375 \nQ 45.40625 37.75 41.375 43.109375 \nQ 37.359375 48.484375 30.078125 48.484375 \nQ 22.859375 48.484375 18.828125 43.109375 \nQ 14.796875 37.75 14.796875 27.984375 \nQ 14.796875 18.265625 18.828125 12.890625 \nQ 22.859375 7.515625 30.078125 7.515625 \nQ 37.359375 7.515625 41.375 12.890625 \nQ 45.40625 18.265625 45.40625 27.984375 \nz\nM 54.390625 6.78125 \nQ 54.390625 -7.171875 48.1875 -13.984375 \nQ 42 -20.796875 29.203125 -20.796875 \nQ 24.46875 -20.796875 20.265625 -20.09375 \nQ 16.0625 -19.390625 12.109375 -17.921875 \nL 12.109375 -9.1875 \nQ 16.0625 -11.328125 19.921875 -12.34375 \nQ 23.78125 -13.375 27.78125 -13.375 \nQ 36.625 -13.375 41.015625 -8.765625 \nQ 45.40625 -4.15625 45.40625 5.171875 \nL 45.40625 9.625 \nQ 42.625 4.78125 38.28125 2.390625 \nQ 33.9375 0 27.875 0 \nQ 17.828125 0 11.671875 7.65625 \nQ 5.515625 15.328125 5.515625 27.984375 \nQ 5.515625 40.671875 11.671875 48.328125 \nQ 17.828125 56 27.875 56 \nQ 33.9375 56 38.28125 53.609375 \nQ 42.625 51.21875 45.40625 46.390625 \nL 45.40625 54.6875 \nL 54.390625 54.6875 \nz\n\" id=\"DejaVuSans-103\"/>\n       <path d=\"M 30.609375 48.390625 \nQ 23.390625 48.390625 19.1875 42.75 \nQ 14.984375 37.109375 14.984375 27.296875 \nQ 14.984375 17.484375 19.15625 11.84375 \nQ 23.34375 6.203125 30.609375 6.203125 \nQ 37.796875 6.203125 41.984375 11.859375 \nQ 46.1875 17.53125 46.1875 27.296875 \nQ 46.1875 37.015625 41.984375 42.703125 \nQ 37.796875 48.390625 30.609375 48.390625 \nz\nM 30.609375 56 \nQ 42.328125 56 49.015625 48.375 \nQ 55.71875 40.765625 55.71875 27.296875 \nQ 55.71875 13.875 49.015625 6.21875 \nQ 42.328125 -1.421875 30.609375 -1.421875 \nQ 18.84375 -1.421875 12.171875 6.21875 \nQ 5.515625 13.875 5.515625 27.296875 \nQ 5.515625 40.765625 12.171875 48.375 \nQ 18.84375 56 30.609375 56 \nz\n\" id=\"DejaVuSans-111\"/>\n       <path d=\"M 41.109375 46.296875 \nQ 39.59375 47.171875 37.8125 47.578125 \nQ 36.03125 48 33.890625 48 \nQ 26.265625 48 22.1875 43.046875 \nQ 18.109375 38.09375 18.109375 28.8125 \nL 18.109375 0 \nL 9.078125 0 \nL 9.078125 54.6875 \nL 18.109375 54.6875 \nL 18.109375 46.1875 \nQ 20.953125 51.171875 25.484375 53.578125 \nQ 30.03125 56 36.53125 56 \nQ 37.453125 56 38.578125 55.875 \nQ 39.703125 55.765625 41.0625 55.515625 \nz\n\" id=\"DejaVuSans-114\"/>\n       <path d=\"M 32.171875 -5.078125 \nQ 28.375 -14.84375 24.75 -17.8125 \nQ 21.140625 -20.796875 15.09375 -20.796875 \nL 7.90625 -20.796875 \nL 7.90625 -13.28125 \nL 13.1875 -13.28125 \nQ 16.890625 -13.28125 18.9375 -11.515625 \nQ 21 -9.765625 23.484375 -3.21875 \nL 25.09375 0.875 \nL 2.984375 54.6875 \nL 12.5 54.6875 \nL 29.59375 11.921875 \nL 46.6875 54.6875 \nL 56.203125 54.6875 \nz\n\" id=\"DejaVuSans-121\"/>\n       <path d=\"M 12.40625 8.296875 \nL 28.515625 8.296875 \nL 28.515625 63.921875 \nL 10.984375 60.40625 \nL 10.984375 69.390625 \nL 28.421875 72.90625 \nL 38.28125 72.90625 \nL 38.28125 8.296875 \nL 54.390625 8.296875 \nL 54.390625 0 \nL 12.40625 0 \nz\n\" id=\"DejaVuSans-49\"/>\n      </defs>\n      <g transform=\"translate(98.209375 282.199375)rotate(-90)scale(0.1 -0.1)\">\n       <use xlink:href=\"#DejaVuSans-99\"/>\n       <use x=\"54.980469\" xlink:href=\"#DejaVuSans-97\"/>\n       <use x=\"116.259766\" xlink:href=\"#DejaVuSans-116\"/>\n       <use x=\"155.46875\" xlink:href=\"#DejaVuSans-101\"/>\n       <use x=\"216.992188\" xlink:href=\"#DejaVuSans-103\"/>\n       <use x=\"280.46875\" xlink:href=\"#DejaVuSans-111\"/>\n       <use x=\"341.650391\" xlink:href=\"#DejaVuSans-114\"/>\n       <use x=\"382.763672\" xlink:href=\"#DejaVuSans-121\"/>\n       <use x=\"441.943359\" xlink:href=\"#DejaVuSans-49\"/>\n      </g>\n     </g>\n    </g>\n    <g id=\"xtick_2\">\n     <g id=\"line2d_2\">\n      <g>\n       <use style=\"stroke:#000000;stroke-width:0.8;\" x=\"207.05\" xlink:href=\"#m01a0132637\" y=\"224.64\"/>\n      </g>\n     </g>\n     <g id=\"text_2\">\n      <!-- category2 -->\n      <defs>\n       <path d=\"M 19.1875 8.296875 \nL 53.609375 8.296875 \nL 53.609375 0 \nL 7.328125 0 \nL 7.328125 8.296875 \nQ 12.9375 14.109375 22.625 23.890625 \nQ 32.328125 33.6875 34.8125 36.53125 \nQ 39.546875 41.84375 41.421875 45.53125 \nQ 43.3125 49.21875 43.3125 52.78125 \nQ 43.3125 58.59375 39.234375 62.25 \nQ 35.15625 65.921875 28.609375 65.921875 \nQ 23.96875 65.921875 18.8125 64.3125 \nQ 13.671875 62.703125 7.8125 59.421875 \nL 7.8125 69.390625 \nQ 13.765625 71.78125 18.9375 73 \nQ 24.125 74.21875 28.421875 74.21875 \nQ 39.75 74.21875 46.484375 68.546875 \nQ 53.21875 62.890625 53.21875 53.421875 \nQ 53.21875 48.921875 51.53125 44.890625 \nQ 49.859375 40.875 45.40625 35.40625 \nQ 44.1875 33.984375 37.640625 27.21875 \nQ 31.109375 20.453125 19.1875 8.296875 \nz\n\" id=\"DejaVuSans-50\"/>\n      </defs>\n      <g transform=\"translate(209.809375 282.199375)rotate(-90)scale(0.1 -0.1)\">\n       <use xlink:href=\"#DejaVuSans-99\"/>\n       <use x=\"54.980469\" xlink:href=\"#DejaVuSans-97\"/>\n       <use x=\"116.259766\" xlink:href=\"#DejaVuSans-116\"/>\n       <use x=\"155.46875\" xlink:href=\"#DejaVuSans-101\"/>\n       <use x=\"216.992188\" xlink:href=\"#DejaVuSans-103\"/>\n       <use x=\"280.46875\" xlink:href=\"#DejaVuSans-111\"/>\n       <use x=\"341.650391\" xlink:href=\"#DejaVuSans-114\"/>\n       <use x=\"382.763672\" xlink:href=\"#DejaVuSans-121\"/>\n       <use x=\"441.943359\" xlink:href=\"#DejaVuSans-50\"/>\n      </g>\n     </g>\n    </g>\n    <g id=\"xtick_3\">\n     <g id=\"line2d_3\">\n      <g>\n       <use style=\"stroke:#000000;stroke-width:0.8;\" x=\"318.65\" xlink:href=\"#m01a0132637\" y=\"224.64\"/>\n      </g>\n     </g>\n     <g id=\"text_3\">\n      <!-- category3 -->\n      <defs>\n       <path d=\"M 40.578125 39.3125 \nQ 47.65625 37.796875 51.625 33 \nQ 55.609375 28.21875 55.609375 21.1875 \nQ 55.609375 10.40625 48.1875 4.484375 \nQ 40.765625 -1.421875 27.09375 -1.421875 \nQ 22.515625 -1.421875 17.65625 -0.515625 \nQ 12.796875 0.390625 7.625 2.203125 \nL 7.625 11.71875 \nQ 11.71875 9.328125 16.59375 8.109375 \nQ 21.484375 6.890625 26.8125 6.890625 \nQ 36.078125 6.890625 40.9375 10.546875 \nQ 45.796875 14.203125 45.796875 21.1875 \nQ 45.796875 27.640625 41.28125 31.265625 \nQ 36.765625 34.90625 28.71875 34.90625 \nL 20.21875 34.90625 \nL 20.21875 43.015625 \nL 29.109375 43.015625 \nQ 36.375 43.015625 40.234375 45.921875 \nQ 44.09375 48.828125 44.09375 54.296875 \nQ 44.09375 59.90625 40.109375 62.90625 \nQ 36.140625 65.921875 28.71875 65.921875 \nQ 24.65625 65.921875 20.015625 65.03125 \nQ 15.375 64.15625 9.8125 62.3125 \nL 9.8125 71.09375 \nQ 15.4375 72.65625 20.34375 73.4375 \nQ 25.25 74.21875 29.59375 74.21875 \nQ 40.828125 74.21875 47.359375 69.109375 \nQ 53.90625 64.015625 53.90625 55.328125 \nQ 53.90625 49.265625 50.4375 45.09375 \nQ 46.96875 40.921875 40.578125 39.3125 \nz\n\" id=\"DejaVuSans-51\"/>\n      </defs>\n      <g transform=\"translate(321.409375 282.199375)rotate(-90)scale(0.1 -0.1)\">\n       <use xlink:href=\"#DejaVuSans-99\"/>\n       <use x=\"54.980469\" xlink:href=\"#DejaVuSans-97\"/>\n       <use x=\"116.259766\" xlink:href=\"#DejaVuSans-116\"/>\n       <use x=\"155.46875\" xlink:href=\"#DejaVuSans-101\"/>\n       <use x=\"216.992188\" xlink:href=\"#DejaVuSans-103\"/>\n       <use x=\"280.46875\" xlink:href=\"#DejaVuSans-111\"/>\n       <use x=\"341.650391\" xlink:href=\"#DejaVuSans-114\"/>\n       <use x=\"382.763672\" xlink:href=\"#DejaVuSans-121\"/>\n       <use x=\"441.943359\" xlink:href=\"#DejaVuSans-51\"/>\n      </g>\n     </g>\n    </g>\n    <g id=\"text_4\">\n     <!-- Category -->\n     <defs>\n      <path d=\"M 64.40625 67.28125 \nL 64.40625 56.890625 \nQ 59.421875 61.53125 53.78125 63.8125 \nQ 48.140625 66.109375 41.796875 66.109375 \nQ 29.296875 66.109375 22.65625 58.46875 \nQ 16.015625 50.828125 16.015625 36.375 \nQ 16.015625 21.96875 22.65625 14.328125 \nQ 29.296875 6.6875 41.796875 6.6875 \nQ 48.140625 6.6875 53.78125 8.984375 \nQ 59.421875 11.28125 64.40625 15.921875 \nL 64.40625 5.609375 \nQ 59.234375 2.09375 53.4375 0.328125 \nQ 47.65625 -1.421875 41.21875 -1.421875 \nQ 24.65625 -1.421875 15.125 8.703125 \nQ 5.609375 18.84375 5.609375 36.375 \nQ 5.609375 53.953125 15.125 64.078125 \nQ 24.65625 74.21875 41.21875 74.21875 \nQ 47.75 74.21875 53.53125 72.484375 \nQ 59.328125 70.75 64.40625 67.28125 \nz\n\" id=\"DejaVuSans-67\"/>\n     </defs>\n     <g transform=\"translate(184.209375 293.797812)scale(0.1 -0.1)\">\n      <use xlink:href=\"#DejaVuSans-67\"/>\n      <use x=\"69.824219\" xlink:href=\"#DejaVuSans-97\"/>\n      <use x=\"131.103516\" xlink:href=\"#DejaVuSans-116\"/>\n      <use x=\"170.3125\" xlink:href=\"#DejaVuSans-101\"/>\n      <use x=\"231.835938\" xlink:href=\"#DejaVuSans-103\"/>\n      <use x=\"295.3125\" xlink:href=\"#DejaVuSans-111\"/>\n      <use x=\"356.494141\" xlink:href=\"#DejaVuSans-114\"/>\n      <use x=\"397.607422\" xlink:href=\"#DejaVuSans-121\"/>\n     </g>\n    </g>\n   </g>\n   <g id=\"matplotlib.axis_2\">\n    <g id=\"ytick_1\">\n     <g id=\"line2d_4\">\n      <defs>\n       <path d=\"M 0 0 \nL -3.5 0 \n\" id=\"m63c11cca59\" style=\"stroke:#000000;stroke-width:0.8;\"/>\n      </defs>\n      <g>\n       <use style=\"stroke:#000000;stroke-width:0.8;\" x=\"39.65\" xlink:href=\"#m63c11cca59\" y=\"224.64\"/>\n      </g>\n     </g>\n     <g id=\"text_5\">\n      <!-- 0 -->\n      <defs>\n       <path d=\"M 31.78125 66.40625 \nQ 24.171875 66.40625 20.328125 58.90625 \nQ 16.5 51.421875 16.5 36.375 \nQ 16.5 21.390625 20.328125 13.890625 \nQ 24.171875 6.390625 31.78125 6.390625 \nQ 39.453125 6.390625 43.28125 13.890625 \nQ 47.125 21.390625 47.125 36.375 \nQ 47.125 51.421875 43.28125 58.90625 \nQ 39.453125 66.40625 31.78125 66.40625 \nz\nM 31.78125 74.21875 \nQ 44.046875 74.21875 50.515625 64.515625 \nQ 56.984375 54.828125 56.984375 36.375 \nQ 56.984375 17.96875 50.515625 8.265625 \nQ 44.046875 -1.421875 31.78125 -1.421875 \nQ 19.53125 -1.421875 13.0625 8.265625 \nQ 6.59375 17.96875 6.59375 36.375 \nQ 6.59375 54.828125 13.0625 64.515625 \nQ 19.53125 74.21875 31.78125 74.21875 \nz\n\" id=\"DejaVuSans-48\"/>\n      </defs>\n      <g transform=\"translate(26.2875 228.439219)scale(0.1 -0.1)\">\n       <use xlink:href=\"#DejaVuSans-48\"/>\n      </g>\n     </g>\n    </g>\n    <g id=\"ytick_2\">\n     <g id=\"line2d_5\">\n      <g>\n       <use style=\"stroke:#000000;stroke-width:0.8;\" x=\"39.65\" xlink:href=\"#m63c11cca59\" y=\"200.276975\"/>\n      </g>\n     </g>\n     <g id=\"text_6\">\n      <!-- 200 -->\n      <g transform=\"translate(13.5625 204.076194)scale(0.1 -0.1)\">\n       <use xlink:href=\"#DejaVuSans-50\"/>\n       <use x=\"63.623047\" xlink:href=\"#DejaVuSans-48\"/>\n       <use x=\"127.246094\" xlink:href=\"#DejaVuSans-48\"/>\n      </g>\n     </g>\n    </g>\n    <g id=\"ytick_3\">\n     <g id=\"line2d_6\">\n      <g>\n       <use style=\"stroke:#000000;stroke-width:0.8;\" x=\"39.65\" xlink:href=\"#m63c11cca59\" y=\"175.91395\"/>\n      </g>\n     </g>\n     <g id=\"text_7\">\n      <!-- 400 -->\n      <defs>\n       <path d=\"M 37.796875 64.3125 \nL 12.890625 25.390625 \nL 37.796875 25.390625 \nz\nM 35.203125 72.90625 \nL 47.609375 72.90625 \nL 47.609375 25.390625 \nL 58.015625 25.390625 \nL 58.015625 17.1875 \nL 47.609375 17.1875 \nL 47.609375 0 \nL 37.796875 0 \nL 37.796875 17.1875 \nL 4.890625 17.1875 \nL 4.890625 26.703125 \nz\n\" id=\"DejaVuSans-52\"/>\n      </defs>\n      <g transform=\"translate(13.5625 179.713168)scale(0.1 -0.1)\">\n       <use xlink:href=\"#DejaVuSans-52\"/>\n       <use x=\"63.623047\" xlink:href=\"#DejaVuSans-48\"/>\n       <use x=\"127.246094\" xlink:href=\"#DejaVuSans-48\"/>\n      </g>\n     </g>\n    </g>\n    <g id=\"ytick_4\">\n     <g id=\"line2d_7\">\n      <g>\n       <use style=\"stroke:#000000;stroke-width:0.8;\" x=\"39.65\" xlink:href=\"#m63c11cca59\" y=\"151.550924\"/>\n      </g>\n     </g>\n     <g id=\"text_8\">\n      <!-- 600 -->\n      <defs>\n       <path d=\"M 33.015625 40.375 \nQ 26.375 40.375 22.484375 35.828125 \nQ 18.609375 31.296875 18.609375 23.390625 \nQ 18.609375 15.53125 22.484375 10.953125 \nQ 26.375 6.390625 33.015625 6.390625 \nQ 39.65625 6.390625 43.53125 10.953125 \nQ 47.40625 15.53125 47.40625 23.390625 \nQ 47.40625 31.296875 43.53125 35.828125 \nQ 39.65625 40.375 33.015625 40.375 \nz\nM 52.59375 71.296875 \nL 52.59375 62.3125 \nQ 48.875 64.0625 45.09375 64.984375 \nQ 41.3125 65.921875 37.59375 65.921875 \nQ 27.828125 65.921875 22.671875 59.328125 \nQ 17.53125 52.734375 16.796875 39.40625 \nQ 19.671875 43.65625 24.015625 45.921875 \nQ 28.375 48.1875 33.59375 48.1875 \nQ 44.578125 48.1875 50.953125 41.515625 \nQ 57.328125 34.859375 57.328125 23.390625 \nQ 57.328125 12.15625 50.6875 5.359375 \nQ 44.046875 -1.421875 33.015625 -1.421875 \nQ 20.359375 -1.421875 13.671875 8.265625 \nQ 6.984375 17.96875 6.984375 36.375 \nQ 6.984375 53.65625 15.1875 63.9375 \nQ 23.390625 74.21875 37.203125 74.21875 \nQ 40.921875 74.21875 44.703125 73.484375 \nQ 48.484375 72.75 52.59375 71.296875 \nz\n\" id=\"DejaVuSans-54\"/>\n      </defs>\n      <g transform=\"translate(13.5625 155.350143)scale(0.1 -0.1)\">\n       <use xlink:href=\"#DejaVuSans-54\"/>\n       <use x=\"63.623047\" xlink:href=\"#DejaVuSans-48\"/>\n       <use x=\"127.246094\" xlink:href=\"#DejaVuSans-48\"/>\n      </g>\n     </g>\n    </g>\n    <g id=\"ytick_5\">\n     <g id=\"line2d_8\">\n      <g>\n       <use style=\"stroke:#000000;stroke-width:0.8;\" x=\"39.65\" xlink:href=\"#m63c11cca59\" y=\"127.187899\"/>\n      </g>\n     </g>\n     <g id=\"text_9\">\n      <!-- 800 -->\n      <defs>\n       <path d=\"M 31.78125 34.625 \nQ 24.75 34.625 20.71875 30.859375 \nQ 16.703125 27.09375 16.703125 20.515625 \nQ 16.703125 13.921875 20.71875 10.15625 \nQ 24.75 6.390625 31.78125 6.390625 \nQ 38.8125 6.390625 42.859375 10.171875 \nQ 46.921875 13.96875 46.921875 20.515625 \nQ 46.921875 27.09375 42.890625 30.859375 \nQ 38.875 34.625 31.78125 34.625 \nz\nM 21.921875 38.8125 \nQ 15.578125 40.375 12.03125 44.71875 \nQ 8.5 49.078125 8.5 55.328125 \nQ 8.5 64.0625 14.71875 69.140625 \nQ 20.953125 74.21875 31.78125 74.21875 \nQ 42.671875 74.21875 48.875 69.140625 \nQ 55.078125 64.0625 55.078125 55.328125 \nQ 55.078125 49.078125 51.53125 44.71875 \nQ 48 40.375 41.703125 38.8125 \nQ 48.828125 37.15625 52.796875 32.3125 \nQ 56.78125 27.484375 56.78125 20.515625 \nQ 56.78125 9.90625 50.3125 4.234375 \nQ 43.84375 -1.421875 31.78125 -1.421875 \nQ 19.734375 -1.421875 13.25 4.234375 \nQ 6.78125 9.90625 6.78125 20.515625 \nQ 6.78125 27.484375 10.78125 32.3125 \nQ 14.796875 37.15625 21.921875 38.8125 \nz\nM 18.3125 54.390625 \nQ 18.3125 48.734375 21.84375 45.5625 \nQ 25.390625 42.390625 31.78125 42.390625 \nQ 38.140625 42.390625 41.71875 45.5625 \nQ 45.3125 48.734375 45.3125 54.390625 \nQ 45.3125 60.0625 41.71875 63.234375 \nQ 38.140625 66.40625 31.78125 66.40625 \nQ 25.390625 66.40625 21.84375 63.234375 \nQ 18.3125 60.0625 18.3125 54.390625 \nz\n\" id=\"DejaVuSans-56\"/>\n      </defs>\n      <g transform=\"translate(13.5625 130.987118)scale(0.1 -0.1)\">\n       <use xlink:href=\"#DejaVuSans-56\"/>\n       <use x=\"63.623047\" xlink:href=\"#DejaVuSans-48\"/>\n       <use x=\"127.246094\" xlink:href=\"#DejaVuSans-48\"/>\n      </g>\n     </g>\n    </g>\n    <g id=\"ytick_6\">\n     <g id=\"line2d_9\">\n      <g>\n       <use style=\"stroke:#000000;stroke-width:0.8;\" x=\"39.65\" xlink:href=\"#m63c11cca59\" y=\"102.824874\"/>\n      </g>\n     </g>\n     <g id=\"text_10\">\n      <!-- 1000 -->\n      <g transform=\"translate(7.2 106.624093)scale(0.1 -0.1)\">\n       <use xlink:href=\"#DejaVuSans-49\"/>\n       <use x=\"63.623047\" xlink:href=\"#DejaVuSans-48\"/>\n       <use x=\"127.246094\" xlink:href=\"#DejaVuSans-48\"/>\n       <use x=\"190.869141\" xlink:href=\"#DejaVuSans-48\"/>\n      </g>\n     </g>\n    </g>\n    <g id=\"ytick_7\">\n     <g id=\"line2d_10\">\n      <g>\n       <use style=\"stroke:#000000;stroke-width:0.8;\" x=\"39.65\" xlink:href=\"#m63c11cca59\" y=\"78.461849\"/>\n      </g>\n     </g>\n     <g id=\"text_11\">\n      <!-- 1200 -->\n      <g transform=\"translate(7.2 82.261067)scale(0.1 -0.1)\">\n       <use xlink:href=\"#DejaVuSans-49\"/>\n       <use x=\"63.623047\" xlink:href=\"#DejaVuSans-50\"/>\n       <use x=\"127.246094\" xlink:href=\"#DejaVuSans-48\"/>\n       <use x=\"190.869141\" xlink:href=\"#DejaVuSans-48\"/>\n      </g>\n     </g>\n    </g>\n    <g id=\"ytick_8\">\n     <g id=\"line2d_11\">\n      <g>\n       <use style=\"stroke:#000000;stroke-width:0.8;\" x=\"39.65\" xlink:href=\"#m63c11cca59\" y=\"54.098824\"/>\n      </g>\n     </g>\n     <g id=\"text_12\">\n      <!-- 1400 -->\n      <g transform=\"translate(7.2 57.898042)scale(0.1 -0.1)\">\n       <use xlink:href=\"#DejaVuSans-49\"/>\n       <use x=\"63.623047\" xlink:href=\"#DejaVuSans-52\"/>\n       <use x=\"127.246094\" xlink:href=\"#DejaVuSans-48\"/>\n       <use x=\"190.869141\" xlink:href=\"#DejaVuSans-48\"/>\n      </g>\n     </g>\n    </g>\n    <g id=\"ytick_9\">\n     <g id=\"line2d_12\">\n      <g>\n       <use style=\"stroke:#000000;stroke-width:0.8;\" x=\"39.65\" xlink:href=\"#m63c11cca59\" y=\"29.735798\"/>\n      </g>\n     </g>\n     <g id=\"text_13\">\n      <!-- 1600 -->\n      <g transform=\"translate(7.2 33.535017)scale(0.1 -0.1)\">\n       <use xlink:href=\"#DejaVuSans-49\"/>\n       <use x=\"63.623047\" xlink:href=\"#DejaVuSans-54\"/>\n       <use x=\"127.246094\" xlink:href=\"#DejaVuSans-48\"/>\n       <use x=\"190.869141\" xlink:href=\"#DejaVuSans-48\"/>\n      </g>\n     </g>\n    </g>\n   </g>\n   <g id=\"patch_6\">\n    <path d=\"M 39.65 224.64 \nL 39.65 7.2 \n\" style=\"fill:none;stroke:#000000;stroke-linecap:square;stroke-linejoin:miter;stroke-width:0.8;\"/>\n   </g>\n   <g id=\"patch_7\">\n    <path d=\"M 374.45 224.64 \nL 374.45 7.2 \n\" style=\"fill:none;stroke:#000000;stroke-linecap:square;stroke-linejoin:miter;stroke-width:0.8;\"/>\n   </g>\n   <g id=\"patch_8\">\n    <path d=\"M 39.65 224.64 \nL 374.45 224.64 \n\" style=\"fill:none;stroke:#000000;stroke-linecap:square;stroke-linejoin:miter;stroke-width:0.8;\"/>\n   </g>\n   <g id=\"patch_9\">\n    <path d=\"M 39.65 7.2 \nL 374.45 7.2 \n\" style=\"fill:none;stroke:#000000;stroke-linecap:square;stroke-linejoin:miter;stroke-width:0.8;\"/>\n   </g>\n   <g id=\"legend_1\">\n    <g id=\"patch_10\">\n     <path d=\"M 46.65 29.878125 \nL 103.045313 29.878125 \nQ 105.045313 29.878125 105.045313 27.878125 \nL 105.045313 14.2 \nQ 105.045313 12.2 103.045313 12.2 \nL 46.65 12.2 \nQ 44.65 12.2 44.65 14.2 \nL 44.65 27.878125 \nQ 44.65 29.878125 46.65 29.878125 \nz\n\" style=\"fill:#ffffff;opacity:0.8;stroke:#cccccc;stroke-linejoin:miter;\"/>\n    </g>\n    <g id=\"patch_11\">\n     <path d=\"M 48.65 23.798437 \nL 68.65 23.798437 \nL 68.65 16.798437 \nL 48.65 16.798437 \nz\n\" style=\"fill:#1f77b4;\"/>\n    </g>\n    <g id=\"text_14\">\n     <!-- Price -->\n     <defs>\n      <path d=\"M 19.671875 64.796875 \nL 19.671875 37.40625 \nL 32.078125 37.40625 \nQ 38.96875 37.40625 42.71875 40.96875 \nQ 46.484375 44.53125 46.484375 51.125 \nQ 46.484375 57.671875 42.71875 61.234375 \nQ 38.96875 64.796875 32.078125 64.796875 \nz\nM 9.8125 72.90625 \nL 32.078125 72.90625 \nQ 44.34375 72.90625 50.609375 67.359375 \nQ 56.890625 61.8125 56.890625 51.125 \nQ 56.890625 40.328125 50.609375 34.8125 \nQ 44.34375 29.296875 32.078125 29.296875 \nL 19.671875 29.296875 \nL 19.671875 0 \nL 9.8125 0 \nz\n\" id=\"DejaVuSans-80\"/>\n      <path d=\"M 9.421875 54.6875 \nL 18.40625 54.6875 \nL 18.40625 0 \nL 9.421875 0 \nz\nM 9.421875 75.984375 \nL 18.40625 75.984375 \nL 18.40625 64.59375 \nL 9.421875 64.59375 \nz\n\" id=\"DejaVuSans-105\"/>\n     </defs>\n     <g transform=\"translate(76.65 23.798437)scale(0.1 -0.1)\">\n      <use xlink:href=\"#DejaVuSans-80\"/>\n      <use x=\"58.552734\" xlink:href=\"#DejaVuSans-114\"/>\n      <use x=\"99.666016\" xlink:href=\"#DejaVuSans-105\"/>\n      <use x=\"127.449219\" xlink:href=\"#DejaVuSans-99\"/>\n      <use x=\"182.429688\" xlink:href=\"#DejaVuSans-101\"/>\n     </g>\n    </g>\n   </g>\n  </g>\n </g>\n <defs>\n  <clipPath id=\"p997204ba78\">\n   <rect height=\"217.44\" width=\"334.8\" x=\"39.65\" y=\"7.2\"/>\n  </clipPath>\n </defs>\n</svg>\n",
      "image/png": "[encoded data removed]"
     },
     "metadata": {
      "needs_background": "light"
     }
    }
   ],
   "source": [
    "df2 = df.copy()\n",
    "df2.loc[(df2.Promotional == \"yes\"), \"Price\"] = df2[\"Price\"] / 2\n",
    "df2[\"Price\"] = df2[\"Price\"] * df2[\"Amount\"]\n",
    "df2 = df2.loc[:, ['Category', 'Price']]\n",
    "df2 = df2.groupby([\"Category\"]).sum()\n",
    "display(df2)\n",
    "df2.plot(kind = 'bar')"
   ]
  },
  {
   "source": [
    "### 3.\n",
    "Отримати у кожнiй категорiї ПРОДАНИХ товарiв назви товарiв знайбiльшою вирученою сумою у форматi < назва товару - сума >.\n"
   ],
   "cell_type": "markdown",
   "metadata": {}
  },
  {
   "cell_type": "code",
   "execution_count": 483,
   "metadata": {},
   "outputs": [
    {
     "output_type": "display_data",
     "data": {
      "text/plain": "            Title   Price\nCategory                 \ncategory1  title2   825.0\ncategory2  title3   675.0\ncategory3  title5  1000.0",
      "text/html": "<div>\n<style scoped>\n    .dataframe tbody tr th:only-of-type {\n        vertical-align: middle;\n    }\n\n    .dataframe tbody tr th {\n        vertical-align: top;\n    }\n\n    .dataframe thead th {\n        text-align: right;\n    }\n</style>\n<table border=\"1\" class=\"dataframe\">\n  <thead>\n    <tr style=\"text-align: right;\">\n      <th></th>\n      <th>Title</th>\n      <th>Price</th>\n    </tr>\n    <tr>\n      <th>Category</th>\n      <th></th>\n      <th></th>\n    </tr>\n  </thead>\n  <tbody>\n    <tr>\n      <th>category1</th>\n      <td>title2</td>\n      <td>825.0</td>\n    </tr>\n    <tr>\n      <th>category2</th>\n      <td>title3</td>\n      <td>675.0</td>\n    </tr>\n    <tr>\n      <th>category3</th>\n      <td>title5</td>\n      <td>1000.0</td>\n    </tr>\n  </tbody>\n</table>\n</div>"
     },
     "metadata": {}
    }
   ],
   "source": [
    "df3 = df.copy()\n",
    "df3.loc[(df3.Promotional == \"yes\"), \"Price\"] = df3[\"Price\"] / 2\n",
    "df3[\"Price\"] = df3[\"Price\"] * df3[\"Amount\"]\n",
    "df3 = df3.loc[:, ['Category', 'Title', 'Price']]\n",
    "df3 = df3.groupby([\"Category\", \"Title\"]).sum()\n",
    "df3 = df3.reset_index()\n",
    "df3 = df3.groupby([\"Category\"]).max()\n",
    "display(df3)\n"
   ]
  },
  {
   "source": [
    "###  4.\n",
    "У категорiї ПРОДАНИХ товарiв, яку вибирати з випадаючого списку, для кожного з проданих товарiв акцiйної групи отримати кiлькiсть продаж та виручену суму."
   ],
   "cell_type": "markdown",
   "metadata": {}
  },
  {
   "cell_type": "code",
   "execution_count": 484,
   "metadata": {},
   "outputs": [
    {
     "output_type": "display_data",
     "data": {
      "text/plain": "interactive(children=(Dropdown(description='Category', options=('category1', 'category2', 'category3'), value=…",
      "application/vnd.jupyter.widget-view+json": {
       "version_major": 2,
       "version_minor": 0,
       "model_id": "a1cab48d0de6435b9ec0b8026e8c0a36"
      }
     },
     "metadata": {}
    }
   ],
   "source": [
    "categories = set(df[\"Category\"])\n",
    "\n",
    "def choose4(Category):\n",
    "    df4 = df.copy()\n",
    "    df4 = df4[(df4.Category == Category) & (df4.Promotional == \"yes\")]\n",
    "    df4[\"Price\"] = df4[\"Price\"] / 2\n",
    "    df4[\"Final price\"] = df4[\"Price\"] * df4[\"Amount\"]\n",
    "    df4 = df4.groupby([\"Category\", \"Title\"]).agg({\"Final price\":\"sum\", \"Amount\":\"sum\"})\n",
    "    display(df4)\n",
    "\n",
    "interact(choose4, Category=categories);"
   ]
  },
  {
   "source": [
    "### 5. \n",
    "Отримати загальну суму ПРОДАНИХ товарiв."
   ],
   "cell_type": "markdown",
   "metadata": {}
  },
  {
   "cell_type": "code",
   "execution_count": 485,
   "metadata": {},
   "outputs": [
    {
     "output_type": "stream",
     "name": "stdout",
     "text": [
      "3700.0\n"
     ]
    }
   ],
   "source": [
    " prices_df = df.copy()\n",
    " prices_df.loc[prices_df.Promotional == \"yes\", \"Price\"] = prices_df[\"Price\"] / 2\n",
    " prices_df = (prices_df[\"Price\"] * prices_df[\"Amount\"])\n",
    " print(prices_df.sum())"
   ]
  },
  {
   "source": [
    "### 6. \n",
    "Отримати перелiк товарiв для кожної категорiї, якi не продавалися."
   ],
   "cell_type": "markdown",
   "metadata": {}
  },
  {
   "cell_type": "code",
   "execution_count": 486,
   "metadata": {},
   "outputs": [
    {
     "output_type": "display_data",
     "data": {
      "text/plain": "     Category   Title\n7   category2  title3\n12  category3  title5",
      "text/html": "<div>\n<style scoped>\n    .dataframe tbody tr th:only-of-type {\n        vertical-align: middle;\n    }\n\n    .dataframe tbody tr th {\n        vertical-align: top;\n    }\n\n    .dataframe thead th {\n        text-align: right;\n    }\n</style>\n<table border=\"1\" class=\"dataframe\">\n  <thead>\n    <tr style=\"text-align: right;\">\n      <th></th>\n      <th>Category</th>\n      <th>Title</th>\n    </tr>\n  </thead>\n  <tbody>\n    <tr>\n      <th>7</th>\n      <td>category2</td>\n      <td>title3</td>\n    </tr>\n    <tr>\n      <th>12</th>\n      <td>category3</td>\n      <td>title5</td>\n    </tr>\n  </tbody>\n</table>\n</div>"
     },
     "metadata": {}
    }
   ],
   "source": [
    "df6 = df.copy()\n",
    "df6 = df6[df6.Promotional == \"no\"]\n",
    "df6 = df6.loc[:, ['Category', 'Title']]\n",
    "df6 = df6.drop_duplicates()\n",
    "# df6 = df6.groupby(\"Category\")\n",
    "display(df6)"
   ]
  },
  {
   "source": [
    "## without Pandas"
   ],
   "cell_type": "markdown",
   "metadata": {}
  },
  {
   "source": [
    "Розробити типи для облiку продаж товарiв у супермаркетi. Асортимент подано перелiком товарiв, якi характеризуються iдентифiкацiйним номе- ром, назвою, категорiєю та належнiстю до акцiйної групи (так/нi). Цiни товарiв визначаються тарифiкацiйним перелiком, де кожному iдентифiка- цiйному номеру поставлено у вiдповiднiсть цiну за одиницю товару. При розрахунках реальна цiна акцiйного товару становить половину тарифної. Данi продаж характеризуються iдентифiкацiйним номером проданого това- ру та кiлькiстю одиниць. Асортимент та тарифи подано окремими файлами. Продажi також подано кiлькома (> одного) окремими файлами. Викори- стовуючи pandas: 0. Побудувати датафрейм з iнформацiєю про усi проданi товари."
   ],
   "cell_type": "markdown",
   "metadata": {}
  },
  {
   "cell_type": "code",
   "execution_count": 487,
   "metadata": {},
   "outputs": [],
   "source": [
    "class Validation:\n",
    "    \"\"\"Class for Validation representation.\"\"\"\n",
    "\n",
    "    @staticmethod\n",
    "    def validateStr(func):\n",
    "        def validateStrWrapper(w, value):\n",
    "            if not(isinstance(value, str)):\n",
    "                raise TypeError('must be an str')\n",
    "            return func(w, value)\n",
    "        return validateStrWrapper\n",
    "\n",
    "    @staticmethod\n",
    "    def validateFloat(func):\n",
    "        def validateFloatWrapper(w, value):\n",
    "            if not(isinstance(value, float)) and not(isinstance(value, int)):\n",
    "                try:\n",
    "                    value = float(value)\n",
    "                except TypeError:\n",
    "                    raise TypeError('must be an float')\n",
    "            return func(w, value)\n",
    "        return validateFloatWrapper\n",
    "\n",
    "    @staticmethod\n",
    "    def validateInt(func):\n",
    "        def validateIntWrapper(w, value):\n",
    "            if not(isinstance(value, int)):\n",
    "                try:\n",
    "                    value = int(value)\n",
    "                except TypeError:\n",
    "                    raise TypeError('must be an int')\n",
    "            return func(w, value)\n",
    "        return validateIntWrapper\n",
    "\n",
    "    @staticmethod\n",
    "    def validateSize(func):\n",
    "        def validateSizeWrapper(w, value):\n",
    "            if not(isinstance(value, int)) and not(isinstance(value, float)):\n",
    "                try:\n",
    "                    value = float(value)\n",
    "                except TypeError:\n",
    "                    raise TypeError('must be an float')\n",
    "            if value < 0:\n",
    "                raise ValueError(\"mast be positive\")\n",
    "            return func(w, value)\n",
    "        return validateSizeWrapper\n",
    "\n",
    "    @staticmethod\n",
    "    def validateAmount(func):\n",
    "        def validateAmountWrapper(w, value):\n",
    "            if not(isinstance(value, int)):\n",
    "                try:\n",
    "                    value = int(value)\n",
    "                except TypeError:\n",
    "                    raise TypeError('must be an int')\n",
    "            if value < 0:\n",
    "                raise ValueError(\"mast be positive\")\n",
    "            return func(w, value)\n",
    "        return validateAmountWrapper\n",
    "\n",
    "    @staticmethod\n",
    "    def validateDate(func):\n",
    "        def validateDateWrapper(w, date):\n",
    "            datetime.strptime(date, '%Y-%m-%d')\n",
    "            return func(w, date)\n",
    "        return validateDateWrapper\n",
    "\n",
    "    @staticmethod\n",
    "    def validateCard(func):\n",
    "        def validateCardWrapper(w, value):\n",
    "            if not value.isdigit():\n",
    "                raise ValueError(\"mast contain only digits\")\n",
    "            return func(w, value)\n",
    "        return validateCardWrapper\n",
    "\n",
    "    @staticmethod\n",
    "    def validateBool(func):\n",
    "        def validateBoolWrapper(w, value):\n",
    "            bools = ['yes', 'no', 'Yes', 'No', '0', '1', 0, 1, True, False, 'True', 'False']\n",
    "            if value not in bools:\n",
    "                raise ValueError(\"mast be boolean\")\n",
    "            return func(w, value)\n",
    "        return validateBoolWrapper\n",
    "\n",
    "\n",
    "    @staticmethod\n",
    "    def validateFileName(end=\".csv\"):\n",
    "        def validateFileNameDecorator(func):\n",
    "            def validateFileNameWrapper(L, filename):\n",
    "                if not filename.endswith(end):\n",
    "                    raise ValueError(\"Incorrect filename, should end with .\" + end + \".\")\n",
    "                return func(L, filename)\n",
    "            return validateFileNameWrapper\n",
    "        return validateFileNameDecorator"
   ]
  },
  {
   "cell_type": "code",
   "execution_count": 488,
   "metadata": {},
   "outputs": [],
   "source": [
    "class Assortment:\n",
    "    \n",
    "    def __init__(self, number, title, category, promotional):\n",
    "        self.number = number\n",
    "        self.title = title\n",
    "        self.category = category\n",
    "        self.promotional = promotional\n",
    "        \n",
    "    @property\n",
    "    def number(self):\n",
    "        return self._number\n",
    "\n",
    "    @number.setter\n",
    "    @Validation.validateAmount\n",
    "    def number(self, value):\n",
    "        self._number = value\n",
    "        \n",
    "    @property\n",
    "    def category(self):\n",
    "        return self._category\n",
    "\n",
    "    @category.setter\n",
    "    @Validation.validateStr\n",
    "    def category(self, value):\n",
    "        self._category = value\n",
    "        \n",
    "    @property\n",
    "    def title(self):\n",
    "        return self._title\n",
    "\n",
    "    @title.setter\n",
    "    @Validation.validateStr\n",
    "    def title(self, value):\n",
    "        self._title = value\n",
    "        \n",
    "    @property\n",
    "    def promotional(self):\n",
    "        return self._promotional\n",
    "\n",
    "    @promotional.setter\n",
    "    @Validation.validateBool\n",
    "    def promotional(self, value):\n",
    "        self._promotional = value\n",
    "        \n",
    "    def __str__(self):\n",
    "        return f\"\\nNumber: {self.number}\\\n",
    "                 \\nTitle: {self.title}\\\n",
    "                 \\nCategory: {self.category}\\\n",
    "                 \\nPromotional: {self.promotional}\"\n",
    "\n",
    "    def __repr__(self):\n",
    "        return f\"\\nNumber: {self.number}\\\n",
    "                 \\nTitle: {self.title}\\\n",
    "                 \\nCategory: {self.category}\\\n",
    "                 \\nPromotional: {self.promotional}\""
   ]
  },
  {
   "cell_type": "code",
   "execution_count": 489,
   "metadata": {},
   "outputs": [],
   "source": [
    "class Tarif:\n",
    "        \n",
    "    def __init__(self, number, price):\n",
    "        self.number = number\n",
    "        self.price = price\n",
    "        \n",
    "    @property\n",
    "    def number(self):\n",
    "        return self._number\n",
    "\n",
    "    @number.setter\n",
    "    @Validation.validateAmount\n",
    "    def number(self, value):\n",
    "        self._number = value\n",
    "        \n",
    "    @property\n",
    "    def price(self):\n",
    "        return self._price\n",
    "\n",
    "    @price.setter\n",
    "    @Validation.validateFloat\n",
    "    def price(self, value):\n",
    "        self._price = value\n",
    "        \n",
    "    def __str__(self):\n",
    "        return f\"\\nNumber: {self.number}\\\n",
    "                 \\nPrice: {self.price}\"\n",
    "\n",
    "    def __repr__(self):\n",
    "        return f\"\\nNumber: {self.number}\\\n",
    "                 \\nPrice: {self.price}\""
   ]
  },
  {
   "cell_type": "code",
   "execution_count": 490,
   "metadata": {},
   "outputs": [],
   "source": [
    "class Sale:\n",
    "        \n",
    "    def __init__(self, number, amount):\n",
    "        self.number = number\n",
    "        self.amount = amount\n",
    "        \n",
    "    @property\n",
    "    def number(self):\n",
    "        return self._number\n",
    "\n",
    "    @number.setter\n",
    "    @Validation.validateAmount\n",
    "    def number(self, value):\n",
    "        self._number = value\n",
    "        \n",
    "    @property\n",
    "    def amount(self):\n",
    "        return self._amount\n",
    "\n",
    "    @amount.setter\n",
    "    @Validation.validateAmount\n",
    "    def amount(self, value):\n",
    "        self._amount = value\n",
    "        \n",
    "    def __str__(self):\n",
    "        return f\"\\nNumber: {self.number}\\\n",
    "                 \\nAmount: {self.amount}\"\n",
    "\n",
    "    def __repr__(self):\n",
    "        return f\"\\nNumber: {self.number}\\\n",
    "                 \\nAmount: {self.amount}\" "
   ]
  },
  {
   "cell_type": "code",
   "execution_count": 491,
   "metadata": {},
   "outputs": [],
   "source": [
    "def read_csv_file(file_name, t, objects):\n",
    "    \n",
    "    try:\n",
    "        with open(file_name, 'r') as v:\n",
    "            r = csv.reader(v)\n",
    "            next(r)\n",
    "            for row in r:\n",
    "                try:\n",
    "                    objects.append(t(*row))\n",
    "                except Exception as e:\n",
    "                    print(f'{file_name}:\\nline - {len(objects)}: {e}')\n",
    "                    continue\n",
    "    except FileNotFoundError as e:\n",
    "        print(e)\n",
    "    except Exception as e:\n",
    "        print(e)"
   ]
  },
  {
   "cell_type": "code",
   "execution_count": 492,
   "metadata": {},
   "outputs": [
    {
     "output_type": "execute_result",
     "data": {
      "text/plain": [
       "([\n",
       "  Number: 12345                 \n",
       "  Title: title1                 \n",
       "  Category: category1                 \n",
       "  Promotional: yes,\n",
       "  \n",
       "  Number: 34567                 \n",
       "  Title: title2                 \n",
       "  Category: category1                 \n",
       "  Promotional: yes,\n",
       "  \n",
       "  Number: 56789                 \n",
       "  Title: title3                 \n",
       "  Category: category2                 \n",
       "  Promotional: no,\n",
       "  \n",
       "  Number: 78912                 \n",
       "  Title: title4                 \n",
       "  Category: category3                 \n",
       "  Promotional: yes,\n",
       "  \n",
       "  Number: 91234                 \n",
       "  Title: title5                 \n",
       "  Category: category3                 \n",
       "  Promotional: no,\n",
       "  \n",
       "  Number: 23456                 \n",
       "  Title: title6                 \n",
       "  Category: category2                 \n",
       "  Promotional: yes],\n",
       " [\n",
       "  Number: 12345                 \n",
       "  Price: 100.0,\n",
       "  \n",
       "  Number: 34567                 \n",
       "  Price: 150.0,\n",
       "  \n",
       "  Number: 56789                 \n",
       "  Price: 75.0,\n",
       "  \n",
       "  Number: 78912                 \n",
       "  Price: 200.0,\n",
       "  \n",
       "  Number: 91234                 \n",
       "  Price: 125.0,\n",
       "  \n",
       "  Number: 23456                 \n",
       "  Price: 300.0],\n",
       " [\n",
       "  Number: 12345                 \n",
       "  Amount: 5,\n",
       "  \n",
       "  Number: 34567                 \n",
       "  Amount: 4,\n",
       "  \n",
       "  Number: 56789                 \n",
       "  Amount: 2,\n",
       "  \n",
       "  Number: 12345                 \n",
       "  Amount: 3,\n",
       "  \n",
       "  Number: 78912                 \n",
       "  Amount: 1,\n",
       "  \n",
       "  Number: 12345                 \n",
       "  Amount: 1,\n",
       "  \n",
       "  Number: 91234                 \n",
       "  Amount: 3,\n",
       "  \n",
       "  Number: 34567                 \n",
       "  Amount: 2,\n",
       "  \n",
       "  Number: 91234                 \n",
       "  Amount: 3,\n",
       "  \n",
       "  Number: 91234                 \n",
       "  Amount: 2,\n",
       "  \n",
       "  Number: 78912                 \n",
       "  Amount: 1,\n",
       "  \n",
       "  Number: 12345                 \n",
       "  Amount: 1,\n",
       "  \n",
       "  Number: 78912                 \n",
       "  Amount: 5,\n",
       "  \n",
       "  Number: 34567                 \n",
       "  Amount: 5,\n",
       "  \n",
       "  Number: 56789                 \n",
       "  Amount: 7])"
      ]
     },
     "metadata": {},
     "execution_count": 492
    }
   ],
   "source": [
    "assortment = []\n",
    "tarifs = []\n",
    "sales = []\n",
    "read_csv_file(\"assortment.csv\", Assortment, assortment)\n",
    "read_csv_file(\"tarifs.csv\", Tarif, tarifs)\n",
    "read_csv_file(\"sales1.csv\", Sale, sales)\n",
    "read_csv_file(\"sales2.csv\", Sale, sales)\n",
    "\n",
    "assortment, tarifs, sales"
   ]
  },
  {
   "source": [
    "### 1.\n",
    "Отримати у категорiї ПРОДАНИХ товарiв, яку вибирати з випадаю-чого списку, для кожної назви виручену суму у форматi < назва товару -сума >."
   ],
   "cell_type": "markdown",
   "metadata": {}
  },
  {
   "cell_type": "code",
   "execution_count": 493,
   "metadata": {},
   "outputs": [
    {
     "output_type": "display_data",
     "data": {
      "text/plain": "interactive(children=(Dropdown(description='Category', options={'category1': [\nNumber: 12345                 \n…",
      "application/vnd.jupyter.widget-view+json": {
       "version_major": 2,
       "version_minor": 0,
       "model_id": "822455b66ee04a128086a8de75db47c5"
      }
     },
     "metadata": {}
    }
   ],
   "source": [
    "categories = {}\n",
    "for a in assortment:\n",
    "    categories.setdefault(a.category, []).append(a)\n",
    "\n",
    "def choose1(Category):\n",
    "    for cat in Category:\n",
    "        price = 0\n",
    "        for tarif in tarifs:\n",
    "            if tarif.number == cat.number:\n",
    "                if cat.promotional == 'yes':\n",
    "                    p = tarif.price/2\n",
    "                else:\n",
    "                    p = tarif.price\n",
    "                for sal in sales:\n",
    "                    if sal.number == cat.number:\n",
    "                        price += sal.amount*p\n",
    "        print(f\"{cat.title} - {price}\")\n",
    "\n",
    "interact(choose1, Category=categories);"
   ]
  },
  {
   "source": [
    "### 2.\n",
    "Отримати для кожної категорiї ПРОДАНИХ товарiв виручену сумуу форматi < категорiя - сума >. 2а. Побудувати дiаграму виручених сум по категорiях."
   ],
   "cell_type": "markdown",
   "metadata": {}
  },
  {
   "cell_type": "code",
   "execution_count": 494,
   "metadata": {},
   "outputs": [
    {
     "output_type": "stream",
     "name": "stdout",
     "text": [
      "category1 - 1325.0\ncategory2 - 675.0\ncategory3 - 1700.0\n"
     ]
    }
   ],
   "source": [
    "for c, category in categories.items():\n",
    "    price = 0\n",
    "    for cat in category:\n",
    "            for tarif in tarifs:\n",
    "                if tarif.number == cat.number:\n",
    "                    if cat.promotional == 'yes':\n",
    "                        p = tarif.price/2\n",
    "                    else:\n",
    "                        p = tarif.price\n",
    "                    for sal in sales:\n",
    "                        if sal.number == cat.number:\n",
    "                            price += sal.amount*p\n",
    "    print(f\"{c} - {price}\")"
   ]
  },
  {
   "source": [
    "### 3.\n",
    "Отримати у кожнiй категорiї ПРОДАНИХ товарiв назви товарiв знайбiльшою вирученою сумою у форматi < назва товару - сума >."
   ],
   "cell_type": "markdown",
   "metadata": {}
  },
  {
   "cell_type": "code",
   "execution_count": 495,
   "metadata": {},
   "outputs": [
    {
     "output_type": "stream",
     "name": "stdout",
     "text": [
      "category1 - title2 - 825.0\ncategory2 - title3 - 675.0\ncategory3 - title5 - 1000.0\n"
     ]
    }
   ],
   "source": [
    "for c, category in categories.items():\n",
    "    ls = []\n",
    "    for cat in category:\n",
    "        price = 0\n",
    "        for tarif in tarifs:\n",
    "            if tarif.number == cat.number:\n",
    "                if cat.promotional == 'yes':\n",
    "                    p = tarif.price/2\n",
    "                else:\n",
    "                    p = tarif.price\n",
    "                for sal in sales:\n",
    "                    if sal.number == cat.number:\n",
    "                        price += sal.amount*p\n",
    "        ls.append((price, cat.title))\n",
    "    m = max(ls, key=lambda i: i[0])\n",
    "    print(f\"{c} - {m[1]} - {m[0]}\")\n",
    "   "
   ]
  },
  {
   "source": [
    "### 4.\n",
    "У категорiї ПРОДАНИХ товарiв, яку вибирати з випадаючого списку,для кожного з проданих товарiв акцiйної групи отримати кiлькiсть продажта виручену суму."
   ],
   "cell_type": "markdown",
   "metadata": {}
  },
  {
   "cell_type": "code",
   "execution_count": 496,
   "metadata": {},
   "outputs": [
    {
     "output_type": "display_data",
     "data": {
      "text/plain": "interactive(children=(Dropdown(description='Category', options={'category1': [\nNumber: 12345                 \n…",
      "application/vnd.jupyter.widget-view+json": {
       "version_major": 2,
       "version_minor": 0,
       "model_id": "b44a8618317b47f9ac8d196ba26345c8"
      }
     },
     "metadata": {}
    }
   ],
   "source": [
    "def choose4(Category):\n",
    "    for cat in Category:\n",
    "        price = 0\n",
    "        amount = 0\n",
    "        for tarif in tarifs:\n",
    "            if tarif.number == cat.number:\n",
    "                if cat.promotional == 'yes':\n",
    "                    p = tarif.price/2\n",
    "                # else:\n",
    "                #     p = tarif.price\n",
    "                    for sal in sales:\n",
    "                        if sal.number == cat.number:\n",
    "                            price += sal.amount*p\n",
    "                            amount += sal.amount\n",
    "        print(f\"{cat.title} - {price} - {amount}\")\n",
    "\n",
    "interact(choose4, Category=categories);"
   ]
  },
  {
   "source": [
    "### 5.\n",
    "Отримати загальну суму ПРОДАНИХ товарiв."
   ],
   "cell_type": "markdown",
   "metadata": {}
  },
  {
   "cell_type": "code",
   "execution_count": 497,
   "metadata": {},
   "outputs": [
    {
     "output_type": "stream",
     "name": "stdout",
     "text": [
      "Sum = 3700.0\n"
     ]
    }
   ],
   "source": [
    "price = 0\n",
    "for c, category in categories.items():\n",
    "    for cat in category:\n",
    "        for tarif in tarifs:\n",
    "            if tarif.number == cat.number:\n",
    "                if cat.promotional == 'yes':\n",
    "                    p = tarif.price/2\n",
    "                else:\n",
    "                    p = tarif.price\n",
    "                for sal in sales:\n",
    "                    if sal.number == cat.number:\n",
    "                        price += sal.amount*p\n",
    "print(f\"Sum = {price}\")"
   ]
  },
  {
   "source": [
    "### 6. \n",
    "Отримати перелiк товарiв для кожної категорiї, якi не продавалися."
   ],
   "cell_type": "markdown",
   "metadata": {}
  },
  {
   "cell_type": "code",
   "execution_count": 498,
   "metadata": {},
   "outputs": [
    {
     "output_type": "stream",
     "name": "stdout",
     "text": [
      "category1: []\ncategory2: ['title3']\ncategory3: ['title5']\n"
     ]
    }
   ],
   "source": [
    "for c, category in categories.items():\n",
    "    print(f\"{c}: {[a.title for a in category if a.promotional == 'no']}\")"
   ]
  }
 ]
}