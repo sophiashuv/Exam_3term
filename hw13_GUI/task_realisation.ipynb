{
 "metadata": {
  "language_info": {
   "codemirror_mode": {
    "name": "ipython",
    "version": 3
   },
   "file_extension": ".py",
   "mimetype": "text/x-python",
   "name": "python",
   "nbconvert_exporter": "python",
   "pygments_lexer": "ipython3",
   "version": "3.8.5-final"
  },
  "orig_nbformat": 2,
  "kernelspec": {
   "name": "python3",
   "display_name": "Python 3",
   "language": "python"
  }
 },
 "nbformat": 4,
 "nbformat_minor": 2,
 "cells": [
  {
   "source": [
    "Розробити типи для облiку видачi пацiєнтам лiкiв в медзакладi вiдповiдно до призначень лiкаря. Пацiєнт характеризується iменем i прiзвищем та реєстрацiйним номером. Призначення характеризується реєстрацiйним номером пацiєнта, датою, назвою лiкiв, дозою в мг i кiлькiстю прийомiв у день. Призначення та iнформацiя про пацiєнтiв подано окремими файлами. Отримати засобами Pandas вказанi в завданнях данi i вiзуалiзувати їх : <br>\n",
    "<br>\n",
    "1. для кожного пацiєнта ( за iменем i прiзвищем) повний перелiк (без повторень) отриманих лiкiв iз вказанням сумарної кiлькостi кожного препарату в мг; <br>\n",
    "Крiм того, надати GUI з елементами:<br>\n",
    "    – випадаючий список для задання пацiєнта за iменем i прiзвищем<br>\n",
    "    – випадаючий список для задання назви препарату<br>\n",
    "    – елемент для перiоду часу<br>\n",
    "    – кнопка для побудови дiаграми отриманого пацiєнтом конкретного препарату за перiод часу.<br>\n",
    "<br>\n",
    "2. для кожного препарату загальний розхiд за перiоду часу. <br>\n",
    "Крiм того, надати GUI з елементами:<br>\n",
    "    – випадаючий список для задання назви препарату<br>\n",
    "    – елемент для перiоду часу<br>\n",
    "    – кнопка для побудови дiаграми загального розходу конкретного препарату за перiоду часу.<br>"
   ],
   "cell_type": "markdown",
   "metadata": {}
  },
  {
   "cell_type": "code",
   "execution_count": 71,
   "metadata": {},
   "outputs": [],
   "source": [
    "import csv\n",
    "import pandas as pd\n",
    "import matplotlib.pyplot as plt\n",
    "import numpy as np\n",
    "from ipywidgets import interact, interactive, fixed, interact_manual\n",
    "import ipywidgets as widgets\n",
    "from datetime import datetime"
   ]
  },
  {
   "source": [
    "# Task 1"
   ],
   "cell_type": "markdown",
   "metadata": {}
  },
  {
   "cell_type": "code",
   "execution_count": 72,
   "metadata": {},
   "outputs": [
    {
     "output_type": "display_data",
     "data": {
      "text/plain": "   patient_number        full_name\n0               1    Alvera Hammes\n1               2     Barry Conner\n2               3     Brando Nolan\n3               4   Miss Lueilwitz\n4               5  Nakia Rodriguez",
      "text/html": "<div>\n<style scoped>\n    .dataframe tbody tr th:only-of-type {\n        vertical-align: middle;\n    }\n\n    .dataframe tbody tr th {\n        vertical-align: top;\n    }\n\n    .dataframe thead th {\n        text-align: right;\n    }\n</style>\n<table border=\"1\" class=\"dataframe\">\n  <thead>\n    <tr style=\"text-align: right;\">\n      <th></th>\n      <th>patient_number</th>\n      <th>full_name</th>\n    </tr>\n  </thead>\n  <tbody>\n    <tr>\n      <th>0</th>\n      <td>1</td>\n      <td>Alvera Hammes</td>\n    </tr>\n    <tr>\n      <th>1</th>\n      <td>2</td>\n      <td>Barry Conner</td>\n    </tr>\n    <tr>\n      <th>2</th>\n      <td>3</td>\n      <td>Brando Nolan</td>\n    </tr>\n    <tr>\n      <th>3</th>\n      <td>4</td>\n      <td>Miss Lueilwitz</td>\n    </tr>\n    <tr>\n      <th>4</th>\n      <td>5</td>\n      <td>Nakia Rodriguez</td>\n    </tr>\n  </tbody>\n</table>\n</div>"
     },
     "metadata": {}
    }
   ],
   "source": [
    "patients = pd.read_csv('patients.csv')\n",
    "cols = [\"patient_name\", \"patient_last_name\"]\n",
    "patients['full_name'] = patients[cols].apply(lambda row: ' '.join(row.values.astype(str)), axis=1)\n",
    "patients = patients.drop(cols, axis=1)\n",
    "display(patients)"
   ]
  },
  {
   "cell_type": "code",
   "execution_count": 73,
   "metadata": {},
   "outputs": [
    {
     "output_type": "display_data",
     "data": {
      "text/plain": "    patient_number     as_date          as_name  as_dose  as_count\n0                1  2020-12-01          Ibuprom       85         4\n5                1  2020-11-01          Ibuprom       31         6\n10               1  2020-01-02          Estates       51         3\n1                2  2020-11-01          Kopacul       15         2\n7                2  2020-11-21          Ibuprom       43         3\n11               2  2020-06-03           Ikarus       56         7\n2                3  2020-10-01          Magenta       86         4\n12               3  2020-12-01        Berkshire       83         5\n3                4  2020-09-01          Estates       73         5\n6                4  2020-11-11  Buckinghamshire        7         3\n8                4  2020-10-09          Kopacul       54         3\n13               4  2020-11-01  Buckinghamshire       10         5\n4                5  2020-08-01           Ikarus       31         4\n9                5  2020-01-01          Magenta       75         7",
      "text/html": "<div>\n<style scoped>\n    .dataframe tbody tr th:only-of-type {\n        vertical-align: middle;\n    }\n\n    .dataframe tbody tr th {\n        vertical-align: top;\n    }\n\n    .dataframe thead th {\n        text-align: right;\n    }\n</style>\n<table border=\"1\" class=\"dataframe\">\n  <thead>\n    <tr style=\"text-align: right;\">\n      <th></th>\n      <th>patient_number</th>\n      <th>as_date</th>\n      <th>as_name</th>\n      <th>as_dose</th>\n      <th>as_count</th>\n    </tr>\n  </thead>\n  <tbody>\n    <tr>\n      <th>0</th>\n      <td>1</td>\n      <td>2020-12-01</td>\n      <td>Ibuprom</td>\n      <td>85</td>\n      <td>4</td>\n    </tr>\n    <tr>\n      <th>5</th>\n      <td>1</td>\n      <td>2020-11-01</td>\n      <td>Ibuprom</td>\n      <td>31</td>\n      <td>6</td>\n    </tr>\n    <tr>\n      <th>10</th>\n      <td>1</td>\n      <td>2020-01-02</td>\n      <td>Estates</td>\n      <td>51</td>\n      <td>3</td>\n    </tr>\n    <tr>\n      <th>1</th>\n      <td>2</td>\n      <td>2020-11-01</td>\n      <td>Kopacul</td>\n      <td>15</td>\n      <td>2</td>\n    </tr>\n    <tr>\n      <th>7</th>\n      <td>2</td>\n      <td>2020-11-21</td>\n      <td>Ibuprom</td>\n      <td>43</td>\n      <td>3</td>\n    </tr>\n    <tr>\n      <th>11</th>\n      <td>2</td>\n      <td>2020-06-03</td>\n      <td>Ikarus</td>\n      <td>56</td>\n      <td>7</td>\n    </tr>\n    <tr>\n      <th>2</th>\n      <td>3</td>\n      <td>2020-10-01</td>\n      <td>Magenta</td>\n      <td>86</td>\n      <td>4</td>\n    </tr>\n    <tr>\n      <th>12</th>\n      <td>3</td>\n      <td>2020-12-01</td>\n      <td>Berkshire</td>\n      <td>83</td>\n      <td>5</td>\n    </tr>\n    <tr>\n      <th>3</th>\n      <td>4</td>\n      <td>2020-09-01</td>\n      <td>Estates</td>\n      <td>73</td>\n      <td>5</td>\n    </tr>\n    <tr>\n      <th>6</th>\n      <td>4</td>\n      <td>2020-11-11</td>\n      <td>Buckinghamshire</td>\n      <td>7</td>\n      <td>3</td>\n    </tr>\n    <tr>\n      <th>8</th>\n      <td>4</td>\n      <td>2020-10-09</td>\n      <td>Kopacul</td>\n      <td>54</td>\n      <td>3</td>\n    </tr>\n    <tr>\n      <th>13</th>\n      <td>4</td>\n      <td>2020-11-01</td>\n      <td>Buckinghamshire</td>\n      <td>10</td>\n      <td>5</td>\n    </tr>\n    <tr>\n      <th>4</th>\n      <td>5</td>\n      <td>2020-08-01</td>\n      <td>Ikarus</td>\n      <td>31</td>\n      <td>4</td>\n    </tr>\n    <tr>\n      <th>9</th>\n      <td>5</td>\n      <td>2020-01-01</td>\n      <td>Magenta</td>\n      <td>75</td>\n      <td>7</td>\n    </tr>\n  </tbody>\n</table>\n</div>"
     },
     "metadata": {}
    }
   ],
   "source": [
    "assigments = pd.read_csv('assigments.csv')\n",
    "assigments.sort_values('patient_number', inplace = True)\n",
    "display(assigments)"
   ]
  },
  {
   "cell_type": "code",
   "execution_count": 74,
   "metadata": {},
   "outputs": [
    {
     "output_type": "display_data",
     "data": {
      "text/plain": "    patient_number     as_date          as_name  as_dose  as_count\n0                1  2020-12-01          Ibuprom      116        10\n1                2  2020-11-01          Kopacul       15         2\n2                3  2020-10-01          Magenta       86         4\n3                4  2020-09-01          Estates       73         5\n4                5  2020-08-01           Ikarus       31         4\n6                4  2020-11-11  Buckinghamshire       17         8\n7                2  2020-11-21          Ibuprom       43         3\n8                4  2020-10-09          Kopacul       54         3\n9                5  2020-01-01          Magenta       75         7\n10               1  2020-01-02          Estates       51         3\n11               2  2020-06-03           Ikarus       56         7\n12               3  2020-12-01        Berkshire       83         5",
      "text/html": "<div>\n<style scoped>\n    .dataframe tbody tr th:only-of-type {\n        vertical-align: middle;\n    }\n\n    .dataframe tbody tr th {\n        vertical-align: top;\n    }\n\n    .dataframe thead th {\n        text-align: right;\n    }\n</style>\n<table border=\"1\" class=\"dataframe\">\n  <thead>\n    <tr style=\"text-align: right;\">\n      <th></th>\n      <th>patient_number</th>\n      <th>as_date</th>\n      <th>as_name</th>\n      <th>as_dose</th>\n      <th>as_count</th>\n    </tr>\n  </thead>\n  <tbody>\n    <tr>\n      <th>0</th>\n      <td>1</td>\n      <td>2020-12-01</td>\n      <td>Ibuprom</td>\n      <td>116</td>\n      <td>10</td>\n    </tr>\n    <tr>\n      <th>1</th>\n      <td>2</td>\n      <td>2020-11-01</td>\n      <td>Kopacul</td>\n      <td>15</td>\n      <td>2</td>\n    </tr>\n    <tr>\n      <th>2</th>\n      <td>3</td>\n      <td>2020-10-01</td>\n      <td>Magenta</td>\n      <td>86</td>\n      <td>4</td>\n    </tr>\n    <tr>\n      <th>3</th>\n      <td>4</td>\n      <td>2020-09-01</td>\n      <td>Estates</td>\n      <td>73</td>\n      <td>5</td>\n    </tr>\n    <tr>\n      <th>4</th>\n      <td>5</td>\n      <td>2020-08-01</td>\n      <td>Ikarus</td>\n      <td>31</td>\n      <td>4</td>\n    </tr>\n    <tr>\n      <th>6</th>\n      <td>4</td>\n      <td>2020-11-11</td>\n      <td>Buckinghamshire</td>\n      <td>17</td>\n      <td>8</td>\n    </tr>\n    <tr>\n      <th>7</th>\n      <td>2</td>\n      <td>2020-11-21</td>\n      <td>Ibuprom</td>\n      <td>43</td>\n      <td>3</td>\n    </tr>\n    <tr>\n      <th>8</th>\n      <td>4</td>\n      <td>2020-10-09</td>\n      <td>Kopacul</td>\n      <td>54</td>\n      <td>3</td>\n    </tr>\n    <tr>\n      <th>9</th>\n      <td>5</td>\n      <td>2020-01-01</td>\n      <td>Magenta</td>\n      <td>75</td>\n      <td>7</td>\n    </tr>\n    <tr>\n      <th>10</th>\n      <td>1</td>\n      <td>2020-01-02</td>\n      <td>Estates</td>\n      <td>51</td>\n      <td>3</td>\n    </tr>\n    <tr>\n      <th>11</th>\n      <td>2</td>\n      <td>2020-06-03</td>\n      <td>Ikarus</td>\n      <td>56</td>\n      <td>7</td>\n    </tr>\n    <tr>\n      <th>12</th>\n      <td>3</td>\n      <td>2020-12-01</td>\n      <td>Berkshire</td>\n      <td>83</td>\n      <td>5</td>\n    </tr>\n  </tbody>\n</table>\n</div>"
     },
     "metadata": {}
    }
   ],
   "source": [
    "assigments_summed = pd.read_csv('assigments.csv')\n",
    "assigments_summed['as_dose'] = assigments_summed.groupby(['patient_number', 'as_name'])['as_dose'].transform('sum')\n",
    "assigments_summed['as_count'] = assigments_summed.groupby(['patient_number', 'as_name'])['as_count'].transform('sum')\n",
    "assigments_summed = assigments_summed.drop_duplicates(subset =['patient_number',\"as_name\"])\n",
    "display(assigments_summed)"
   ]
  },
  {
   "cell_type": "code",
   "execution_count": 75,
   "metadata": {},
   "outputs": [
    {
     "output_type": "display_data",
     "data": {
      "text/plain": "    patient_number        full_name     as_date          as_name  as_dose  \\\n0                1    Alvera Hammes  2020-12-01          Ibuprom      116   \n1                1    Alvera Hammes  2020-01-02          Estates       51   \n2                2     Barry Conner  2020-11-01          Kopacul       15   \n3                2     Barry Conner  2020-11-21          Ibuprom       43   \n4                2     Barry Conner  2020-06-03           Ikarus       56   \n5                3     Brando Nolan  2020-10-01          Magenta       86   \n6                3     Brando Nolan  2020-12-01        Berkshire       83   \n7                4   Miss Lueilwitz  2020-09-01          Estates       73   \n8                4   Miss Lueilwitz  2020-11-11  Buckinghamshire       17   \n9                4   Miss Lueilwitz  2020-10-09          Kopacul       54   \n10               5  Nakia Rodriguez  2020-08-01           Ikarus       31   \n11               5  Nakia Rodriguez  2020-01-01          Magenta       75   \n\n    as_count  \n0         10  \n1          3  \n2          2  \n3          3  \n4          7  \n5          4  \n6          5  \n7          5  \n8          8  \n9          3  \n10         4  \n11         7  ",
      "text/html": "<div>\n<style scoped>\n    .dataframe tbody tr th:only-of-type {\n        vertical-align: middle;\n    }\n\n    .dataframe tbody tr th {\n        vertical-align: top;\n    }\n\n    .dataframe thead th {\n        text-align: right;\n    }\n</style>\n<table border=\"1\" class=\"dataframe\">\n  <thead>\n    <tr style=\"text-align: right;\">\n      <th></th>\n      <th>patient_number</th>\n      <th>full_name</th>\n      <th>as_date</th>\n      <th>as_name</th>\n      <th>as_dose</th>\n      <th>as_count</th>\n    </tr>\n  </thead>\n  <tbody>\n    <tr>\n      <th>0</th>\n      <td>1</td>\n      <td>Alvera Hammes</td>\n      <td>2020-12-01</td>\n      <td>Ibuprom</td>\n      <td>116</td>\n      <td>10</td>\n    </tr>\n    <tr>\n      <th>1</th>\n      <td>1</td>\n      <td>Alvera Hammes</td>\n      <td>2020-01-02</td>\n      <td>Estates</td>\n      <td>51</td>\n      <td>3</td>\n    </tr>\n    <tr>\n      <th>2</th>\n      <td>2</td>\n      <td>Barry Conner</td>\n      <td>2020-11-01</td>\n      <td>Kopacul</td>\n      <td>15</td>\n      <td>2</td>\n    </tr>\n    <tr>\n      <th>3</th>\n      <td>2</td>\n      <td>Barry Conner</td>\n      <td>2020-11-21</td>\n      <td>Ibuprom</td>\n      <td>43</td>\n      <td>3</td>\n    </tr>\n    <tr>\n      <th>4</th>\n      <td>2</td>\n      <td>Barry Conner</td>\n      <td>2020-06-03</td>\n      <td>Ikarus</td>\n      <td>56</td>\n      <td>7</td>\n    </tr>\n    <tr>\n      <th>5</th>\n      <td>3</td>\n      <td>Brando Nolan</td>\n      <td>2020-10-01</td>\n      <td>Magenta</td>\n      <td>86</td>\n      <td>4</td>\n    </tr>\n    <tr>\n      <th>6</th>\n      <td>3</td>\n      <td>Brando Nolan</td>\n      <td>2020-12-01</td>\n      <td>Berkshire</td>\n      <td>83</td>\n      <td>5</td>\n    </tr>\n    <tr>\n      <th>7</th>\n      <td>4</td>\n      <td>Miss Lueilwitz</td>\n      <td>2020-09-01</td>\n      <td>Estates</td>\n      <td>73</td>\n      <td>5</td>\n    </tr>\n    <tr>\n      <th>8</th>\n      <td>4</td>\n      <td>Miss Lueilwitz</td>\n      <td>2020-11-11</td>\n      <td>Buckinghamshire</td>\n      <td>17</td>\n      <td>8</td>\n    </tr>\n    <tr>\n      <th>9</th>\n      <td>4</td>\n      <td>Miss Lueilwitz</td>\n      <td>2020-10-09</td>\n      <td>Kopacul</td>\n      <td>54</td>\n      <td>3</td>\n    </tr>\n    <tr>\n      <th>10</th>\n      <td>5</td>\n      <td>Nakia Rodriguez</td>\n      <td>2020-08-01</td>\n      <td>Ikarus</td>\n      <td>31</td>\n      <td>4</td>\n    </tr>\n    <tr>\n      <th>11</th>\n      <td>5</td>\n      <td>Nakia Rodriguez</td>\n      <td>2020-01-01</td>\n      <td>Magenta</td>\n      <td>75</td>\n      <td>7</td>\n    </tr>\n  </tbody>\n</table>\n</div>"
     },
     "metadata": {}
    }
   ],
   "source": [
    "big_df = pd.merge(patients, assigments_summed, on='patient_number', how='left').fillna(0)\n",
    "display(big_df)"
   ]
  },
  {
   "source": [
    "Крiм того, надати GUI з елементами:<br>\n",
    "    – випадаючий список для задання пацiєнта за iменем i прiзвищем<br>\n",
    "    – випадаючий список для задання назви препарату<br>\n",
    "    – елемент для перiоду часу<br>\n",
    "    – кнопка для побудови дiаграми отриманого пацiєнтом конкретного препарату за перiод часу.<br>"
   ],
   "cell_type": "markdown",
   "metadata": {}
  },
  {
   "cell_type": "code",
   "execution_count": 76,
   "metadata": {},
   "outputs": [
    {
     "output_type": "display_data",
     "data": {
      "text/plain": "interactive(children=(Dropdown(description='full_name', options=('Nakia Rodriguez', 'Miss Lueilwitz', 'Barry C…",
      "application/vnd.jupyter.widget-view+json": {
       "version_major": 2,
       "version_minor": 0,
       "model_id": "f8ab70cc9833411ba8871f1fbac2216c"
      }
     },
     "metadata": {}
    },
    {
     "output_type": "display_data",
     "data": {
      "text/plain": "    patient_number        full_name     as_date  as_name  as_dose  as_count\n11               5  Nakia Rodriguez  2020-01-01  Magenta       75         7",
      "text/html": "<div>\n<style scoped>\n    .dataframe tbody tr th:only-of-type {\n        vertical-align: middle;\n    }\n\n    .dataframe tbody tr th {\n        vertical-align: top;\n    }\n\n    .dataframe thead th {\n        text-align: right;\n    }\n</style>\n<table border=\"1\" class=\"dataframe\">\n  <thead>\n    <tr style=\"text-align: right;\">\n      <th></th>\n      <th>patient_number</th>\n      <th>full_name</th>\n      <th>as_date</th>\n      <th>as_name</th>\n      <th>as_dose</th>\n      <th>as_count</th>\n    </tr>\n  </thead>\n  <tbody>\n    <tr>\n      <th>11</th>\n      <td>5</td>\n      <td>Nakia Rodriguez</td>\n      <td>2020-01-01</td>\n      <td>Magenta</td>\n      <td>75</td>\n      <td>7</td>\n    </tr>\n  </tbody>\n</table>\n</div>"
     },
     "metadata": {}
    }
   ],
   "source": [
    "full_names = set(big_df[\"full_name\"])\n",
    "as_names = set(big_df[\"as_name\"])\n",
    "dates = pd.date_range(datetime(2020, 1, 1), datetime(2020, 12, 30), freq='D')\n",
    "options=[(date.strftime(' %d %b %Y '), date) for date in dates]\n",
    "\n",
    "selection_range_slider = widgets.SelectionRangeSlider(\n",
    "    options=options,\n",
    "    index=(0, len(options)-1),\n",
    "    description='Dates',\n",
    "    orientation='horizontal',\n",
    "    layout={'width': '500px', \"color\": 'red'}\n",
    ")\n",
    "\n",
    "colors = widgets.ColorPicker(\n",
    "    concise=False,\n",
    "    description='Pick a color',\n",
    "    value='blue',\n",
    "    disabled=False\n",
    ")\n",
    "\n",
    "def choose(full_name, as_name, dates):\n",
    "    df = big_df.copy()\n",
    "    start, end = dates\n",
    "    df = df[(df.full_name == full_name) & (df.as_name == as_name)]\n",
    "    if not df.empty:\n",
    "        def bottom(color, plot=False):\n",
    "            if plot:\n",
    "                pl = df.sort_values(by='as_date', ascending=False)\n",
    "                pl[\"tot_dose\"] = pl[\"as_dose\"]*pl[\"as_count\"]\n",
    "                pl.plot(x='as_date', y='tot_dose', kind='bar', title=full_name + \" \" + as_name, figsize=(10, 5), rot=30, color=color);\n",
    "        interact(bottom, color=colors)\n",
    "   \n",
    "    display(df)\n",
    "\n",
    "interact(choose, full_name=full_names, as_name=as_names, dates=selection_range_slider);"
   ]
  },
  {
   "source": [
    "2. для кожного препарату загальний розхiд за перiоду часу. <br>\n",
    "Крiм того, надати GUI з елементами:<br>\n",
    "    – випадаючий список для задання назви препарату<br>\n",
    "    – елемент для перiоду часу<br>\n",
    "    – кнопка для побудови дiаграми загального розходу конкретного препарату за перiоду часу.<br>"
   ],
   "cell_type": "markdown",
   "metadata": {}
  },
  {
   "cell_type": "code",
   "execution_count": 77,
   "metadata": {},
   "outputs": [
    {
     "output_type": "execute_result",
     "data": {
      "text/plain": [
       "      as_date          as_name  consumption\n",
       "0  2020-12-01          Ibuprom         2067\n",
       "1  2020-01-02          Estates          992\n",
       "2  2020-11-01          Kopacul          345\n",
       "3  2020-11-21          Ibuprom         2067\n",
       "4  2020-06-03           Ikarus          957\n",
       "5  2020-10-01          Magenta         1771\n",
       "6  2020-12-01        Berkshire          415\n",
       "7  2020-09-01          Estates          992\n",
       "8  2020-11-11  Buckinghamshire          136\n",
       "9  2020-10-09          Kopacul          345\n",
       "10 2020-08-01           Ikarus          957\n",
       "11 2020-01-01          Magenta         1771"
      ],
      "text/html": "<div>\n<style scoped>\n    .dataframe tbody tr th:only-of-type {\n        vertical-align: middle;\n    }\n\n    .dataframe tbody tr th {\n        vertical-align: top;\n    }\n\n    .dataframe thead th {\n        text-align: right;\n    }\n</style>\n<table border=\"1\" class=\"dataframe\">\n  <thead>\n    <tr style=\"text-align: right;\">\n      <th></th>\n      <th>as_date</th>\n      <th>as_name</th>\n      <th>consumption</th>\n    </tr>\n  </thead>\n  <tbody>\n    <tr>\n      <th>0</th>\n      <td>2020-12-01</td>\n      <td>Ibuprom</td>\n      <td>2067</td>\n    </tr>\n    <tr>\n      <th>1</th>\n      <td>2020-01-02</td>\n      <td>Estates</td>\n      <td>992</td>\n    </tr>\n    <tr>\n      <th>2</th>\n      <td>2020-11-01</td>\n      <td>Kopacul</td>\n      <td>345</td>\n    </tr>\n    <tr>\n      <th>3</th>\n      <td>2020-11-21</td>\n      <td>Ibuprom</td>\n      <td>2067</td>\n    </tr>\n    <tr>\n      <th>4</th>\n      <td>2020-06-03</td>\n      <td>Ikarus</td>\n      <td>957</td>\n    </tr>\n    <tr>\n      <th>5</th>\n      <td>2020-10-01</td>\n      <td>Magenta</td>\n      <td>1771</td>\n    </tr>\n    <tr>\n      <th>6</th>\n      <td>2020-12-01</td>\n      <td>Berkshire</td>\n      <td>415</td>\n    </tr>\n    <tr>\n      <th>7</th>\n      <td>2020-09-01</td>\n      <td>Estates</td>\n      <td>992</td>\n    </tr>\n    <tr>\n      <th>8</th>\n      <td>2020-11-11</td>\n      <td>Buckinghamshire</td>\n      <td>136</td>\n    </tr>\n    <tr>\n      <th>9</th>\n      <td>2020-10-09</td>\n      <td>Kopacul</td>\n      <td>345</td>\n    </tr>\n    <tr>\n      <th>10</th>\n      <td>2020-08-01</td>\n      <td>Ikarus</td>\n      <td>957</td>\n    </tr>\n    <tr>\n      <th>11</th>\n      <td>2020-01-01</td>\n      <td>Magenta</td>\n      <td>1771</td>\n    </tr>\n  </tbody>\n</table>\n</div>"
     },
     "metadata": {},
     "execution_count": 77
    }
   ],
   "source": [
    "\n",
    "new_df = big_df.loc[:, ['as_date', 'as_name', 'as_dose', 'as_count']]\n",
    "new_df['as_dose'] = new_df.groupby('as_name')['as_dose'].transform('sum')\n",
    "new_df['as_count'] = new_df.groupby('as_name')['as_count'].transform('sum')\n",
    "new_df =  new_df.drop_duplicates(subset =['as_date',\"as_name\"])\n",
    "new_df['consumption'] = new_df['as_dose']*new_df['as_count']\n",
    "new_df = new_df.drop([\"as_dose\", \"as_count\"], axis=1)\n",
    "\n",
    "new_df[\"as_date\"] = new_df[\"as_date\"].apply(lambda x: datetime.strptime(x, '%Y-%m-%d'))\n",
    "new_df"
   ]
  },
  {
   "cell_type": "code",
   "execution_count": 84,
   "metadata": {},
   "outputs": [
    {
     "output_type": "display_data",
     "data": {
      "text/plain": "interactive(children=(Dropdown(description='as_name', options=('Magenta', 'Kopacul', 'Ibuprom', 'Ikarus', 'Buc…",
      "application/vnd.jupyter.widget-view+json": {
       "version_major": 2,
       "version_minor": 0,
       "model_id": "2fc35c4535fa4374b16450bd33dec2fd"
      }
     },
     "metadata": {}
    },
    {
     "output_type": "display_data",
     "data": {
      "text/plain": "      as_date  as_name  consumption\n5  2020-10-01  Magenta         1771\n11 2020-01-01  Magenta         1771",
      "text/html": "<div>\n<style scoped>\n    .dataframe tbody tr th:only-of-type {\n        vertical-align: middle;\n    }\n\n    .dataframe tbody tr th {\n        vertical-align: top;\n    }\n\n    .dataframe thead th {\n        text-align: right;\n    }\n</style>\n<table border=\"1\" class=\"dataframe\">\n  <thead>\n    <tr style=\"text-align: right;\">\n      <th></th>\n      <th>as_date</th>\n      <th>as_name</th>\n      <th>consumption</th>\n    </tr>\n  </thead>\n  <tbody>\n    <tr>\n      <th>5</th>\n      <td>2020-10-01</td>\n      <td>Magenta</td>\n      <td>1771</td>\n    </tr>\n    <tr>\n      <th>11</th>\n      <td>2020-01-01</td>\n      <td>Magenta</td>\n      <td>1771</td>\n    </tr>\n  </tbody>\n</table>\n</div>"
     },
     "metadata": {}
    }
   ],
   "source": [
    "as_name = set(new_df[\"as_name\"])\n",
    "dates = pd.date_range(datetime(2020, 1, 1), datetime(2020, 12, 30), freq='D')\n",
    "options=[(date.strftime(' %d %b %Y '), date) for date in dates]\n",
    "\n",
    "selection_range_slider = widgets.SelectionRangeSlider(\n",
    "    options=options,\n",
    "    index=(0, len(options)-1),\n",
    "    description='Dates',\n",
    "    orientation='horizontal',\n",
    "    layout={'width': '500px', \"color\": 'red'}\n",
    ")\n",
    "\n",
    "colors = widgets.ColorPicker(\n",
    "    concise=False,\n",
    "    description='Pick a color',\n",
    "    value='blue',\n",
    "    disabled=False\n",
    ")\n",
    "\n",
    "def choose(as_name, dates):\n",
    "    df = new_df.copy()\n",
    "    start, end = dates\n",
    "    df = df[(df.as_name == as_name) & (df.as_date >= start) & (df.as_date <= end)]\n",
    "    if not df.empty:\n",
    "\n",
    "        def bottom(color, plot=False):\n",
    "            if plot:\n",
    "                pl = df.sort_values(by='as_date', ascending=False)\n",
    "                pl.plot(x='as_date', y='consumption', kind='bar', title=as_name, figsize=(10, 5), rot=30, color=color);\n",
    "                \n",
    "        interact(bottom, color=colors)\n",
    "    display(df)\n",
    "\n",
    "interact(choose, as_name=as_names, dates=selection_range_slider);"
   ]
  },
  {
   "cell_type": "code",
   "execution_count": null,
   "metadata": {},
   "outputs": [],
   "source": []
  }
 ]
}